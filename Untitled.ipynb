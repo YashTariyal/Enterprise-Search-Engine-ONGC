{
 "cells": [
  {
   "cell_type": "code",
   "execution_count": 2,
   "id": "181de930",
   "metadata": {},
   "outputs": [],
   "source": [
    "import requests"
   ]
  },
  {
   "cell_type": "code",
   "execution_count": 29,
   "id": "8487fbb7",
   "metadata": {},
   "outputs": [],
   "source": [
    "r=requests.get('http://localhost:9200/')"
   ]
  },
  {
   "cell_type": "code",
   "execution_count": 3,
   "id": "b69002ce",
   "metadata": {},
   "outputs": [
    {
     "data": {
      "text/plain": [
       "'{\\n  \"name\" : \"DESKTOP-0I1ST0V\",\\n  \"cluster_name\" : \"elasticsearch\",\\n  \"cluster_uuid\" : \"T0vJRXATTf-mL2BijUTL_Q\",\\n  \"version\" : {\\n    \"number\" : \"7.5.1\",\\n    \"build_flavor\" : \"default\",\\n    \"build_type\" : \"zip\",\\n    \"build_hash\" : \"3ae9ac9a93c95bd0cdc054951cf95d88e1e18d96\",\\n    \"build_date\" : \"2019-12-16T22:57:37.835892Z\",\\n    \"build_snapshot\" : false,\\n    \"lucene_version\" : \"8.3.0\",\\n    \"minimum_wire_compatibility_version\" : \"6.8.0\",\\n    \"minimum_index_compatibility_version\" : \"6.0.0-beta1\"\\n  },\\n  \"tagline\" : \"You Know, for Search\"\\n}\\n'"
      ]
     },
     "execution_count": 3,
     "metadata": {},
     "output_type": "execute_result"
    }
   ],
   "source": [
    "r.text"
   ]
  },
  {
   "cell_type": "code",
   "execution_count": 4,
   "id": "b76ec42b",
   "metadata": {},
   "outputs": [],
   "source": [
    "r=requests.get('http://localhost:9200/_search')"
   ]
  },
  {
   "cell_type": "code",
   "execution_count": 5,
   "id": "d7a006ee",
   "metadata": {},
   "outputs": [
    {
     "data": {
      "text/plain": [
       "'{\"took\":249,\"timed_out\":false,\"_shards\":{\"total\":4,\"successful\":4,\"skipped\":0,\"failed\":0},\"hits\":{\"total\":{\"value\":1011,\"relation\":\"eq\"},\"max_score\":1.0,\"hits\":[{\"_index\":\".kibana_1\",\"_type\":\"_doc\",\"_id\":\"space:default\",\"_score\":1.0,\"_source\":{\"space\":{\"name\":\"Default\",\"description\":\"This is your default space!\",\"color\":\"#00bfb3\",\"disabledFeatures\":[],\"_reserved\":true},\"type\":\"space\",\"migrationVersion\":{\"space\":\"6.6.0\"},\"updated_at\":\"2022-06-28T13:56:43.583Z\"}},{\"_index\":\".kibana_1\",\"_type\":\"_doc\",\"_id\":\"telemetry:telemetry\",\"_score\":1.0,\"_source\":{\"telemetry\":{\"userHasSeenNotice\":true},\"type\":\"telemetry\",\"updated_at\":\"2022-06-28T13:57:11.014Z\"}},{\"_index\":\".kibana_1\",\"_type\":\"_doc\",\"_id\":\"apm-telemetry:apm-telemetry\",\"_score\":1.0,\"_source\":{\"apm-telemetry\":{\"has_any_services\":false,\"services_per_agent\":{}},\"type\":\"apm-telemetry\",\"updated_at\":\"2022-06-28T13:58:13.859Z\"}},{\"_index\":\".kibana_1\",\"_type\":\"_doc\",\"_id\":\"index-pattern:apm-*\",\"_score\":1.0,\"_source\":{\"index-pattern\":{\"fieldFormatMap\":\"{\\\\\"client.bytes\\\\\":{\\\\\"id\\\\\":\\\\\"bytes\\\\\"},\\\\\"client.nat.port\\\\\":{\\\\\"id\\\\\":\\\\\"string\\\\\"},\\\\\"client.port\\\\\":{\\\\\"id\\\\\":\\\\\"string\\\\\"},\\\\\"destination.bytes\\\\\":{\\\\\"id\\\\\":\\\\\"bytes\\\\\"},\\\\\"destination.nat.port\\\\\":{\\\\\"id\\\\\":\\\\\"string\\\\\"},\\\\\"destination.port\\\\\":{\\\\\"id\\\\\":\\\\\"string\\\\\"},\\\\\"event.duration\\\\\":{\\\\\"id\\\\\":\\\\\"duration\\\\\",\\\\\"params\\\\\":{\\\\\"inputFormat\\\\\":\\\\\"nanoseconds\\\\\",\\\\\"outputFormat\\\\\":\\\\\"asMilliseconds\\\\\",\\\\\"outputPrecision\\\\\":1}},\\\\\"event.sequence\\\\\":{\\\\\"id\\\\\":\\\\\"string\\\\\"},\\\\\"event.severity\\\\\":{\\\\\"id\\\\\":\\\\\"string\\\\\"},\\\\\"http.request.body.bytes\\\\\":{\\\\\"id\\\\\":\\\\\"bytes\\\\\"},\\\\\"http.request.bytes\\\\\":{\\\\\"id\\\\\":\\\\\"bytes\\\\\"},\\\\\"http.response.body.bytes\\\\\":{\\\\\"id\\\\\":\\\\\"bytes\\\\\"},\\\\\"http.response.bytes\\\\\":{\\\\\"id\\\\\":\\\\\"bytes\\\\\"},\\\\\"http.response.status_code\\\\\":{\\\\\"id\\\\\":\\\\\"string\\\\\"},\\\\\"network.bytes\\\\\":{\\\\\"id\\\\\":\\\\\"bytes\\\\\"},\\\\\"process.pgid\\\\\":{\\\\\"id\\\\\":\\\\\"string\\\\\"},\\\\\"process.pid\\\\\":{\\\\\"id\\\\\":\\\\\"string\\\\\"},\\\\\"process.ppid\\\\\":{\\\\\"id\\\\\":\\\\\"string\\\\\"},\\\\\"process.thread.id\\\\\":{\\\\\"id\\\\\":\\\\\"string\\\\\"},\\\\\"server.bytes\\\\\":{\\\\\"id\\\\\":\\\\\"bytes\\\\\"},\\\\\"server.nat.port\\\\\":{\\\\\"id\\\\\":\\\\\"string\\\\\"},\\\\\"server.port\\\\\":{\\\\\"id\\\\\":\\\\\"string\\\\\"},\\\\\"source.bytes\\\\\":{\\\\\"id\\\\\":\\\\\"bytes\\\\\"},\\\\\"source.nat.port\\\\\":{\\\\\"id\\\\\":\\\\\"string\\\\\"},\\\\\"source.port\\\\\":{\\\\\"id\\\\\":\\\\\"string\\\\\"},\\\\\"system.cpu.total.norm.pct\\\\\":{\\\\\"id\\\\\":\\\\\"percent\\\\\"},\\\\\"system.memory.actual.free\\\\\":{\\\\\"id\\\\\":\\\\\"bytes\\\\\"},\\\\\"system.memory.total\\\\\":{\\\\\"id\\\\\":\\\\\"bytes\\\\\"},\\\\\"system.process.cpu.total.norm.pct\\\\\":{\\\\\"id\\\\\":\\\\\"percent\\\\\"},\\\\\"system.process.memory.rss.bytes\\\\\":{\\\\\"id\\\\\":\\\\\"bytes\\\\\"},\\\\\"system.process.memory.size\\\\\":{\\\\\"id\\\\\":\\\\\"bytes\\\\\"},\\\\\"url.port\\\\\":{\\\\\"id\\\\\":\\\\\"string\\\\\"},\\\\\"view spans\\\\\":{\\\\\"id\\\\\":\\\\\"url\\\\\",\\\\\"params\\\\\":{\\\\\"labelTemplate\\\\\":\\\\\"View Spans\\\\\"}}}\",\"fields\":\"[{\\\\\"aggregatable\\\\\":true,\\\\\"analyzed\\\\\":false,\\\\\"count\\\\\":0,\\\\\"doc_values\\\\\":true,\\\\\"indexed\\\\\":true,\\\\\"name\\\\\":\\\\\"@timestamp\\\\\",\\\\\"scripted\\\\\":false,\\\\\"searchable\\\\\":true,\\\\\"type\\\\\":\\\\\"date\\\\\"},{\\\\\"aggregatable\\\\\":true,\\\\\"analyzed\\\\\":false,\\\\\"count\\\\\":0,\\\\\"doc_values\\\\\":true,\\\\\"indexed\\\\\":true,\\\\\"name\\\\\":\\\\\"labels\\\\\",\\\\\"scripted\\\\\":false,\\\\\"searchable\\\\\":true},{\\\\\"aggregatable\\\\\":false,\\\\\"analyzed\\\\\":false,\\\\\"count\\\\\":0,\\\\\"doc_values\\\\\":true,\\\\\"indexed\\\\\":true,\\\\\"name\\\\\":\\\\\"message\\\\\",\\\\\"scripted\\\\\":false,\\\\\"searchable\\\\\":true,\\\\\"type\\\\\":\\\\\"string\\\\\"},{\\\\\"aggregatable\\\\\":true,\\\\\"analyzed\\\\\":false,\\\\\"count\\\\\":0,\\\\\"doc_values\\\\\":true,\\\\\"indexed\\\\\":true,\\\\\"name\\\\\":\\\\\"tags\\\\\",\\\\\"scripted\\\\\":false,\\\\\"searchable\\\\\":true,\\\\\"type\\\\\":\\\\\"string\\\\\"},{\\\\\"aggregatable\\\\\":true,\\\\\"analyzed\\\\\":false,\\\\\"count\\\\\":0,\\\\\"doc_values\\\\\":true,\\\\\"indexed\\\\\":true,\\\\\"name\\\\\":\\\\\"agent.ephemeral_id\\\\\",\\\\\"scripted\\\\\":false,\\\\\"searchable\\\\\":true,\\\\\"type\\\\\":\\\\\"string\\\\\"},{\\\\\"aggregatable\\\\\":true,\\\\\"analyzed\\\\\":false,\\\\\"count\\\\\":0,\\\\\"doc_values\\\\\":true,\\\\\"indexed\\\\\":true,\\\\\"name\\\\\":\\\\\"agent.id\\\\\",\\\\\"scripted\\\\\":false,\\\\\"searchable\\\\\":true,\\\\\"type\\\\\":\\\\\"string\\\\\"},{\\\\\"aggregatable\\\\\":true,\\\\\"analyzed\\\\\":false,\\\\\"count\\\\\":0,\\\\\"doc_values\\\\\":true,\\\\\"indexed\\\\\":true,\\\\\"name\\\\\":\\\\\"agent.name\\\\\",\\\\\"scripted\\\\\":false,\\\\\"searchable\\\\\":true,\\\\\"type\\\\\":\\\\\"string\\\\\"},{\\\\\"aggregatable\\\\\":true,\\\\\"analyzed\\\\\":false,\\\\\"count\\\\\":0,\\\\\"doc_values\\\\\":true,\\\\\"indexed\\\\\":true,\\\\\"name\\\\\":\\\\\"agent.type\\\\\",\\\\\"scripted\\\\\":false,\\\\\"searchable\\\\\":true,\\\\\"type\\\\\":\\\\\"string\\\\\"},{\\\\\"aggregatable\\\\\":true,\\\\\"analyzed\\\\\":false,\\\\\"count\\\\\":0,\\\\\"doc_values\\\\\":true,\\\\\"indexed\\\\\":true,\\\\\"name\\\\\":\\\\\"agent.version\\\\\",\\\\\"scripted\\\\\":false,\\\\\"searchable\\\\\":true,\\\\\"type\\\\\":\\\\\"string\\\\\"},{\\\\\"aggregatable\\\\\":true,\\\\\"analyzed\\\\\":false,\\\\\"count\\\\\":0,\\\\\"doc_values\\\\\":true,\\\\\"indexed\\\\\":true,\\\\\"name\\\\\":\\\\\"as.number\\\\\",\\\\\"scripted\\\\\":false,\\\\\"searchable\\\\\":true,\\\\\"type\\\\\":\\\\\"number\\\\\"},{\\\\\"aggregatable\\\\\":true,\\\\\"analyzed\\\\\":false,\\\\\"count\\\\\":0,\\\\\"doc_values\\\\\":true,\\\\\"indexed\\\\\":true,\\\\\"name\\\\\":\\\\\"as.organization.name\\\\\",\\\\\"scripted\\\\\":false,\\\\\"searchable\\\\\":true,\\\\\"type\\\\\":\\\\\"string\\\\\"},{\\\\\"aggregatable\\\\\":true,\\\\\"analyzed\\\\\":false,\\\\\"count\\\\\":0,\\\\\"doc_values\\\\\":true,\\\\\"indexed\\\\\":true,\\\\\"name\\\\\":\\\\\"client.address\\\\\",\\\\\"scripted\\\\\":false,\\\\\"searchable\\\\\":true,\\\\\"type\\\\\":\\\\\"string\\\\\"},{\\\\\"aggregatable\\\\\":true,\\\\\"analyzed\\\\\":false,\\\\\"count\\\\\":0,\\\\\"doc_values\\\\\":true,\\\\\"indexed\\\\\":true,\\\\\"name\\\\\":\\\\\"client.as.number\\\\\",\\\\\"scripted\\\\\":false,\\\\\"searchable\\\\\":true,\\\\\"type\\\\\":\\\\\"number\\\\\"},{\\\\\"aggregatable\\\\\":true,\\\\\"analyzed\\\\\":false,\\\\\"count\\\\\":0,\\\\\"doc_values\\\\\":true,\\\\\"indexed\\\\\":true,\\\\\"name\\\\\":\\\\\"client.as.organization.name\\\\\",\\\\\"scripted\\\\\":false,\\\\\"searchable\\\\\":true,\\\\\"type\\\\\":\\\\\"string\\\\\"},{\\\\\"aggregatable\\\\\":true,\\\\\"analyzed\\\\\":false,\\\\\"count\\\\\":0,\\\\\"doc_values\\\\\":true,\\\\\"indexed\\\\\":true,\\\\\"name\\\\\":\\\\\"client.bytes\\\\\",\\\\\"scripted\\\\\":false,\\\\\"searchable\\\\\":true,\\\\\"type\\\\\":\\\\\"number\\\\\"},{\\\\\"aggregatable\\\\\":true,\\\\\"analyzed\\\\\":false,\\\\\"count\\\\\":0,\\\\\"doc_values\\\\\":true,\\\\\"indexed\\\\\":true,\\\\\"name\\\\\":\\\\\"client.domain\\\\\",\\\\\"scripted\\\\\":false,\\\\\"searchable\\\\\":true,\\\\\"type\\\\\":\\\\\"string\\\\\"},{\\\\\"aggregatable\\\\\":true,\\\\\"analyzed\\\\\":false,\\\\\"count\\\\\":0,\\\\\"doc_values\\\\\":true,\\\\\"indexed\\\\\":true,\\\\\"name\\\\\":\\\\\"client.geo.city_name\\\\\",\\\\\"scripted\\\\\":false,\\\\\"searchable\\\\\":true,\\\\\"type\\\\\":\\\\\"string\\\\\"},{\\\\\"aggregatable\\\\\":true,\\\\\"analyzed\\\\\":false,\\\\\"count\\\\\":0,\\\\\"doc_values\\\\\":true,\\\\\"indexed\\\\\":true,\\\\\"name\\\\\":\\\\\"client.geo.continent_name\\\\\",\\\\\"scripted\\\\\":false,\\\\\"searchable\\\\\":true,\\\\\"type\\\\\":\\\\\"string\\\\\"},{\\\\\"aggregatable\\\\\":true,\\\\\"analyzed\\\\\":false,\\\\\"count\\\\\":0,\\\\\"doc_values\\\\\":true,\\\\\"indexed\\\\\":true,\\\\\"name\\\\\":\\\\\"client.geo.country_iso_code\\\\\",\\\\\"scripted\\\\\":false,\\\\\"searchable\\\\\":true,\\\\\"type\\\\\":\\\\\"string\\\\\"},{\\\\\"aggregatable\\\\\":true,\\\\\"analyzed\\\\\":false,\\\\\"count\\\\\":0,\\\\\"doc_values\\\\\":true,\\\\\"indexed\\\\\":true,\\\\\"name\\\\\":\\\\\"client.geo.country_name\\\\\",\\\\\"scripted\\\\\":false,\\\\\"searchable\\\\\":true,\\\\\"type\\\\\":\\\\\"string\\\\\"},{\\\\\"aggregatable\\\\\":true,\\\\\"analyzed\\\\\":false,\\\\\"count\\\\\":0,\\\\\"doc_values\\\\\":true,\\\\\"indexed\\\\\":true,\\\\\"name\\\\\":\\\\\"client.geo.location\\\\\",\\\\\"scripted\\\\\":false,\\\\\"searchable\\\\\":true,\\\\\"type\\\\\":\\\\\"geo_point\\\\\"},{\\\\\"aggregatable\\\\\":true,\\\\\"analyzed\\\\\":false,\\\\\"count\\\\\":0,\\\\\"doc_values\\\\\":true,\\\\\"indexed\\\\\":true,\\\\\"name\\\\\":\\\\\"client.geo.name\\\\\",\\\\\"scripted\\\\\":false,\\\\\"searchable\\\\\":true,\\\\\"type\\\\\":\\\\\"string\\\\\"},{\\\\\"aggregatable\\\\\":true,\\\\\"analyzed\\\\\":false,\\\\\"count\\\\\":0,\\\\\"doc_values\\\\\":true,\\\\\"indexed\\\\\":true,\\\\\"name\\\\\":\\\\\"client.geo.region_iso_code\\\\\",\\\\\"scripted\\\\\":false,\\\\\"searchable\\\\\":true,\\\\\"type\\\\\":\\\\\"string\\\\\"},{\\\\\"aggregatable\\\\\":true,\\\\\"analyzed\\\\\":false,\\\\\"count\\\\\":0,\\\\\"doc_values\\\\\":true,\\\\\"indexed\\\\\":true,\\\\\"name\\\\\":\\\\\"client.geo.region_name\\\\\",\\\\\"scripted\\\\\":false,\\\\\"searchable\\\\\":true,\\\\\"type\\\\\":\\\\\"string\\\\\"},{\\\\\"aggregatable\\\\\":true,\\\\\"analyzed\\\\\":false,\\\\\"count\\\\\":0,\\\\\"doc_values\\\\\":true,\\\\\"indexed\\\\\":true,\\\\\"name\\\\\":\\\\\"client.ip\\\\\",\\\\\"scripted\\\\\":false,\\\\\"searchable\\\\\":true,\\\\\"type\\\\\":\\\\\"ip\\\\\"},{\\\\\"aggregatable\\\\\":true,\\\\\"analyzed\\\\\":false,\\\\\"count\\\\\":0,\\\\\"doc_values\\\\\":true,\\\\\"indexed\\\\\":true,\\\\\"name\\\\\":\\\\\"client.mac\\\\\",\\\\\"scripted\\\\\":false,\\\\\"searchable\\\\\":true,\\\\\"type\\\\\":\\\\\"string\\\\\"},{\\\\\"aggregatable\\\\\":true,\\\\\"analyzed\\\\\":false,\\\\\"count\\\\\":0,\\\\\"doc_values\\\\\":true,\\\\\"indexed\\\\\":true,\\\\\"name\\\\\":\\\\\"client.nat.ip\\\\\",\\\\\"scripted\\\\\":false,\\\\\"searchable\\\\\":true,\\\\\"type\\\\\":\\\\\"ip\\\\\"},{\\\\\"aggregatable\\\\\":true,\\\\\"analyzed\\\\\":false,\\\\\"count\\\\\":0,\\\\\"doc_values\\\\\":true,\\\\\"indexed\\\\\":true,\\\\\"name\\\\\":\\\\\"client.nat.port\\\\\",\\\\\"scripted\\\\\":false,\\\\\"searchable\\\\\":true,\\\\\"type\\\\\":\\\\\"number\\\\\"},{\\\\\"aggregatable\\\\\":true,\\\\\"analyzed\\\\\":false,\\\\\"count\\\\\":0,\\\\\"doc_values\\\\\":true,\\\\\"indexed\\\\\":true,\\\\\"name\\\\\":\\\\\"client.packets\\\\\",\\\\\"scripted\\\\\":false,\\\\\"searchable\\\\\":true,\\\\\"type\\\\\":\\\\\"number\\\\\"},{\\\\\"aggregatable\\\\\":true,\\\\\"analyzed\\\\\":false,\\\\\"count\\\\\":0,\\\\\"doc_values\\\\\":true,\\\\\"indexed\\\\\":true,\\\\\"name\\\\\":\\\\\"client.port\\\\\",\\\\\"scripted\\\\\":false,\\\\\"searchable\\\\\":true,\\\\\"type\\\\\":\\\\\"number\\\\\"},{\\\\\"aggregatable\\\\\":true,\\\\\"analyzed\\\\\":false,\\\\\"count\\\\\":0,\\\\\"doc_values\\\\\":true,\\\\\"indexed\\\\\":true,\\\\\"name\\\\\":\\\\\"client.user.domain\\\\\",\\\\\"scripted\\\\\":false,\\\\\"searchable\\\\\":true,\\\\\"type\\\\\":\\\\\"string\\\\\"},{\\\\\"aggregatable\\\\\":true,\\\\\"analyzed\\\\\":false,\\\\\"count\\\\\":0,\\\\\"doc_values\\\\\":true,\\\\\"indexed\\\\\":true,\\\\\"name\\\\\":\\\\\"client.user.email\\\\\",\\\\\"scripted\\\\\":false,\\\\\"searchable\\\\\":true,\\\\\"type\\\\\":\\\\\"string\\\\\"},{\\\\\"aggregatable\\\\\":true,\\\\\"analyzed\\\\\":false,\\\\\"count\\\\\":0,\\\\\"doc_values\\\\\":true,\\\\\"indexed\\\\\":true,\\\\\"name\\\\\":\\\\\"client.user.full_name\\\\\",\\\\\"scripted\\\\\":false,\\\\\"searchable\\\\\":true,\\\\\"type\\\\\":\\\\\"string\\\\\"},{\\\\\"aggregatable\\\\\":true,\\\\\"analyzed\\\\\":false,\\\\\"count\\\\\":0,\\\\\"doc_values\\\\\":true,\\\\\"indexed\\\\\":true,\\\\\"name\\\\\":\\\\\"client.user.group.id\\\\\",\\\\\"scripted\\\\\":false,\\\\\"searchable\\\\\":true,\\\\\"type\\\\\":\\\\\"string\\\\\"},{\\\\\"aggregatable\\\\\":true,\\\\\"analyzed\\\\\":false,\\\\\"count\\\\\":0,\\\\\"doc_values\\\\\":true,\\\\\"indexed\\\\\":true,\\\\\"name\\\\\":\\\\\"client.user.group.name\\\\\",\\\\\"scripted\\\\\":false,\\\\\"searchable\\\\\":true,\\\\\"type\\\\\":\\\\\"string\\\\\"},{\\\\\"aggregatable\\\\\":true,\\\\\"analyzed\\\\\":false,\\\\\"count\\\\\":0,\\\\\"doc_values\\\\\":true,\\\\\"indexed\\\\\":true,\\\\\"name\\\\\":\\\\\"client.user.hash\\\\\",\\\\\"scripted\\\\\":false,\\\\\"searchable\\\\\":true,\\\\\"type\\\\\":\\\\\"string\\\\\"},{\\\\\"aggregatable\\\\\":true,\\\\\"analyzed\\\\\":false,\\\\\"count\\\\\":0,\\\\\"doc_values\\\\\":true,\\\\\"indexed\\\\\":true,\\\\\"name\\\\\":\\\\\"client.user.id\\\\\",\\\\\"scripted\\\\\":false,\\\\\"searchable\\\\\":true,\\\\\"type\\\\\":\\\\\"string\\\\\"},{\\\\\"aggregatable\\\\\":true,\\\\\"analyzed\\\\\":false,\\\\\"count\\\\\":0,\\\\\"doc_values\\\\\":true,\\\\\"indexed\\\\\":true,\\\\\"name\\\\\":\\\\\"client.user.name\\\\\",\\\\\"scripted\\\\\":false,\\\\\"searchable\\\\\":true,\\\\\"type\\\\\":\\\\\"string\\\\\"},{\\\\\"aggregatable\\\\\":true,\\\\\"analyzed\\\\\":false,\\\\\"count\\\\\":0,\\\\\"doc_values\\\\\":true,\\\\\"indexed\\\\\":true,\\\\\"name\\\\\":\\\\\"cloud.account.id\\\\\",\\\\\"scripted\\\\\":false,\\\\\"searchable\\\\\":true,\\\\\"type\\\\\":\\\\\"string\\\\\"},{\\\\\"aggregatable\\\\\":true,\\\\\"analyzed\\\\\":false,\\\\\"count\\\\\":0,\\\\\"doc_values\\\\\":true,\\\\\"indexed\\\\\":true,\\\\\"name\\\\\":\\\\\"cloud.availability_zone\\\\\",\\\\\"scripted\\\\\":false,\\\\\"searchable\\\\\":true,\\\\\"type\\\\\":\\\\\"string\\\\\"},{\\\\\"aggregatable\\\\\":true,\\\\\"analyzed\\\\\":false,\\\\\"count\\\\\":0,\\\\\"doc_values\\\\\":true,\\\\\"indexed\\\\\":true,\\\\\"name\\\\\":\\\\\"cloud.instance.id\\\\\",\\\\\"scripted\\\\\":false,\\\\\"searchable\\\\\":true,\\\\\"type\\\\\":\\\\\"string\\\\\"},{\\\\\"aggregatable\\\\\":true,\\\\\"analyzed\\\\\":false,\\\\\"count\\\\\":0,\\\\\"doc_values\\\\\":true,\\\\\"indexed\\\\\":true,\\\\\"name\\\\\":\\\\\"cloud.instance.name\\\\\",\\\\\"scripted\\\\\":false,\\\\\"searchable\\\\\":true,\\\\\"type\\\\\":\\\\\"string\\\\\"},{\\\\\"aggregatable\\\\\":true,\\\\\"analyzed\\\\\":false,\\\\\"count\\\\\":0,\\\\\"doc_values\\\\\":true,\\\\\"indexed\\\\\":true,\\\\\"name\\\\\":\\\\\"cloud.machine.type\\\\\",\\\\\"scripted\\\\\":false,\\\\\"searchable\\\\\":true,\\\\\"type\\\\\":\\\\\"string\\\\\"},{\\\\\"aggregatable\\\\\":true,\\\\\"analyzed\\\\\":false,\\\\\"count\\\\\":0,\\\\\"doc_values\\\\\":true,\\\\\"indexed\\\\\":true,\\\\\"name\\\\\":\\\\\"cloud.provider\\\\\",\\\\\"scripted\\\\\":false,\\\\\"searchable\\\\\":true,\\\\\"type\\\\\":\\\\\"string\\\\\"},{\\\\\"aggregatable\\\\\":true,\\\\\"analyzed\\\\\":false,\\\\\"count\\\\\":0,\\\\\"doc_values\\\\\":true,\\\\\"indexed\\\\\":true,\\\\\"name\\\\\":\\\\\"cloud.region\\\\\",\\\\\"scripted\\\\\":false,\\\\\"searchable\\\\\":true,\\\\\"type\\\\\":\\\\\"string\\\\\"},{\\\\\"aggregatable\\\\\":true,\\\\\"analyzed\\\\\":false,\\\\\"count\\\\\":0,\\\\\"doc_values\\\\\":true,\\\\\"indexed\\\\\":true,\\\\\"name\\\\\":\\\\\"container.id\\\\\",\\\\\"scripted\\\\\":false,\\\\\"searchable\\\\\":true,\\\\\"type\\\\\":\\\\\"string\\\\\"},{\\\\\"aggregatable\\\\\":true,\\\\\"analyzed\\\\\":false,\\\\\"count\\\\\":0,\\\\\"doc_values\\\\\":true,\\\\\"indexed\\\\\":true,\\\\\"name\\\\\":\\\\\"container.image.name\\\\\",\\\\\"scripted\\\\\":false,\\\\\"searchable\\\\\":true,\\\\\"type\\\\\":\\\\\"string\\\\\"},{\\\\\"aggregatable\\\\\":true,\\\\\"analyzed\\\\\":false,\\\\\"count\\\\\":0,\\\\\"doc_values\\\\\":true,\\\\\"indexed\\\\\":true,\\\\\"name\\\\\":\\\\\"container.image.tag\\\\\",\\\\\"scripted\\\\\":false,\\\\\"searchable\\\\\":true,\\\\\"type\\\\\":\\\\\"string\\\\\"},{\\\\\"aggregatable\\\\\":true,\\\\\"analyzed\\\\\":false,\\\\\"count\\\\\":0,\\\\\"doc_values\\\\\":true,\\\\\"indexed\\\\\":true,\\\\\"name\\\\\":\\\\\"container.labels\\\\\",\\\\\"scripted\\\\\":false,\\\\\"searchable\\\\\":true},{\\\\\"aggregatable\\\\\":true,\\\\\"analyzed\\\\\":false,\\\\\"count\\\\\":0,\\\\\"doc_values\\\\\":true,\\\\\"indexed\\\\\":true,\\\\\"name\\\\\":\\\\\"container.name\\\\\",\\\\\"scripted\\\\\":false,\\\\\"searchable\\\\\":true,\\\\\"type\\\\\":\\\\\"string\\\\\"},{\\\\\"aggregatable\\\\\":true,\\\\\"analyzed\\\\\":false,\\\\\"count\\\\\":0,\\\\\"doc_values\\\\\":true,\\\\\"indexed\\\\\":true,\\\\\"name\\\\\":\\\\\"container.runtime\\\\\",\\\\\"scripted\\\\\":false,\\\\\"searchable\\\\\":true,\\\\\"type\\\\\":\\\\\"string\\\\\"},{\\\\\"aggregatable\\\\\":true,\\\\\"analyzed\\\\\":false,\\\\\"count\\\\\":0,\\\\\"doc_values\\\\\":true,\\\\\"indexed\\\\\":true,\\\\\"name\\\\\":\\\\\"destination.address\\\\\",\\\\\"scripted\\\\\":false,\\\\\"searchable\\\\\":true,\\\\\"type\\\\\":\\\\\"string\\\\\"},{\\\\\"aggregatable\\\\\":true,\\\\\"analyzed\\\\\":false,\\\\\"count\\\\\":0,\\\\\"doc_values\\\\\":true,\\\\\"indexed\\\\\":true,\\\\\"name\\\\\":\\\\\"destination.as.number\\\\\",\\\\\"scripted\\\\\":false,\\\\\"searchable\\\\\":true,\\\\\"type\\\\\":\\\\\"number\\\\\"},{\\\\\"aggregatable\\\\\":true,\\\\\"analyzed\\\\\":false,\\\\\"count\\\\\":0,\\\\\"doc_values\\\\\":true,\\\\\"indexed\\\\\":true,\\\\\"name\\\\\":\\\\\"destination.as.organization.name\\\\\",\\\\\"scripted\\\\\":false,\\\\\"searchable\\\\\":true,\\\\\"type\\\\\":\\\\\"string\\\\\"},{\\\\\"aggregatable\\\\\":true,\\\\\"analyzed\\\\\":false,\\\\\"count\\\\\":0,\\\\\"doc_values\\\\\":true,\\\\\"indexed\\\\\":true,\\\\\"name\\\\\":\\\\\"destination.bytes\\\\\",\\\\\"scripted\\\\\":false,\\\\\"searchable\\\\\":true,\\\\\"type\\\\\":\\\\\"number\\\\\"},{\\\\\"aggregatable\\\\\":true,\\\\\"analyzed\\\\\":false,\\\\\"count\\\\\":0,\\\\\"doc_values\\\\\":true,\\\\\"indexed\\\\\":true,\\\\\"name\\\\\":\\\\\"destination.domain\\\\\",\\\\\"scripted\\\\\":false,\\\\\"searchable\\\\\":true,\\\\\"type\\\\\":\\\\\"string\\\\\"},{\\\\\"aggregatable\\\\\":true,\\\\\"analyzed\\\\\":false,\\\\\"count\\\\\":0,\\\\\"doc_values\\\\\":true,\\\\\"indexed\\\\\":true,\\\\\"name\\\\\":\\\\\"destination.geo.city_name\\\\\",\\\\\"scripted\\\\\":false,\\\\\"searchable\\\\\":true,\\\\\"type\\\\\":\\\\\"string\\\\\"},{\\\\\"aggregatable\\\\\":true,\\\\\"analyzed\\\\\":false,\\\\\"count\\\\\":0,\\\\\"doc_values\\\\\":true,\\\\\"indexed\\\\\":true,\\\\\"name\\\\\":\\\\\"destination.geo.continent_name\\\\\",\\\\\"scripted\\\\\":false,\\\\\"searchable\\\\\":true,\\\\\"type\\\\\":\\\\\"string\\\\\"},{\\\\\"aggregatable\\\\\":true,\\\\\"analyzed\\\\\":false,\\\\\"count\\\\\":0,\\\\\"doc_values\\\\\":true,\\\\\"indexed\\\\\":true,\\\\\"name\\\\\":\\\\\"destination.geo.country_iso_code\\\\\",\\\\\"scripted\\\\\":false,\\\\\"searchable\\\\\":true,\\\\\"type\\\\\":\\\\\"string\\\\\"},{\\\\\"aggregatable\\\\\":true,\\\\\"analyzed\\\\\":false,\\\\\"count\\\\\":0,\\\\\"doc_values\\\\\":true,\\\\\"indexed\\\\\":true,\\\\\"name\\\\\":\\\\\"destination.geo.country_name\\\\\",\\\\\"scripted\\\\\":false,\\\\\"searchable\\\\\":true,\\\\\"type\\\\\":\\\\\"string\\\\\"},{\\\\\"aggregatable\\\\\":true,\\\\\"analyzed\\\\\":false,\\\\\"count\\\\\":0,\\\\\"doc_values\\\\\":true,\\\\\"indexed\\\\\":true,\\\\\"name\\\\\":\\\\\"destination.geo.location\\\\\",\\\\\"scripted\\\\\":false,\\\\\"searchable\\\\\":true,\\\\\"type\\\\\":\\\\\"geo_point\\\\\"},{\\\\\"aggregatable\\\\\":true,\\\\\"analyzed\\\\\":false,\\\\\"count\\\\\":0,\\\\\"doc_values\\\\\":true,\\\\\"indexed\\\\\":true,\\\\\"name\\\\\":\\\\\"destination.geo.name\\\\\",\\\\\"scripted\\\\\":false,\\\\\"searchable\\\\\":true,\\\\\"type\\\\\":\\\\\"string\\\\\"},{\\\\\"aggregatable\\\\\":true,\\\\\"analyzed\\\\\":false,\\\\\"count\\\\\":0,\\\\\"doc_values\\\\\":true,\\\\\"indexed\\\\\":true,\\\\\"name\\\\\":\\\\\"destination.geo.region_iso_code\\\\\",\\\\\"scripted\\\\\":false,\\\\\"searchable\\\\\":true,\\\\\"type\\\\\":\\\\\"string\\\\\"},{\\\\\"aggregatable\\\\\":true,\\\\\"analyzed\\\\\":false,\\\\\"count\\\\\":0,\\\\\"doc_values\\\\\":true,\\\\\"indexed\\\\\":true,\\\\\"name\\\\\":\\\\\"destination.geo.region_name\\\\\",\\\\\"scripted\\\\\":false,\\\\\"searchable\\\\\":true,\\\\\"type\\\\\":\\\\\"string\\\\\"},{\\\\\"aggregatable\\\\\":true,\\\\\"analyzed\\\\\":false,\\\\\"count\\\\\":0,\\\\\"doc_values\\\\\":true,\\\\\"indexed\\\\\":true,\\\\\"name\\\\\":\\\\\"destination.ip\\\\\",\\\\\"scripted\\\\\":false,\\\\\"searchable\\\\\":true,\\\\\"type\\\\\":\\\\\"ip\\\\\"},{\\\\\"aggregatable\\\\\":true,\\\\\"analyzed\\\\\":false,\\\\\"count\\\\\":0,\\\\\"doc_values\\\\\":true,\\\\\"indexed\\\\\":true,\\\\\"name\\\\\":\\\\\"destination.mac\\\\\",\\\\\"scripted\\\\\":false,\\\\\"searchable\\\\\":true,\\\\\"type\\\\\":\\\\\"string\\\\\"},{\\\\\"aggregatable\\\\\":true,\\\\\"analyzed\\\\\":false,\\\\\"count\\\\\":0,\\\\\"doc_values\\\\\":true,\\\\\"indexed\\\\\":true,\\\\\"name\\\\\":\\\\\"destination.nat.ip\\\\\",\\\\\"scripted\\\\\":false,\\\\\"searchable\\\\\":true,\\\\\"type\\\\\":\\\\\"ip\\\\\"},{\\\\\"aggregatable\\\\\":true,\\\\\"analyzed\\\\\":false,\\\\\"count\\\\\":0,\\\\\"doc_values\\\\\":true,\\\\\"indexed\\\\\":true,\\\\\"name\\\\\":\\\\\"destination.nat.port\\\\\",\\\\\"scripted\\\\\":false,\\\\\"searchable\\\\\":true,\\\\\"type\\\\\":\\\\\"number\\\\\"},{\\\\\"aggregatable\\\\\":true,\\\\\"analyzed\\\\\":false,\\\\\"count\\\\\":0,\\\\\"doc_values\\\\\":true,\\\\\"indexed\\\\\":true,\\\\\"name\\\\\":\\\\\"destination.packets\\\\\",\\\\\"scripted\\\\\":false,\\\\\"searchable\\\\\":true,\\\\\"type\\\\\":\\\\\"number\\\\\"},{\\\\\"aggregatable\\\\\":true,\\\\\"analyzed\\\\\":false,\\\\\"count\\\\\":0,\\\\\"doc_values\\\\\":true,\\\\\"indexed\\\\\":true,\\\\\"name\\\\\":\\\\\"destination.port\\\\\",\\\\\"scripted\\\\\":false,\\\\\"searchable\\\\\":true,\\\\\"type\\\\\":\\\\\"number\\\\\"},{\\\\\"aggregatable\\\\\":true,\\\\\"analyzed\\\\\":false,\\\\\"count\\\\\":0,\\\\\"doc_values\\\\\":true,\\\\\"indexed\\\\\":true,\\\\\"name\\\\\":\\\\\"destination.user.domain\\\\\",\\\\\"scripted\\\\\":false,\\\\\"searchable\\\\\":true,\\\\\"type\\\\\":\\\\\"string\\\\\"},{\\\\\"aggregatable\\\\\":true,\\\\\"analyzed\\\\\":false,\\\\\"count\\\\\":0,\\\\\"doc_values\\\\\":true,\\\\\"indexed\\\\\":true,\\\\\"name\\\\\":\\\\\"destination.user.email\\\\\",\\\\\"scripted\\\\\":false,\\\\\"searchable\\\\\":true,\\\\\"type\\\\\":\\\\\"string\\\\\"},{\\\\\"aggregatable\\\\\":true,\\\\\"analyzed\\\\\":false,\\\\\"count\\\\\":0,\\\\\"doc_values\\\\\":true,\\\\\"indexed\\\\\":true,\\\\\"name\\\\\":\\\\\"destination.user.full_name\\\\\",\\\\\"scripted\\\\\":false,\\\\\"searchable\\\\\":true,\\\\\"type\\\\\":\\\\\"string\\\\\"},{\\\\\"aggregatable\\\\\":true,\\\\\"analyzed\\\\\":false,\\\\\"count\\\\\":0,\\\\\"doc_values\\\\\":true,\\\\\"indexed\\\\\":true,\\\\\"name\\\\\":\\\\\"destination.user.group.id\\\\\",\\\\\"scripted\\\\\":false,\\\\\"searchable\\\\\":true,\\\\\"type\\\\\":\\\\\"string\\\\\"},{\\\\\"aggregatable\\\\\":true,\\\\\"analyzed\\\\\":false,\\\\\"count\\\\\":0,\\\\\"doc_values\\\\\":true,\\\\\"indexed\\\\\":true,\\\\\"name\\\\\":\\\\\"destination.user.group.name\\\\\",\\\\\"scripted\\\\\":false,\\\\\"searchable\\\\\":true,\\\\\"type\\\\\":\\\\\"string\\\\\"},{\\\\\"aggregatable\\\\\":true,\\\\\"analyzed\\\\\":false,\\\\\"count\\\\\":0,\\\\\"doc_values\\\\\":true,\\\\\"indexed\\\\\":true,\\\\\"name\\\\\":\\\\\"destination.user.hash\\\\\",\\\\\"scripted\\\\\":false,\\\\\"searchable\\\\\":true,\\\\\"type\\\\\":\\\\\"string\\\\\"},{\\\\\"aggregatable\\\\\":true,\\\\\"analyzed\\\\\":false,\\\\\"count\\\\\":0,\\\\\"doc_values\\\\\":true,\\\\\"indexed\\\\\":true,\\\\\"name\\\\\":\\\\\"destination.user.id\\\\\",\\\\\"scripted\\\\\":false,\\\\\"searchable\\\\\":true,\\\\\"type\\\\\":\\\\\"string\\\\\"},{\\\\\"aggregatable\\\\\":true,\\\\\"analyzed\\\\\":false,\\\\\"count\\\\\":0,\\\\\"doc_values\\\\\":true,\\\\\"indexed\\\\\":true,\\\\\"name\\\\\":\\\\\"destination.user.name\\\\\",\\\\\"scripted\\\\\":false,\\\\\"searchable\\\\\":true,\\\\\"type\\\\\":\\\\\"string\\\\\"},{\\\\\"aggregatable\\\\\":true,\\\\\"analyzed\\\\\":false,\\\\\"count\\\\\":0,\\\\\"doc_values\\\\\":true,\\\\\"indexed\\\\\":true,\\\\\"name\\\\\":\\\\\"dns.answers\\\\\",\\\\\"scripted\\\\\":false,\\\\\"searchable\\\\\":true},{\\\\\"aggregatable\\\\\":true,\\\\\"analyzed\\\\\":false,\\\\\"count\\\\\":0,\\\\\"doc_values\\\\\":true,\\\\\"indexed\\\\\":true,\\\\\"name\\\\\":\\\\\"dns.answers.class\\\\\",\\\\\"scripted\\\\\":false,\\\\\"searchable\\\\\":true,\\\\\"type\\\\\":\\\\\"string\\\\\"},{\\\\\"aggregatable\\\\\":true,\\\\\"analyzed\\\\\":false,\\\\\"count\\\\\":0,\\\\\"doc_values\\\\\":true,\\\\\"indexed\\\\\":true,\\\\\"name\\\\\":\\\\\"dns.answers.data\\\\\",\\\\\"scripted\\\\\":false,\\\\\"searchable\\\\\":true,\\\\\"type\\\\\":\\\\\"string\\\\\"},{\\\\\"aggregatable\\\\\":true,\\\\\"analyzed\\\\\":false,\\\\\"count\\\\\":0,\\\\\"doc_values\\\\\":true,\\\\\"indexed\\\\\":true,\\\\\"name\\\\\":\\\\\"dns.answers.name\\\\\",\\\\\"scripted\\\\\":false,\\\\\"searchable\\\\\":true,\\\\\"type\\\\\":\\\\\"string\\\\\"},{\\\\\"aggregatable\\\\\":true,\\\\\"analyzed\\\\\":false,\\\\\"count\\\\\":0,\\\\\"doc_values\\\\\":true,\\\\\"indexed\\\\\":true,\\\\\"name\\\\\":\\\\\"dns.answers.ttl\\\\\",\\\\\"scripted\\\\\":false,\\\\\"searchable\\\\\":true,\\\\\"type\\\\\":\\\\\"number\\\\\"},{\\\\\"aggregatable\\\\\":true,\\\\\"analyzed\\\\\":false,\\\\\"count\\\\\":0,\\\\\"doc_values\\\\\":true,\\\\\"indexed\\\\\":true,\\\\\"name\\\\\":\\\\\"dns.answers.type\\\\\",\\\\\"scripted\\\\\":false,\\\\\"searchable\\\\\":true,\\\\\"type\\\\\":\\\\\"string\\\\\"},{\\\\\"aggregatable\\\\\":true,\\\\\"analyzed\\\\\":false,\\\\\"count\\\\\":0,\\\\\"doc_values\\\\\":true,\\\\\"indexed\\\\\":true,\\\\\"name\\\\\":\\\\\"dns.header_flags\\\\\",\\\\\"scripted\\\\\":false,\\\\\"searchable\\\\\":true,\\\\\"type\\\\\":\\\\\"string\\\\\"},{\\\\\"aggregatable\\\\\":true,\\\\\"analyzed\\\\\":false,\\\\\"count\\\\\":0,\\\\\"doc_values\\\\\":true,\\\\\"indexed\\\\\":true,\\\\\"name\\\\\":\\\\\"dns.id\\\\\",\\\\\"scripted\\\\\":false,\\\\\"searchable\\\\\":true,\\\\\"type\\\\\":\\\\\"string\\\\\"},{\\\\\"aggregatable\\\\\":true,\\\\\"analyzed\\\\\":false,\\\\\"count\\\\\":0,\\\\\"doc_values\\\\\":true,\\\\\"indexed\\\\\":true,\\\\\"name\\\\\":\\\\\"dns.op_code\\\\\",\\\\\"scripted\\\\\":false,\\\\\"searchable\\\\\":true,\\\\\"type\\\\\":\\\\\"string\\\\\"},{\\\\\"aggregatable\\\\\":true,\\\\\"analyzed\\\\\":false,\\\\\"count\\\\\":0,\\\\\"doc_values\\\\\":true,\\\\\"indexed\\\\\":true,\\\\\"name\\\\\":\\\\\"dns.question.class\\\\\",\\\\\"scripted\\\\\":false,\\\\\"searchable\\\\\":true,\\\\\"type\\\\\":\\\\\"string\\\\\"},{\\\\\"aggregatable\\\\\":true,\\\\\"analyzed\\\\\":false,\\\\\"count\\\\\":0,\\\\\"doc_values\\\\\":true,\\\\\"indexed\\\\\":true,\\\\\"name\\\\\":\\\\\"dns.question.name\\\\\",\\\\\"scripted\\\\\":false,\\\\\"searchable\\\\\":true,\\\\\"type\\\\\":\\\\\"string\\\\\"},{\\\\\"aggregatable\\\\\":true,\\\\\"analyzed\\\\\":false,\\\\\"count\\\\\":0,\\\\\"doc_values\\\\\":true,\\\\\"indexed\\\\\":true,\\\\\"name\\\\\":\\\\\"dns.question.registered_domain\\\\\",\\\\\"scripted\\\\\":false,\\\\\"searchable\\\\\":true,\\\\\"type\\\\\":\\\\\"string\\\\\"},{\\\\\"aggregatable\\\\\":true,\\\\\"analyzed\\\\\":false,\\\\\"count\\\\\":0,\\\\\"doc_values\\\\\":true,\\\\\"indexed\\\\\":true,\\\\\"name\\\\\":\\\\\"dns.question.type\\\\\",\\\\\"scripted\\\\\":false,\\\\\"searchable\\\\\":true,\\\\\"type\\\\\":\\\\\"string\\\\\"},{\\\\\"aggregatable\\\\\":true,\\\\\"analyzed\\\\\":false,\\\\\"count\\\\\":0,\\\\\"doc_values\\\\\":true,\\\\\"indexed\\\\\":true,\\\\\"name\\\\\":\\\\\"dns.resolved_ip\\\\\",\\\\\"scripted\\\\\":false,\\\\\"searchable\\\\\":true,\\\\\"type\\\\\":\\\\\"ip\\\\\"},{\\\\\"aggregatable\\\\\":true,\\\\\"analyzed\\\\\":false,\\\\\"count\\\\\":0,\\\\\"doc_values\\\\\":true,\\\\\"indexed\\\\\":true,\\\\\"name\\\\\":\\\\\"dns.response_code\\\\\",\\\\\"scripted\\\\\":false,\\\\\"searchable\\\\\":true,\\\\\"type\\\\\":\\\\\"string\\\\\"},{\\\\\"aggregatable\\\\\":true,\\\\\"analyzed\\\\\":false,\\\\\"count\\\\\":0,\\\\\"doc_values\\\\\":true,\\\\\"indexed\\\\\":true,\\\\\"name\\\\\":\\\\\"dns.type\\\\\",\\\\\"scripted\\\\\":false,\\\\\"searchable\\\\\":true,\\\\\"type\\\\\":\\\\\"string\\\\\"},{\\\\\"aggregatable\\\\\":true,\\\\\"analyzed\\\\\":false,\\\\\"count\\\\\":0,\\\\\"doc_values\\\\\":true,\\\\\"indexed\\\\\":true,\\\\\"name\\\\\":\\\\\"ecs.version\\\\\",\\\\\"scripted\\\\\":false,\\\\\"searchable\\\\\":true,\\\\\"type\\\\\":\\\\\"string\\\\\"},{\\\\\"aggregatable\\\\\":true,\\\\\"analyzed\\\\\":false,\\\\\"count\\\\\":0,\\\\\"doc_values\\\\\":true,\\\\\"indexed\\\\\":true,\\\\\"name\\\\\":\\\\\"error.code\\\\\",\\\\\"scripted\\\\\":false,\\\\\"searchable\\\\\":true,\\\\\"type\\\\\":\\\\\"string\\\\\"},{\\\\\"aggregatable\\\\\":true,\\\\\"analyzed\\\\\":false,\\\\\"count\\\\\":4,\\\\\"doc_values\\\\\":true,\\\\\"indexed\\\\\":true,\\\\\"name\\\\\":\\\\\"error.id\\\\\",\\\\\"scripted\\\\\":false,\\\\\"searchable\\\\\":true,\\\\\"type\\\\\":\\\\\"string\\\\\"},{\\\\\"aggregatable\\\\\":false,\\\\\"analyzed\\\\\":false,\\\\\"count\\\\\":0,\\\\\"doc_values\\\\\":true,\\\\\"indexed\\\\\":true,\\\\\"name\\\\\":\\\\\"error.message\\\\\",\\\\\"scripted\\\\\":false,\\\\\"searchable\\\\\":true,\\\\\"type\\\\\":\\\\\"string\\\\\"},{\\\\\"aggregatable\\\\\":true,\\\\\"analyzed\\\\\":false,\\\\\"count\\\\\":0,\\\\\"doc_values\\\\\":true,\\\\\"indexed\\\\\":true,\\\\\"name\\\\\":\\\\\"event.action\\\\\",\\\\\"scripted\\\\\":false,\\\\\"searchable\\\\\":true,\\\\\"type\\\\\":\\\\\"string\\\\\"},{\\\\\"aggregatable\\\\\":true,\\\\\"analyzed\\\\\":false,\\\\\"count\\\\\":0,\\\\\"doc_values\\\\\":true,\\\\\"indexed\\\\\":true,\\\\\"name\\\\\":\\\\\"event.category\\\\\",\\\\\"scripted\\\\\":false,\\\\\"searchable\\\\\":true,\\\\\"type\\\\\":\\\\\"string\\\\\"},{\\\\\"aggregatable\\\\\":true,\\\\\"analyzed\\\\\":false,\\\\\"count\\\\\":0,\\\\\"doc_values\\\\\":true,\\\\\"indexed\\\\\":true,\\\\\"name\\\\\":\\\\\"event.code\\\\\",\\\\\"scripted\\\\\":false,\\\\\"searchable\\\\\":true,\\\\\"type\\\\\":\\\\\"string\\\\\"},{\\\\\"aggregatable\\\\\":true,\\\\\"analyzed\\\\\":false,\\\\\"count\\\\\":0,\\\\\"doc_values\\\\\":true,\\\\\"indexed\\\\\":true,\\\\\"name\\\\\":\\\\\"event.created\\\\\",\\\\\"scripted\\\\\":false,\\\\\"searchable\\\\\":true,\\\\\"type\\\\\":\\\\\"date\\\\\"},{\\\\\"aggregatable\\\\\":true,\\\\\"analyzed\\\\\":false,\\\\\"count\\\\\":0,\\\\\"doc_values\\\\\":true,\\\\\"indexed\\\\\":true,\\\\\"name\\\\\":\\\\\"event.dataset\\\\\",\\\\\"scripted\\\\\":false,\\\\\"searchable\\\\\":true,\\\\\"type\\\\\":\\\\\"string\\\\\"},{\\\\\"aggregatable\\\\\":true,\\\\\"analyzed\\\\\":false,\\\\\"count\\\\\":0,\\\\\"doc_values\\\\\":true,\\\\\"indexed\\\\\":true,\\\\\"name\\\\\":\\\\\"event.duration\\\\\",\\\\\"scripted\\\\\":false,\\\\\"searchable\\\\\":true,\\\\\"type\\\\\":\\\\\"number\\\\\"},{\\\\\"aggregatable\\\\\":true,\\\\\"analyzed\\\\\":false,\\\\\"count\\\\\":0,\\\\\"doc_values\\\\\":true,\\\\\"indexed\\\\\":true,\\\\\"name\\\\\":\\\\\"event.end\\\\\",\\\\\"scripted\\\\\":false,\\\\\"searchable\\\\\":true,\\\\\"type\\\\\":\\\\\"date\\\\\"},{\\\\\"aggregatable\\\\\":true,\\\\\"analyzed\\\\\":false,\\\\\"count\\\\\":0,\\\\\"doc_values\\\\\":true,\\\\\"indexed\\\\\":true,\\\\\"name\\\\\":\\\\\"event.hash\\\\\",\\\\\"scripted\\\\\":false,\\\\\"searchable\\\\\":true,\\\\\"type\\\\\":\\\\\"string\\\\\"},{\\\\\"aggregatable\\\\\":true,\\\\\"analyzed\\\\\":false,\\\\\"count\\\\\":0,\\\\\"doc_values\\\\\":true,\\\\\"indexed\\\\\":true,\\\\\"name\\\\\":\\\\\"event.id\\\\\",\\\\\"scripted\\\\\":false,\\\\\"searchable\\\\\":true,\\\\\"type\\\\\":\\\\\"string\\\\\"},{\\\\\"aggregatable\\\\\":true,\\\\\"analyzed\\\\\":false,\\\\\"count\\\\\":0,\\\\\"doc_values\\\\\":true,\\\\\"indexed\\\\\":true,\\\\\"name\\\\\":\\\\\"event.kind\\\\\",\\\\\"scripted\\\\\":false,\\\\\"searchable\\\\\":true,\\\\\"type\\\\\":\\\\\"string\\\\\"},{\\\\\"aggregatable\\\\\":true,\\\\\"analyzed\\\\\":false,\\\\\"count\\\\\":0,\\\\\"doc_values\\\\\":true,\\\\\"indexed\\\\\":true,\\\\\"name\\\\\":\\\\\"event.module\\\\\",\\\\\"scripted\\\\\":false,\\\\\"searchable\\\\\":true,\\\\\"type\\\\\":\\\\\"string\\\\\"},{\\\\\"aggregatable\\\\\":true,\\\\\"analyzed\\\\\":false,\\\\\"count\\\\\":0,\\\\\"doc_values\\\\\":true,\\\\\"indexed\\\\\":true,\\\\\"name\\\\\":\\\\\"event.original\\\\\",\\\\\"scripted\\\\\":false,\\\\\"searchable\\\\\":true,\\\\\"type\\\\\":\\\\\"string\\\\\"},{\\\\\"aggregatable\\\\\":true,\\\\\"analyzed\\\\\":false,\\\\\"count\\\\\":0,\\\\\"doc_values\\\\\":true,\\\\\"indexed\\\\\":true,\\\\\"name\\\\\":\\\\\"event.outcome\\\\\",\\\\\"scripted\\\\\":false,\\\\\"searchable\\\\\":true,\\\\\"type\\\\\":\\\\\"string\\\\\"},{\\\\\"aggregatable\\\\\":true,\\\\\"analyzed\\\\\":false,\\\\\"count\\\\\":0,\\\\\"doc_values\\\\\":true,\\\\\"indexed\\\\\":true,\\\\\"name\\\\\":\\\\\"event.provider\\\\\",\\\\\"scripted\\\\\":false,\\\\\"searchable\\\\\":true,\\\\\"type\\\\\":\\\\\"string\\\\\"},{\\\\\"aggregatable\\\\\":true,\\\\\"analyzed\\\\\":false,\\\\\"count\\\\\":0,\\\\\"doc_values\\\\\":true,\\\\\"indexed\\\\\":true,\\\\\"name\\\\\":\\\\\"event.risk_score\\\\\",\\\\\"scripted\\\\\":false,\\\\\"searchable\\\\\":true,\\\\\"type\\\\\":\\\\\"number\\\\\"},{\\\\\"aggregatable\\\\\":true,\\\\\"analyzed\\\\\":false,\\\\\"count\\\\\":0,\\\\\"doc_values\\\\\":true,\\\\\"indexed\\\\\":true,\\\\\"name\\\\\":\\\\\"event.risk_score_norm\\\\\",\\\\\"scripted\\\\\":false,\\\\\"searchable\\\\\":true,\\\\\"type\\\\\":\\\\\"number\\\\\"},{\\\\\"aggregatable\\\\\":true,\\\\\"analyzed\\\\\":false,\\\\\"count\\\\\":0,\\\\\"doc_values\\\\\":true,\\\\\"indexed\\\\\":true,\\\\\"name\\\\\":\\\\\"event.sequence\\\\\",\\\\\"scripted\\\\\":false,\\\\\"searchable\\\\\":true,\\\\\"type\\\\\":\\\\\"number\\\\\"},{\\\\\"aggregatable\\\\\":true,\\\\\"analyzed\\\\\":false,\\\\\"count\\\\\":0,\\\\\"doc_values\\\\\":true,\\\\\"indexed\\\\\":true,\\\\\"name\\\\\":\\\\\"event.severity\\\\\",\\\\\"scripted\\\\\":false,\\\\\"searchable\\\\\":true,\\\\\"type\\\\\":\\\\\"number\\\\\"},{\\\\\"aggregatable\\\\\":true,\\\\\"analyzed\\\\\":false,\\\\\"count\\\\\":0,\\\\\"doc_values\\\\\":true,\\\\\"indexed\\\\\":true,\\\\\"name\\\\\":\\\\\"event.start\\\\\",\\\\\"scripted\\\\\":false,\\\\\"searchable\\\\\":true,\\\\\"type\\\\\":\\\\\"date\\\\\"},{\\\\\"aggregatable\\\\\":true,\\\\\"analyzed\\\\\":false,\\\\\"count\\\\\":0,\\\\\"doc_values\\\\\":true,\\\\\"indexed\\\\\":true,\\\\\"name\\\\\":\\\\\"event.timezone\\\\\",\\\\\"scripted\\\\\":false,\\\\\"searchable\\\\\":true,\\\\\"type\\\\\":\\\\\"string\\\\\"},{\\\\\"aggregatable\\\\\":true,\\\\\"analyzed\\\\\":false,\\\\\"count\\\\\":0,\\\\\"doc_values\\\\\":true,\\\\\"indexed\\\\\":true,\\\\\"name\\\\\":\\\\\"event.type\\\\\",\\\\\"scripted\\\\\":false,\\\\\"searchable\\\\\":true,\\\\\"type\\\\\":\\\\\"string\\\\\"},{\\\\\"aggregatable\\\\\":true,\\\\\"analyzed\\\\\":false,\\\\\"count\\\\\":0,\\\\\"doc_values\\\\\":true,\\\\\"indexed\\\\\":true,\\\\\"name\\\\\":\\\\\"file.accessed\\\\\",\\\\\"scripted\\\\\":false,\\\\\"searchable\\\\\":true,\\\\\"type\\\\\":\\\\\"date\\\\\"},{\\\\\"aggregatable\\\\\":true,\\\\\"analyzed\\\\\":false,\\\\\"count\\\\\":0,\\\\\"doc_values\\\\\":true,\\\\\"indexed\\\\\":true,\\\\\"name\\\\\":\\\\\"file.created\\\\\",\\\\\"scripted\\\\\":false,\\\\\"searchable\\\\\":true,\\\\\"type\\\\\":\\\\\"date\\\\\"},{\\\\\"aggregatable\\\\\":true,\\\\\"analyzed\\\\\":false,\\\\\"count\\\\\":0,\\\\\"doc_values\\\\\":true,\\\\\"indexed\\\\\":true,\\\\\"name\\\\\":\\\\\"file.ctime\\\\\",\\\\\"scripted\\\\\":false,\\\\\"searchable\\\\\":true,\\\\\"type\\\\\":\\\\\"date\\\\\"},{\\\\\"aggregatable\\\\\":true,\\\\\"analyzed\\\\\":false,\\\\\"count\\\\\":0,\\\\\"doc_values\\\\\":true,\\\\\"indexed\\\\\":true,\\\\\"name\\\\\":\\\\\"file.device\\\\\",\\\\\"scripted\\\\\":false,\\\\\"searchable\\\\\":true,\\\\\"type\\\\\":\\\\\"string\\\\\"},{\\\\\"aggregatable\\\\\":true,\\\\\"analyzed\\\\\":false,\\\\\"count\\\\\":0,\\\\\"doc_values\\\\\":true,\\\\\"indexed\\\\\":true,\\\\\"name\\\\\":\\\\\"file.directory\\\\\",\\\\\"scripted\\\\\":false,\\\\\"searchable\\\\\":true,\\\\\"type\\\\\":\\\\\"string\\\\\"},{\\\\\"aggregatable\\\\\":true,\\\\\"analyzed\\\\\":false,\\\\\"count\\\\\":0,\\\\\"doc_values\\\\\":true,\\\\\"indexed\\\\\":true,\\\\\"name\\\\\":\\\\\"file.extension\\\\\",\\\\\"scripted\\\\\":false,\\\\\"searchable\\\\\":true,\\\\\"type\\\\\":\\\\\"string\\\\\"},{\\\\\"aggregatable\\\\\":true,\\\\\"analyzed\\\\\":false,\\\\\"count\\\\\":0,\\\\\"doc_values\\\\\":true,\\\\\"indexed\\\\\":true,\\\\\"name\\\\\":\\\\\"file.gid\\\\\",\\\\\"scripted\\\\\":false,\\\\\"searchable\\\\\":true,\\\\\"type\\\\\":\\\\\"string\\\\\"},{\\\\\"aggregatable\\\\\":true,\\\\\"analyzed\\\\\":false,\\\\\"count\\\\\":0,\\\\\"doc_values\\\\\":true,\\\\\"indexed\\\\\":true,\\\\\"name\\\\\":\\\\\"file.group\\\\\",\\\\\"scripted\\\\\":false,\\\\\"searchable\\\\\":true,\\\\\"type\\\\\":\\\\\"string\\\\\"},{\\\\\"aggregatable\\\\\":true,\\\\\"analyzed\\\\\":false,\\\\\"count\\\\\":0,\\\\\"doc_values\\\\\":true,\\\\\"indexed\\\\\":true,\\\\\"name\\\\\":\\\\\"file.hash.md5\\\\\",\\\\\"scripted\\\\\":false,\\\\\"searchable\\\\\":true,\\\\\"type\\\\\":\\\\\"string\\\\\"},{\\\\\"aggregatable\\\\\":true,\\\\\"analyzed\\\\\":false,\\\\\"count\\\\\":0,\\\\\"doc_values\\\\\":true,\\\\\"indexed\\\\\":true,\\\\\"name\\\\\":\\\\\"file.hash.sha1\\\\\",\\\\\"scripted\\\\\":false,\\\\\"searchable\\\\\":true,\\\\\"type\\\\\":\\\\\"string\\\\\"},{\\\\\"aggregatable\\\\\":true,\\\\\"analyzed\\\\\":false,\\\\\"count\\\\\":0,\\\\\"doc_values\\\\\":true,\\\\\"indexed\\\\\":true,\\\\\"name\\\\\":\\\\\"file.hash.sha256\\\\\",\\\\\"scripted\\\\\":false,\\\\\"searchable\\\\\":true,\\\\\"type\\\\\":\\\\\"string\\\\\"},{\\\\\"aggregatable\\\\\":true,\\\\\"analyzed\\\\\":false,\\\\\"count\\\\\":0,\\\\\"doc_values\\\\\":true,\\\\\"indexed\\\\\":true,\\\\\"name\\\\\":\\\\\"file.hash.sha512\\\\\",\\\\\"scripted\\\\\":false,\\\\\"searchable\\\\\":true,\\\\\"type\\\\\":\\\\\"string\\\\\"},{\\\\\"aggregatable\\\\\":true,\\\\\"analyzed\\\\\":false,\\\\\"count\\\\\":0,\\\\\"doc_values\\\\\":true,\\\\\"indexed\\\\\":true,\\\\\"name\\\\\":\\\\\"file.inode\\\\\",\\\\\"scripted\\\\\":false,\\\\\"searchable\\\\\":true,\\\\\"type\\\\\":\\\\\"string\\\\\"},{\\\\\"aggregatable\\\\\":true,\\\\\"analyzed\\\\\":false,\\\\\"count\\\\\":0,\\\\\"doc_values\\\\\":true,\\\\\"indexed\\\\\":true,\\\\\"name\\\\\":\\\\\"file.mode\\\\\",\\\\\"scripted\\\\\":false,\\\\\"searchable\\\\\":true,\\\\\"type\\\\\":\\\\\"string\\\\\"},{\\\\\"aggregatable\\\\\":true,\\\\\"analyzed\\\\\":false,\\\\\"count\\\\\":0,\\\\\"doc_values\\\\\":true,\\\\\"indexed\\\\\":true,\\\\\"name\\\\\":\\\\\"file.mtime\\\\\",\\\\\"scripted\\\\\":false,\\\\\"searchable\\\\\":true,\\\\\"type\\\\\":\\\\\"date\\\\\"},{\\\\\"aggregatable\\\\\":true,\\\\\"analyzed\\\\\":false,\\\\\"count\\\\\":0,\\\\\"doc_values\\\\\":true,\\\\\"indexed\\\\\":true,\\\\\"name\\\\\":\\\\\"file.name\\\\\",\\\\\"scripted\\\\\":false,\\\\\"searchable\\\\\":true,\\\\\"type\\\\\":\\\\\"string\\\\\"},{\\\\\"aggregatable\\\\\":true,\\\\\"analyzed\\\\\":false,\\\\\"count\\\\\":0,\\\\\"doc_values\\\\\":true,\\\\\"indexed\\\\\":true,\\\\\"name\\\\\":\\\\\"file.owner\\\\\",\\\\\"scripted\\\\\":false,\\\\\"searchable\\\\\":true,\\\\\"type\\\\\":\\\\\"string\\\\\"},{\\\\\"aggregatable\\\\\":true,\\\\\"analyzed\\\\\":false,\\\\\"count\\\\\":0,\\\\\"doc_values\\\\\":true,\\\\\"indexed\\\\\":true,\\\\\"name\\\\\":\\\\\"file.path\\\\\",\\\\\"scripted\\\\\":false,\\\\\"searchable\\\\\":true,\\\\\"type\\\\\":\\\\\"string\\\\\"},{\\\\\"aggregatable\\\\\":true,\\\\\"analyzed\\\\\":false,\\\\\"count\\\\\":0,\\\\\"doc_values\\\\\":true,\\\\\"indexed\\\\\":true,\\\\\"name\\\\\":\\\\\"file.size\\\\\",\\\\\"scripted\\\\\":false,\\\\\"searchable\\\\\":true,\\\\\"type\\\\\":\\\\\"number\\\\\"},{\\\\\"aggregatable\\\\\":true,\\\\\"analyzed\\\\\":false,\\\\\"count\\\\\":0,\\\\\"doc_values\\\\\":true,\\\\\"indexed\\\\\":true,\\\\\"name\\\\\":\\\\\"file.target_path\\\\\",\\\\\"scripted\\\\\":false,\\\\\"searchable\\\\\":true,\\\\\"type\\\\\":\\\\\"string\\\\\"},{\\\\\"aggregatable\\\\\":true,\\\\\"analyzed\\\\\":false,\\\\\"count\\\\\":0,\\\\\"doc_values\\\\\":true,\\\\\"indexed\\\\\":true,\\\\\"name\\\\\":\\\\\"file.type\\\\\",\\\\\"scripted\\\\\":false,\\\\\"searchable\\\\\":true,\\\\\"type\\\\\":\\\\\"string\\\\\"},{\\\\\"aggregatable\\\\\":true,\\\\\"analyzed\\\\\":false,\\\\\"count\\\\\":0,\\\\\"doc_values\\\\\":true,\\\\\"indexed\\\\\":true,\\\\\"name\\\\\":\\\\\"file.uid\\\\\",\\\\\"scripted\\\\\":false,\\\\\"searchable\\\\\":true,\\\\\"type\\\\\":\\\\\"string\\\\\"},{\\\\\"aggregatable\\\\\":true,\\\\\"analyzed\\\\\":false,\\\\\"count\\\\\":0,\\\\\"doc_values\\\\\":true,\\\\\"indexed\\\\\":true,\\\\\"name\\\\\":\\\\\"geo.city_name\\\\\",\\\\\"scripted\\\\\":false,\\\\\"searchable\\\\\":true,\\\\\"type\\\\\":\\\\\"string\\\\\"},{\\\\\"aggregatable\\\\\":true,\\\\\"analyzed\\\\\":false,\\\\\"count\\\\\":0,\\\\\"doc_values\\\\\":true,\\\\\"indexed\\\\\":true,\\\\\"name\\\\\":\\\\\"geo.continent_name\\\\\",\\\\\"scripted\\\\\":false,\\\\\"searchable\\\\\":true,\\\\\"type\\\\\":\\\\\"string\\\\\"},{\\\\\"aggregatable\\\\\":true,\\\\\"analyzed\\\\\":false,\\\\\"count\\\\\":0,\\\\\"doc_values\\\\\":true,\\\\\"indexed\\\\\":true,\\\\\"name\\\\\":\\\\\"geo.country_iso_code\\\\\",\\\\\"scripted\\\\\":false,\\\\\"searchable\\\\\":true,\\\\\"type\\\\\":\\\\\"string\\\\\"},{\\\\\"aggregatable\\\\\":true,\\\\\"analyzed\\\\\":false,\\\\\"count\\\\\":0,\\\\\"doc_values\\\\\":true,\\\\\"indexed\\\\\":true,\\\\\"name\\\\\":\\\\\"geo.country_name\\\\\",\\\\\"scripted\\\\\":false,\\\\\"searchable\\\\\":true,\\\\\"type\\\\\":\\\\\"string\\\\\"},{\\\\\"aggregatable\\\\\":true,\\\\\"analyzed\\\\\":false,\\\\\"count\\\\\":0,\\\\\"doc_values\\\\\":true,\\\\\"indexed\\\\\":true,\\\\\"name\\\\\":\\\\\"geo.location\\\\\",\\\\\"scripted\\\\\":false,\\\\\"searchable\\\\\":true,\\\\\"type\\\\\":\\\\\"geo_point\\\\\"},{\\\\\"aggregatable\\\\\":true,\\\\\"analyzed\\\\\":false,\\\\\"count\\\\\":0,\\\\\"doc_values\\\\\":true,\\\\\"indexed\\\\\":true,\\\\\"name\\\\\":\\\\\"geo.name\\\\\",\\\\\"scripted\\\\\":false,\\\\\"searchable\\\\\":true,\\\\\"type\\\\\":\\\\\"string\\\\\"},{\\\\\"aggregatable\\\\\":true,\\\\\"analyzed\\\\\":false,\\\\\"count\\\\\":0,\\\\\"doc_values\\\\\":true,\\\\\"indexed\\\\\":true,\\\\\"name\\\\\":\\\\\"geo.region_iso_code\\\\\",\\\\\"scripted\\\\\":false,\\\\\"searchable\\\\\":true,\\\\\"type\\\\\":\\\\\"string\\\\\"},{\\\\\"aggregatable\\\\\":true,\\\\\"analyzed\\\\\":false,\\\\\"count\\\\\":0,\\\\\"doc_values\\\\\":true,\\\\\"indexed\\\\\":true,\\\\\"name\\\\\":\\\\\"geo.region_name\\\\\",\\\\\"scripted\\\\\":false,\\\\\"searchable\\\\\":true,\\\\\"type\\\\\":\\\\\"string\\\\\"},{\\\\\"aggregatable\\\\\":true,\\\\\"analyzed\\\\\":false,\\\\\"count\\\\\":0,\\\\\"doc_values\\\\\":true,\\\\\"indexed\\\\\":true,\\\\\"name\\\\\":\\\\\"group.id\\\\\",\\\\\"scripted\\\\\":false,\\\\\"searchable\\\\\":true,\\\\\"type\\\\\":\\\\\"string\\\\\"},{\\\\\"aggregatable\\\\\":true,\\\\\"analyzed\\\\\":false,\\\\\"count\\\\\":0,\\\\\"doc_values\\\\\":true,\\\\\"indexed\\\\\":true,\\\\\"name\\\\\":\\\\\"group.name\\\\\",\\\\\"scripted\\\\\":false,\\\\\"searchable\\\\\":true,\\\\\"type\\\\\":\\\\\"string\\\\\"},{\\\\\"aggregatable\\\\\":true,\\\\\"analyzed\\\\\":false,\\\\\"count\\\\\":0,\\\\\"doc_values\\\\\":true,\\\\\"indexed\\\\\":true,\\\\\"name\\\\\":\\\\\"hash.md5\\\\\",\\\\\"scripted\\\\\":false,\\\\\"searchable\\\\\":true,\\\\\"type\\\\\":\\\\\"string\\\\\"},{\\\\\"aggregatable\\\\\":true,\\\\\"analyzed\\\\\":false,\\\\\"count\\\\\":0,\\\\\"doc_values\\\\\":true,\\\\\"indexed\\\\\":true,\\\\\"name\\\\\":\\\\\"hash.sha1\\\\\",\\\\\"scripted\\\\\":false,\\\\\"searchable\\\\\":true,\\\\\"type\\\\\":\\\\\"string\\\\\"},{\\\\\"aggregatable\\\\\":true,\\\\\"analyzed\\\\\":false,\\\\\"count\\\\\":0,\\\\\"doc_values\\\\\":true,\\\\\"indexed\\\\\":true,\\\\\"name\\\\\":\\\\\"hash.sha256\\\\\",\\\\\"scripted\\\\\":false,\\\\\"searchable\\\\\":true,\\\\\"type\\\\\":\\\\\"string\\\\\"},{\\\\\"aggregatable\\\\\":true,\\\\\"analyzed\\\\\":false,\\\\\"count\\\\\":0,\\\\\"doc_values\\\\\":true,\\\\\"indexed\\\\\":true,\\\\\"name\\\\\":\\\\\"hash.sha512\\\\\",\\\\\"scripted\\\\\":false,\\\\\"searchable\\\\\":true,\\\\\"type\\\\\":\\\\\"string\\\\\"},{\\\\\"aggregatable\\\\\":true,\\\\\"analyzed\\\\\":false,\\\\\"count\\\\\":0,\\\\\"doc_values\\\\\":true,\\\\\"indexed\\\\\":true,\\\\\"name\\\\\":\\\\\"host.architecture\\\\\",\\\\\"scripted\\\\\":false,\\\\\"searchable\\\\\":true,\\\\\"type\\\\\":\\\\\"string\\\\\"},{\\\\\"aggregatable\\\\\":true,\\\\\"analyzed\\\\\":false,\\\\\"count\\\\\":0,\\\\\"doc_values\\\\\":true,\\\\\"indexed\\\\\":true,\\\\\"name\\\\\":\\\\\"host.geo.city_name\\\\\",\\\\\"scripted\\\\\":false,\\\\\"searchable\\\\\":true,\\\\\"type\\\\\":\\\\\"string\\\\\"},{\\\\\"aggregatable\\\\\":true,\\\\\"analyzed\\\\\":false,\\\\\"count\\\\\":0,\\\\\"doc_values\\\\\":true,\\\\\"indexed\\\\\":true,\\\\\"name\\\\\":\\\\\"host.geo.continent_name\\\\\",\\\\\"scripted\\\\\":false,\\\\\"searchable\\\\\":true,\\\\\"type\\\\\":\\\\\"string\\\\\"},{\\\\\"aggregatable\\\\\":true,\\\\\"analyzed\\\\\":false,\\\\\"count\\\\\":0,\\\\\"doc_values\\\\\":true,\\\\\"indexed\\\\\":true,\\\\\"name\\\\\":\\\\\"host.geo.country_iso_code\\\\\",\\\\\"scripted\\\\\":false,\\\\\"searchable\\\\\":true,\\\\\"type\\\\\":\\\\\"string\\\\\"},{\\\\\"aggregatable\\\\\":true,\\\\\"analyzed\\\\\":false,\\\\\"count\\\\\":0,\\\\\"doc_values\\\\\":true,\\\\\"indexed\\\\\":true,\\\\\"name\\\\\":\\\\\"host.geo.country_name\\\\\",\\\\\"scripted\\\\\":false,\\\\\"searchable\\\\\":true,\\\\\"type\\\\\":\\\\\"string\\\\\"},{\\\\\"aggregatable\\\\\":true,\\\\\"analyzed\\\\\":false,\\\\\"count\\\\\":0,\\\\\"doc_values\\\\\":true,\\\\\"indexed\\\\\":true,\\\\\"name\\\\\":\\\\\"host.geo.location\\\\\",\\\\\"scripted\\\\\":false,\\\\\"searchable\\\\\":true,\\\\\"type\\\\\":\\\\\"geo_point\\\\\"},{\\\\\"aggregatable\\\\\":true,\\\\\"analyzed\\\\\":false,\\\\\"count\\\\\":0,\\\\\"doc_values\\\\\":true,\\\\\"indexed\\\\\":true,\\\\\"name\\\\\":\\\\\"host.geo.name\\\\\",\\\\\"scripted\\\\\":false,\\\\\"searchable\\\\\":true,\\\\\"type\\\\\":\\\\\"string\\\\\"},{\\\\\"aggregatable\\\\\":true,\\\\\"analyzed\\\\\":false,\\\\\"count\\\\\":0,\\\\\"doc_values\\\\\":true,\\\\\"indexed\\\\\":true,\\\\\"name\\\\\":\\\\\"host.geo.region_iso_code\\\\\",\\\\\"scripted\\\\\":false,\\\\\"searchable\\\\\":true,\\\\\"type\\\\\":\\\\\"string\\\\\"},{\\\\\"aggregatable\\\\\":true,\\\\\"analyzed\\\\\":false,\\\\\"count\\\\\":0,\\\\\"doc_values\\\\\":true,\\\\\"indexed\\\\\":true,\\\\\"name\\\\\":\\\\\"host.geo.region_name\\\\\",\\\\\"scripted\\\\\":false,\\\\\"searchable\\\\\":true,\\\\\"type\\\\\":\\\\\"string\\\\\"},{\\\\\"aggregatable\\\\\":true,\\\\\"analyzed\\\\\":false,\\\\\"count\\\\\":0,\\\\\"doc_values\\\\\":true,\\\\\"indexed\\\\\":true,\\\\\"name\\\\\":\\\\\"host.hostname\\\\\",\\\\\"scripted\\\\\":false,\\\\\"searchable\\\\\":true,\\\\\"type\\\\\":\\\\\"string\\\\\"},{\\\\\"aggregatable\\\\\":true,\\\\\"analyzed\\\\\":false,\\\\\"count\\\\\":0,\\\\\"doc_values\\\\\":true,\\\\\"indexed\\\\\":true,\\\\\"name\\\\\":\\\\\"host.id\\\\\",\\\\\"scripted\\\\\":false,\\\\\"searchable\\\\\":true,\\\\\"type\\\\\":\\\\\"string\\\\\"},{\\\\\"aggregatable\\\\\":true,\\\\\"analyzed\\\\\":false,\\\\\"count\\\\\":0,\\\\\"doc_values\\\\\":true,\\\\\"indexed\\\\\":true,\\\\\"name\\\\\":\\\\\"host.ip\\\\\",\\\\\"scripted\\\\\":false,\\\\\"searchable\\\\\":true,\\\\\"type\\\\\":\\\\\"ip\\\\\"},{\\\\\"aggregatable\\\\\":true,\\\\\"analyzed\\\\\":false,\\\\\"count\\\\\":0,\\\\\"doc_values\\\\\":true,\\\\\"indexed\\\\\":true,\\\\\"name\\\\\":\\\\\"host.mac\\\\\",\\\\\"scripted\\\\\":false,\\\\\"searchable\\\\\":true,\\\\\"type\\\\\":\\\\\"string\\\\\"},{\\\\\"aggregatable\\\\\":true,\\\\\"analyzed\\\\\":false,\\\\\"count\\\\\":0,\\\\\"doc_values\\\\\":true,\\\\\"indexed\\\\\":true,\\\\\"name\\\\\":\\\\\"host.name\\\\\",\\\\\"scripted\\\\\":false,\\\\\"searchable\\\\\":true,\\\\\"type\\\\\":\\\\\"string\\\\\"},{\\\\\"aggregatable\\\\\":true,\\\\\"analyzed\\\\\":false,\\\\\"count\\\\\":0,\\\\\"doc_values\\\\\":true,\\\\\"indexed\\\\\":true,\\\\\"name\\\\\":\\\\\"host.os.family\\\\\",\\\\\"scripted\\\\\":false,\\\\\"searchable\\\\\":true,\\\\\"type\\\\\":\\\\\"string\\\\\"},{\\\\\"aggregatable\\\\\":true,\\\\\"analyzed\\\\\":false,\\\\\"count\\\\\":0,\\\\\"doc_values\\\\\":true,\\\\\"indexed\\\\\":true,\\\\\"name\\\\\":\\\\\"host.os.full\\\\\",\\\\\"scripted\\\\\":false,\\\\\"searchable\\\\\":true,\\\\\"type\\\\\":\\\\\"string\\\\\"},{\\\\\"aggregatable\\\\\":true,\\\\\"analyzed\\\\\":false,\\\\\"count\\\\\":0,\\\\\"doc_values\\\\\":true,\\\\\"indexed\\\\\":true,\\\\\"name\\\\\":\\\\\"host.os.kernel\\\\\",\\\\\"scripted\\\\\":false,\\\\\"searchable\\\\\":true,\\\\\"type\\\\\":\\\\\"string\\\\\"},{\\\\\"aggregatable\\\\\":true,\\\\\"analyzed\\\\\":false,\\\\\"count\\\\\":0,\\\\\"doc_values\\\\\":true,\\\\\"indexed\\\\\":true,\\\\\"name\\\\\":\\\\\"host.os.name\\\\\",\\\\\"scripted\\\\\":false,\\\\\"searchable\\\\\":true,\\\\\"type\\\\\":\\\\\"string\\\\\"},{\\\\\"aggregatable\\\\\":true,\\\\\"analyzed\\\\\":false,\\\\\"count\\\\\":0,\\\\\"doc_values\\\\\":true,\\\\\"indexed\\\\\":true,\\\\\"name\\\\\":\\\\\"host.os.platform\\\\\",\\\\\"scripted\\\\\":false,\\\\\"searchable\\\\\":true,\\\\\"type\\\\\":\\\\\"string\\\\\"},{\\\\\"aggregatable\\\\\":true,\\\\\"analyzed\\\\\":false,\\\\\"count\\\\\":0,\\\\\"doc_values\\\\\":true,\\\\\"indexed\\\\\":true,\\\\\"name\\\\\":\\\\\"host.os.version\\\\\",\\\\\"scripted\\\\\":false,\\\\\"searchable\\\\\":true,\\\\\"type\\\\\":\\\\\"string\\\\\"},{\\\\\"aggregatable\\\\\":true,\\\\\"analyzed\\\\\":false,\\\\\"count\\\\\":0,\\\\\"doc_values\\\\\":true,\\\\\"indexed\\\\\":true,\\\\\"name\\\\\":\\\\\"host.type\\\\\",\\\\\"scripted\\\\\":false,\\\\\"searchable\\\\\":true,\\\\\"type\\\\\":\\\\\"string\\\\\"},{\\\\\"aggregatable\\\\\":true,\\\\\"analyzed\\\\\":false,\\\\\"count\\\\\":0,\\\\\"doc_values\\\\\":true,\\\\\"indexed\\\\\":true,\\\\\"name\\\\\":\\\\\"host.uptime\\\\\",\\\\\"scripted\\\\\":false,\\\\\"searchable\\\\\":true,\\\\\"type\\\\\":\\\\\"number\\\\\"},{\\\\\"aggregatable\\\\\":true,\\\\\"analyzed\\\\\":false,\\\\\"count\\\\\":0,\\\\\"doc_values\\\\\":true,\\\\\"indexed\\\\\":true,\\\\\"name\\\\\":\\\\\"host.user.domain\\\\\",\\\\\"scripted\\\\\":false,\\\\\"searchable\\\\\":true,\\\\\"type\\\\\":\\\\\"string\\\\\"},{\\\\\"aggregatable\\\\\":true,\\\\\"analyzed\\\\\":false,\\\\\"count\\\\\":0,\\\\\"doc_values\\\\\":true,\\\\\"indexed\\\\\":true,\\\\\"name\\\\\":\\\\\"host.user.email\\\\\",\\\\\"scripted\\\\\":false,\\\\\"searchable\\\\\":true,\\\\\"type\\\\\":\\\\\"string\\\\\"},{\\\\\"aggregatable\\\\\":true,\\\\\"analyzed\\\\\":false,\\\\\"count\\\\\":0,\\\\\"doc_values\\\\\":true,\\\\\"indexed\\\\\":true,\\\\\"name\\\\\":\\\\\"host.user.full_name\\\\\",\\\\\"scripted\\\\\":false,\\\\\"searchable\\\\\":true,\\\\\"type\\\\\":\\\\\"string\\\\\"},{\\\\\"aggregatable\\\\\":true,\\\\\"analyzed\\\\\":false,\\\\\"count\\\\\":0,\\\\\"doc_values\\\\\":true,\\\\\"indexed\\\\\":true,\\\\\"name\\\\\":\\\\\"host.user.group.id\\\\\",\\\\\"scripted\\\\\":false,\\\\\"searchable\\\\\":true,\\\\\"type\\\\\":\\\\\"string\\\\\"},{\\\\\"aggregatable\\\\\":true,\\\\\"analyzed\\\\\":false,\\\\\"count\\\\\":0,\\\\\"doc_values\\\\\":true,\\\\\"indexed\\\\\":true,\\\\\"name\\\\\":\\\\\"host.user.group.name\\\\\",\\\\\"scripted\\\\\":false,\\\\\"searchable\\\\\":true,\\\\\"type\\\\\":\\\\\"string\\\\\"},{\\\\\"aggregatable\\\\\":true,\\\\\"analyzed\\\\\":false,\\\\\"count\\\\\":0,\\\\\"doc_values\\\\\":true,\\\\\"indexed\\\\\":true,\\\\\"name\\\\\":\\\\\"host.user.hash\\\\\",\\\\\"scripted\\\\\":false,\\\\\"searchable\\\\\":true,\\\\\"type\\\\\":\\\\\"string\\\\\"},{\\\\\"aggregatable\\\\\":true,\\\\\"analyzed\\\\\":false,\\\\\"count\\\\\":0,\\\\\"doc_values\\\\\":true,\\\\\"indexed\\\\\":true,\\\\\"name\\\\\":\\\\\"host.user.id\\\\\",\\\\\"scripted\\\\\":false,\\\\\"searchable\\\\\":true,\\\\\"type\\\\\":\\\\\"string\\\\\"},{\\\\\"aggregatable\\\\\":true,\\\\\"analyzed\\\\\":false,\\\\\"count\\\\\":0,\\\\\"doc_values\\\\\":true,\\\\\"indexed\\\\\":true,\\\\\"name\\\\\":\\\\\"host.user.name\\\\\",\\\\\"scripted\\\\\":false,\\\\\"searchable\\\\\":true,\\\\\"type\\\\\":\\\\\"string\\\\\"},{\\\\\"aggregatable\\\\\":true,\\\\\"analyzed\\\\\":false,\\\\\"count\\\\\":0,\\\\\"doc_values\\\\\":true,\\\\\"indexed\\\\\":true,\\\\\"name\\\\\":\\\\\"http.request.body.bytes\\\\\",\\\\\"scripted\\\\\":false,\\\\\"searchable\\\\\":true,\\\\\"type\\\\\":\\\\\"number\\\\\"},{\\\\\"aggregatable\\\\\":true,\\\\\"analyzed\\\\\":false,\\\\\"count\\\\\":0,\\\\\"doc_values\\\\\":true,\\\\\"indexed\\\\\":true,\\\\\"name\\\\\":\\\\\"http.request.body.content\\\\\",\\\\\"scripted\\\\\":false,\\\\\"searchable\\\\\":true,\\\\\"type\\\\\":\\\\\"string\\\\\"},{\\\\\"aggregatable\\\\\":true,\\\\\"analyzed\\\\\":false,\\\\\"count\\\\\":0,\\\\\"doc_values\\\\\":true,\\\\\"indexed\\\\\":true,\\\\\"name\\\\\":\\\\\"http.request.bytes\\\\\",\\\\\"scripted\\\\\":false,\\\\\"searchable\\\\\":true,\\\\\"type\\\\\":\\\\\"number\\\\\"},{\\\\\"aggregatable\\\\\":true,\\\\\"analyzed\\\\\":false,\\\\\"count\\\\\":0,\\\\\"doc_values\\\\\":true,\\\\\"indexed\\\\\":true,\\\\\"name\\\\\":\\\\\"http.request.method\\\\\",\\\\\"scripted\\\\\":false,\\\\\"searchable\\\\\":true,\\\\\"type\\\\\":\\\\\"string\\\\\"},{\\\\\"aggregatable\\\\\":true,\\\\\"analyzed\\\\\":false,\\\\\"count\\\\\":0,\\\\\"doc_values\\\\\":true,\\\\\"indexed\\\\\":true,\\\\\"name\\\\\":\\\\\"http.request.referrer\\\\\",\\\\\"scripted\\\\\":false,\\\\\"searchable\\\\\":true,\\\\\"type\\\\\":\\\\\"string\\\\\"},{\\\\\"aggregatable\\\\\":true,\\\\\"analyzed\\\\\":false,\\\\\"count\\\\\":0,\\\\\"doc_values\\\\\":true,\\\\\"indexed\\\\\":true,\\\\\"name\\\\\":\\\\\"http.response.body.bytes\\\\\",\\\\\"scripted\\\\\":false,\\\\\"searchable\\\\\":true,\\\\\"type\\\\\":\\\\\"number\\\\\"},{\\\\\"aggregatable\\\\\":true,\\\\\"analyzed\\\\\":false,\\\\\"count\\\\\":0,\\\\\"doc_values\\\\\":true,\\\\\"indexed\\\\\":true,\\\\\"name\\\\\":\\\\\"http.response.body.content\\\\\",\\\\\"scripted\\\\\":false,\\\\\"searchable\\\\\":true,\\\\\"type\\\\\":\\\\\"string\\\\\"},{\\\\\"aggregatable\\\\\":true,\\\\\"analyzed\\\\\":false,\\\\\"count\\\\\":0,\\\\\"doc_values\\\\\":true,\\\\\"indexed\\\\\":true,\\\\\"name\\\\\":\\\\\"http.response.bytes\\\\\",\\\\\"scripted\\\\\":false,\\\\\"searchable\\\\\":true,\\\\\"type\\\\\":\\\\\"number\\\\\"},{\\\\\"aggregatable\\\\\":true,\\\\\"analyzed\\\\\":false,\\\\\"count\\\\\":0,\\\\\"doc_values\\\\\":true,\\\\\"indexed\\\\\":true,\\\\\"name\\\\\":\\\\\"http.response.status_code\\\\\",\\\\\"scripted\\\\\":false,\\\\\"searchable\\\\\":true,\\\\\"type\\\\\":\\\\\"number\\\\\"},{\\\\\"aggregatable\\\\\":true,\\\\\"analyzed\\\\\":false,\\\\\"count\\\\\":0,\\\\\"doc_values\\\\\":true,\\\\\"indexed\\\\\":true,\\\\\"name\\\\\":\\\\\"http.version\\\\\",\\\\\"scripted\\\\\":false,\\\\\"searchable\\\\\":true,\\\\\"type\\\\\":\\\\\"string\\\\\"},{\\\\\"aggregatable\\\\\":true,\\\\\"analyzed\\\\\":false,\\\\\"count\\\\\":0,\\\\\"doc_values\\\\\":true,\\\\\"indexed\\\\\":true,\\\\\"name\\\\\":\\\\\"log.level\\\\\",\\\\\"scripted\\\\\":false,\\\\\"searchable\\\\\":true,\\\\\"type\\\\\":\\\\\"string\\\\\"},{\\\\\"aggregatable\\\\\":true,\\\\\"analyzed\\\\\":false,\\\\\"count\\\\\":0,\\\\\"doc_values\\\\\":true,\\\\\"indexed\\\\\":true,\\\\\"name\\\\\":\\\\\"log.logger\\\\\",\\\\\"scripted\\\\\":false,\\\\\"searchable\\\\\":true,\\\\\"type\\\\\":\\\\\"string\\\\\"},{\\\\\"aggregatable\\\\\":true,\\\\\"analyzed\\\\\":false,\\\\\"count\\\\\":0,\\\\\"doc_values\\\\\":true,\\\\\"indexed\\\\\":true,\\\\\"name\\\\\":\\\\\"log.original\\\\\",\\\\\"scripted\\\\\":false,\\\\\"searchable\\\\\":true,\\\\\"type\\\\\":\\\\\"string\\\\\"},{\\\\\"aggregatable\\\\\":true,\\\\\"analyzed\\\\\":false,\\\\\"count\\\\\":0,\\\\\"doc_values\\\\\":true,\\\\\"indexed\\\\\":true,\\\\\"name\\\\\":\\\\\"network.application\\\\\",\\\\\"scripted\\\\\":false,\\\\\"searchable\\\\\":true,\\\\\"type\\\\\":\\\\\"string\\\\\"},{\\\\\"aggregatable\\\\\":true,\\\\\"analyzed\\\\\":false,\\\\\"count\\\\\":0,\\\\\"doc_values\\\\\":true,\\\\\"indexed\\\\\":true,\\\\\"name\\\\\":\\\\\"network.bytes\\\\\",\\\\\"scripted\\\\\":false,\\\\\"searchable\\\\\":true,\\\\\"type\\\\\":\\\\\"number\\\\\"},{\\\\\"aggregatable\\\\\":true,\\\\\"analyzed\\\\\":false,\\\\\"count\\\\\":0,\\\\\"doc_values\\\\\":true,\\\\\"indexed\\\\\":true,\\\\\"name\\\\\":\\\\\"network.community_id\\\\\",\\\\\"scripted\\\\\":false,\\\\\"searchable\\\\\":true,\\\\\"type\\\\\":\\\\\"string\\\\\"},{\\\\\"aggregatable\\\\\":true,\\\\\"analyzed\\\\\":false,\\\\\"count\\\\\":0,\\\\\"doc_values\\\\\":true,\\\\\"indexed\\\\\":true,\\\\\"name\\\\\":\\\\\"network.direction\\\\\",\\\\\"scripted\\\\\":false,\\\\\"searchable\\\\\":true,\\\\\"type\\\\\":\\\\\"string\\\\\"},{\\\\\"aggregatable\\\\\":true,\\\\\"analyzed\\\\\":false,\\\\\"count\\\\\":0,\\\\\"doc_values\\\\\":true,\\\\\"indexed\\\\\":true,\\\\\"name\\\\\":\\\\\"network.forwarded_ip\\\\\",\\\\\"scripted\\\\\":false,\\\\\"searchable\\\\\":true,\\\\\"type\\\\\":\\\\\"ip\\\\\"},{\\\\\"aggregatable\\\\\":true,\\\\\"analyzed\\\\\":false,\\\\\"count\\\\\":0,\\\\\"doc_values\\\\\":true,\\\\\"indexed\\\\\":true,\\\\\"name\\\\\":\\\\\"network.iana_number\\\\\",\\\\\"scripted\\\\\":false,\\\\\"searchable\\\\\":true,\\\\\"type\\\\\":\\\\\"string\\\\\"},{\\\\\"aggregatable\\\\\":true,\\\\\"analyzed\\\\\":false,\\\\\"count\\\\\":0,\\\\\"doc_values\\\\\":true,\\\\\"indexed\\\\\":true,\\\\\"name\\\\\":\\\\\"network.name\\\\\",\\\\\"scripted\\\\\":false,\\\\\"searchable\\\\\":true,\\\\\"type\\\\\":\\\\\"string\\\\\"},{\\\\\"aggregatable\\\\\":true,\\\\\"analyzed\\\\\":false,\\\\\"count\\\\\":0,\\\\\"doc_values\\\\\":true,\\\\\"indexed\\\\\":true,\\\\\"name\\\\\":\\\\\"network.packets\\\\\",\\\\\"scripted\\\\\":false,\\\\\"searchable\\\\\":true,\\\\\"type\\\\\":\\\\\"number\\\\\"},{\\\\\"aggregatable\\\\\":true,\\\\\"analyzed\\\\\":false,\\\\\"count\\\\\":0,\\\\\"doc_values\\\\\":true,\\\\\"indexed\\\\\":true,\\\\\"name\\\\\":\\\\\"network.protocol\\\\\",\\\\\"scripted\\\\\":false,\\\\\"searchable\\\\\":true,\\\\\"type\\\\\":\\\\\"string\\\\\"},{\\\\\"aggregatable\\\\\":true,\\\\\"analyzed\\\\\":false,\\\\\"count\\\\\":0,\\\\\"doc_values\\\\\":true,\\\\\"indexed\\\\\":true,\\\\\"name\\\\\":\\\\\"network.transport\\\\\",\\\\\"scripted\\\\\":false,\\\\\"searchable\\\\\":true,\\\\\"type\\\\\":\\\\\"string\\\\\"},{\\\\\"aggregatable\\\\\":true,\\\\\"analyzed\\\\\":false,\\\\\"count\\\\\":0,\\\\\"doc_values\\\\\":true,\\\\\"indexed\\\\\":true,\\\\\"name\\\\\":\\\\\"network.type\\\\\",\\\\\"scripted\\\\\":false,\\\\\"searchable\\\\\":true,\\\\\"type\\\\\":\\\\\"string\\\\\"},{\\\\\"aggregatable\\\\\":true,\\\\\"analyzed\\\\\":false,\\\\\"count\\\\\":0,\\\\\"doc_values\\\\\":true,\\\\\"indexed\\\\\":true,\\\\\"name\\\\\":\\\\\"observer.geo.city_name\\\\\",\\\\\"scripted\\\\\":false,\\\\\"searchable\\\\\":true,\\\\\"type\\\\\":\\\\\"string\\\\\"},{\\\\\"aggregatable\\\\\":true,\\\\\"analyzed\\\\\":false,\\\\\"count\\\\\":0,\\\\\"doc_values\\\\\":true,\\\\\"indexed\\\\\":true,\\\\\"name\\\\\":\\\\\"observer.geo.continent_name\\\\\",\\\\\"scripted\\\\\":false,\\\\\"searchable\\\\\":true,\\\\\"type\\\\\":\\\\\"string\\\\\"},{\\\\\"aggregatable\\\\\":true,\\\\\"analyzed\\\\\":false,\\\\\"count\\\\\":0,\\\\\"doc_values\\\\\":true,\\\\\"indexed\\\\\":true,\\\\\"name\\\\\":\\\\\"observer.geo.country_iso_code\\\\\",\\\\\"scripted\\\\\":false,\\\\\"searchable\\\\\":true,\\\\\"type\\\\\":\\\\\"string\\\\\"},{\\\\\"aggregatable\\\\\":true,\\\\\"analyzed\\\\\":false,\\\\\"count\\\\\":0,\\\\\"doc_values\\\\\":true,\\\\\"indexed\\\\\":true,\\\\\"name\\\\\":\\\\\"observer.geo.country_name\\\\\",\\\\\"scripted\\\\\":false,\\\\\"searchable\\\\\":true,\\\\\"type\\\\\":\\\\\"string\\\\\"},{\\\\\"aggregatable\\\\\":true,\\\\\"analyzed\\\\\":false,\\\\\"count\\\\\":0,\\\\\"doc_values\\\\\":true,\\\\\"indexed\\\\\":true,\\\\\"name\\\\\":\\\\\"observer.geo.location\\\\\",\\\\\"scripted\\\\\":false,\\\\\"searchable\\\\\":true,\\\\\"type\\\\\":\\\\\"geo_point\\\\\"},{\\\\\"aggregatable\\\\\":true,\\\\\"analyzed\\\\\":false,\\\\\"count\\\\\":0,\\\\\"doc_values\\\\\":true,\\\\\"indexed\\\\\":true,\\\\\"name\\\\\":\\\\\"observer.geo.name\\\\\",\\\\\"scripted\\\\\":false,\\\\\"searchable\\\\\":true,\\\\\"type\\\\\":\\\\\"string\\\\\"},{\\\\\"aggregatable\\\\\":true,\\\\\"analyzed\\\\\":false,\\\\\"count\\\\\":0,\\\\\"doc_values\\\\\":true,\\\\\"indexed\\\\\":true,\\\\\"name\\\\\":\\\\\"observer.geo.region_iso_code\\\\\",\\\\\"scripted\\\\\":false,\\\\\"searchable\\\\\":true,\\\\\"type\\\\\":\\\\\"string\\\\\"},{\\\\\"aggregatable\\\\\":true,\\\\\"analyzed\\\\\":false,\\\\\"count\\\\\":0,\\\\\"doc_values\\\\\":true,\\\\\"indexed\\\\\":true,\\\\\"name\\\\\":\\\\\"observer.geo.region_name\\\\\",\\\\\"scripted\\\\\":false,\\\\\"searchable\\\\\":true,\\\\\"type\\\\\":\\\\\"string\\\\\"},{\\\\\"aggregatable\\\\\":true,\\\\\"analyzed\\\\\":false,\\\\\"count\\\\\":0,\\\\\"doc_values\\\\\":true,\\\\\"indexed\\\\\":true,\\\\\"name\\\\\":\\\\\"observer.hostname\\\\\",\\\\\"scripted\\\\\":false,\\\\\"searchable\\\\\":true,\\\\\"type\\\\\":\\\\\"string\\\\\"},{\\\\\"aggregatable\\\\\":true,\\\\\"analyzed\\\\\":false,\\\\\"count\\\\\":0,\\\\\"doc_values\\\\\":true,\\\\\"indexed\\\\\":true,\\\\\"name\\\\\":\\\\\"observer.ip\\\\\",\\\\\"scripted\\\\\":false,\\\\\"searchable\\\\\":true,\\\\\"type\\\\\":\\\\\"ip\\\\\"},{\\\\\"aggregatable\\\\\":true,\\\\\"analyzed\\\\\":false,\\\\\"count\\\\\":0,\\\\\"doc_values\\\\\":true,\\\\\"indexed\\\\\":true,\\\\\"name\\\\\":\\\\\"observer.mac\\\\\",\\\\\"scripted\\\\\":false,\\\\\"searchable\\\\\":true,\\\\\"type\\\\\":\\\\\"string\\\\\"},{\\\\\"aggregatable\\\\\":true,\\\\\"analyzed\\\\\":false,\\\\\"count\\\\\":0,\\\\\"doc_values\\\\\":true,\\\\\"indexed\\\\\":true,\\\\\"name\\\\\":\\\\\"observer.os.family\\\\\",\\\\\"scripted\\\\\":false,\\\\\"searchable\\\\\":true,\\\\\"type\\\\\":\\\\\"string\\\\\"},{\\\\\"aggregatable\\\\\":true,\\\\\"analyzed\\\\\":false,\\\\\"count\\\\\":0,\\\\\"doc_values\\\\\":true,\\\\\"indexed\\\\\":true,\\\\\"name\\\\\":\\\\\"observer.os.full\\\\\",\\\\\"scripted\\\\\":false,\\\\\"searchable\\\\\":true,\\\\\"type\\\\\":\\\\\"string\\\\\"},{\\\\\"aggregatable\\\\\":true,\\\\\"analyzed\\\\\":false,\\\\\"count\\\\\":0,\\\\\"doc_values\\\\\":true,\\\\\"indexed\\\\\":true,\\\\\"name\\\\\":\\\\\"observer.os.kernel\\\\\",\\\\\"scripted\\\\\":false,\\\\\"searchable\\\\\":true,\\\\\"type\\\\\":\\\\\"string\\\\\"},{\\\\\"aggregatable\\\\\":true,\\\\\"analyzed\\\\\":false,\\\\\"count\\\\\":0,\\\\\"doc_values\\\\\":true,\\\\\"indexed\\\\\":true,\\\\\"name\\\\\":\\\\\"observer.os.name\\\\\",\\\\\"scripted\\\\\":false,\\\\\"searchable\\\\\":true,\\\\\"type\\\\\":\\\\\"string\\\\\"},{\\\\\"aggregatable\\\\\":true,\\\\\"analyzed\\\\\":false,\\\\\"count\\\\\":0,\\\\\"doc_values\\\\\":true,\\\\\"indexed\\\\\":true,\\\\\"name\\\\\":\\\\\"observer.os.platform\\\\\",\\\\\"scripted\\\\\":false,\\\\\"searchable\\\\\":true,\\\\\"type\\\\\":\\\\\"string\\\\\"},{\\\\\"aggregatable\\\\\":true,\\\\\"analyzed\\\\\":false,\\\\\"count\\\\\":0,\\\\\"doc_values\\\\\":true,\\\\\"indexed\\\\\":true,\\\\\"name\\\\\":\\\\\"observer.os.version\\\\\",\\\\\"scripted\\\\\":false,\\\\\"searchable\\\\\":true,\\\\\"type\\\\\":\\\\\"string\\\\\"},{\\\\\"aggregatable\\\\\":true,\\\\\"analyzed\\\\\":false,\\\\\"count\\\\\":0,\\\\\"doc_values\\\\\":true,\\\\\"indexed\\\\\":true,\\\\\"name\\\\\":\\\\\"observer.serial_number\\\\\",\\\\\"scripted\\\\\":false,\\\\\"searchable\\\\\":true,\\\\\"type\\\\\":\\\\\"string\\\\\"},{\\\\\"aggregatable\\\\\":true,\\\\\"analyzed\\\\\":false,\\\\\"count\\\\\":0,\\\\\"doc_values\\\\\":true,\\\\\"indexed\\\\\":true,\\\\\"name\\\\\":\\\\\"observer.type\\\\\",\\\\\"scripted\\\\\":false,\\\\\"searchable\\\\\":true,\\\\\"type\\\\\":\\\\\"string\\\\\"},{\\\\\"aggregatable\\\\\":true,\\\\\"analyzed\\\\\":false,\\\\\"count\\\\\":0,\\\\\"doc_values\\\\\":true,\\\\\"indexed\\\\\":true,\\\\\"name\\\\\":\\\\\"observer.vendor\\\\\",\\\\\"scripted\\\\\":false,\\\\\"searchable\\\\\":true,\\\\\"type\\\\\":\\\\\"string\\\\\"},{\\\\\"aggregatable\\\\\":true,\\\\\"analyzed\\\\\":false,\\\\\"count\\\\\":0,\\\\\"doc_values\\\\\":true,\\\\\"indexed\\\\\":true,\\\\\"name\\\\\":\\\\\"observer.version\\\\\",\\\\\"scripted\\\\\":false,\\\\\"searchable\\\\\":true,\\\\\"type\\\\\":\\\\\"string\\\\\"},{\\\\\"aggregatable\\\\\":true,\\\\\"analyzed\\\\\":false,\\\\\"count\\\\\":0,\\\\\"doc_values\\\\\":true,\\\\\"indexed\\\\\":true,\\\\\"name\\\\\":\\\\\"organization.id\\\\\",\\\\\"scripted\\\\\":false,\\\\\"searchable\\\\\":true,\\\\\"type\\\\\":\\\\\"string\\\\\"},{\\\\\"aggregatable\\\\\":true,\\\\\"analyzed\\\\\":false,\\\\\"count\\\\\":0,\\\\\"doc_values\\\\\":true,\\\\\"indexed\\\\\":true,\\\\\"name\\\\\":\\\\\"organization.name\\\\\",\\\\\"scripted\\\\\":false,\\\\\"searchable\\\\\":true,\\\\\"type\\\\\":\\\\\"string\\\\\"},{\\\\\"aggregatable\\\\\":true,\\\\\"analyzed\\\\\":false,\\\\\"count\\\\\":0,\\\\\"doc_values\\\\\":true,\\\\\"indexed\\\\\":true,\\\\\"name\\\\\":\\\\\"os.family\\\\\",\\\\\"scripted\\\\\":false,\\\\\"searchable\\\\\":true,\\\\\"type\\\\\":\\\\\"string\\\\\"},{\\\\\"aggregatable\\\\\":true,\\\\\"analyzed\\\\\":false,\\\\\"count\\\\\":0,\\\\\"doc_values\\\\\":true,\\\\\"indexed\\\\\":true,\\\\\"name\\\\\":\\\\\"os.full\\\\\",\\\\\"scripted\\\\\":false,\\\\\"searchable\\\\\":true,\\\\\"type\\\\\":\\\\\"string\\\\\"},{\\\\\"aggregatable\\\\\":true,\\\\\"analyzed\\\\\":false,\\\\\"count\\\\\":0,\\\\\"doc_values\\\\\":true,\\\\\"indexed\\\\\":true,\\\\\"name\\\\\":\\\\\"os.kernel\\\\\",\\\\\"scripted\\\\\":false,\\\\\"searchable\\\\\":true,\\\\\"type\\\\\":\\\\\"string\\\\\"},{\\\\\"aggregatable\\\\\":true,\\\\\"analyzed\\\\\":false,\\\\\"count\\\\\":0,\\\\\"doc_values\\\\\":true,\\\\\"indexed\\\\\":true,\\\\\"name\\\\\":\\\\\"os.name\\\\\",\\\\\"scripted\\\\\":false,\\\\\"searchable\\\\\":true,\\\\\"type\\\\\":\\\\\"string\\\\\"},{\\\\\"aggregatable\\\\\":true,\\\\\"analyzed\\\\\":false,\\\\\"count\\\\\":0,\\\\\"doc_values\\\\\":true,\\\\\"indexed\\\\\":true,\\\\\"name\\\\\":\\\\\"os.platform\\\\\",\\\\\"scripted\\\\\":false,\\\\\"searchable\\\\\":true,\\\\\"type\\\\\":\\\\\"string\\\\\"},{\\\\\"aggregatable\\\\\":true,\\\\\"analyzed\\\\\":false,\\\\\"count\\\\\":0,\\\\\"doc_values\\\\\":true,\\\\\"indexed\\\\\":true,\\\\\"name\\\\\":\\\\\"os.version\\\\\",\\\\\"scripted\\\\\":false,\\\\\"searchable\\\\\":true,\\\\\"type\\\\\":\\\\\"string\\\\\"},{\\\\\"aggregatable\\\\\":true,\\\\\"analyzed\\\\\":false,\\\\\"count\\\\\":0,\\\\\"doc_values\\\\\":true,\\\\\"indexed\\\\\":true,\\\\\"name\\\\\":\\\\\"process.args\\\\\",\\\\\"scripted\\\\\":false,\\\\\"searchable\\\\\":true,\\\\\"type\\\\\":\\\\\"string\\\\\"},{\\\\\"aggregatable\\\\\":true,\\\\\"analyzed\\\\\":false,\\\\\"count\\\\\":0,\\\\\"doc_values\\\\\":true,\\\\\"indexed\\\\\":true,\\\\\"name\\\\\":\\\\\"process.executable\\\\\",\\\\\"scripted\\\\\":false,\\\\\"searchable\\\\\":true,\\\\\"type\\\\\":\\\\\"string\\\\\"},{\\\\\"aggregatable\\\\\":true,\\\\\"analyzed\\\\\":false,\\\\\"count\\\\\":0,\\\\\"doc_values\\\\\":true,\\\\\"indexed\\\\\":true,\\\\\"name\\\\\":\\\\\"process.hash.md5\\\\\",\\\\\"scripted\\\\\":false,\\\\\"searchable\\\\\":true,\\\\\"type\\\\\":\\\\\"string\\\\\"},{\\\\\"aggregatable\\\\\":true,\\\\\"analyzed\\\\\":false,\\\\\"count\\\\\":0,\\\\\"doc_values\\\\\":true,\\\\\"indexed\\\\\":true,\\\\\"name\\\\\":\\\\\"process.hash.sha1\\\\\",\\\\\"scripted\\\\\":false,\\\\\"searchable\\\\\":true,\\\\\"type\\\\\":\\\\\"string\\\\\"},{\\\\\"aggregatable\\\\\":true,\\\\\"analyzed\\\\\":false,\\\\\"count\\\\\":0,\\\\\"doc_values\\\\\":true,\\\\\"indexed\\\\\":true,\\\\\"name\\\\\":\\\\\"process.hash.sha256\\\\\",\\\\\"scripted\\\\\":false,\\\\\"searchable\\\\\":true,\\\\\"type\\\\\":\\\\\"string\\\\\"},{\\\\\"aggregatable\\\\\":true,\\\\\"analyzed\\\\\":false,\\\\\"count\\\\\":0,\\\\\"doc_values\\\\\":true,\\\\\"indexed\\\\\":true,\\\\\"name\\\\\":\\\\\"process.hash.sha512\\\\\",\\\\\"scripted\\\\\":false,\\\\\"searchable\\\\\":true,\\\\\"type\\\\\":\\\\\"string\\\\\"},{\\\\\"aggregatable\\\\\":true,\\\\\"analyzed\\\\\":false,\\\\\"count\\\\\":0,\\\\\"doc_values\\\\\":true,\\\\\"indexed\\\\\":true,\\\\\"name\\\\\":\\\\\"process.name\\\\\",\\\\\"scripted\\\\\":false,\\\\\"searchable\\\\\":true,\\\\\"type\\\\\":\\\\\"string\\\\\"},{\\\\\"aggregatable\\\\\":true,\\\\\"analyzed\\\\\":false,\\\\\"count\\\\\":0,\\\\\"doc_values\\\\\":true,\\\\\"indexed\\\\\":true,\\\\\"name\\\\\":\\\\\"process.pgid\\\\\",\\\\\"scripted\\\\\":false,\\\\\"searchable\\\\\":true,\\\\\"type\\\\\":\\\\\"number\\\\\"},{\\\\\"aggregatable\\\\\":true,\\\\\"analyzed\\\\\":false,\\\\\"count\\\\\":0,\\\\\"doc_values\\\\\":true,\\\\\"indexed\\\\\":true,\\\\\"name\\\\\":\\\\\"process.pid\\\\\",\\\\\"scripted\\\\\":false,\\\\\"searchable\\\\\":true,\\\\\"type\\\\\":\\\\\"number\\\\\"},{\\\\\"aggregatable\\\\\":true,\\\\\"analyzed\\\\\":false,\\\\\"count\\\\\":0,\\\\\"doc_values\\\\\":true,\\\\\"indexed\\\\\":true,\\\\\"name\\\\\":\\\\\"process.ppid\\\\\",\\\\\"scripted\\\\\":false,\\\\\"searchable\\\\\":true,\\\\\"type\\\\\":\\\\\"number\\\\\"},{\\\\\"aggregatable\\\\\":true,\\\\\"analyzed\\\\\":false,\\\\\"count\\\\\":0,\\\\\"doc_values\\\\\":true,\\\\\"indexed\\\\\":true,\\\\\"name\\\\\":\\\\\"process.start\\\\\",\\\\\"scripted\\\\\":false,\\\\\"searchable\\\\\":true,\\\\\"type\\\\\":\\\\\"date\\\\\"},{\\\\\"aggregatable\\\\\":true,\\\\\"analyzed\\\\\":false,\\\\\"count\\\\\":0,\\\\\"doc_values\\\\\":true,\\\\\"indexed\\\\\":true,\\\\\"name\\\\\":\\\\\"process.thread.id\\\\\",\\\\\"scripted\\\\\":false,\\\\\"searchable\\\\\":true,\\\\\"type\\\\\":\\\\\"number\\\\\"},{\\\\\"aggregatable\\\\\":true,\\\\\"analyzed\\\\\":false,\\\\\"count\\\\\":0,\\\\\"doc_values\\\\\":true,\\\\\"indexed\\\\\":true,\\\\\"name\\\\\":\\\\\"process.thread.name\\\\\",\\\\\"scripted\\\\\":false,\\\\\"searchable\\\\\":true,\\\\\"type\\\\\":\\\\\"string\\\\\"},{\\\\\"aggregatable\\\\\":true,\\\\\"analyzed\\\\\":false,\\\\\"count\\\\\":0,\\\\\"doc_values\\\\\":true,\\\\\"indexed\\\\\":true,\\\\\"name\\\\\":\\\\\"process.title\\\\\",\\\\\"scripted\\\\\":false,\\\\\"searchable\\\\\":true,\\\\\"type\\\\\":\\\\\"string\\\\\"},{\\\\\"aggregatable\\\\\":true,\\\\\"analyzed\\\\\":false,\\\\\"count\\\\\":0,\\\\\"doc_values\\\\\":true,\\\\\"indexed\\\\\":true,\\\\\"name\\\\\":\\\\\"process.uptime\\\\\",\\\\\"scripted\\\\\":false,\\\\\"searchable\\\\\":true,\\\\\"type\\\\\":\\\\\"number\\\\\"},{\\\\\"aggregatable\\\\\":true,\\\\\"analyzed\\\\\":false,\\\\\"count\\\\\":0,\\\\\"doc_values\\\\\":true,\\\\\"indexed\\\\\":true,\\\\\"name\\\\\":\\\\\"process.working_directory\\\\\",\\\\\"scripted\\\\\":false,\\\\\"searchable\\\\\":true,\\\\\"type\\\\\":\\\\\"string\\\\\"},{\\\\\"aggregatable\\\\\":true,\\\\\"analyzed\\\\\":false,\\\\\"count\\\\\":0,\\\\\"doc_values\\\\\":true,\\\\\"indexed\\\\\":true,\\\\\"name\\\\\":\\\\\"related.ip\\\\\",\\\\\"scripted\\\\\":false,\\\\\"searchable\\\\\":true,\\\\\"type\\\\\":\\\\\"ip\\\\\"},{\\\\\"aggregatable\\\\\":true,\\\\\"analyzed\\\\\":false,\\\\\"count\\\\\":0,\\\\\"doc_values\\\\\":true,\\\\\"indexed\\\\\":true,\\\\\"name\\\\\":\\\\\"server.address\\\\\",\\\\\"scripted\\\\\":false,\\\\\"searchable\\\\\":true,\\\\\"type\\\\\":\\\\\"string\\\\\"},{\\\\\"aggregatable\\\\\":true,\\\\\"analyzed\\\\\":false,\\\\\"count\\\\\":0,\\\\\"doc_values\\\\\":true,\\\\\"indexed\\\\\":true,\\\\\"name\\\\\":\\\\\"server.as.number\\\\\",\\\\\"scripted\\\\\":false,\\\\\"searchable\\\\\":true,\\\\\"type\\\\\":\\\\\"number\\\\\"},{\\\\\"aggregatable\\\\\":true,\\\\\"analyzed\\\\\":false,\\\\\"count\\\\\":0,\\\\\"doc_values\\\\\":true,\\\\\"indexed\\\\\":true,\\\\\"name\\\\\":\\\\\"server.as.organization.name\\\\\",\\\\\"scripted\\\\\":false,\\\\\"searchable\\\\\":true,\\\\\"type\\\\\":\\\\\"string\\\\\"},{\\\\\"aggregatable\\\\\":true,\\\\\"analyzed\\\\\":false,\\\\\"count\\\\\":0,\\\\\"doc_values\\\\\":true,\\\\\"indexed\\\\\":true,\\\\\"name\\\\\":\\\\\"server.bytes\\\\\",\\\\\"scripted\\\\\":false,\\\\\"searchable\\\\\":true,\\\\\"type\\\\\":\\\\\"number\\\\\"},{\\\\\"aggregatable\\\\\":true,\\\\\"analyzed\\\\\":false,\\\\\"count\\\\\":0,\\\\\"doc_values\\\\\":true,\\\\\"indexed\\\\\":true,\\\\\"name\\\\\":\\\\\"server.domain\\\\\",\\\\\"scripted\\\\\":false,\\\\\"searchable\\\\\":true,\\\\\"type\\\\\":\\\\\"string\\\\\"},{\\\\\"aggregatable\\\\\":true,\\\\\"analyzed\\\\\":false,\\\\\"count\\\\\":0,\\\\\"doc_values\\\\\":true,\\\\\"indexed\\\\\":true,\\\\\"name\\\\\":\\\\\"server.geo.city_name\\\\\",\\\\\"scripted\\\\\":false,\\\\\"searchable\\\\\":true,\\\\\"type\\\\\":\\\\\"string\\\\\"},{\\\\\"aggregatable\\\\\":true,\\\\\"analyzed\\\\\":false,\\\\\"count\\\\\":0,\\\\\"doc_values\\\\\":true,\\\\\"indexed\\\\\":true,\\\\\"name\\\\\":\\\\\"server.geo.continent_name\\\\\",\\\\\"scripted\\\\\":false,\\\\\"searchable\\\\\":true,\\\\\"type\\\\\":\\\\\"string\\\\\"},{\\\\\"aggregatable\\\\\":true,\\\\\"analyzed\\\\\":false,\\\\\"count\\\\\":0,\\\\\"doc_values\\\\\":true,\\\\\"indexed\\\\\":true,\\\\\"name\\\\\":\\\\\"server.geo.country_iso_code\\\\\",\\\\\"scripted\\\\\":false,\\\\\"searchable\\\\\":true,\\\\\"type\\\\\":\\\\\"string\\\\\"},{\\\\\"aggregatable\\\\\":true,\\\\\"analyzed\\\\\":false,\\\\\"count\\\\\":0,\\\\\"doc_values\\\\\":true,\\\\\"indexed\\\\\":true,\\\\\"name\\\\\":\\\\\"server.geo.country_name\\\\\",\\\\\"scripted\\\\\":false,\\\\\"searchable\\\\\":true,\\\\\"type\\\\\":\\\\\"string\\\\\"},{\\\\\"aggregatable\\\\\":true,\\\\\"analyzed\\\\\":false,\\\\\"count\\\\\":0,\\\\\"doc_values\\\\\":true,\\\\\"indexed\\\\\":true,\\\\\"name\\\\\":\\\\\"server.geo.location\\\\\",\\\\\"scripted\\\\\":false,\\\\\"searchable\\\\\":true,\\\\\"type\\\\\":\\\\\"geo_point\\\\\"},{\\\\\"aggregatable\\\\\":true,\\\\\"analyzed\\\\\":false,\\\\\"count\\\\\":0,\\\\\"doc_values\\\\\":true,\\\\\"indexed\\\\\":true,\\\\\"name\\\\\":\\\\\"server.geo.name\\\\\",\\\\\"scripted\\\\\":false,\\\\\"searchable\\\\\":true,\\\\\"type\\\\\":\\\\\"string\\\\\"},{\\\\\"aggregatable\\\\\":true,\\\\\"analyzed\\\\\":false,\\\\\"count\\\\\":0,\\\\\"doc_values\\\\\":true,\\\\\"indexed\\\\\":true,\\\\\"name\\\\\":\\\\\"server.geo.region_iso_code\\\\\",\\\\\"scripted\\\\\":false,\\\\\"searchable\\\\\":true,\\\\\"type\\\\\":\\\\\"string\\\\\"},{\\\\\"aggregatable\\\\\":true,\\\\\"analyzed\\\\\":false,\\\\\"count\\\\\":0,\\\\\"doc_values\\\\\":true,\\\\\"indexed\\\\\":true,\\\\\"name\\\\\":\\\\\"server.geo.region_name\\\\\",\\\\\"scripted\\\\\":false,\\\\\"searchable\\\\\":true,\\\\\"type\\\\\":\\\\\"string\\\\\"},{\\\\\"aggregatable\\\\\":true,\\\\\"analyzed\\\\\":false,\\\\\"count\\\\\":0,\\\\\"doc_values\\\\\":true,\\\\\"indexed\\\\\":true,\\\\\"name\\\\\":\\\\\"server.ip\\\\\",\\\\\"scripted\\\\\":false,\\\\\"searchable\\\\\":true,\\\\\"type\\\\\":\\\\\"ip\\\\\"},{\\\\\"aggregatable\\\\\":true,\\\\\"analyzed\\\\\":false,\\\\\"count\\\\\":0,\\\\\"doc_values\\\\\":true,\\\\\"indexed\\\\\":true,\\\\\"name\\\\\":\\\\\"server.mac\\\\\",\\\\\"scripted\\\\\":false,\\\\\"searchable\\\\\":true,\\\\\"type\\\\\":\\\\\"string\\\\\"},{\\\\\"aggregatable\\\\\":true,\\\\\"analyzed\\\\\":false,\\\\\"count\\\\\":0,\\\\\"doc_values\\\\\":true,\\\\\"indexed\\\\\":true,\\\\\"name\\\\\":\\\\\"server.nat.ip\\\\\",\\\\\"scripted\\\\\":false,\\\\\"searchable\\\\\":true,\\\\\"type\\\\\":\\\\\"ip\\\\\"},{\\\\\"aggregatable\\\\\":true,\\\\\"analyzed\\\\\":false,\\\\\"count\\\\\":0,\\\\\"doc_values\\\\\":true,\\\\\"indexed\\\\\":true,\\\\\"name\\\\\":\\\\\"server.nat.port\\\\\",\\\\\"scripted\\\\\":false,\\\\\"searchable\\\\\":true,\\\\\"type\\\\\":\\\\\"number\\\\\"},{\\\\\"aggregatable\\\\\":true,\\\\\"analyzed\\\\\":false,\\\\\"count\\\\\":0,\\\\\"doc_values\\\\\":true,\\\\\"indexed\\\\\":true,\\\\\"name\\\\\":\\\\\"server.packets\\\\\",\\\\\"scripted\\\\\":false,\\\\\"searchable\\\\\":true,\\\\\"type\\\\\":\\\\\"number\\\\\"},{\\\\\"aggregatable\\\\\":true,\\\\\"analyzed\\\\\":false,\\\\\"count\\\\\":0,\\\\\"doc_values\\\\\":true,\\\\\"indexed\\\\\":true,\\\\\"name\\\\\":\\\\\"server.port\\\\\",\\\\\"scripted\\\\\":false,\\\\\"searchable\\\\\":true,\\\\\"type\\\\\":\\\\\"number\\\\\"},{\\\\\"aggregatable\\\\\":true,\\\\\"analyzed\\\\\":false,\\\\\"count\\\\\":0,\\\\\"doc_values\\\\\":true,\\\\\"indexed\\\\\":true,\\\\\"name\\\\\":\\\\\"server.user.domain\\\\\",\\\\\"scripted\\\\\":false,\\\\\"searchable\\\\\":true,\\\\\"type\\\\\":\\\\\"string\\\\\"},{\\\\\"aggregatable\\\\\":true,\\\\\"analyzed\\\\\":false,\\\\\"count\\\\\":0,\\\\\"doc_values\\\\\":true,\\\\\"indexed\\\\\":true,\\\\\"name\\\\\":\\\\\"server.user.email\\\\\",\\\\\"scripted\\\\\":false,\\\\\"searchable\\\\\":true,\\\\\"type\\\\\":\\\\\"string\\\\\"},{\\\\\"aggregatable\\\\\":true,\\\\\"analyzed\\\\\":false,\\\\\"count\\\\\":0,\\\\\"doc_values\\\\\":true,\\\\\"indexed\\\\\":true,\\\\\"name\\\\\":\\\\\"server.user.full_name\\\\\",\\\\\"scripted\\\\\":false,\\\\\"searchable\\\\\":true,\\\\\"type\\\\\":\\\\\"string\\\\\"},{\\\\\"aggregatable\\\\\":true,\\\\\"analyzed\\\\\":false,\\\\\"count\\\\\":0,\\\\\"doc_values\\\\\":true,\\\\\"indexed\\\\\":true,\\\\\"name\\\\\":\\\\\"server.user.group.id\\\\\",\\\\\"scripted\\\\\":false,\\\\\"searchable\\\\\":true,\\\\\"type\\\\\":\\\\\"string\\\\\"},{\\\\\"aggregatable\\\\\":true,\\\\\"analyzed\\\\\":false,\\\\\"count\\\\\":0,\\\\\"doc_values\\\\\":true,\\\\\"indexed\\\\\":true,\\\\\"name\\\\\":\\\\\"server.user.group.name\\\\\",\\\\\"scripted\\\\\":false,\\\\\"searchable\\\\\":true,\\\\\"type\\\\\":\\\\\"string\\\\\"},{\\\\\"aggregatable\\\\\":true,\\\\\"analyzed\\\\\":false,\\\\\"count\\\\\":0,\\\\\"doc_values\\\\\":true,\\\\\"indexed\\\\\":true,\\\\\"name\\\\\":\\\\\"server.user.hash\\\\\",\\\\\"scripted\\\\\":false,\\\\\"searchable\\\\\":true,\\\\\"type\\\\\":\\\\\"string\\\\\"},{\\\\\"aggregatable\\\\\":true,\\\\\"analyzed\\\\\":false,\\\\\"count\\\\\":0,\\\\\"doc_values\\\\\":true,\\\\\"indexed\\\\\":true,\\\\\"name\\\\\":\\\\\"server.user.id\\\\\",\\\\\"scripted\\\\\":false,\\\\\"searchable\\\\\":true,\\\\\"type\\\\\":\\\\\"string\\\\\"},{\\\\\"aggregatable\\\\\":true,\\\\\"analyzed\\\\\":false,\\\\\"count\\\\\":0,\\\\\"doc_values\\\\\":true,\\\\\"indexed\\\\\":true,\\\\\"name\\\\\":\\\\\"server.user.name\\\\\",\\\\\"scripted\\\\\":false,\\\\\"searchable\\\\\":true,\\\\\"type\\\\\":\\\\\"string\\\\\"},{\\\\\"aggregatable\\\\\":true,\\\\\"analyzed\\\\\":false,\\\\\"count\\\\\":0,\\\\\"doc_values\\\\\":true,\\\\\"indexed\\\\\":true,\\\\\"name\\\\\":\\\\\"service.ephemeral_id\\\\\",\\\\\"scripted\\\\\":false,\\\\\"searchable\\\\\":true,\\\\\"type\\\\\":\\\\\"string\\\\\"},{\\\\\"aggregatable\\\\\":true,\\\\\"analyzed\\\\\":false,\\\\\"count\\\\\":0,\\\\\"doc_values\\\\\":true,\\\\\"indexed\\\\\":true,\\\\\"name\\\\\":\\\\\"service.id\\\\\",\\\\\"scripted\\\\\":false,\\\\\"searchable\\\\\":true,\\\\\"type\\\\\":\\\\\"string\\\\\"},{\\\\\"aggregatable\\\\\":true,\\\\\"analyzed\\\\\":false,\\\\\"count\\\\\":0,\\\\\"doc_values\\\\\":true,\\\\\"indexed\\\\\":true,\\\\\"name\\\\\":\\\\\"service.name\\\\\",\\\\\"scripted\\\\\":false,\\\\\"searchable\\\\\":true,\\\\\"type\\\\\":\\\\\"string\\\\\"},{\\\\\"aggregatable\\\\\":true,\\\\\"analyzed\\\\\":false,\\\\\"count\\\\\":0,\\\\\"doc_values\\\\\":true,\\\\\"indexed\\\\\":true,\\\\\"name\\\\\":\\\\\"service.state\\\\\",\\\\\"scripted\\\\\":false,\\\\\"searchable\\\\\":true,\\\\\"type\\\\\":\\\\\"string\\\\\"},{\\\\\"aggregatable\\\\\":true,\\\\\"analyzed\\\\\":false,\\\\\"count\\\\\":0,\\\\\"doc_values\\\\\":true,\\\\\"indexed\\\\\":true,\\\\\"name\\\\\":\\\\\"service.type\\\\\",\\\\\"scripted\\\\\":false,\\\\\"searchable\\\\\":true,\\\\\"type\\\\\":\\\\\"string\\\\\"},{\\\\\"aggregatable\\\\\":true,\\\\\"analyzed\\\\\":false,\\\\\"count\\\\\":0,\\\\\"doc_values\\\\\":true,\\\\\"indexed\\\\\":true,\\\\\"name\\\\\":\\\\\"service.version\\\\\",\\\\\"scripted\\\\\":false,\\\\\"searchable\\\\\":true,\\\\\"type\\\\\":\\\\\"string\\\\\"},{\\\\\"aggregatable\\\\\":true,\\\\\"analyzed\\\\\":false,\\\\\"count\\\\\":0,\\\\\"doc_values\\\\\":true,\\\\\"indexed\\\\\":true,\\\\\"name\\\\\":\\\\\"source.address\\\\\",\\\\\"scripted\\\\\":false,\\\\\"searchable\\\\\":true,\\\\\"type\\\\\":\\\\\"string\\\\\"},{\\\\\"aggregatable\\\\\":true,\\\\\"analyzed\\\\\":false,\\\\\"count\\\\\":0,\\\\\"doc_values\\\\\":true,\\\\\"indexed\\\\\":true,\\\\\"name\\\\\":\\\\\"source.as.number\\\\\",\\\\\"scripted\\\\\":false,\\\\\"searchable\\\\\":true,\\\\\"type\\\\\":\\\\\"number\\\\\"},{\\\\\"aggregatable\\\\\":true,\\\\\"analyzed\\\\\":false,\\\\\"count\\\\\":0,\\\\\"doc_values\\\\\":true,\\\\\"indexed\\\\\":true,\\\\\"name\\\\\":\\\\\"source.as.organization.name\\\\\",\\\\\"scripted\\\\\":false,\\\\\"searchable\\\\\":true,\\\\\"type\\\\\":\\\\\"string\\\\\"},{\\\\\"aggregatable\\\\\":true,\\\\\"analyzed\\\\\":false,\\\\\"count\\\\\":0,\\\\\"doc_values\\\\\":true,\\\\\"indexed\\\\\":true,\\\\\"name\\\\\":\\\\\"source.bytes\\\\\",\\\\\"scripted\\\\\":false,\\\\\"searchable\\\\\":true,\\\\\"type\\\\\":\\\\\"number\\\\\"},{\\\\\"aggregatable\\\\\":true,\\\\\"analyzed\\\\\":false,\\\\\"count\\\\\":0,\\\\\"doc_values\\\\\":true,\\\\\"indexed\\\\\":true,\\\\\"name\\\\\":\\\\\"source.domain\\\\\",\\\\\"scripted\\\\\":false,\\\\\"searchable\\\\\":true,\\\\\"type\\\\\":\\\\\"string\\\\\"},{\\\\\"aggregatable\\\\\":true,\\\\\"analyzed\\\\\":false,\\\\\"count\\\\\":0,\\\\\"doc_values\\\\\":true,\\\\\"indexed\\\\\":true,\\\\\"name\\\\\":\\\\\"source.geo.city_name\\\\\",\\\\\"scripted\\\\\":false,\\\\\"searchable\\\\\":true,\\\\\"type\\\\\":\\\\\"string\\\\\"},{\\\\\"aggregatable\\\\\":true,\\\\\"analyzed\\\\\":false,\\\\\"count\\\\\":0,\\\\\"doc_values\\\\\":true,\\\\\"indexed\\\\\":true,\\\\\"name\\\\\":\\\\\"source.geo.continent_name\\\\\",\\\\\"scripted\\\\\":false,\\\\\"searchable\\\\\":true,\\\\\"type\\\\\":\\\\\"string\\\\\"},{\\\\\"aggregatable\\\\\":true,\\\\\"analyzed\\\\\":false,\\\\\"count\\\\\":0,\\\\\"doc_values\\\\\":true,\\\\\"indexed\\\\\":true,\\\\\"name\\\\\":\\\\\"source.geo.country_iso_code\\\\\",\\\\\"scripted\\\\\":false,\\\\\"searchable\\\\\":true,\\\\\"type\\\\\":\\\\\"string\\\\\"},{\\\\\"aggregatable\\\\\":true,\\\\\"analyzed\\\\\":false,\\\\\"count\\\\\":0,\\\\\"doc_values\\\\\":true,\\\\\"indexed\\\\\":true,\\\\\"name\\\\\":\\\\\"source.geo.country_name\\\\\",\\\\\"scripted\\\\\":false,\\\\\"searchable\\\\\":true,\\\\\"type\\\\\":\\\\\"string\\\\\"},{\\\\\"aggregatable\\\\\":true,\\\\\"analyzed\\\\\":false,\\\\\"count\\\\\":0,\\\\\"doc_values\\\\\":true,\\\\\"indexed\\\\\":true,\\\\\"name\\\\\":\\\\\"source.geo.location\\\\\",\\\\\"scripted\\\\\":false,\\\\\"searchable\\\\\":true,\\\\\"type\\\\\":\\\\\"geo_point\\\\\"},{\\\\\"aggregatable\\\\\":true,\\\\\"analyzed\\\\\":false,\\\\\"count\\\\\":0,\\\\\"doc_values\\\\\":true,\\\\\"indexed\\\\\":true,\\\\\"name\\\\\":\\\\\"source.geo.name\\\\\",\\\\\"scripted\\\\\":false,\\\\\"searchable\\\\\":true,\\\\\"type\\\\\":\\\\\"string\\\\\"},{\\\\\"aggregatable\\\\\":true,\\\\\"analyzed\\\\\":false,\\\\\"count\\\\\":0,\\\\\"doc_values\\\\\":true,\\\\\"indexed\\\\\":true,\\\\\"name\\\\\":\\\\\"source.geo.region_iso_code\\\\\",\\\\\"scripted\\\\\":false,\\\\\"searchable\\\\\":true,\\\\\"type\\\\\":\\\\\"string\\\\\"},{\\\\\"aggregatable\\\\\":true,\\\\\"analyzed\\\\\":false,\\\\\"count\\\\\":0,\\\\\"doc_values\\\\\":true,\\\\\"indexed\\\\\":true,\\\\\"name\\\\\":\\\\\"source.geo.region_name\\\\\",\\\\\"scripted\\\\\":false,\\\\\"searchable\\\\\":true,\\\\\"type\\\\\":\\\\\"string\\\\\"},{\\\\\"aggregatable\\\\\":true,\\\\\"analyzed\\\\\":false,\\\\\"count\\\\\":0,\\\\\"doc_values\\\\\":true,\\\\\"indexed\\\\\":true,\\\\\"name\\\\\":\\\\\"source.ip\\\\\",\\\\\"scripted\\\\\":false,\\\\\"searchable\\\\\":true,\\\\\"type\\\\\":\\\\\"ip\\\\\"},{\\\\\"aggregatable\\\\\":true,\\\\\"analyzed\\\\\":false,\\\\\"count\\\\\":0,\\\\\"doc_values\\\\\":true,\\\\\"indexed\\\\\":true,\\\\\"name\\\\\":\\\\\"source.mac\\\\\",\\\\\"scripted\\\\\":false,\\\\\"searchable\\\\\":true,\\\\\"type\\\\\":\\\\\"string\\\\\"},{\\\\\"aggregatable\\\\\":true,\\\\\"analyzed\\\\\":false,\\\\\"count\\\\\":0,\\\\\"doc_values\\\\\":true,\\\\\"indexed\\\\\":true,\\\\\"name\\\\\":\\\\\"source.nat.ip\\\\\",\\\\\"scripted\\\\\":false,\\\\\"searchable\\\\\":true,\\\\\"type\\\\\":\\\\\"ip\\\\\"},{\\\\\"aggregatable\\\\\":true,\\\\\"analyzed\\\\\":false,\\\\\"count\\\\\":0,\\\\\"doc_values\\\\\":true,\\\\\"indexed\\\\\":true,\\\\\"name\\\\\":\\\\\"source.nat.port\\\\\",\\\\\"scripted\\\\\":false,\\\\\"searchable\\\\\":true,\\\\\"type\\\\\":\\\\\"number\\\\\"},{\\\\\"aggregatable\\\\\":true,\\\\\"analyzed\\\\\":false,\\\\\"count\\\\\":0,\\\\\"doc_values\\\\\":true,\\\\\"indexed\\\\\":true,\\\\\"name\\\\\":\\\\\"source.packets\\\\\",\\\\\"scripted\\\\\":false,\\\\\"searchable\\\\\":true,\\\\\"type\\\\\":\\\\\"number\\\\\"},{\\\\\"aggregatable\\\\\":true,\\\\\"analyzed\\\\\":false,\\\\\"count\\\\\":0,\\\\\"doc_values\\\\\":true,\\\\\"indexed\\\\\":true,\\\\\"name\\\\\":\\\\\"source.port\\\\\",\\\\\"scripted\\\\\":false,\\\\\"searchable\\\\\":true,\\\\\"type\\\\\":\\\\\"number\\\\\"},{\\\\\"aggregatable\\\\\":true,\\\\\"analyzed\\\\\":false,\\\\\"count\\\\\":0,\\\\\"doc_values\\\\\":true,\\\\\"indexed\\\\\":true,\\\\\"name\\\\\":\\\\\"source.user.domain\\\\\",\\\\\"scripted\\\\\":false,\\\\\"searchable\\\\\":true,\\\\\"type\\\\\":\\\\\"string\\\\\"},{\\\\\"aggregatable\\\\\":true,\\\\\"analyzed\\\\\":false,\\\\\"count\\\\\":0,\\\\\"doc_values\\\\\":true,\\\\\"indexed\\\\\":true,\\\\\"name\\\\\":\\\\\"source.user.email\\\\\",\\\\\"scripted\\\\\":false,\\\\\"searchable\\\\\":true,\\\\\"type\\\\\":\\\\\"string\\\\\"},{\\\\\"aggregatable\\\\\":true,\\\\\"analyzed\\\\\":false,\\\\\"count\\\\\":0,\\\\\"doc_values\\\\\":true,\\\\\"indexed\\\\\":true,\\\\\"name\\\\\":\\\\\"source.user.full_name\\\\\",\\\\\"scripted\\\\\":false,\\\\\"searchable\\\\\":true,\\\\\"type\\\\\":\\\\\"string\\\\\"},{\\\\\"aggregatable\\\\\":true,\\\\\"analyzed\\\\\":false,\\\\\"count\\\\\":0,\\\\\"doc_values\\\\\":true,\\\\\"indexed\\\\\":true,\\\\\"name\\\\\":\\\\\"source.user.group.id\\\\\",\\\\\"scripted\\\\\":false,\\\\\"searchable\\\\\":true,\\\\\"type\\\\\":\\\\\"string\\\\\"},{\\\\\"aggregatable\\\\\":true,\\\\\"analyzed\\\\\":false,\\\\\"count\\\\\":0,\\\\\"doc_values\\\\\":true,\\\\\"indexed\\\\\":true,\\\\\"name\\\\\":\\\\\"source.user.group.name\\\\\",\\\\\"scripted\\\\\":false,\\\\\"searchable\\\\\":true,\\\\\"type\\\\\":\\\\\"string\\\\\"},{\\\\\"aggregatable\\\\\":true,\\\\\"analyzed\\\\\":false,\\\\\"count\\\\\":0,\\\\\"doc_values\\\\\":true,\\\\\"indexed\\\\\":true,\\\\\"name\\\\\":\\\\\"source.user.hash\\\\\",\\\\\"scripted\\\\\":false,\\\\\"searchable\\\\\":true,\\\\\"type\\\\\":\\\\\"string\\\\\"},{\\\\\"aggregatable\\\\\":true,\\\\\"analyzed\\\\\":false,\\\\\"count\\\\\":0,\\\\\"doc_values\\\\\":true,\\\\\"indexed\\\\\":true,\\\\\"name\\\\\":\\\\\"source.user.id\\\\\",\\\\\"scripted\\\\\":false,\\\\\"searchable\\\\\":true,\\\\\"type\\\\\":\\\\\"string\\\\\"},{\\\\\"aggregatable\\\\\":true,\\\\\"analyzed\\\\\":false,\\\\\"count\\\\\":0,\\\\\"doc_values\\\\\":true,\\\\\"indexed\\\\\":true,\\\\\"name\\\\\":\\\\\"source.user.name\\\\\",\\\\\"scripted\\\\\":false,\\\\\"searchable\\\\\":true,\\\\\"type\\\\\":\\\\\"string\\\\\"},{\\\\\"aggregatable\\\\\":true,\\\\\"analyzed\\\\\":false,\\\\\"count\\\\\":0,\\\\\"doc_values\\\\\":true,\\\\\"indexed\\\\\":true,\\\\\"name\\\\\":\\\\\"tracing.trace.id\\\\\",\\\\\"scripted\\\\\":false,\\\\\"searchable\\\\\":true,\\\\\"type\\\\\":\\\\\"string\\\\\"},{\\\\\"aggregatable\\\\\":true,\\\\\"analyzed\\\\\":false,\\\\\"count\\\\\":0,\\\\\"doc_values\\\\\":true,\\\\\"indexed\\\\\":true,\\\\\"name\\\\\":\\\\\"tracing.transaction.id\\\\\",\\\\\"scripted\\\\\":false,\\\\\"searchable\\\\\":true,\\\\\"type\\\\\":\\\\\"string\\\\\"},{\\\\\"aggregatable\\\\\":true,\\\\\"analyzed\\\\\":false,\\\\\"count\\\\\":0,\\\\\"doc_values\\\\\":true,\\\\\"indexed\\\\\":true,\\\\\"name\\\\\":\\\\\"url.domain\\\\\",\\\\\"scripted\\\\\":false,\\\\\"searchable\\\\\":true,\\\\\"type\\\\\":\\\\\"string\\\\\"},{\\\\\"aggregatable\\\\\":true,\\\\\"analyzed\\\\\":false,\\\\\"count\\\\\":0,\\\\\"doc_values\\\\\":true,\\\\\"indexed\\\\\":true,\\\\\"name\\\\\":\\\\\"url.fragment\\\\\",\\\\\"scripted\\\\\":false,\\\\\"searchable\\\\\":true,\\\\\"type\\\\\":\\\\\"string\\\\\"},{\\\\\"aggregatable\\\\\":true,\\\\\"analyzed\\\\\":false,\\\\\"count\\\\\":0,\\\\\"doc_values\\\\\":true,\\\\\"indexed\\\\\":true,\\\\\"name\\\\\":\\\\\"url.full\\\\\",\\\\\"scripted\\\\\":false,\\\\\"searchable\\\\\":true,\\\\\"type\\\\\":\\\\\"string\\\\\"},{\\\\\"aggregatable\\\\\":true,\\\\\"analyzed\\\\\":false,\\\\\"count\\\\\":0,\\\\\"doc_values\\\\\":true,\\\\\"indexed\\\\\":true,\\\\\"name\\\\\":\\\\\"url.original\\\\\",\\\\\"scripted\\\\\":false,\\\\\"searchable\\\\\":true,\\\\\"type\\\\\":\\\\\"string\\\\\"},{\\\\\"aggregatable\\\\\":true,\\\\\"analyzed\\\\\":false,\\\\\"count\\\\\":0,\\\\\"doc_values\\\\\":true,\\\\\"indexed\\\\\":true,\\\\\"name\\\\\":\\\\\"url.password\\\\\",\\\\\"scripted\\\\\":false,\\\\\"searchable\\\\\":true,\\\\\"type\\\\\":\\\\\"string\\\\\"},{\\\\\"aggregatable\\\\\":true,\\\\\"analyzed\\\\\":false,\\\\\"count\\\\\":0,\\\\\"doc_values\\\\\":true,\\\\\"indexed\\\\\":true,\\\\\"name\\\\\":\\\\\"url.path\\\\\",\\\\\"scripted\\\\\":false,\\\\\"searchable\\\\\":true,\\\\\"type\\\\\":\\\\\"string\\\\\"},{\\\\\"aggregatable\\\\\":true,\\\\\"analyzed\\\\\":false,\\\\\"count\\\\\":0,\\\\\"doc_values\\\\\":true,\\\\\"indexed\\\\\":true,\\\\\"name\\\\\":\\\\\"url.port\\\\\",\\\\\"scripted\\\\\":false,\\\\\"searchable\\\\\":true,\\\\\"type\\\\\":\\\\\"number\\\\\"},{\\\\\"aggregatable\\\\\":true,\\\\\"analyzed\\\\\":false,\\\\\"count\\\\\":0,\\\\\"doc_values\\\\\":true,\\\\\"indexed\\\\\":true,\\\\\"name\\\\\":\\\\\"url.query\\\\\",\\\\\"scripted\\\\\":false,\\\\\"searchable\\\\\":true,\\\\\"type\\\\\":\\\\\"string\\\\\"},{\\\\\"aggregatable\\\\\":true,\\\\\"analyzed\\\\\":false,\\\\\"count\\\\\":0,\\\\\"doc_values\\\\\":true,\\\\\"indexed\\\\\":true,\\\\\"name\\\\\":\\\\\"url.scheme\\\\\",\\\\\"scripted\\\\\":false,\\\\\"searchable\\\\\":true,\\\\\"type\\\\\":\\\\\"string\\\\\"},{\\\\\"aggregatable\\\\\":true,\\\\\"analyzed\\\\\":false,\\\\\"count\\\\\":0,\\\\\"doc_values\\\\\":true,\\\\\"indexed\\\\\":true,\\\\\"name\\\\\":\\\\\"url.username\\\\\",\\\\\"scripted\\\\\":false,\\\\\"searchable\\\\\":true,\\\\\"type\\\\\":\\\\\"string\\\\\"},{\\\\\"aggregatable\\\\\":true,\\\\\"analyzed\\\\\":false,\\\\\"count\\\\\":0,\\\\\"doc_values\\\\\":true,\\\\\"indexed\\\\\":true,\\\\\"name\\\\\":\\\\\"user.domain\\\\\",\\\\\"scripted\\\\\":false,\\\\\"searchable\\\\\":true,\\\\\"type\\\\\":\\\\\"string\\\\\"},{\\\\\"aggregatable\\\\\":true,\\\\\"analyzed\\\\\":false,\\\\\"count\\\\\":0,\\\\\"doc_values\\\\\":true,\\\\\"indexed\\\\\":true,\\\\\"name\\\\\":\\\\\"user.email\\\\\",\\\\\"scripted\\\\\":false,\\\\\"searchable\\\\\":true,\\\\\"type\\\\\":\\\\\"string\\\\\"},{\\\\\"aggregatable\\\\\":true,\\\\\"analyzed\\\\\":false,\\\\\"count\\\\\":0,\\\\\"doc_values\\\\\":true,\\\\\"indexed\\\\\":true,\\\\\"name\\\\\":\\\\\"user.full_name\\\\\",\\\\\"scripted\\\\\":false,\\\\\"searchable\\\\\":true,\\\\\"type\\\\\":\\\\\"string\\\\\"},{\\\\\"aggregatable\\\\\":true,\\\\\"analyzed\\\\\":false,\\\\\"count\\\\\":0,\\\\\"doc_values\\\\\":true,\\\\\"indexed\\\\\":true,\\\\\"name\\\\\":\\\\\"user.group.id\\\\\",\\\\\"scripted\\\\\":false,\\\\\"searchable\\\\\":true,\\\\\"type\\\\\":\\\\\"string\\\\\"},{\\\\\"aggregatable\\\\\":true,\\\\\"analyzed\\\\\":false,\\\\\"count\\\\\":0,\\\\\"doc_values\\\\\":true,\\\\\"indexed\\\\\":true,\\\\\"name\\\\\":\\\\\"user.group.name\\\\\",\\\\\"scripted\\\\\":false,\\\\\"searchable\\\\\":true,\\\\\"type\\\\\":\\\\\"string\\\\\"},{\\\\\"aggregatable\\\\\":true,\\\\\"analyzed\\\\\":false,\\\\\"count\\\\\":0,\\\\\"doc_values\\\\\":true,\\\\\"indexed\\\\\":true,\\\\\"name\\\\\":\\\\\"user.hash\\\\\",\\\\\"scripted\\\\\":false,\\\\\"searchable\\\\\":true,\\\\\"type\\\\\":\\\\\"string\\\\\"},{\\\\\"aggregatable\\\\\":true,\\\\\"analyzed\\\\\":false,\\\\\"count\\\\\":0,\\\\\"doc_values\\\\\":true,\\\\\"indexed\\\\\":true,\\\\\"name\\\\\":\\\\\"user.id\\\\\",\\\\\"scripted\\\\\":false,\\\\\"searchable\\\\\":true,\\\\\"type\\\\\":\\\\\"string\\\\\"},{\\\\\"aggregatable\\\\\":true,\\\\\"analyzed\\\\\":false,\\\\\"count\\\\\":0,\\\\\"doc_values\\\\\":true,\\\\\"indexed\\\\\":true,\\\\\"name\\\\\":\\\\\"user.name\\\\\",\\\\\"scripted\\\\\":false,\\\\\"searchable\\\\\":true,\\\\\"type\\\\\":\\\\\"string\\\\\"},{\\\\\"aggregatable\\\\\":true,\\\\\"analyzed\\\\\":false,\\\\\"count\\\\\":0,\\\\\"doc_values\\\\\":true,\\\\\"indexed\\\\\":true,\\\\\"name\\\\\":\\\\\"user_agent.device.name\\\\\",\\\\\"scripted\\\\\":false,\\\\\"searchable\\\\\":true,\\\\\"type\\\\\":\\\\\"string\\\\\"},{\\\\\"aggregatable\\\\\":true,\\\\\"analyzed\\\\\":false,\\\\\"count\\\\\":0,\\\\\"doc_values\\\\\":true,\\\\\"indexed\\\\\":true,\\\\\"name\\\\\":\\\\\"user_agent.name\\\\\",\\\\\"scripted\\\\\":false,\\\\\"searchable\\\\\":true,\\\\\"type\\\\\":\\\\\"string\\\\\"},{\\\\\"aggregatable\\\\\":true,\\\\\"analyzed\\\\\":false,\\\\\"count\\\\\":0,\\\\\"doc_values\\\\\":true,\\\\\"indexed\\\\\":true,\\\\\"name\\\\\":\\\\\"user_agent.original\\\\\",\\\\\"scripted\\\\\":false,\\\\\"searchable\\\\\":true,\\\\\"type\\\\\":\\\\\"string\\\\\"},{\\\\\"aggregatable\\\\\":true,\\\\\"analyzed\\\\\":false,\\\\\"count\\\\\":0,\\\\\"doc_values\\\\\":true,\\\\\"indexed\\\\\":true,\\\\\"name\\\\\":\\\\\"user_agent.os.family\\\\\",\\\\\"scripted\\\\\":false,\\\\\"searchable\\\\\":true,\\\\\"type\\\\\":\\\\\"string\\\\\"},{\\\\\"aggregatable\\\\\":true,\\\\\"analyzed\\\\\":false,\\\\\"count\\\\\":0,\\\\\"doc_values\\\\\":true,\\\\\"indexed\\\\\":true,\\\\\"name\\\\\":\\\\\"user_agent.os.full\\\\\",\\\\\"scripted\\\\\":false,\\\\\"searchable\\\\\":true,\\\\\"type\\\\\":\\\\\"string\\\\\"},{\\\\\"aggregatable\\\\\":true,\\\\\"analyzed\\\\\":false,\\\\\"count\\\\\":0,\\\\\"doc_values\\\\\":true,\\\\\"indexed\\\\\":true,\\\\\"name\\\\\":\\\\\"user_agent.os.kernel\\\\\",\\\\\"scripted\\\\\":false,\\\\\"searchable\\\\\":true,\\\\\"type\\\\\":\\\\\"string\\\\\"},{\\\\\"aggregatable\\\\\":true,\\\\\"analyzed\\\\\":false,\\\\\"count\\\\\":0,\\\\\"doc_values\\\\\":true,\\\\\"indexed\\\\\":true,\\\\\"name\\\\\":\\\\\"user_agent.os.name\\\\\",\\\\\"scripted\\\\\":false,\\\\\"searchable\\\\\":true,\\\\\"type\\\\\":\\\\\"string\\\\\"},{\\\\\"aggregatable\\\\\":true,\\\\\"analyzed\\\\\":false,\\\\\"count\\\\\":0,\\\\\"doc_values\\\\\":true,\\\\\"indexed\\\\\":true,\\\\\"name\\\\\":\\\\\"user_agent.os.platform\\\\\",\\\\\"scripted\\\\\":false,\\\\\"searchable\\\\\":true,\\\\\"type\\\\\":\\\\\"string\\\\\"},{\\\\\"aggregatable\\\\\":true,\\\\\"analyzed\\\\\":false,\\\\\"count\\\\\":0,\\\\\"doc_values\\\\\":true,\\\\\"indexed\\\\\":true,\\\\\"name\\\\\":\\\\\"user_agent.os.version\\\\\",\\\\\"scripted\\\\\":false,\\\\\"searchable\\\\\":true,\\\\\"type\\\\\":\\\\\"string\\\\\"},{\\\\\"aggregatable\\\\\":true,\\\\\"analyzed\\\\\":false,\\\\\"count\\\\\":0,\\\\\"doc_values\\\\\":true,\\\\\"indexed\\\\\":true,\\\\\"name\\\\\":\\\\\"user_agent.version\\\\\",\\\\\"scripted\\\\\":false,\\\\\"searchable\\\\\":true,\\\\\"type\\\\\":\\\\\"string\\\\\"},{\\\\\"aggregatable\\\\\":true,\\\\\"analyzed\\\\\":false,\\\\\"count\\\\\":0,\\\\\"doc_values\\\\\":true,\\\\\"indexed\\\\\":true,\\\\\"name\\\\\":\\\\\"agent.hostname\\\\\",\\\\\"scripted\\\\\":false,\\\\\"searchable\\\\\":true,\\\\\"type\\\\\":\\\\\"string\\\\\"},{\\\\\"aggregatable\\\\\":true,\\\\\"analyzed\\\\\":false,\\\\\"count\\\\\":0,\\\\\"doc_values\\\\\":true,\\\\\"indexed\\\\\":true,\\\\\"name\\\\\":\\\\\"fields\\\\\",\\\\\"scripted\\\\\":false,\\\\\"searchable\\\\\":true},{\\\\\"aggregatable\\\\\":true,\\\\\"analyzed\\\\\":false,\\\\\"count\\\\\":0,\\\\\"doc_values\\\\\":true,\\\\\"indexed\\\\\":true,\\\\\"name\\\\\":\\\\\"error.type\\\\\",\\\\\"scripted\\\\\":false,\\\\\"searchable\\\\\":true,\\\\\"type\\\\\":\\\\\"string\\\\\"},{\\\\\"aggregatable\\\\\":true,\\\\\"analyzed\\\\\":false,\\\\\"count\\\\\":0,\\\\\"doc_values\\\\\":true,\\\\\"indexed\\\\\":true,\\\\\"name\\\\\":\\\\\"timeseries.instance\\\\\",\\\\\"scripted\\\\\":false,\\\\\"searchable\\\\\":true,\\\\\"type\\\\\":\\\\\"string\\\\\"},{\\\\\"aggregatable\\\\\":true,\\\\\"analyzed\\\\\":false,\\\\\"count\\\\\":0,\\\\\"doc_values\\\\\":true,\\\\\"indexed\\\\\":true,\\\\\"name\\\\\":\\\\\"cloud.project.id\\\\\",\\\\\"scripted\\\\\":false,\\\\\"searchable\\\\\":true,\\\\\"type\\\\\":\\\\\"string\\\\\"},{\\\\\"aggregatable\\\\\":true,\\\\\"analyzed\\\\\":false,\\\\\"count\\\\\":0,\\\\\"doc_values\\\\\":true,\\\\\"indexed\\\\\":true,\\\\\"name\\\\\":\\\\\"cloud.image.id\\\\\",\\\\\"scripted\\\\\":false,\\\\\"searchable\\\\\":true,\\\\\"type\\\\\":\\\\\"string\\\\\"},{\\\\\"aggregatable\\\\\":true,\\\\\"analyzed\\\\\":false,\\\\\"count\\\\\":0,\\\\\"doc_values\\\\\":true,\\\\\"indexed\\\\\":true,\\\\\"name\\\\\":\\\\\"docker.container.labels\\\\\",\\\\\"scripted\\\\\":false,\\\\\"searchable\\\\\":true},{\\\\\"aggregatable\\\\\":true,\\\\\"analyzed\\\\\":false,\\\\\"count\\\\\":0,\\\\\"doc_values\\\\\":true,\\\\\"indexed\\\\\":true,\\\\\"name\\\\\":\\\\\"host.containerized\\\\\",\\\\\"scripted\\\\\":false,\\\\\"searchable\\\\\":true,\\\\\"type\\\\\":\\\\\"boolean\\\\\"},{\\\\\"aggregatable\\\\\":true,\\\\\"analyzed\\\\\":false,\\\\\"count\\\\\":0,\\\\\"doc_values\\\\\":true,\\\\\"indexed\\\\\":true,\\\\\"name\\\\\":\\\\\"host.os.build\\\\\",\\\\\"scripted\\\\\":false,\\\\\"searchable\\\\\":true,\\\\\"type\\\\\":\\\\\"string\\\\\"},{\\\\\"aggregatable\\\\\":true,\\\\\"analyzed\\\\\":false,\\\\\"count\\\\\":0,\\\\\"doc_values\\\\\":true,\\\\\"indexed\\\\\":true,\\\\\"name\\\\\":\\\\\"host.os.codename\\\\\",\\\\\"scripted\\\\\":false,\\\\\"searchable\\\\\":true,\\\\\"type\\\\\":\\\\\"string\\\\\"},{\\\\\"aggregatable\\\\\":true,\\\\\"analyzed\\\\\":false,\\\\\"count\\\\\":0,\\\\\"doc_values\\\\\":true,\\\\\"indexed\\\\\":true,\\\\\"name\\\\\":\\\\\"kubernetes.pod.name\\\\\",\\\\\"scripted\\\\\":false,\\\\\"searchable\\\\\":true,\\\\\"type\\\\\":\\\\\"string\\\\\"},{\\\\\"aggregatable\\\\\":true,\\\\\"analyzed\\\\\":false,\\\\\"count\\\\\":0,\\\\\"doc_values\\\\\":true,\\\\\"indexed\\\\\":true,\\\\\"name\\\\\":\\\\\"kubernetes.pod.uid\\\\\",\\\\\"scripted\\\\\":false,\\\\\"searchable\\\\\":true,\\\\\"type\\\\\":\\\\\"string\\\\\"},{\\\\\"aggregatable\\\\\":true,\\\\\"analyzed\\\\\":false,\\\\\"count\\\\\":0,\\\\\"doc_values\\\\\":true,\\\\\"indexed\\\\\":true,\\\\\"name\\\\\":\\\\\"kubernetes.namespace\\\\\",\\\\\"scripted\\\\\":false,\\\\\"searchable\\\\\":true,\\\\\"type\\\\\":\\\\\"string\\\\\"},{\\\\\"aggregatable\\\\\":true,\\\\\"analyzed\\\\\":false,\\\\\"count\\\\\":0,\\\\\"doc_values\\\\\":true,\\\\\"indexed\\\\\":true,\\\\\"name\\\\\":\\\\\"kubernetes.node.name\\\\\",\\\\\"scripted\\\\\":false,\\\\\"searchable\\\\\":true,\\\\\"type\\\\\":\\\\\"string\\\\\"},{\\\\\"aggregatable\\\\\":true,\\\\\"analyzed\\\\\":false,\\\\\"count\\\\\":0,\\\\\"doc_values\\\\\":true,\\\\\"indexed\\\\\":true,\\\\\"name\\\\\":\\\\\"kubernetes.labels.*\\\\\",\\\\\"scripted\\\\\":false,\\\\\"searchable\\\\\":true},{\\\\\"aggregatable\\\\\":true,\\\\\"analyzed\\\\\":false,\\\\\"count\\\\\":0,\\\\\"doc_values\\\\\":true,\\\\\"indexed\\\\\":true,\\\\\"name\\\\\":\\\\\"kubernetes.annotations.*\\\\\",\\\\\"scripted\\\\\":false,\\\\\"searchable\\\\\":true},{\\\\\"aggregatable\\\\\":true,\\\\\"analyzed\\\\\":false,\\\\\"count\\\\\":0,\\\\\"doc_values\\\\\":true,\\\\\"indexed\\\\\":true,\\\\\"name\\\\\":\\\\\"kubernetes.replicaset.name\\\\\",\\\\\"scripted\\\\\":false,\\\\\"searchable\\\\\":true,\\\\\"type\\\\\":\\\\\"string\\\\\"},{\\\\\"aggregatable\\\\\":true,\\\\\"analyzed\\\\\":false,\\\\\"count\\\\\":0,\\\\\"doc_values\\\\\":true,\\\\\"indexed\\\\\":true,\\\\\"name\\\\\":\\\\\"kubernetes.deployment.name\\\\\",\\\\\"scripted\\\\\":false,\\\\\"searchable\\\\\":true,\\\\\"type\\\\\":\\\\\"string\\\\\"},{\\\\\"aggregatable\\\\\":true,\\\\\"analyzed\\\\\":false,\\\\\"count\\\\\":0,\\\\\"doc_values\\\\\":true,\\\\\"indexed\\\\\":true,\\\\\"name\\\\\":\\\\\"kubernetes.statefulset.name\\\\\",\\\\\"scripted\\\\\":false,\\\\\"searchable\\\\\":true,\\\\\"type\\\\\":\\\\\"string\\\\\"},{\\\\\"aggregatable\\\\\":true,\\\\\"analyzed\\\\\":false,\\\\\"count\\\\\":0,\\\\\"doc_values\\\\\":true,\\\\\"indexed\\\\\":true,\\\\\"name\\\\\":\\\\\"kubernetes.container.name\\\\\",\\\\\"scripted\\\\\":false,\\\\\"searchable\\\\\":true,\\\\\"type\\\\\":\\\\\"string\\\\\"},{\\\\\"aggregatable\\\\\":true,\\\\\"analyzed\\\\\":false,\\\\\"count\\\\\":0,\\\\\"doc_values\\\\\":true,\\\\\"indexed\\\\\":true,\\\\\"name\\\\\":\\\\\"kubernetes.container.image\\\\\",\\\\\"scripted\\\\\":false,\\\\\"searchable\\\\\":true,\\\\\"type\\\\\":\\\\\"string\\\\\"},{\\\\\"aggregatable\\\\\":true,\\\\\"analyzed\\\\\":false,\\\\\"count\\\\\":0,\\\\\"doc_values\\\\\":true,\\\\\"indexed\\\\\":true,\\\\\"name\\\\\":\\\\\"processor.name\\\\\",\\\\\"scripted\\\\\":false,\\\\\"searchable\\\\\":true,\\\\\"type\\\\\":\\\\\"string\\\\\"},{\\\\\"aggregatable\\\\\":true,\\\\\"analyzed\\\\\":false,\\\\\"count\\\\\":0,\\\\\"doc_values\\\\\":true,\\\\\"indexed\\\\\":true,\\\\\"name\\\\\":\\\\\"processor.event\\\\\",\\\\\"scripted\\\\\":false,\\\\\"searchable\\\\\":true,\\\\\"type\\\\\":\\\\\"string\\\\\"},{\\\\\"aggregatable\\\\\":true,\\\\\"analyzed\\\\\":false,\\\\\"count\\\\\":1,\\\\\"doc_values\\\\\":true,\\\\\"indexed\\\\\":true,\\\\\"name\\\\\":\\\\\"timestamp.us\\\\\",\\\\\"scripted\\\\\":false,\\\\\"searchable\\\\\":true,\\\\\"type\\\\\":\\\\\"number\\\\\"},{\\\\\"aggregatable\\\\\":false,\\\\\"analyzed\\\\\":false,\\\\\"count\\\\\":0,\\\\\"doc_values\\\\\":false,\\\\\"enabled\\\\\":false,\\\\\"indexed\\\\\":false,\\\\\"name\\\\\":\\\\\"http.request.headers\\\\\",\\\\\"scripted\\\\\":false,\\\\\"searchable\\\\\":false},{\\\\\"aggregatable\\\\\":true,\\\\\"analyzed\\\\\":false,\\\\\"count\\\\\":0,\\\\\"doc_values\\\\\":true,\\\\\"indexed\\\\\":true,\\\\\"name\\\\\":\\\\\"http.response.finished\\\\\",\\\\\"scripted\\\\\":false,\\\\\"searchable\\\\\":true,\\\\\"type\\\\\":\\\\\"boolean\\\\\"},{\\\\\"aggregatable\\\\\":false,\\\\\"analyzed\\\\\":false,\\\\\"count\\\\\":0,\\\\\"doc_values\\\\\":false,\\\\\"enabled\\\\\":false,\\\\\"indexed\\\\\":false,\\\\\"name\\\\\":\\\\\"http.response.headers\\\\\",\\\\\"scripted\\\\\":false,\\\\\"searchable\\\\\":false},{\\\\\"aggregatable\\\\\":true,\\\\\"analyzed\\\\\":false,\\\\\"count\\\\\":0,\\\\\"doc_values\\\\\":true,\\\\\"indexed\\\\\":true,\\\\\"name\\\\\":\\\\\"service.environment\\\\\",\\\\\"scripted\\\\\":false,\\\\\"searchable\\\\\":true,\\\\\"type\\\\\":\\\\\"string\\\\\"},{\\\\\"aggregatable\\\\\":true,\\\\\"analyzed\\\\\":false,\\\\\"count\\\\\":0,\\\\\"doc_values\\\\\":true,\\\\\"indexed\\\\\":true,\\\\\"name\\\\\":\\\\\"service.node.name\\\\\",\\\\\"scripted\\\\\":false,\\\\\"searchable\\\\\":true,\\\\\"type\\\\\":\\\\\"string\\\\\"},{\\\\\"aggregatable\\\\\":true,\\\\\"analyzed\\\\\":false,\\\\\"count\\\\\":0,\\\\\"doc_values\\\\\":true,\\\\\"indexed\\\\\":true,\\\\\"name\\\\\":\\\\\"service.language.name\\\\\",\\\\\"scripted\\\\\":false,\\\\\"searchable\\\\\":true,\\\\\"type\\\\\":\\\\\"string\\\\\"},{\\\\\"aggregatable\\\\\":true,\\\\\"analyzed\\\\\":false,\\\\\"count\\\\\":0,\\\\\"doc_values\\\\\":true,\\\\\"indexed\\\\\":true,\\\\\"name\\\\\":\\\\\"service.language.version\\\\\",\\\\\"scripted\\\\\":false,\\\\\"searchable\\\\\":true,\\\\\"type\\\\\":\\\\\"string\\\\\"},{\\\\\"aggregatable\\\\\":true,\\\\\"analyzed\\\\\":false,\\\\\"count\\\\\":0,\\\\\"doc_values\\\\\":true,\\\\\"indexed\\\\\":true,\\\\\"name\\\\\":\\\\\"service.runtime.name\\\\\",\\\\\"scripted\\\\\":false,\\\\\"searchable\\\\\":true,\\\\\"type\\\\\":\\\\\"string\\\\\"},{\\\\\"aggregatable\\\\\":true,\\\\\"analyzed\\\\\":false,\\\\\"count\\\\\":0,\\\\\"doc_values\\\\\":true,\\\\\"indexed\\\\\":true,\\\\\"name\\\\\":\\\\\"service.runtime.version\\\\\",\\\\\"scripted\\\\\":false,\\\\\"searchable\\\\\":true,\\\\\"type\\\\\":\\\\\"string\\\\\"},{\\\\\"aggregatable\\\\\":true,\\\\\"analyzed\\\\\":false,\\\\\"count\\\\\":0,\\\\\"doc_values\\\\\":true,\\\\\"indexed\\\\\":true,\\\\\"name\\\\\":\\\\\"service.framework.name\\\\\",\\\\\"scripted\\\\\":false,\\\\\"searchable\\\\\":true,\\\\\"type\\\\\":\\\\\"string\\\\\"},{\\\\\"aggregatable\\\\\":true,\\\\\"analyzed\\\\\":false,\\\\\"count\\\\\":0,\\\\\"doc_values\\\\\":true,\\\\\"indexed\\\\\":true,\\\\\"name\\\\\":\\\\\"service.framework.version\\\\\",\\\\\"scripted\\\\\":false,\\\\\"searchable\\\\\":true,\\\\\"type\\\\\":\\\\\"string\\\\\"},{\\\\\"aggregatable\\\\\":true,\\\\\"analyzed\\\\\":false,\\\\\"count\\\\\":0,\\\\\"doc_values\\\\\":true,\\\\\"indexed\\\\\":true,\\\\\"name\\\\\":\\\\\"transaction.id\\\\\",\\\\\"scripted\\\\\":false,\\\\\"searchable\\\\\":true,\\\\\"type\\\\\":\\\\\"string\\\\\"},{\\\\\"aggregatable\\\\\":true,\\\\\"analyzed\\\\\":false,\\\\\"count\\\\\":0,\\\\\"doc_values\\\\\":true,\\\\\"indexed\\\\\":true,\\\\\"name\\\\\":\\\\\"transaction.sampled\\\\\",\\\\\"scripted\\\\\":false,\\\\\"searchable\\\\\":true,\\\\\"type\\\\\":\\\\\"boolean\\\\\"},{\\\\\"aggregatable\\\\\":true,\\\\\"analyzed\\\\\":false,\\\\\"count\\\\\":0,\\\\\"doc_values\\\\\":true,\\\\\"indexed\\\\\":true,\\\\\"name\\\\\":\\\\\"transaction.type\\\\\",\\\\\"scripted\\\\\":false,\\\\\"searchable\\\\\":true,\\\\\"type\\\\\":\\\\\"string\\\\\"},{\\\\\"aggregatable\\\\\":true,\\\\\"analyzed\\\\\":false,\\\\\"count\\\\\":0,\\\\\"doc_values\\\\\":true,\\\\\"indexed\\\\\":true,\\\\\"name\\\\\":\\\\\"transaction.name\\\\\",\\\\\"scripted\\\\\":false,\\\\\"searchable\\\\\":true,\\\\\"type\\\\\":\\\\\"string\\\\\"},{\\\\\"aggregatable\\\\\":false,\\\\\"analyzed\\\\\":false,\\\\\"count\\\\\":0,\\\\\"doc_values\\\\\":true,\\\\\"indexed\\\\\":true,\\\\\"name\\\\\":\\\\\"transaction.name.text\\\\\",\\\\\"scripted\\\\\":false,\\\\\"searchable\\\\\":true,\\\\\"type\\\\\":\\\\\"string\\\\\"},{\\\\\"aggregatable\\\\\":true,\\\\\"analyzed\\\\\":false,\\\\\"count\\\\\":0,\\\\\"doc_values\\\\\":true,\\\\\"indexed\\\\\":true,\\\\\"name\\\\\":\\\\\"transaction.duration.count\\\\\",\\\\\"scripted\\\\\":false,\\\\\"searchable\\\\\":true,\\\\\"type\\\\\":\\\\\"number\\\\\"},{\\\\\"aggregatable\\\\\":true,\\\\\"analyzed\\\\\":false,\\\\\"count\\\\\":0,\\\\\"doc_values\\\\\":true,\\\\\"indexed\\\\\":true,\\\\\"name\\\\\":\\\\\"transaction.duration.sum.us\\\\\",\\\\\"scripted\\\\\":false,\\\\\"searchable\\\\\":true,\\\\\"type\\\\\":\\\\\"number\\\\\"},{\\\\\"aggregatable\\\\\":true,\\\\\"analyzed\\\\\":false,\\\\\"count\\\\\":0,\\\\\"doc_values\\\\\":true,\\\\\"indexed\\\\\":true,\\\\\"name\\\\\":\\\\\"transaction.self_time.count\\\\\",\\\\\"scripted\\\\\":false,\\\\\"searchable\\\\\":true,\\\\\"type\\\\\":\\\\\"number\\\\\"},{\\\\\"aggregatable\\\\\":true,\\\\\"analyzed\\\\\":false,\\\\\"count\\\\\":0,\\\\\"doc_values\\\\\":true,\\\\\"indexed\\\\\":true,\\\\\"name\\\\\":\\\\\"transaction.self_time.sum.us\\\\\",\\\\\"scripted\\\\\":false,\\\\\"searchable\\\\\":true,\\\\\"type\\\\\":\\\\\"number\\\\\"},{\\\\\"aggregatable\\\\\":true,\\\\\"analyzed\\\\\":false,\\\\\"count\\\\\":0,\\\\\"doc_values\\\\\":true,\\\\\"indexed\\\\\":true,\\\\\"name\\\\\":\\\\\"transaction.breakdown.count\\\\\",\\\\\"scripted\\\\\":false,\\\\\"searchable\\\\\":true,\\\\\"type\\\\\":\\\\\"number\\\\\"},{\\\\\"aggregatable\\\\\":true,\\\\\"analyzed\\\\\":false,\\\\\"count\\\\\":1,\\\\\"doc_values\\\\\":true,\\\\\"indexed\\\\\":true,\\\\\"name\\\\\":\\\\\"span.type\\\\\",\\\\\"scripted\\\\\":false,\\\\\"searchable\\\\\":true,\\\\\"type\\\\\":\\\\\"string\\\\\"},{\\\\\"aggregatable\\\\\":true,\\\\\"analyzed\\\\\":false,\\\\\"count\\\\\":1,\\\\\"doc_values\\\\\":true,\\\\\"indexed\\\\\":true,\\\\\"name\\\\\":\\\\\"span.subtype\\\\\",\\\\\"scripted\\\\\":false,\\\\\"searchable\\\\\":true,\\\\\"type\\\\\":\\\\\"string\\\\\"},{\\\\\"aggregatable\\\\\":true,\\\\\"analyzed\\\\\":false,\\\\\"count\\\\\":0,\\\\\"doc_values\\\\\":true,\\\\\"indexed\\\\\":true,\\\\\"name\\\\\":\\\\\"span.self_time.count\\\\\",\\\\\"scripted\\\\\":false,\\\\\"searchable\\\\\":true,\\\\\"type\\\\\":\\\\\"number\\\\\"},{\\\\\"aggregatable\\\\\":true,\\\\\"analyzed\\\\\":false,\\\\\"count\\\\\":0,\\\\\"doc_values\\\\\":true,\\\\\"indexed\\\\\":true,\\\\\"name\\\\\":\\\\\"span.self_time.sum.us\\\\\",\\\\\"scripted\\\\\":false,\\\\\"searchable\\\\\":true,\\\\\"type\\\\\":\\\\\"number\\\\\"},{\\\\\"aggregatable\\\\\":true,\\\\\"analyzed\\\\\":false,\\\\\"count\\\\\":0,\\\\\"doc_values\\\\\":true,\\\\\"indexed\\\\\":true,\\\\\"name\\\\\":\\\\\"trace.id\\\\\",\\\\\"scripted\\\\\":false,\\\\\"searchable\\\\\":true,\\\\\"type\\\\\":\\\\\"string\\\\\"},{\\\\\"aggregatable\\\\\":true,\\\\\"analyzed\\\\\":false,\\\\\"count\\\\\":0,\\\\\"doc_values\\\\\":true,\\\\\"indexed\\\\\":true,\\\\\"name\\\\\":\\\\\"parent.id\\\\\",\\\\\"scripted\\\\\":false,\\\\\"searchable\\\\\":true,\\\\\"type\\\\\":\\\\\"string\\\\\"},{\\\\\"aggregatable\\\\\":true,\\\\\"analyzed\\\\\":false,\\\\\"count\\\\\":0,\\\\\"doc_values\\\\\":true,\\\\\"indexed\\\\\":true,\\\\\"name\\\\\":\\\\\"observer.listening\\\\\",\\\\\"scripted\\\\\":false,\\\\\"searchable\\\\\":true,\\\\\"type\\\\\":\\\\\"string\\\\\"},{\\\\\"aggregatable\\\\\":true,\\\\\"analyzed\\\\\":false,\\\\\"count\\\\\":0,\\\\\"doc_values\\\\\":true,\\\\\"indexed\\\\\":true,\\\\\"name\\\\\":\\\\\"observer.version_major\\\\\",\\\\\"scripted\\\\\":false,\\\\\"searchable\\\\\":true,\\\\\"type\\\\\":\\\\\"number\\\\\"},{\\\\\"aggregatable\\\\\":false,\\\\\"analyzed\\\\\":false,\\\\\"count\\\\\":0,\\\\\"doc_values\\\\\":true,\\\\\"indexed\\\\\":true,\\\\\"name\\\\\":\\\\\"user_agent.original.text\\\\\",\\\\\"scripted\\\\\":false,\\\\\"searchable\\\\\":true,\\\\\"type\\\\\":\\\\\"string\\\\\"},{\\\\\"aggregatable\\\\\":true,\\\\\"analyzed\\\\\":false,\\\\\"count\\\\\":0,\\\\\"doc_values\\\\\":true,\\\\\"indexed\\\\\":true,\\\\\"name\\\\\":\\\\\"experimental\\\\\",\\\\\"scripted\\\\\":false,\\\\\"searchable\\\\\":true},{\\\\\"aggregatable\\\\\":true,\\\\\"analyzed\\\\\":false,\\\\\"count\\\\\":2,\\\\\"doc_values\\\\\":true,\\\\\"indexed\\\\\":true,\\\\\"name\\\\\":\\\\\"error.culprit\\\\\",\\\\\"scripted\\\\\":false,\\\\\"searchable\\\\\":true,\\\\\"type\\\\\":\\\\\"string\\\\\"},{\\\\\"aggregatable\\\\\":true,\\\\\"analyzed\\\\\":false,\\\\\"count\\\\\":0,\\\\\"doc_values\\\\\":true,\\\\\"indexed\\\\\":true,\\\\\"name\\\\\":\\\\\"error.grouping_key\\\\\",\\\\\"scripted\\\\\":false,\\\\\"searchable\\\\\":true,\\\\\"type\\\\\":\\\\\"string\\\\\"},{\\\\\"aggregatable\\\\\":true,\\\\\"analyzed\\\\\":false,\\\\\"count\\\\\":0,\\\\\"doc_values\\\\\":true,\\\\\"indexed\\\\\":true,\\\\\"name\\\\\":\\\\\"error.exception.code\\\\\",\\\\\"scripted\\\\\":false,\\\\\"searchable\\\\\":true,\\\\\"type\\\\\":\\\\\"string\\\\\"},{\\\\\"aggregatable\\\\\":false,\\\\\"analyzed\\\\\":false,\\\\\"count\\\\\":2,\\\\\"doc_values\\\\\":true,\\\\\"indexed\\\\\":true,\\\\\"name\\\\\":\\\\\"error.exception.message\\\\\",\\\\\"scripted\\\\\":false,\\\\\"searchable\\\\\":true,\\\\\"type\\\\\":\\\\\"string\\\\\"},{\\\\\"aggregatable\\\\\":true,\\\\\"analyzed\\\\\":false,\\\\\"count\\\\\":0,\\\\\"doc_values\\\\\":true,\\\\\"indexed\\\\\":true,\\\\\"name\\\\\":\\\\\"error.exception.module\\\\\",\\\\\"scripted\\\\\":false,\\\\\"searchable\\\\\":true,\\\\\"type\\\\\":\\\\\"string\\\\\"},{\\\\\"aggregatable\\\\\":true,\\\\\"analyzed\\\\\":false,\\\\\"count\\\\\":4,\\\\\"doc_values\\\\\":true,\\\\\"indexed\\\\\":true,\\\\\"name\\\\\":\\\\\"error.exception.type\\\\\",\\\\\"scripted\\\\\":false,\\\\\"searchable\\\\\":true,\\\\\"type\\\\\":\\\\\"string\\\\\"},{\\\\\"aggregatable\\\\\":true,\\\\\"analyzed\\\\\":false,\\\\\"count\\\\\":2,\\\\\"doc_values\\\\\":true,\\\\\"indexed\\\\\":true,\\\\\"name\\\\\":\\\\\"error.exception.handled\\\\\",\\\\\"scripted\\\\\":false,\\\\\"searchable\\\\\":true,\\\\\"type\\\\\":\\\\\"boolean\\\\\"},{\\\\\"aggregatable\\\\\":true,\\\\\"analyzed\\\\\":false,\\\\\"count\\\\\":0,\\\\\"doc_values\\\\\":true,\\\\\"indexed\\\\\":true,\\\\\"name\\\\\":\\\\\"error.log.level\\\\\",\\\\\"scripted\\\\\":false,\\\\\"searchable\\\\\":true,\\\\\"type\\\\\":\\\\\"string\\\\\"},{\\\\\"aggregatable\\\\\":true,\\\\\"analyzed\\\\\":false,\\\\\"count\\\\\":0,\\\\\"doc_values\\\\\":true,\\\\\"indexed\\\\\":true,\\\\\"name\\\\\":\\\\\"error.log.logger_name\\\\\",\\\\\"scripted\\\\\":false,\\\\\"searchable\\\\\":true,\\\\\"type\\\\\":\\\\\"string\\\\\"},{\\\\\"aggregatable\\\\\":false,\\\\\"analyzed\\\\\":false,\\\\\"count\\\\\":2,\\\\\"doc_values\\\\\":true,\\\\\"indexed\\\\\":true,\\\\\"name\\\\\":\\\\\"error.log.message\\\\\",\\\\\"scripted\\\\\":false,\\\\\"searchable\\\\\":true,\\\\\"type\\\\\":\\\\\"string\\\\\"},{\\\\\"aggregatable\\\\\":true,\\\\\"analyzed\\\\\":false,\\\\\"count\\\\\":0,\\\\\"doc_values\\\\\":true,\\\\\"indexed\\\\\":true,\\\\\"name\\\\\":\\\\\"error.log.param_message\\\\\",\\\\\"scripted\\\\\":false,\\\\\"searchable\\\\\":true,\\\\\"type\\\\\":\\\\\"string\\\\\"},{\\\\\"aggregatable\\\\\":true,\\\\\"analyzed\\\\\":false,\\\\\"count\\\\\":0,\\\\\"doc_values\\\\\":true,\\\\\"indexed\\\\\":true,\\\\\"name\\\\\":\\\\\"system.cpu.total.norm.pct\\\\\",\\\\\"scripted\\\\\":false,\\\\\"searchable\\\\\":true,\\\\\"type\\\\\":\\\\\"number\\\\\"},{\\\\\"aggregatable\\\\\":true,\\\\\"analyzed\\\\\":false,\\\\\"count\\\\\":0,\\\\\"doc_values\\\\\":true,\\\\\"indexed\\\\\":true,\\\\\"name\\\\\":\\\\\"system.memory.total\\\\\",\\\\\"scripted\\\\\":false,\\\\\"searchable\\\\\":true,\\\\\"type\\\\\":\\\\\"number\\\\\"},{\\\\\"aggregatable\\\\\":true,\\\\\"analyzed\\\\\":false,\\\\\"count\\\\\":0,\\\\\"doc_values\\\\\":true,\\\\\"indexed\\\\\":true,\\\\\"name\\\\\":\\\\\"system.memory.actual.free\\\\\",\\\\\"scripted\\\\\":false,\\\\\"searchable\\\\\":true,\\\\\"type\\\\\":\\\\\"number\\\\\"},{\\\\\"aggregatable\\\\\":true,\\\\\"analyzed\\\\\":false,\\\\\"count\\\\\":0,\\\\\"doc_values\\\\\":true,\\\\\"indexed\\\\\":true,\\\\\"name\\\\\":\\\\\"system.process.cpu.total.norm.pct\\\\\",\\\\\"scripted\\\\\":false,\\\\\"searchable\\\\\":true,\\\\\"type\\\\\":\\\\\"number\\\\\"},{\\\\\"aggregatable\\\\\":true,\\\\\"analyzed\\\\\":false,\\\\\"count\\\\\":0,\\\\\"doc_values\\\\\":true,\\\\\"indexed\\\\\":true,\\\\\"name\\\\\":\\\\\"system.process.memory.size\\\\\",\\\\\"scripted\\\\\":false,\\\\\"searchable\\\\\":true,\\\\\"type\\\\\":\\\\\"number\\\\\"},{\\\\\"aggregatable\\\\\":true,\\\\\"analyzed\\\\\":false,\\\\\"count\\\\\":0,\\\\\"doc_values\\\\\":true,\\\\\"indexed\\\\\":true,\\\\\"name\\\\\":\\\\\"system.process.memory.rss.bytes\\\\\",\\\\\"scripted\\\\\":false,\\\\\"searchable\\\\\":true,\\\\\"type\\\\\":\\\\\"number\\\\\"},{\\\\\"aggregatable\\\\\":true,\\\\\"analyzed\\\\\":false,\\\\\"count\\\\\":0,\\\\\"doc_values\\\\\":true,\\\\\"indexed\\\\\":true,\\\\\"name\\\\\":\\\\\"sourcemap.service.name\\\\\",\\\\\"scripted\\\\\":false,\\\\\"searchable\\\\\":true,\\\\\"type\\\\\":\\\\\"string\\\\\"},{\\\\\"aggregatable\\\\\":true,\\\\\"analyzed\\\\\":false,\\\\\"count\\\\\":0,\\\\\"doc_values\\\\\":true,\\\\\"indexed\\\\\":true,\\\\\"name\\\\\":\\\\\"sourcemap.service.version\\\\\",\\\\\"scripted\\\\\":false,\\\\\"searchable\\\\\":true,\\\\\"type\\\\\":\\\\\"string\\\\\"},{\\\\\"aggregatable\\\\\":true,\\\\\"analyzed\\\\\":false,\\\\\"count\\\\\":0,\\\\\"doc_values\\\\\":true,\\\\\"indexed\\\\\":true,\\\\\"name\\\\\":\\\\\"sourcemap.bundle_filepath\\\\\",\\\\\"scripted\\\\\":false,\\\\\"searchable\\\\\":true,\\\\\"type\\\\\":\\\\\"string\\\\\"},{\\\\\"aggregatable\\\\\":true,\\\\\"analyzed\\\\\":false,\\\\\"count\\\\\":0,\\\\\"doc_values\\\\\":true,\\\\\"indexed\\\\\":true,\\\\\"name\\\\\":\\\\\"view spans\\\\\",\\\\\"scripted\\\\\":false,\\\\\"searchable\\\\\":true,\\\\\"type\\\\\":\\\\\"string\\\\\"},{\\\\\"aggregatable\\\\\":true,\\\\\"analyzed\\\\\":false,\\\\\"count\\\\\":0,\\\\\"doc_values\\\\\":true,\\\\\"indexed\\\\\":true,\\\\\"name\\\\\":\\\\\"span.id\\\\\",\\\\\"scripted\\\\\":false,\\\\\"searchable\\\\\":true,\\\\\"type\\\\\":\\\\\"string\\\\\"},{\\\\\"aggregatable\\\\\":true,\\\\\"analyzed\\\\\":false,\\\\\"count\\\\\":1,\\\\\"doc_values\\\\\":true,\\\\\"indexed\\\\\":true,\\\\\"name\\\\\":\\\\\"span.name\\\\\",\\\\\"scripted\\\\\":false,\\\\\"searchable\\\\\":true,\\\\\"type\\\\\":\\\\\"string\\\\\"},{\\\\\"aggregatable\\\\\":true,\\\\\"analyzed\\\\\":false,\\\\\"count\\\\\":1,\\\\\"doc_values\\\\\":true,\\\\\"indexed\\\\\":true,\\\\\"name\\\\\":\\\\\"span.action\\\\\",\\\\\"scripted\\\\\":false,\\\\\"searchable\\\\\":true,\\\\\"type\\\\\":\\\\\"string\\\\\"},{\\\\\"aggregatable\\\\\":true,\\\\\"analyzed\\\\\":false,\\\\\"count\\\\\":1,\\\\\"doc_values\\\\\":true,\\\\\"indexed\\\\\":true,\\\\\"name\\\\\":\\\\\"span.start.us\\\\\",\\\\\"scripted\\\\\":false,\\\\\"searchable\\\\\":true,\\\\\"type\\\\\":\\\\\"number\\\\\"},{\\\\\"aggregatable\\\\\":true,\\\\\"analyzed\\\\\":false,\\\\\"count\\\\\":1,\\\\\"doc_values\\\\\":true,\\\\\"indexed\\\\\":true,\\\\\"name\\\\\":\\\\\"span.duration.us\\\\\",\\\\\"scripted\\\\\":false,\\\\\"searchable\\\\\":true,\\\\\"type\\\\\":\\\\\"number\\\\\"},{\\\\\"aggregatable\\\\\":true,\\\\\"analyzed\\\\\":false,\\\\\"count\\\\\":0,\\\\\"doc_values\\\\\":true,\\\\\"indexed\\\\\":true,\\\\\"name\\\\\":\\\\\"span.sync\\\\\",\\\\\"scripted\\\\\":false,\\\\\"searchable\\\\\":true,\\\\\"type\\\\\":\\\\\"boolean\\\\\"},{\\\\\"aggregatable\\\\\":true,\\\\\"analyzed\\\\\":false,\\\\\"count\\\\\":0,\\\\\"doc_values\\\\\":true,\\\\\"indexed\\\\\":true,\\\\\"name\\\\\":\\\\\"span.db.link\\\\\",\\\\\"scripted\\\\\":false,\\\\\"searchable\\\\\":true,\\\\\"type\\\\\":\\\\\"string\\\\\"},{\\\\\"aggregatable\\\\\":true,\\\\\"analyzed\\\\\":false,\\\\\"count\\\\\":0,\\\\\"doc_values\\\\\":true,\\\\\"indexed\\\\\":true,\\\\\"name\\\\\":\\\\\"transaction.duration.us\\\\\",\\\\\"scripted\\\\\":false,\\\\\"searchable\\\\\":true,\\\\\"type\\\\\":\\\\\"number\\\\\"},{\\\\\"aggregatable\\\\\":true,\\\\\"analyzed\\\\\":false,\\\\\"count\\\\\":0,\\\\\"doc_values\\\\\":true,\\\\\"indexed\\\\\":true,\\\\\"name\\\\\":\\\\\"transaction.result\\\\\",\\\\\"scripted\\\\\":false,\\\\\"searchable\\\\\":true,\\\\\"type\\\\\":\\\\\"string\\\\\"},{\\\\\"aggregatable\\\\\":true,\\\\\"analyzed\\\\\":false,\\\\\"count\\\\\":0,\\\\\"doc_values\\\\\":true,\\\\\"indexed\\\\\":true,\\\\\"name\\\\\":\\\\\"transaction.marks\\\\\",\\\\\"scripted\\\\\":false,\\\\\"searchable\\\\\":true},{\\\\\"aggregatable\\\\\":true,\\\\\"analyzed\\\\\":false,\\\\\"count\\\\\":0,\\\\\"doc_values\\\\\":true,\\\\\"indexed\\\\\":true,\\\\\"name\\\\\":\\\\\"transaction.marks.*.*\\\\\",\\\\\"scripted\\\\\":false,\\\\\"searchable\\\\\":true},{\\\\\"aggregatable\\\\\":true,\\\\\"analyzed\\\\\":false,\\\\\"count\\\\\":0,\\\\\"doc_values\\\\\":true,\\\\\"indexed\\\\\":true,\\\\\"name\\\\\":\\\\\"transaction.span_count.dropped\\\\\",\\\\\"scripted\\\\\":false,\\\\\"searchable\\\\\":true,\\\\\"type\\\\\":\\\\\"number\\\\\"},{\\\\\"aggregatable\\\\\":false,\\\\\"analyzed\\\\\":false,\\\\\"count\\\\\":0,\\\\\"doc_values\\\\\":false,\\\\\"indexed\\\\\":false,\\\\\"name\\\\\":\\\\\"_id\\\\\",\\\\\"scripted\\\\\":false,\\\\\"searchable\\\\\":false,\\\\\"type\\\\\":\\\\\"string\\\\\"},{\\\\\"aggregatable\\\\\":true,\\\\\"analyzed\\\\\":false,\\\\\"count\\\\\":0,\\\\\"doc_values\\\\\":false,\\\\\"indexed\\\\\":false,\\\\\"name\\\\\":\\\\\"_type\\\\\",\\\\\"scripted\\\\\":false,\\\\\"searchable\\\\\":true,\\\\\"type\\\\\":\\\\\"string\\\\\"},{\\\\\"aggregatable\\\\\":false,\\\\\"analyzed\\\\\":false,\\\\\"count\\\\\":0,\\\\\"doc_values\\\\\":false,\\\\\"indexed\\\\\":false,\\\\\"name\\\\\":\\\\\"_index\\\\\",\\\\\"scripted\\\\\":false,\\\\\"searchable\\\\\":false,\\\\\"type\\\\\":\\\\\"string\\\\\"},{\\\\\"aggregatable\\\\\":false,\\\\\"analyzed\\\\\":false,\\\\\"count\\\\\":0,\\\\\"doc_values\\\\\":false,\\\\\"indexed\\\\\":false,\\\\\"name\\\\\":\\\\\"_score\\\\\",\\\\\"scripted\\\\\":false,\\\\\"searchable\\\\\":false,\\\\\"type\\\\\":\\\\\"number\\\\\"}]\",\"sourceFilters\":\"[{\\\\\"value\\\\\":\\\\\"sourcemap.sourcemap\\\\\"}]\",\"timeFieldName\":\"@timestamp\",\"title\":\"apm-*\"},\"type\":\"index-pattern\",\"migrationVersion\":{\"index-pattern\":\"6.5.0\"},\"updated_at\":\"2022-06-28T13:58:13.783Z\"}},{\"_index\":\".kibana_1\",\"_type\":\"_doc\",\"_id\":\"config:7.5.1\",\"_score\":1.0,\"_source\":{\"config\":{\"buildNum\":27610,\"defaultIndex\":\"7cfe1810-f6ea-11ec-aedc-cdb39c7e9c60\"},\"type\":\"config\",\"updated_at\":\"2022-06-28T13:59:12.830Z\"}},{\"_index\":\".kibana_1\",\"_type\":\"_doc\",\"_id\":\"index-pattern:7cfe1810-f6ea-11ec-aedc-cdb39c7e9c60\",\"_score\":1.0,\"_source\":{\"index-pattern\":{\"title\":\"first\",\"fields\":\"[{\\\\\"name\\\\\":\\\\\"_id\\\\\",\\\\\"type\\\\\":\\\\\"string\\\\\",\\\\\"esTypes\\\\\":[\\\\\"_id\\\\\"],\\\\\"count\\\\\":0,\\\\\"scripted\\\\\":false,\\\\\"searchable\\\\\":true,\\\\\"aggregatable\\\\\":true,\\\\\"readFromDocValues\\\\\":false},{\\\\\"name\\\\\":\\\\\"_index\\\\\",\\\\\"type\\\\\":\\\\\"string\\\\\",\\\\\"esTypes\\\\\":[\\\\\"_index\\\\\"],\\\\\"count\\\\\":0,\\\\\"scripted\\\\\":false,\\\\\"searchable\\\\\":true,\\\\\"aggregatable\\\\\":true,\\\\\"readFromDocValues\\\\\":false},{\\\\\"name\\\\\":\\\\\"_score\\\\\",\\\\\"type\\\\\":\\\\\"number\\\\\",\\\\\"count\\\\\":0,\\\\\"scripted\\\\\":false,\\\\\"searchable\\\\\":false,\\\\\"aggregatable\\\\\":false,\\\\\"readFromDocValues\\\\\":false},{\\\\\"name\\\\\":\\\\\"_source\\\\\",\\\\\"type\\\\\":\\\\\"_source\\\\\",\\\\\"esTypes\\\\\":[\\\\\"_source\\\\\"],\\\\\"count\\\\\":0,\\\\\"scripted\\\\\":false,\\\\\"searchable\\\\\":false,\\\\\"aggregatable\\\\\":false,\\\\\"readFromDocValues\\\\\":false},{\\\\\"name\\\\\":\\\\\"_type\\\\\",\\\\\"type\\\\\":\\\\\"string\\\\\",\\\\\"esTypes\\\\\":[\\\\\"_type\\\\\"],\\\\\"count\\\\\":0,\\\\\"scripted\\\\\":false,\\\\\"searchable\\\\\":true,\\\\\"aggregatable\\\\\":true,\\\\\"readFromDocValues\\\\\":false},{\\\\\"name\\\\\":\\\\\"rating\\\\\",\\\\\"type\\\\\":\\\\\"string\\\\\",\\\\\"esTypes\\\\\":[\\\\\"keyword\\\\\"],\\\\\"count\\\\\":0,\\\\\"scripted\\\\\":false,\\\\\"searchable\\\\\":true,\\\\\"aggregatable\\\\\":true,\\\\\"readFromDocValues\\\\\":true},{\\\\\"name\\\\\":\\\\\"ratingDescription\\\\\",\\\\\"type\\\\\":\\\\\"number\\\\\",\\\\\"esTypes\\\\\":[\\\\\"long\\\\\"],\\\\\"count\\\\\":0,\\\\\"scripted\\\\\":false,\\\\\"searchable\\\\\":true,\\\\\"aggregatable\\\\\":true,\\\\\"readFromDocValues\\\\\":true},{\\\\\"name\\\\\":\\\\\"ratingLevel\\\\\",\\\\\"type\\\\\":\\\\\"string\\\\\",\\\\\"esTypes\\\\\":[\\\\\"text\\\\\"],\\\\\"count\\\\\":0,\\\\\"scripted\\\\\":false,\\\\\"searchable\\\\\":true,\\\\\"aggregatable\\\\\":false,\\\\\"readFromDocValues\\\\\":false},{\\\\\"name\\\\\":\\\\\"release year\\\\\",\\\\\"type\\\\\":\\\\\"number\\\\\",\\\\\"esTypes\\\\\":[\\\\\"long\\\\\"],\\\\\"count\\\\\":0,\\\\\"scripted\\\\\":false,\\\\\"searchable\\\\\":true,\\\\\"aggregatable\\\\\":true,\\\\\"readFromDocValues\\\\\":true},{\\\\\"name\\\\\":\\\\\"title\\\\\",\\\\\"type\\\\\":\\\\\"string\\\\\",\\\\\"esTypes\\\\\":[\\\\\"text\\\\\"],\\\\\"count\\\\\":0,\\\\\"scripted\\\\\":false,\\\\\"searchable\\\\\":true,\\\\\"aggregatable\\\\\":false,\\\\\"readFromDocValues\\\\\":false},{\\\\\"name\\\\\":\\\\\"user rating score\\\\\",\\\\\"type\\\\\":\\\\\"string\\\\\",\\\\\"esTypes\\\\\":[\\\\\"keyword\\\\\"],\\\\\"count\\\\\":0,\\\\\"scripted\\\\\":false,\\\\\"searchable\\\\\":true,\\\\\"aggregatable\\\\\":true,\\\\\"readFromDocValues\\\\\":true},{\\\\\"name\\\\\":\\\\\"user rating size\\\\\",\\\\\"type\\\\\":\\\\\"number\\\\\",\\\\\"esTypes\\\\\":[\\\\\"long\\\\\"],\\\\\"count\\\\\":0,\\\\\"scripted\\\\\":false,\\\\\"searchable\\\\\":true,\\\\\"aggregatable\\\\\":true,\\\\\"readFromDocValues\\\\\":true}]\"},\"type\":\"index-pattern\",\"references\":[],\"migrationVersion\":{\"index-pattern\":\"6.5.0\"},\"updated_at\":\"2022-06-28T13:59:21.823Z\"}},{\"_index\":\".kibana_1\",\"_type\":\"_doc\",\"_id\":\"ml-telemetry:ml-telemetry\",\"_score\":1.0,\"_source\":{\"ml-telemetry\":{\"file_data_visualizer\":{\"index_creation_count\":2}},\"type\":\"ml-telemetry\",\"updated_at\":\"2022-06-29T06:36:51.079Z\"}},{\"_index\":\".kibana_task_manager_1\",\"_type\":\"_doc\",\"_id\":\"task:oss_telemetry-vis_telemetry\",\"_score\":1.0,\"_source\":{\"migrationVersion\":{\"task\":\"7.4.0\"},\"task\":{\"taskType\":\"vis_telemetry\",\"retryAt\":null,\"runAt\":\"2022-06-29T18:30:00.000Z\",\"startedAt\":null,\"state\":\"{\\\\\"runs\\\\\":3}\",\"params\":\"{}\",\"ownerId\":null,\"scheduledAt\":\"2022-06-28T13:56:46.193Z\",\"attempts\":3,\"status\":\"failed\"},\"updated_at\":\"2022-06-30T05:13:21.386Z\",\"type\":\"task\"}},{\"_index\":\".kibana_task_manager_1\",\"_type\":\"_doc\",\"_id\":\"task:Lens-lens_telemetry\",\"_score\":1.0,\"_source\":{\"migrationVersion\":{\"task\":\"7.4.0\"},\"task\":{\"taskType\":\"lens_telemetry\",\"retryAt\":null,\"runAt\":\"2022-07-09T18:30:00.000Z\",\"startedAt\":null,\"state\":\"{\\\\\"runs\\\\\":8,\\\\\"byDate\\\\\":{},\\\\\"suggestionsByDate\\\\\":{},\\\\\"saved\\\\\":{\\\\\"saved_30_days\\\\\":{},\\\\\"saved_overall_total\\\\\":0,\\\\\"saved_30_days_total\\\\\":0,\\\\\"saved_90_days_total\\\\\":0}}\",\"params\":\"{}\",\"ownerId\":null,\"scheduledAt\":\"2022-06-28T13:56:46.193Z\",\"attempts\":0,\"status\":\"idle\"},\"updated_at\":\"2022-07-09T05:47:45.181Z\",\"type\":\"task\"}},{\"_index\":\"first\",\"_type\":\"_doc\",\"_id\":\"3-AtroEB90y2VnWmRUVM\",\"_score\":1.0,\"_source\":{\"title\":\"White Chicks\",\"rating\":\"PG-13\",\"ratingLevel\":\"crude and sexual humor, language and some drug content\",\"ratingDescription\":80,\"release year\":2004,\"user rating score\":\"82\",\"user rating size\":80}}]}}'"
      ]
     },
     "execution_count": 5,
     "metadata": {},
     "output_type": "execute_result"
    }
   ],
   "source": [
    "r.text"
   ]
  },
  {
   "cell_type": "code",
   "execution_count": 6,
   "id": "2647d23d",
   "metadata": {},
   "outputs": [],
   "source": [
    "r=requests.get('http://localhost:9200/first')"
   ]
  },
  {
   "cell_type": "code",
   "execution_count": 7,
   "id": "71378d1c",
   "metadata": {},
   "outputs": [
    {
     "data": {
      "text/plain": [
       "'{\"first\":{\"aliases\":{},\"mappings\":{\"_meta\":{\"created_by\":\"ml-file-data-visualizer\"},\"properties\":{\"rating\":{\"type\":\"keyword\"},\"ratingDescription\":{\"type\":\"long\"},\"ratingLevel\":{\"type\":\"text\"},\"release year\":{\"type\":\"long\"},\"title\":{\"type\":\"text\"},\"user rating score\":{\"type\":\"keyword\"},\"user rating size\":{\"type\":\"long\"}}},\"settings\":{\"index\":{\"creation_date\":\"1656484611080\",\"number_of_shards\":\"1\",\"number_of_replicas\":\"1\",\"uuid\":\"nynMl7kIRtSGG51sJlvr8g\",\"version\":{\"created\":\"7050199\"},\"provided_name\":\"first\"}}}}'"
      ]
     },
     "execution_count": 7,
     "metadata": {},
     "output_type": "execute_result"
    }
   ],
   "source": [
    "r.text"
   ]
  },
  {
   "cell_type": "code",
   "execution_count": 8,
   "id": "47d747b5",
   "metadata": {},
   "outputs": [],
   "source": [
    "query={ \"query\": {\n",
    "    \"bool\": {\n",
    "      \"must\": [\n",
    "        {\n",
    "          \"bool\": {\n",
    "            \"should\": [\n",
    "              {\n",
    "                \"match\": {\n",
    "                  \"release year\": \"2016\"\n",
    "                }\n",
    "              }\n",
    "            ],\n",
    "            \"minimum_should_match\": 1\n",
    "          }\n",
    "        }\n",
    "      ]\n",
    "    }\n",
    " }\n",
    "}\n",
    "r=requests.post('http://localhost:9200/_search',json=query)"
   ]
  },
  {
   "cell_type": "code",
   "execution_count": 9,
   "id": "3b3b34d8",
   "metadata": {},
   "outputs": [
    {
     "data": {
      "text/plain": [
       "'{\"took\":130,\"timed_out\":false,\"_shards\":{\"total\":4,\"successful\":4,\"skipped\":0,\"failed\":0},\"hits\":{\"total\":{\"value\":292,\"relation\":\"eq\"},\"max_score\":1.0,\"hits\":[{\"_index\":\"first\",\"_type\":\"_doc\",\"_id\":\"4eAtroEB90y2VnWmRUVM\",\"_score\":1.0,\"_source\":{\"title\":\"Grey\\'s Anatomy\",\"rating\":\"TV-14\",\"ratingLevel\":\"Parents strongly cautioned. May be unsuitable for children ages 14 and under.\",\"ratingDescription\":90,\"release year\":2016,\"user rating score\":\"98\",\"user rating size\":80}},{\"_index\":\"first\",\"_type\":\"_doc\",\"_id\":\"5OAtroEB90y2VnWmRUVO\",\"_score\":1.0,\"_source\":{\"title\":\"Supernatural\",\"rating\":\"TV-14\",\"ratingLevel\":\"Parents strongly cautioned. May be unsuitable for children ages 14 and under.\",\"ratingDescription\":90,\"release year\":2016,\"user rating score\":\"95\",\"user rating size\":80}},{\"_index\":\"first\",\"_type\":\"_doc\",\"_id\":\"6OAtroEB90y2VnWmRUVO\",\"_score\":1.0,\"_source\":{\"title\":\"Pretty Little Liars\",\"rating\":\"TV-14\",\"ratingLevel\":\"Parents strongly cautioned. May be unsuitable for children ages 14 and under.\",\"ratingDescription\":90,\"release year\":2016,\"user rating score\":\"96\",\"user rating size\":80}},{\"_index\":\"first\",\"_type\":\"_doc\",\"_id\":\"6eAtroEB90y2VnWmRUVO\",\"_score\":1.0,\"_source\":{\"title\":\"Once Upon a Time\",\"rating\":\"TV-PG\",\"ratingLevel\":\"Parental guidance suggested. May not be suitable for all children.\",\"ratingDescription\":70,\"release year\":2016,\"user rating score\":\"98\",\"user rating size\":80}},{\"_index\":\"first\",\"_type\":\"_doc\",\"_id\":\"6uAtroEB90y2VnWmRUVO\",\"_score\":1.0,\"_source\":{\"title\":\"Sherlock\",\"rating\":\"TV-14\",\"ratingLevel\":\"Parents strongly cautioned. May be unsuitable for children ages 14 and under.\",\"ratingDescription\":90,\"release year\":2016,\"user rating score\":\"95\",\"user rating size\":80}},{\"_index\":\"first\",\"_type\":\"_doc\",\"_id\":\"8OAtroEB90y2VnWmRUVO\",\"_score\":1.0,\"_source\":{\"title\":\"Black Mirror\",\"rating\":\"TV-MA\",\"ratingLevel\":\"For mature audiences.  May not be suitable for children 17 and under.\",\"ratingDescription\":110,\"release year\":2016,\"user rating score\":\"80\",\"user rating size\":80}},{\"_index\":\"first\",\"_type\":\"_doc\",\"_id\":\"8eAtroEB90y2VnWmRUVO\",\"_score\":1.0,\"_source\":{\"title\":\"The Originals\",\"rating\":\"TV-14\",\"ratingLevel\":\"Parents strongly cautioned. May be unsuitable for children ages 14 and under.\",\"ratingDescription\":90,\"release year\":2016,\"user rating score\":\"74\",\"user rating size\":80}},{\"_index\":\"first\",\"_type\":\"_doc\",\"_id\":\"8uAtroEB90y2VnWmRUVO\",\"_score\":1.0,\"_source\":{\"title\":\"The 100\",\"rating\":\"NR\",\"ratingLevel\":\"This movie has not been rated.\",\"ratingDescription\":124,\"release year\":2016,\"user rating score\":\"97\",\"user rating size\":80}},{\"_index\":\"first\",\"_type\":\"_doc\",\"_id\":\"9-AtroEB90y2VnWmRUVO\",\"_score\":1.0,\"_source\":{\"title\":\"Marvel\\'s Luke Cage\",\"rating\":\"TV-MA\",\"ratingLevel\":\"For mature audiences.  May not be suitable for children 17 and under.\",\"ratingDescription\":110,\"release year\":2016,\"user rating score\":\"95\",\"user rating size\":80}},{\"_index\":\"first\",\"_type\":\"_doc\",\"_id\":\"-eAtroEB90y2VnWmRUVO\",\"_score\":1.0,\"_source\":{\"title\":\"Narcos\",\"rating\":\"TV-MA\",\"ratingLevel\":\"For mature audiences.  May not be suitable for children 17 and under.\",\"ratingDescription\":110,\"release year\":2016,\"user rating score\":\"94\",\"user rating size\":80}}]}}'"
      ]
     },
     "execution_count": 9,
     "metadata": {},
     "output_type": "execute_result"
    }
   ],
   "source": [
    "r.text"
   ]
  },
  {
   "cell_type": "code",
   "execution_count": 10,
   "id": "7e3d9e3c",
   "metadata": {},
   "outputs": [],
   "source": [
    "query={\n",
    "                    \"title\": \"Grey's Anatomy\",\n",
    "                    \"rating\": \"TV-14\",\n",
    "                    \"ratingLevel\": \"Parents strongly cautioned. May be unsuitable for children ages 14 and under.\",\n",
    "                    \"ratingDescription\": 90,\n",
    "                    \"release year\": 2019,\n",
    "                    \"user rating score\": \"98\",\n",
    "                    \"user rating size\": 80\n",
    "}\n",
    "headers={'Accept':'application/json','Content-type':'application/json'}\n",
    "r=requests.post('http://localhost:9200/first/_doc',headers=headers,json=query)"
   ]
  },
  {
   "cell_type": "code",
   "execution_count": 11,
   "id": "ae9de857",
   "metadata": {},
   "outputs": [
    {
     "data": {
      "text/plain": [
       "'{\"_index\":\"first\",\"_type\":\"_doc\",\"_id\":\"JSJM4oEBmW2av4McyLJ8\",\"_version\":1,\"result\":\"created\",\"_shards\":{\"total\":2,\"successful\":1,\"failed\":0},\"_seq_no\":1002,\"_primary_term\":10}'"
      ]
     },
     "execution_count": 11,
     "metadata": {},
     "output_type": "execute_result"
    }
   ],
   "source": [
    "r.text"
   ]
  },
  {
   "cell_type": "code",
   "execution_count": 12,
   "id": "5c7f03b7",
   "metadata": {},
   "outputs": [],
   "source": [
    "query={ \"query\": {\n",
    "    \"bool\": {\n",
    "      \"must\": [\n",
    "        {\n",
    "          \"bool\": {\n",
    "            \"should\": [\n",
    "              {\n",
    "                \"match\": {\n",
    "                  \"release year\": \"2018\"\n",
    "                }\n",
    "              }\n",
    "            ],\n",
    "            \"minimum_should_match\": 1\n",
    "          }\n",
    "        }\n",
    "      ]\n",
    "    }\n",
    " }\n",
    "}\n",
    "r=requests.post('http://localhost:9200/first/_search',json=query)"
   ]
  },
  {
   "cell_type": "code",
   "execution_count": 13,
   "id": "56dc8aea",
   "metadata": {},
   "outputs": [
    {
     "data": {
      "text/plain": [
       "'{\"took\":3,\"timed_out\":false,\"_shards\":{\"total\":1,\"successful\":1,\"skipped\":0,\"failed\":0},\"hits\":{\"total\":{\"value\":0,\"relation\":\"eq\"},\"max_score\":null,\"hits\":[]}}'"
      ]
     },
     "execution_count": 13,
     "metadata": {},
     "output_type": "execute_result"
    }
   ],
   "source": [
    "r.text"
   ]
  },
  {
   "cell_type": "code",
   "execution_count": 14,
   "id": "4626ef1b",
   "metadata": {},
   "outputs": [],
   "source": [
    "query={ \"query\": {\n",
    "    \"bool\": {\n",
    "      \"must\": [\n",
    "        {\n",
    "          \"bool\": {\n",
    "            \"should\": [\n",
    "              {\n",
    "                \"match\": {\n",
    "                  \"release year\": \"2019\"\n",
    "                }\n",
    "              }\n",
    "            ],\n",
    "            \"minimum_should_match\": 1\n",
    "          }\n",
    "        }\n",
    "      ]\n",
    "    }\n",
    " }\n",
    "}\n",
    "r=requests.post('http://localhost:9200/first/_search',json=query)"
   ]
  },
  {
   "cell_type": "code",
   "execution_count": 15,
   "id": "aeeed808",
   "metadata": {},
   "outputs": [
    {
     "data": {
      "text/plain": [
       "'{\"took\":2,\"timed_out\":false,\"_shards\":{\"total\":1,\"successful\":1,\"skipped\":0,\"failed\":0},\"hits\":{\"total\":{\"value\":3,\"relation\":\"eq\"},\"max_score\":1.0,\"hits\":[{\"_index\":\"first\",\"_type\":\"_doc\",\"_id\":\"x-AuroEB90y2VnWmt0mr\",\"_score\":1.0,\"_source\":{\"title\": \"Grey\\'s Anatomy\", \"rating\": \"TV-14\", \"ratingLevel\": \"Parents strongly cautioned. May be unsuitable for children ages 14 and under.\", \"ratingDescription\": 90, \"release year\": 2019, \"user rating score\": \"98\", \"user rating size\": 80}},{\"_index\":\"first\",\"_type\":\"_doc\",\"_id\":\"xdwGs4EBUbIlYlCnl4oI\",\"_score\":1.0,\"_source\":{\"title\": \"Grey\\'s Anatomy\", \"rating\": \"TV-14\", \"ratingLevel\": \"Parents strongly cautioned. May be unsuitable for children ages 14 and under.\", \"ratingDescription\": 90, \"release year\": 2019, \"user rating score\": \"98\", \"user rating size\": 80}},{\"_index\":\"first\",\"_type\":\"_doc\",\"_id\":\"JSJM4oEBmW2av4McyLJ8\",\"_score\":1.0,\"_source\":{\"title\": \"Grey\\'s Anatomy\", \"rating\": \"TV-14\", \"ratingLevel\": \"Parents strongly cautioned. May be unsuitable for children ages 14 and under.\", \"ratingDescription\": 90, \"release year\": 2019, \"user rating score\": \"98\", \"user rating size\": 80}}]}}'"
      ]
     },
     "execution_count": 15,
     "metadata": {},
     "output_type": "execute_result"
    }
   ],
   "source": [
    "r.text"
   ]
  },
  {
   "cell_type": "code",
   "execution_count": 16,
   "id": "b81f9295",
   "metadata": {},
   "outputs": [],
   "source": [
    "query={ \"query\": {\n",
    "    \"bool\": {\n",
    "      \"must\": [\n",
    "        {\n",
    "          \"bool\": {\n",
    "            \"should\": [\n",
    "              {\n",
    "                \"match\": {\n",
    "                  \"release year\": \"2019\"\n",
    "                }\n",
    "              }\n",
    "            ],\n",
    "            \"minimum_should_match\": 1\n",
    "          }\n",
    "        }\n",
    "      ]\n",
    "    }\n",
    " }\n",
    "}\n",
    "r=requests.post('http://localhost:9200/first/_search',json=query)"
   ]
  },
  {
   "cell_type": "code",
   "execution_count": 17,
   "id": "5d50de8d",
   "metadata": {},
   "outputs": [
    {
     "data": {
      "text/plain": [
       "'{\"took\":0,\"timed_out\":false,\"_shards\":{\"total\":1,\"successful\":1,\"skipped\":0,\"failed\":0},\"hits\":{\"total\":{\"value\":3,\"relation\":\"eq\"},\"max_score\":1.0,\"hits\":[{\"_index\":\"first\",\"_type\":\"_doc\",\"_id\":\"x-AuroEB90y2VnWmt0mr\",\"_score\":1.0,\"_source\":{\"title\": \"Grey\\'s Anatomy\", \"rating\": \"TV-14\", \"ratingLevel\": \"Parents strongly cautioned. May be unsuitable for children ages 14 and under.\", \"ratingDescription\": 90, \"release year\": 2019, \"user rating score\": \"98\", \"user rating size\": 80}},{\"_index\":\"first\",\"_type\":\"_doc\",\"_id\":\"xdwGs4EBUbIlYlCnl4oI\",\"_score\":1.0,\"_source\":{\"title\": \"Grey\\'s Anatomy\", \"rating\": \"TV-14\", \"ratingLevel\": \"Parents strongly cautioned. May be unsuitable for children ages 14 and under.\", \"ratingDescription\": 90, \"release year\": 2019, \"user rating score\": \"98\", \"user rating size\": 80}},{\"_index\":\"first\",\"_type\":\"_doc\",\"_id\":\"JSJM4oEBmW2av4McyLJ8\",\"_score\":1.0,\"_source\":{\"title\": \"Grey\\'s Anatomy\", \"rating\": \"TV-14\", \"ratingLevel\": \"Parents strongly cautioned. May be unsuitable for children ages 14 and under.\", \"ratingDescription\": 90, \"release year\": 2019, \"user rating score\": \"98\", \"user rating size\": 80}}]}}'"
      ]
     },
     "execution_count": 17,
     "metadata": {},
     "output_type": "execute_result"
    }
   ],
   "source": [
    "r.text"
   ]
  },
  {
   "cell_type": "code",
   "execution_count": 18,
   "id": "0af86c5a",
   "metadata": {},
   "outputs": [],
   "source": [
    "query={ \"query\": {\n",
    "    \"bool\": {\n",
    "      \"must\": [\n",
    "        {\n",
    "          \"bool\": {\n",
    "            \"should\": [\n",
    "              {\n",
    "                \"match\": {\n",
    "                  \"release year\": \"2017\"\n",
    "                }\n",
    "              }\n",
    "            ],\n",
    "            \"minimum_should_match\": 1\n",
    "          }\n",
    "        }\n",
    "      ]\n",
    "    }\n",
    " }\n",
    "}\n",
    "r=requests.post('http://localhost:9200/first/_search',json=query)"
   ]
  },
  {
   "cell_type": "code",
   "execution_count": 19,
   "id": "ae6444b9",
   "metadata": {},
   "outputs": [
    {
     "data": {
      "text/plain": [
       "<Response [200]>"
      ]
     },
     "execution_count": 19,
     "metadata": {},
     "output_type": "execute_result"
    }
   ],
   "source": [
    "r"
   ]
  },
  {
   "cell_type": "code",
   "execution_count": 20,
   "id": "6889da86",
   "metadata": {},
   "outputs": [
    {
     "data": {
      "text/plain": [
       "'{\"took\":43,\"timed_out\":false,\"_shards\":{\"total\":1,\"successful\":1,\"skipped\":0,\"failed\":0},\"hits\":{\"total\":{\"value\":100,\"relation\":\"eq\"},\"max_score\":1.0,\"hits\":[{\"_index\":\"first\",\"_type\":\"_doc\",\"_id\":\"5uAtroEB90y2VnWmRUVO\",\"_score\":1.0,\"_source\":{\"title\":\"The Vampire Diaries\",\"rating\":\"TV-14\",\"ratingLevel\":\"Parents strongly cautioned. May be unsuitable for children ages 14 and under.\",\"ratingDescription\":90,\"release year\":2017,\"user rating score\":\"91\",\"user rating size\":80}},{\"_index\":\"first\",\"_type\":\"_doc\",\"_id\":\"-OAtroEB90y2VnWmRUVO\",\"_score\":1.0,\"_source\":{\"title\":\"Marvel\\'s Iron Fist\",\"rating\":\"TV-MA\",\"ratingDescription\":110,\"release year\":2017,\"user rating score\":\"98\",\"user rating size\":80}},{\"_index\":\"first\",\"_type\":\"_doc\",\"_id\":\"A-AtroEB90y2VnWmRUZO\",\"_score\":1.0,\"_source\":{\"title\":\"Santa Clarita Diet\",\"rating\":\"TV-MA\",\"ratingLevel\":\"For mature audiences.  May not be suitable for children 17 and under.\",\"ratingDescription\":110,\"release year\":2017,\"user rating score\":\"82\",\"user rating size\":80}},{\"_index\":\"first\",\"_type\":\"_doc\",\"_id\":\"BuAtroEB90y2VnWmRUZO\",\"_score\":1.0,\"_source\":{\"title\":\"Girlboss\",\"rating\":\"TV-MA\",\"ratingDescription\":110,\"release year\":2017,\"user rating score\":\"94\",\"user rating size\":80}},{\"_index\":\"first\",\"_type\":\"_doc\",\"_id\":\"COAtroEB90y2VnWmRUZO\",\"_score\":1.0,\"_source\":{\"title\":\"13 Reasons Why\",\"rating\":\"TV-MA\",\"ratingLevel\":\"For mature audiences.  May not be suitable for children 17 and under.\",\"ratingDescription\":110,\"release year\":2017,\"user rating score\":\"99\",\"user rating size\":80}},{\"_index\":\"first\",\"_type\":\"_doc\",\"_id\":\"CeAtroEB90y2VnWmRUZO\",\"_score\":1.0,\"_source\":{\"title\":\"Sand Castle\",\"rating\":\"TV-MA\",\"ratingDescription\":110,\"release year\":2017,\"user rating score\":\"89\",\"user rating size\":80}},{\"_index\":\"first\",\"_type\":\"_doc\",\"_id\":\"C-AtroEB90y2VnWmRUZO\",\"_score\":1.0,\"_source\":{\"title\":\"Sandy Wexler\",\"rating\":\"TV-14\",\"ratingDescription\":90,\"release year\":2017,\"user rating score\":\"92\",\"user rating size\":80}},{\"_index\":\"first\",\"_type\":\"_doc\",\"_id\":\"HOAtroEB90y2VnWmRUZP\",\"_score\":1.0,\"_source\":{\"title\":\"The Vampire Diaries\",\"rating\":\"TV-14\",\"ratingLevel\":\"Parents strongly cautioned. May be unsuitable for children ages 14 and under.\",\"ratingDescription\":90,\"release year\":2017,\"user rating score\":\"91\",\"user rating size\":80}},{\"_index\":\"first\",\"_type\":\"_doc\",\"_id\":\"LOAtroEB90y2VnWmRUZP\",\"_score\":1.0,\"_source\":{\"title\":\"Marvel\\'s Iron Fist\",\"rating\":\"TV-MA\",\"ratingDescription\":110,\"release year\":2017,\"user rating score\":\"98\",\"user rating size\":80}},{\"_index\":\"first\",\"_type\":\"_doc\",\"_id\":\"LeAtroEB90y2VnWmRUZP\",\"_score\":1.0,\"_source\":{\"title\":\"Grace and Frankie\",\"rating\":\"TV-MA\",\"ratingLevel\":\"For mature audiences.  May not be suitable for children 17 and under.\",\"ratingDescription\":110,\"release year\":2017,\"user rating score\":\"90\",\"user rating size\":80}}]}}'"
      ]
     },
     "execution_count": 20,
     "metadata": {},
     "output_type": "execute_result"
    }
   ],
   "source": [
    "r.text"
   ]
  },
  {
   "cell_type": "code",
   "execution_count": 28,
   "id": "caac80b6",
   "metadata": {},
   "outputs": [],
   "source": [
    "query={\n",
    "    \"query\":{\n",
    "       \"match\": {\n",
    "                  \"_id\": \"CeAtroEB90y2VnWmRUZO\"\n",
    "                }  \n",
    "    }\n",
    "}\n",
    "r=requests.post('http://localhost:9200/first/_search',json=query)"
   ]
  },
  {
   "cell_type": "code",
   "execution_count": 29,
   "id": "3deed0cf",
   "metadata": {},
   "outputs": [
    {
     "data": {
      "text/plain": [
       "<Response [200]>"
      ]
     },
     "execution_count": 29,
     "metadata": {},
     "output_type": "execute_result"
    }
   ],
   "source": [
    "r"
   ]
  },
  {
   "cell_type": "code",
   "execution_count": 30,
   "id": "1e5eae4a",
   "metadata": {},
   "outputs": [
    {
     "data": {
      "text/plain": [
       "'{\"took\":0,\"timed_out\":false,\"_shards\":{\"total\":1,\"successful\":1,\"skipped\":0,\"failed\":0},\"hits\":{\"total\":{\"value\":1,\"relation\":\"eq\"},\"max_score\":1.0,\"hits\":[{\"_index\":\"first\",\"_type\":\"_doc\",\"_id\":\"CeAtroEB90y2VnWmRUZO\",\"_score\":1.0,\"_source\":{\"title\":\"Sand Castle\",\"rating\":\"TV-MA\",\"ratingDescription\":110,\"release year\":2017,\"user rating score\":\"89\",\"user rating size\":80}}]}}'"
      ]
     },
     "execution_count": 30,
     "metadata": {},
     "output_type": "execute_result"
    }
   ],
   "source": [
    "r.text"
   ]
  },
  {
   "cell_type": "code",
   "execution_count": 31,
   "id": "4a8c410a",
   "metadata": {},
   "outputs": [],
   "source": [
    "query={\n",
    "    \"query\":{\n",
    "       \"match\": {\n",
    "                  \"_id\": \"5\"\n",
    "                }  \n",
    "    }\n",
    "}\n",
    "r=requests.post('http://localhost:9200/first/_search',json=query)"
   ]
  },
  {
   "cell_type": "code",
   "execution_count": 32,
   "id": "9e848995",
   "metadata": {},
   "outputs": [
    {
     "data": {
      "text/plain": [
       "<Response [200]>"
      ]
     },
     "execution_count": 32,
     "metadata": {},
     "output_type": "execute_result"
    }
   ],
   "source": [
    "r"
   ]
  },
  {
   "cell_type": "code",
   "execution_count": 33,
   "id": "d46287b2",
   "metadata": {},
   "outputs": [
    {
     "data": {
      "text/plain": [
       "'{\"took\":0,\"timed_out\":false,\"_shards\":{\"total\":1,\"successful\":1,\"skipped\":0,\"failed\":0},\"hits\":{\"total\":{\"value\":0,\"relation\":\"eq\"},\"max_score\":null,\"hits\":[]}}'"
      ]
     },
     "execution_count": 33,
     "metadata": {},
     "output_type": "execute_result"
    }
   ],
   "source": [
    "r.text"
   ]
  },
  {
   "cell_type": "code",
   "execution_count": 34,
   "id": "87684a46",
   "metadata": {},
   "outputs": [],
   "source": [
    "query={ \"query\": {\n",
    "    \"bool\": {\n",
    "      \"must\": [\n",
    "        {\n",
    "          \"bool\": {\n",
    "            \"should\": [\n",
    "              {\n",
    "                \"match\": {\n",
    "                  \"rating\": \"TV-MA\"\n",
    "                }\n",
    "              }\n",
    "            ],\n",
    "            \"minimum_should_match\": 1\n",
    "          }\n",
    "        }\n",
    "      ]\n",
    "    }\n",
    " }\n",
    "}\n",
    "r=requests.post('http://localhost:9200/first/_search',json=query)"
   ]
  },
  {
   "cell_type": "code",
   "execution_count": 35,
   "id": "0b7b4900",
   "metadata": {},
   "outputs": [
    {
     "data": {
      "text/plain": [
       "<Response [200]>"
      ]
     },
     "execution_count": 35,
     "metadata": {},
     "output_type": "execute_result"
    }
   ],
   "source": [
    "r"
   ]
  },
  {
   "cell_type": "code",
   "execution_count": 36,
   "id": "f15879e2",
   "metadata": {},
   "outputs": [
    {
     "data": {
      "text/plain": [
       "'{\"took\":7,\"timed_out\":false,\"_shards\":{\"total\":1,\"successful\":1,\"skipped\":0,\"failed\":0},\"hits\":{\"total\":{\"value\":148,\"relation\":\"eq\"},\"max_score\":1.9101658,\"hits\":[{\"_index\":\"first\",\"_type\":\"_doc\",\"_id\":\"5eAtroEB90y2VnWmRUVO\",\"_score\":1.9101658,\"_source\":{\"title\":\"Breaking Bad\",\"rating\":\"TV-MA\",\"ratingLevel\":\"For mature audiences.  May not be suitable for children 17 and under.\",\"ratingDescription\":110,\"release year\":2013,\"user rating score\":\"97\",\"user rating size\":80}},{\"_index\":\"first\",\"_type\":\"_doc\",\"_id\":\"5-AtroEB90y2VnWmRUVO\",\"_score\":1.9101658,\"_source\":{\"title\":\"The Walking Dead\",\"rating\":\"TV-MA\",\"ratingLevel\":\"For mature audiences.  May not be suitable for children 17 and under.\",\"ratingDescription\":110,\"release year\":2015,\"user rating score\":\"98\",\"user rating size\":80}},{\"_index\":\"first\",\"_type\":\"_doc\",\"_id\":\"8OAtroEB90y2VnWmRUVO\",\"_score\":1.9101658,\"_source\":{\"title\":\"Black Mirror\",\"rating\":\"TV-MA\",\"ratingLevel\":\"For mature audiences.  May not be suitable for children 17 and under.\",\"ratingDescription\":110,\"release year\":2016,\"user rating score\":\"80\",\"user rating size\":80}},{\"_index\":\"first\",\"_type\":\"_doc\",\"_id\":\"9OAtroEB90y2VnWmRUVO\",\"_score\":1.9101658,\"_source\":{\"title\":\"Ã“ Pai, Ã“ - Look at This\",\"rating\":\"TV-MA\",\"ratingLevel\":\"For mature audiences.  May not be suitable for children 17 and under.\",\"ratingDescription\":110,\"release year\":2007,\"user rating score\":\"NA\",\"user rating size\":82}},{\"_index\":\"first\",\"_type\":\"_doc\",\"_id\":\"9-AtroEB90y2VnWmRUVO\",\"_score\":1.9101658,\"_source\":{\"title\":\"Marvel\\'s Luke Cage\",\"rating\":\"TV-MA\",\"ratingLevel\":\"For mature audiences.  May not be suitable for children 17 and under.\",\"ratingDescription\":110,\"release year\":2016,\"user rating score\":\"95\",\"user rating size\":80}},{\"_index\":\"first\",\"_type\":\"_doc\",\"_id\":\"-OAtroEB90y2VnWmRUVO\",\"_score\":1.9101658,\"_source\":{\"title\":\"Marvel\\'s Iron Fist\",\"rating\":\"TV-MA\",\"ratingDescription\":110,\"release year\":2017,\"user rating score\":\"98\",\"user rating size\":80}},{\"_index\":\"first\",\"_type\":\"_doc\",\"_id\":\"-eAtroEB90y2VnWmRUVO\",\"_score\":1.9101658,\"_source\":{\"title\":\"Narcos\",\"rating\":\"TV-MA\",\"ratingLevel\":\"For mature audiences.  May not be suitable for children 17 and under.\",\"ratingDescription\":110,\"release year\":2016,\"user rating score\":\"94\",\"user rating size\":80}},{\"_index\":\"first\",\"_type\":\"_doc\",\"_id\":\"_eAtroEB90y2VnWmRUVO\",\"_score\":1.9101658,\"_source\":{\"title\":\"The Do-Over\",\"rating\":\"TV-MA\",\"ratingLevel\":\"For mature audiences.  May not be suitable for children 17 and under.\",\"ratingDescription\":110,\"release year\":2016,\"user rating score\":\"84\",\"user rating size\":80}},{\"_index\":\"first\",\"_type\":\"_doc\",\"_id\":\"_uAtroEB90y2VnWmRUVO\",\"_score\":1.9101658,\"_source\":{\"title\":\"OperaÃ§Ãµes Especiais\",\"rating\":\"TV-MA\",\"ratingDescription\":110,\"release year\":2015,\"user rating score\":\"NA\",\"user rating size\":82}},{\"_index\":\"first\",\"_type\":\"_doc\",\"_id\":\"_-AtroEB90y2VnWmRUVO\",\"_score\":1.9101658,\"_source\":{\"title\":\"3%\",\"rating\":\"TV-MA\",\"ratingLevel\":\"For mature audiences.  May not be suitable for children 17 and under.\",\"ratingDescription\":110,\"release year\":2016,\"user rating score\":\"NA\",\"user rating size\":82}}]}}'"
      ]
     },
     "execution_count": 36,
     "metadata": {},
     "output_type": "execute_result"
    }
   ],
   "source": [
    "r.text"
   ]
  },
  {
   "cell_type": "code",
   "execution_count": 37,
   "id": "77d059c6",
   "metadata": {},
   "outputs": [],
   "source": [
    "query={ \"query\": {\n",
    "    \"bool\": {\n",
    "      \"must\": [\n",
    "        {\n",
    "          \"bool\": {\n",
    "            \"should\": [\n",
    "              {\n",
    "                \"match\": {\n",
    "                  \"user rating size\": 82\n",
    "                }\n",
    "              }\n",
    "            ],\n",
    "            \"minimum_should_match\": 1\n",
    "          }\n",
    "        }\n",
    "      ]\n",
    "    }\n",
    " }\n",
    "}\n",
    "r=requests.post('http://localhost:9200/first/_search',json=query)"
   ]
  },
  {
   "cell_type": "code",
   "execution_count": 38,
   "id": "9f59f969",
   "metadata": {},
   "outputs": [
    {
     "data": {
      "text/plain": [
       "<Response [200]>"
      ]
     },
     "execution_count": 38,
     "metadata": {},
     "output_type": "execute_result"
    }
   ],
   "source": [
    "r"
   ]
  },
  {
   "cell_type": "code",
   "execution_count": 39,
   "id": "ebf21d45",
   "metadata": {},
   "outputs": [
    {
     "data": {
      "text/plain": [
       "'{\"took\":2,\"timed_out\":false,\"_shards\":{\"total\":1,\"successful\":1,\"skipped\":0,\"failed\":0},\"hits\":{\"total\":{\"value\":388,\"relation\":\"eq\"},\"max_score\":1.0,\"hits\":[{\"_index\":\"first\",\"_type\":\"_doc\",\"_id\":\"4OAtroEB90y2VnWmRUVM\",\"_score\":1.0,\"_source\":{\"title\":\"Lucky Number Slevin\",\"rating\":\"R\",\"ratingLevel\":\"strong violence, sexual content and adult language\",\"ratingDescription\":100,\"release year\":2006,\"user rating score\":\"NA\",\"user rating size\":82}},{\"_index\":\"first\",\"_type\":\"_doc\",\"_id\":\"7eAtroEB90y2VnWmRUVO\",\"_score\":1.0,\"_source\":{\"title\":\"The Hunter\",\"rating\":\"R\",\"ratingLevel\":\"language and brief violence\",\"ratingDescription\":100,\"release year\":2011,\"user rating score\":\"NA\",\"user rating size\":82}},{\"_index\":\"first\",\"_type\":\"_doc\",\"_id\":\"7uAtroEB90y2VnWmRUVO\",\"_score\":1.0,\"_source\":{\"title\":\"Lottie Dottie Chicken\",\"rating\":\"TV-Y\",\"ratingLevel\":\"Suitable for all ages.\",\"ratingDescription\":10,\"release year\":2009,\"user rating score\":\"NA\",\"user rating size\":82}},{\"_index\":\"first\",\"_type\":\"_doc\",\"_id\":\"9OAtroEB90y2VnWmRUVO\",\"_score\":1.0,\"_source\":{\"title\":\"Ã“ Pai, Ã“ - Look at This\",\"rating\":\"TV-MA\",\"ratingLevel\":\"For mature audiences.  May not be suitable for children 17 and under.\",\"ratingDescription\":110,\"release year\":2007,\"user rating score\":\"NA\",\"user rating size\":82}},{\"_index\":\"first\",\"_type\":\"_doc\",\"_id\":\"9eAtroEB90y2VnWmRUVO\",\"_score\":1.0,\"_source\":{\"title\":\"Nymphomaniac: Volume 1\",\"rating\":\"NR\",\"ratingLevel\":\"This movie has not been rated.\",\"ratingDescription\":124,\"release year\":2013,\"user rating score\":\"NA\",\"user rating size\":82}},{\"_index\":\"first\",\"_type\":\"_doc\",\"_id\":\"--AtroEB90y2VnWmRUVO\",\"_score\":1.0,\"_source\":{\"title\":\"The Seven Deadly Sins\",\"rating\":\"TV-14\",\"ratingLevel\":\"Parents strongly cautioned. May be unsuitable for children ages 14 and under.\",\"ratingDescription\":90,\"release year\":2016,\"user rating score\":\"NA\",\"user rating size\":82}},{\"_index\":\"first\",\"_type\":\"_doc\",\"_id\":\"_OAtroEB90y2VnWmRUVO\",\"_score\":1.0,\"_source\":{\"title\":\"Scream\",\"rating\":\"TV-14\",\"ratingLevel\":\"Parents strongly cautioned. May be unsuitable for children ages 14 and under.\",\"ratingDescription\":90,\"release year\":2016,\"user rating score\":\"NA\",\"user rating size\":82}},{\"_index\":\"first\",\"_type\":\"_doc\",\"_id\":\"_uAtroEB90y2VnWmRUVO\",\"_score\":1.0,\"_source\":{\"title\":\"OperaÃ§Ãµes Especiais\",\"rating\":\"TV-MA\",\"ratingDescription\":110,\"release year\":2015,\"user rating score\":\"NA\",\"user rating size\":82}},{\"_index\":\"first\",\"_type\":\"_doc\",\"_id\":\"_-AtroEB90y2VnWmRUVO\",\"_score\":1.0,\"_source\":{\"title\":\"3%\",\"rating\":\"TV-MA\",\"ratingLevel\":\"For mature audiences.  May not be suitable for children 17 and under.\",\"ratingDescription\":110,\"release year\":2016,\"user rating score\":\"NA\",\"user rating size\":82}},{\"_index\":\"first\",\"_type\":\"_doc\",\"_id\":\"AeAtroEB90y2VnWmRUZO\",\"_score\":1.0,\"_source\":{\"title\":\"Fearless\",\"rating\":\"TV-14\",\"ratingLevel\":\"Parents strongly cautioned. May be unsuitable for children ages 14 and under.\",\"ratingDescription\":90,\"release year\":2016,\"user rating score\":\"NA\",\"user rating size\":82}}]}}'"
      ]
     },
     "execution_count": 39,
     "metadata": {},
     "output_type": "execute_result"
    }
   ],
   "source": [
    "r.text"
   ]
  },
  {
   "cell_type": "code",
   "execution_count": 41,
   "id": "8ee30258",
   "metadata": {},
   "outputs": [],
   "source": [
    "query={ \"query\": {\n",
    "                \"match\": {\n",
    "                  \"user rating size\": 82\n",
    "                }\n",
    "    }\n",
    "}\n",
    "r=requests.post('http://localhost:9200/first/_search',json=query)"
   ]
  },
  {
   "cell_type": "code",
   "execution_count": 42,
   "id": "8d943b27",
   "metadata": {},
   "outputs": [
    {
     "data": {
      "text/plain": [
       "<Response [200]>"
      ]
     },
     "execution_count": 42,
     "metadata": {},
     "output_type": "execute_result"
    }
   ],
   "source": [
    "r"
   ]
  },
  {
   "cell_type": "code",
   "execution_count": 44,
   "id": "ca9c920a",
   "metadata": {},
   "outputs": [
    {
     "data": {
      "text/plain": [
       "'{\"took\":1,\"timed_out\":false,\"_shards\":{\"total\":1,\"successful\":1,\"skipped\":0,\"failed\":0},\"hits\":{\"total\":{\"value\":388,\"relation\":\"eq\"},\"max_score\":1.0,\"hits\":[{\"_index\":\"first\",\"_type\":\"_doc\",\"_id\":\"4OAtroEB90y2VnWmRUVM\",\"_score\":1.0,\"_source\":{\"title\":\"Lucky Number Slevin\",\"rating\":\"R\",\"ratingLevel\":\"strong violence, sexual content and adult language\",\"ratingDescription\":100,\"release year\":2006,\"user rating score\":\"NA\",\"user rating size\":82}},{\"_index\":\"first\",\"_type\":\"_doc\",\"_id\":\"7eAtroEB90y2VnWmRUVO\",\"_score\":1.0,\"_source\":{\"title\":\"The Hunter\",\"rating\":\"R\",\"ratingLevel\":\"language and brief violence\",\"ratingDescription\":100,\"release year\":2011,\"user rating score\":\"NA\",\"user rating size\":82}},{\"_index\":\"first\",\"_type\":\"_doc\",\"_id\":\"7uAtroEB90y2VnWmRUVO\",\"_score\":1.0,\"_source\":{\"title\":\"Lottie Dottie Chicken\",\"rating\":\"TV-Y\",\"ratingLevel\":\"Suitable for all ages.\",\"ratingDescription\":10,\"release year\":2009,\"user rating score\":\"NA\",\"user rating size\":82}},{\"_index\":\"first\",\"_type\":\"_doc\",\"_id\":\"9OAtroEB90y2VnWmRUVO\",\"_score\":1.0,\"_source\":{\"title\":\"Ã“ Pai, Ã“ - Look at This\",\"rating\":\"TV-MA\",\"ratingLevel\":\"For mature audiences.  May not be suitable for children 17 and under.\",\"ratingDescription\":110,\"release year\":2007,\"user rating score\":\"NA\",\"user rating size\":82}},{\"_index\":\"first\",\"_type\":\"_doc\",\"_id\":\"9eAtroEB90y2VnWmRUVO\",\"_score\":1.0,\"_source\":{\"title\":\"Nymphomaniac: Volume 1\",\"rating\":\"NR\",\"ratingLevel\":\"This movie has not been rated.\",\"ratingDescription\":124,\"release year\":2013,\"user rating score\":\"NA\",\"user rating size\":82}},{\"_index\":\"first\",\"_type\":\"_doc\",\"_id\":\"--AtroEB90y2VnWmRUVO\",\"_score\":1.0,\"_source\":{\"title\":\"The Seven Deadly Sins\",\"rating\":\"TV-14\",\"ratingLevel\":\"Parents strongly cautioned. May be unsuitable for children ages 14 and under.\",\"ratingDescription\":90,\"release year\":2016,\"user rating score\":\"NA\",\"user rating size\":82}},{\"_index\":\"first\",\"_type\":\"_doc\",\"_id\":\"_OAtroEB90y2VnWmRUVO\",\"_score\":1.0,\"_source\":{\"title\":\"Scream\",\"rating\":\"TV-14\",\"ratingLevel\":\"Parents strongly cautioned. May be unsuitable for children ages 14 and under.\",\"ratingDescription\":90,\"release year\":2016,\"user rating score\":\"NA\",\"user rating size\":82}},{\"_index\":\"first\",\"_type\":\"_doc\",\"_id\":\"_uAtroEB90y2VnWmRUVO\",\"_score\":1.0,\"_source\":{\"title\":\"OperaÃ§Ãµes Especiais\",\"rating\":\"TV-MA\",\"ratingDescription\":110,\"release year\":2015,\"user rating score\":\"NA\",\"user rating size\":82}},{\"_index\":\"first\",\"_type\":\"_doc\",\"_id\":\"_-AtroEB90y2VnWmRUVO\",\"_score\":1.0,\"_source\":{\"title\":\"3%\",\"rating\":\"TV-MA\",\"ratingLevel\":\"For mature audiences.  May not be suitable for children 17 and under.\",\"ratingDescription\":110,\"release year\":2016,\"user rating score\":\"NA\",\"user rating size\":82}},{\"_index\":\"first\",\"_type\":\"_doc\",\"_id\":\"AeAtroEB90y2VnWmRUZO\",\"_score\":1.0,\"_source\":{\"title\":\"Fearless\",\"rating\":\"TV-14\",\"ratingLevel\":\"Parents strongly cautioned. May be unsuitable for children ages 14 and under.\",\"ratingDescription\":90,\"release year\":2016,\"user rating score\":\"NA\",\"user rating size\":82}}]}}'"
      ]
     },
     "execution_count": 44,
     "metadata": {},
     "output_type": "execute_result"
    }
   ],
   "source": [
    "r.text"
   ]
  },
  {
   "cell_type": "code",
   "execution_count": 38,
   "id": "15148a92",
   "metadata": {},
   "outputs": [
    {
     "name": "stdout",
     "output_type": "stream",
     "text": [
      "Requirement already satisfied: PyPDF2 in c:\\users\\hp\\anaconda3\\lib\\site-packages (2.5.0)\n",
      "Requirement already satisfied: typing-extensions in c:\\users\\hp\\anaconda3\\lib\\site-packages (from PyPDF2) (4.1.1)\n"
     ]
    }
   ],
   "source": [
    "!pip install PyPDF2"
   ]
  },
  {
   "cell_type": "code",
   "execution_count": 39,
   "id": "371cddfd",
   "metadata": {},
   "outputs": [],
   "source": [
    "import PyPDF2"
   ]
  },
  {
   "cell_type": "code",
   "execution_count": 40,
   "id": "bf54f302",
   "metadata": {},
   "outputs": [],
   "source": [
    "pdfFileObj=open('Yash Tariyal_Cover Letter.pdf','rb')"
   ]
  },
  {
   "cell_type": "code",
   "execution_count": 41,
   "id": "c03b89a1",
   "metadata": {},
   "outputs": [],
   "source": [
    "pdfReader = PyPDF2.PdfFileReader(pdfFileObj)"
   ]
  },
  {
   "cell_type": "code",
   "execution_count": 42,
   "id": "3eda27ab",
   "metadata": {},
   "outputs": [
    {
     "name": "stdout",
     "output_type": "stream",
     "text": [
      "1\n"
     ]
    }
   ],
   "source": [
    "print(pdfReader.numPages)"
   ]
  },
  {
   "cell_type": "code",
   "execution_count": 43,
   "id": "917491cc",
   "metadata": {},
   "outputs": [],
   "source": [
    "pageObj = pdfReader.getPage(0)"
   ]
  },
  {
   "cell_type": "code",
   "execution_count": 44,
   "id": "079251bf",
   "metadata": {},
   "outputs": [
    {
     "name": "stdout",
     "output_type": "stream",
     "text": [
      "Yash Tari\n",
      " yal\n",
      " \n",
      "\n",
      "Dehradun, Uttarakhand 248001\n",
      " | \n",
      "9760621260\n",
      "| \n",
      "yashtariyal4@gmail.com\n",
      "  \n",
      "\n",
      "July 1\n",
      "2\n",
      ", 2022\n",
      " \n",
      "\n",
      "Wipro\n",
      " \n",
      "\n",
      "RE: \n",
      "Software\n",
      " \n",
      "Developer\n",
      " \n",
      "Role\n",
      " \n",
      "\n",
      "Dear \n",
      " \n",
      "\n",
      "I am contacting you to express my interest in the \n",
      " Software\n",
      " \n",
      "Developer\n",
      " \n",
      "Role\n",
      " \n",
      "opportunity with \n",
      "Wipro\n",
      ". After \n",
      "\n",
      "reviewing the position requirements, I believe that my\n",
      "  \n",
      "q\n",
      "u\n",
      "alifications and education are a great match.\n",
      "  \n",
      "\n",
      "I am a hard worker who is skilled in prob\n",
      " lem\n",
      "-\n",
      "solving and time management. I take initiative and get \n",
      "\n",
      "things done on my own as well as with others. I catch on quickly and work hard to continuously learn new \n",
      "\n",
      "skills. Just a few of my abilities include\n",
      "  \n",
      "\n",
      "• Project Support\n",
      " \n",
      "\n",
      "• Operations Support\n",
      "  \n",
      "\n",
      "• Team P\n",
      "layer\n",
      " \n",
      "\n",
      "I am certain that I will be a great addition to your company.\n",
      "  \n",
      "\n",
      "I would greatly appreciate your review of my enclosed resume and outlined credentials. I believe that I \n",
      "\n",
      "can be a valuable addition to \n",
      " Wipro\n",
      " \n",
      "and your business goals. At your c\n",
      " onvenience, I am available for an \n",
      "\n",
      "interview or further discussion. I look forward to your response.\n",
      "  \n",
      "\n",
      "Sincerely,\n",
      " \n",
      "\n",
      "Yash Tariyal\n",
      " \n"
     ]
    }
   ],
   "source": [
    "print(pageObj.extractText())"
   ]
  },
  {
   "cell_type": "code",
   "execution_count": 45,
   "id": "f2ca20b0",
   "metadata": {},
   "outputs": [],
   "source": [
    "Pdf_String=pageObj.extractText()"
   ]
  },
  {
   "cell_type": "code",
   "execution_count": 46,
   "id": "f16188c9",
   "metadata": {},
   "outputs": [
    {
     "data": {
      "text/plain": [
       "'Yash Tari\\n yal\\n \\n\\nDehradun, Uttarakhand 248001\\n | \\n9760621260\\n| \\nyashtariyal4@gmail.com\\n  \\n\\nJuly 1\\n2\\n, 2022\\n \\n\\nWipro\\n \\n\\nRE: \\nSoftware\\n \\nDeveloper\\n \\nRole\\n \\n\\nDear \\n \\n\\nI am contacting you to express my interest in the \\n Software\\n \\nDeveloper\\n \\nRole\\n \\nopportunity with \\nWipro\\n. After \\n\\nreviewing the position requirements, I believe that my\\n  \\nq\\nu\\nalifications and education are a great match.\\n  \\n\\nI am a hard worker who is skilled in prob\\n lem\\n-\\nsolving and time management. I take initiative and get \\n\\nthings done on my own as well as with others. I catch on quickly and work hard to continuously learn new \\n\\nskills. Just a few of my abilities include\\n  \\n\\n• Project Support\\n \\n\\n• Operations Support\\n  \\n\\n• Team P\\nlayer\\n \\n\\nI am certain that I will be a great addition to your company.\\n  \\n\\nI would greatly appreciate your review of my enclosed resume and outlined credentials. I believe that I \\n\\ncan be a valuable addition to \\n Wipro\\n \\nand your business goals. At your c\\n onvenience, I am available for an \\n\\ninterview or further discussion. I look forward to your response.\\n  \\n\\nSincerely,\\n \\n\\nYash Tariyal\\n '"
      ]
     },
     "execution_count": 46,
     "metadata": {},
     "output_type": "execute_result"
    }
   ],
   "source": [
    "Pdf_String"
   ]
  },
  {
   "cell_type": "code",
   "execution_count": 9,
   "id": "105211af",
   "metadata": {},
   "outputs": [
    {
     "name": "stdout",
     "output_type": "stream",
     "text": [
      "Requirement already satisfied: tabula-py in c:\\users\\hp\\anaconda3\\lib\\site-packages (2.4.0)\n",
      "Requirement already satisfied: distro in c:\\users\\hp\\anaconda3\\lib\\site-packages (from tabula-py) (1.7.0)\n",
      "Requirement already satisfied: numpy in c:\\users\\hp\\anaconda3\\lib\\site-packages (from tabula-py) (1.19.3)\n",
      "Requirement already satisfied: pandas>=0.25.3 in c:\\users\\hp\\anaconda3\\lib\\site-packages (from tabula-py) (1.4.2)\n",
      "Requirement already satisfied: pytz>=2020.1 in c:\\users\\hp\\anaconda3\\lib\\site-packages (from pandas>=0.25.3->tabula-py) (2022.1)\n",
      "Requirement already satisfied: python-dateutil>=2.8.1 in c:\\users\\hp\\anaconda3\\lib\\site-packages (from pandas>=0.25.3->tabula-py) (2.8.1)\n",
      "Requirement already satisfied: six>=1.5 in c:\\users\\hp\\anaconda3\\lib\\site-packages (from python-dateutil>=2.8.1->pandas>=0.25.3->tabula-py) (1.15.0)\n"
     ]
    }
   ],
   "source": [
    "!pip install tabula-py"
   ]
  },
  {
   "cell_type": "code",
   "execution_count": 10,
   "id": "81e60370",
   "metadata": {},
   "outputs": [],
   "source": [
    "import tabula"
   ]
  },
  {
   "cell_type": "code",
   "execution_count": 11,
   "id": "25943077",
   "metadata": {},
   "outputs": [],
   "source": [
    "df = tabula.read_pdf(\"sample.pdf\", pages='all')"
   ]
  },
  {
   "cell_type": "code",
   "execution_count": 12,
   "id": "9c7bdb42",
   "metadata": {},
   "outputs": [
    {
     "ename": "AttributeError",
     "evalue": "'list' object has no attribute 'head'",
     "output_type": "error",
     "traceback": [
      "\u001b[1;31m---------------------------------------------------------------------------\u001b[0m",
      "\u001b[1;31mAttributeError\u001b[0m                            Traceback (most recent call last)",
      "Input \u001b[1;32mIn [12]\u001b[0m, in \u001b[0;36m<cell line: 1>\u001b[1;34m()\u001b[0m\n\u001b[1;32m----> 1\u001b[0m \u001b[43mdf\u001b[49m\u001b[38;5;241;43m.\u001b[39;49m\u001b[43mhead\u001b[49m()\n",
      "\u001b[1;31mAttributeError\u001b[0m: 'list' object has no attribute 'head'"
     ]
    }
   ],
   "source": [
    "df.head()"
   ]
  },
  {
   "cell_type": "code",
   "execution_count": null,
   "id": "3f6e5135",
   "metadata": {},
   "outputs": [],
   "source": [
    "df = tabula.read_pdf(\"sample.pdf\",multiple_tables=True)"
   ]
  },
  {
   "cell_type": "code",
   "execution_count": 26,
   "id": "2f854d8a",
   "metadata": {},
   "outputs": [
    {
     "data": {
      "text/plain": [
       "[    S.No            Student Name  Roll Number University Name  Course  Gender  \\\n",
       " 0      1            Abhishek Pal      2014524             GEU  B-Tech    Male   \n",
       " 1      2             Akash Bhatt      2015048             GEU  B-Tech    Male   \n",
       " 2      3            Ankit Sharma      2014569             GEU  B-Tech    Male   \n",
       " 3      4           Aryan Pathela      2015058             GEU  B-Tech    Male   \n",
       " 4      5              Ayush Negi      2015063             GEU  B-Tech    Male   \n",
       " 5      6         Daksh Choudhary      2015498             GEU  B-Tech    Male   \n",
       " 6      7                   Divay      2015163             GEU  B-Tech    Male   \n",
       " 7      8          Gargi Aggarwal      2014655             GEU  B-Tech  Female   \n",
       " 8      9             Keshav Aman      2015246             GEU  B-Tech    Male   \n",
       " 9     10          Mayank Gambhir      2014722             GEU  B-Tech    Male   \n",
       " 10    11           Praggya Singh      2015530             GEU  B-Tech  Female   \n",
       " 11    12          Riya Chaudhary      2015185             GEU  B-Tech  Female   \n",
       " 12    13  Sahibpreet Singh Saini     19011534             GEU  B-Tech    Male   \n",
       " 13    14       Sameer Srivastava      2014830             GEU  B-Tech    Male   \n",
       " 14    15             Satvik Jain      2014840             GEU  B-Tech    Male   \n",
       " 15    16           Shivang Gupta      2014858             GEU  B-Tech    Male   \n",
       " 16    17           Shubham Rawat      2014874             GEU  B-Tech    Male   \n",
       " 17    18            Skimmy Gupta      2014890             GEU  B-Tech  Female   \n",
       " 18    19           Sujal Agarwal      2015555             GEU  B-Tech    Male   \n",
       " 19    20            Tanmay Anand      2015197             GEU  B-Tech    Male   \n",
       " 20    21               Tejas Rai      2014915             GEU  B-Tech    Male   \n",
       " 21    22           Ujjwal Sharma      2014922             GEU  B-Tech    Male   \n",
       " 22    23      Vidisha Srivastava      2014940             GEU  B-Tech  Female   \n",
       " 23    24           Sachin Sajwan      2015269             GEU  B-Tech    Male   \n",
       " 24    25           Gulshan Kumar      2015502             GEU  B-Tech    Male   \n",
       " 25    26            Mukul Dhiman      2014738             GEU  B-Tech    Male   \n",
       " 26    27                    Raja      2015263             GEU  B-Tech    Male   \n",
       " 27    28           Sanskar Gupta      2015549             GEU  B-Tech    Male   \n",
       " 28    29             Aditya Shah      1918150  GEHU, Dehradun  B-Tech    Male   \n",
       " 29    30           Aditya Shukla      1918151  GEHU, Dehradun  B-Tech    Male   \n",
       " 30    31    Akshat Mani Tripathi      1918177  GEHU, Dehradun  B-Tech    Male   \n",
       " \n",
       "                   For Profile  Unnamed: 0  \n",
       " 0   Software Developer Intern         NaN  \n",
       " 1   Software Developer Intern         NaN  \n",
       " 2   Software Developer Intern         NaN  \n",
       " 3   Software Developer Intern         NaN  \n",
       " 4   Software Developer Intern         NaN  \n",
       " 5   Software Developer Intern         NaN  \n",
       " 6            Marketing Intern         NaN  \n",
       " 7   Software Developer Intern         NaN  \n",
       " 8   Software Developer Intern         NaN  \n",
       " 9   Software Developer Intern         NaN  \n",
       " 10  Software Developer Intern         NaN  \n",
       " 11  Software Developer Intern         NaN  \n",
       " 12  Software Developer Intern         NaN  \n",
       " 13  Software Developer Intern         NaN  \n",
       " 14  Software Developer Intern         NaN  \n",
       " 15           Marketing Intern         NaN  \n",
       " 16  Software Developer Intern         NaN  \n",
       " 17  Software Developer Intern         NaN  \n",
       " 18  Software Developer Intern         NaN  \n",
       " 19  Software Developer Intern         NaN  \n",
       " 20  Software Developer Intern         NaN  \n",
       " 21  Software Developer Intern         NaN  \n",
       " 22  Software Developer Intern         NaN  \n",
       " 23  Software Developer Intern         NaN  \n",
       " 24           Marketing Intern         NaN  \n",
       " 25  Software Developer Intern         NaN  \n",
       " 26  Software Developer Intern         NaN  \n",
       " 27  Software Developer Intern         NaN  \n",
       " 28  Software Developer Intern         NaN  \n",
       " 29  Software Developer Intern         NaN  \n",
       " 30  Software Developer Intern         NaN  ,\n",
       "     32            Amit Joshi  1918204  GEHU, Dehradun  B-Tech    Male  \\\n",
       " 0   33  Divyam Singh Rauthan  1918334  GEHU, Dehradun  B-Tech    Male   \n",
       " 1   34       Divyanshu Kumar  1918835  GEHU, Dehradun  B-Tech    Male   \n",
       " 2   35   Govind Singh Bhatia  1918347  GEHU, Dehradun  B-Tech    Male   \n",
       " 3   36        Hridayansh Sah  1918026  GEHU, Dehradun  B-Tech    Male   \n",
       " 4   37     Kamal Singh Gaira  2018016  GEHU, Dehradun  B-Tech    Male   \n",
       " 5   38         Kriti Dhingra  1918430  GEHU, Dehradun  B-Tech  Female   \n",
       " 6   39         Monika Pandey  1918489  GEHU, Dehradun  B-Tech  Female   \n",
       " 7   40         Neeraj Sharma  1918503  GEHU, Dehradun  B-Tech    Male   \n",
       " 8   41              Pranjali  1918548  GEHU, Dehradun  B-Tech  Female   \n",
       " 9   42          Priya Kumari  1918560  GEHU, Dehradun  B-Tech  Female   \n",
       " 10  43         Rahul Chamoli  1918577  GEHU, Dehradun  B-Tech    Male   \n",
       " 11  44         Rishabh Rawat  1918600  GEHU, Dehradun  B-Tech    Male   \n",
       " 12  45        Ritik Bhandari  1918611  GEHU, Dehradun  B-Tech    Male   \n",
       " 13  46           Ritik Verma  1918614  GEHU, Dehradun  B-Tech    Male   \n",
       " 14  47         Saransh Rawat  1918662  GEHU, Dehradun  B-Tech    Male   \n",
       " 15  48  Shiwansh Singh Bisht  1918853  GEHU, Dehradun  B-Tech    Male   \n",
       " 16  49       Sparsh Tripathi  1918737  GEHU, Dehradun  B-Tech    Male   \n",
       " 17  50          Yash Tariyal  1918821  GEHU, Dehradun  B-Tech    Male   \n",
       " 18  51           Mohit Bhatt  1918481  GEHU, Dehradun  B-Tech    Male   \n",
       " 19  52          Neha Chauhan  1918505  GEHU, Dehradun  B-Tech  Female   \n",
       " 20  53   Sandeep Singh Bisht  1918656  GEHU, Dehradun  B-Tech    Male   \n",
       " 21  54           Shalwin Sah  1918682  GEHU, Dehradun  B-Tech    Male   \n",
       " \n",
       "     Software Developer Intern  Unnamed: 0  \n",
       " 0   Software Developer Intern         NaN  \n",
       " 1   Software Developer Intern         NaN  \n",
       " 2   Software Developer Intern         NaN  \n",
       " 3   Software Developer Intern         NaN  \n",
       " 4   Software Developer Intern         NaN  \n",
       " 5   Software Developer Intern         NaN  \n",
       " 6   Software Developer Intern         NaN  \n",
       " 7   Software Developer Intern         NaN  \n",
       " 8   Software Developer Intern         NaN  \n",
       " 9   Software Developer Intern         NaN  \n",
       " 10  Software Developer Intern         NaN  \n",
       " 11  Software Developer Intern         NaN  \n",
       " 12  Software Developer Intern         NaN  \n",
       " 13  Software Developer Intern         NaN  \n",
       " 14  Software Developer Intern         NaN  \n",
       " 15  Software Developer Intern         NaN  \n",
       " 16  Software Developer Intern         NaN  \n",
       " 17  Software Developer Intern         NaN  \n",
       " 18  Software Developer Intern         NaN  \n",
       " 19  Software Developer Intern         NaN  \n",
       " 20  Software Developer Intern         NaN  \n",
       " 21  Software Developer Intern         NaN  ]"
      ]
     },
     "execution_count": 26,
     "metadata": {},
     "output_type": "execute_result"
    }
   ],
   "source": [
    "df"
   ]
  },
  {
   "cell_type": "code",
   "execution_count": null,
   "id": "d9e6cd12",
   "metadata": {},
   "outputs": [],
   "source": [
    "tabula.read_pdf(\"sample.pdf\", output_format=\"json\")"
   ]
  },
  {
   "cell_type": "code",
   "execution_count": 13,
   "id": "1d4ffa6f",
   "metadata": {},
   "outputs": [],
   "source": [
    "tabula.convert_into(\"sample.pdf\",\"sample_csv.csv\", output_format=\"csv\", pages='all')"
   ]
  },
  {
   "cell_type": "code",
   "execution_count": 23,
   "id": "16d4e5ab",
   "metadata": {},
   "outputs": [],
   "source": [
    "import requests\n",
    "r=requests.get('http://localhost:9200')"
   ]
  },
  {
   "cell_type": "code",
   "execution_count": 27,
   "id": "128396eb",
   "metadata": {},
   "outputs": [
    {
     "data": {
      "text/plain": [
       "'{\\n  \"name\" : \"DESKTOP-0I1ST0V\",\\n  \"cluster_name\" : \"elasticsearch\",\\n  \"cluster_uuid\" : \"T0vJRXATTf-mL2BijUTL_Q\",\\n  \"version\" : {\\n    \"number\" : \"7.5.1\",\\n    \"build_flavor\" : \"default\",\\n    \"build_type\" : \"zip\",\\n    \"build_hash\" : \"3ae9ac9a93c95bd0cdc054951cf95d88e1e18d96\",\\n    \"build_date\" : \"2019-12-16T22:57:37.835892Z\",\\n    \"build_snapshot\" : false,\\n    \"lucene_version\" : \"8.3.0\",\\n    \"minimum_wire_compatibility_version\" : \"6.8.0\",\\n    \"minimum_index_compatibility_version\" : \"6.0.0-beta1\"\\n  },\\n  \"tagline\" : \"You Know, for Search\"\\n}\\n'"
      ]
     },
     "execution_count": 27,
     "metadata": {},
     "output_type": "execute_result"
    }
   ],
   "source": [
    "r.text"
   ]
  },
  {
   "cell_type": "code",
   "execution_count": 41,
   "id": "cb35f61c",
   "metadata": {},
   "outputs": [],
   "source": [
    "r=requests.post('http://localhost:9200/second/_search')"
   ]
  },
  {
   "cell_type": "code",
   "execution_count": 42,
   "id": "8d8615f2",
   "metadata": {},
   "outputs": [
    {
     "data": {
      "text/plain": [
       "'{\"error\":{\"root_cause\":[{\"type\":\"index_not_found_exception\",\"reason\":\"no such index [second]\",\"resource.type\":\"index_or_alias\",\"resource.id\":\"second\",\"index_uuid\":\"_na_\",\"index\":\"second\"}],\"type\":\"index_not_found_exception\",\"reason\":\"no such index [second]\",\"resource.type\":\"index_or_alias\",\"resource.id\":\"second\",\"index_uuid\":\"_na_\",\"index\":\"second\"},\"status\":404}'"
      ]
     },
     "execution_count": 42,
     "metadata": {},
     "output_type": "execute_result"
    }
   ],
   "source": [
    "r.text"
   ]
  },
  {
   "cell_type": "code",
   "execution_count": 21,
   "id": "f5c4d3d5",
   "metadata": {},
   "outputs": [
    {
     "ename": "NameError",
     "evalue": "name 'PUT' is not defined",
     "output_type": "error",
     "traceback": [
      "\u001b[1;31m---------------------------------------------------------------------------\u001b[0m",
      "\u001b[1;31mNameError\u001b[0m                                 Traceback (most recent call last)",
      "Input \u001b[1;32mIn [21]\u001b[0m, in \u001b[0;36m<cell line: 1>\u001b[1;34m()\u001b[0m\n\u001b[1;32m----> 1\u001b[0m \u001b[43mPUT\u001b[49m \u001b[38;5;241m/\u001b[39mmy\u001b[38;5;241m-\u001b[39mindex\n",
      "\u001b[1;31mNameError\u001b[0m: name 'PUT' is not defined"
     ]
    }
   ],
   "source": [
    "PUT /my-index"
   ]
  },
  {
   "cell_type": "code",
   "execution_count": 22,
   "id": "bc158d7c",
   "metadata": {},
   "outputs": [
    {
     "ename": "SyntaxError",
     "evalue": "invalid syntax (3608309699.py, line 1)",
     "output_type": "error",
     "traceback": [
      "\u001b[1;36m  Input \u001b[1;32mIn [22]\u001b[1;36m\u001b[0m\n\u001b[1;33m    curl -X PUT \"localhost:9200/my-index?pretty\"\u001b[0m\n\u001b[1;37m            ^\u001b[0m\n\u001b[1;31mSyntaxError\u001b[0m\u001b[1;31m:\u001b[0m invalid syntax\n"
     ]
    }
   ],
   "source": [
    "curl -X PUT \"localhost:9200/my-index?pretty\""
   ]
  },
  {
   "cell_type": "code",
   "execution_count": 23,
   "id": "690612f2",
   "metadata": {},
   "outputs": [],
   "source": [
    "mapping = {\"mapping\":{\n",
    "       \"properties\":{\n",
    "         \"Apple\":{\"type\":\"text\"},\n",
    "         \"Mango\":{\"type\":\"text\"}\n",
    "       }\n",
    "      }}"
   ]
  },
  {
   "cell_type": "code",
   "execution_count": 24,
   "id": "4cfdd2e5",
   "metadata": {},
   "outputs": [
    {
     "ename": "TypeError",
     "evalue": "__init__() missing 1 required positional argument: 'scheme'",
     "output_type": "error",
     "traceback": [
      "\u001b[1;31m---------------------------------------------------------------------------\u001b[0m",
      "\u001b[1;31mTypeError\u001b[0m                                 Traceback (most recent call last)",
      "Input \u001b[1;32mIn [24]\u001b[0m, in \u001b[0;36m<cell line: 2>\u001b[1;34m()\u001b[0m\n\u001b[0;32m      1\u001b[0m \u001b[38;5;28;01mfrom\u001b[39;00m \u001b[38;5;21;01melasticsearch\u001b[39;00m \u001b[38;5;28;01mimport\u001b[39;00m Elasticsearch\n\u001b[1;32m----> 2\u001b[0m es1 \u001b[38;5;241m=\u001b[39m \u001b[43mElasticsearch\u001b[49m\u001b[43m(\u001b[49m\u001b[43m[\u001b[49m\u001b[43m{\u001b[49m\u001b[38;5;124;43m\"\u001b[39;49m\u001b[38;5;124;43mhost\u001b[39;49m\u001b[38;5;124;43m\"\u001b[39;49m\u001b[43m:\u001b[49m\u001b[38;5;124;43m\"\u001b[39;49m\u001b[38;5;124;43mlocalhost\u001b[39;49m\u001b[38;5;124;43m\"\u001b[39;49m\u001b[43m,\u001b[49m\u001b[38;5;124;43m\"\u001b[39;49m\u001b[38;5;124;43mport\u001b[39;49m\u001b[38;5;124;43m\"\u001b[39;49m\u001b[43m:\u001b[49m\u001b[38;5;241;43m9200\u001b[39;49m\u001b[43m}\u001b[49m\u001b[43m]\u001b[49m\u001b[43m)\u001b[49m\n\u001b[0;32m      3\u001b[0m es1\u001b[38;5;241m.\u001b[39mindices\u001b[38;5;241m.\u001b[39mcreate(index\u001b[38;5;241m=\u001b[39m\u001b[38;5;124m\"\u001b[39m\u001b[38;5;124mhello\u001b[39m\u001b[38;5;124m\"\u001b[39m,body\u001b[38;5;241m=\u001b[39mmapping)\n",
      "File \u001b[1;32m~\\anaconda3\\lib\\site-packages\\elasticsearch\\_sync\\client\\__init__.py:331\u001b[0m, in \u001b[0;36mElasticsearch.__init__\u001b[1;34m(self, hosts, cloud_id, api_key, basic_auth, bearer_auth, opaque_id, headers, connections_per_node, http_compress, verify_certs, ca_certs, client_cert, client_key, ssl_assert_hostname, ssl_assert_fingerprint, ssl_version, ssl_context, ssl_show_warn, transport_class, request_timeout, node_class, node_pool_class, randomize_nodes_in_pool, node_selector_class, dead_node_backoff_factor, max_dead_node_backoff, serializer, serializers, default_mimetype, max_retries, retry_on_status, retry_on_timeout, sniff_on_start, sniff_before_requests, sniff_on_node_failure, sniff_timeout, min_delay_between_sniffing, sniffed_node_callback, meta_header, timeout, randomize_hosts, host_info_callback, sniffer_timeout, sniff_on_connection_fail, http_auth, maxsize, _transport)\u001b[0m\n\u001b[0;32m    328\u001b[0m         requests_session_auth \u001b[38;5;241m=\u001b[39m http_auth\n\u001b[0;32m    329\u001b[0m         http_auth \u001b[38;5;241m=\u001b[39m DEFAULT\n\u001b[1;32m--> 331\u001b[0m node_configs \u001b[38;5;241m=\u001b[39m \u001b[43mclient_node_configs\u001b[49m\u001b[43m(\u001b[49m\n\u001b[0;32m    332\u001b[0m \u001b[43m    \u001b[49m\u001b[43mhosts\u001b[49m\u001b[43m,\u001b[49m\n\u001b[0;32m    333\u001b[0m \u001b[43m    \u001b[49m\u001b[43mcloud_id\u001b[49m\u001b[38;5;241;43m=\u001b[39;49m\u001b[43mcloud_id\u001b[49m\u001b[43m,\u001b[49m\n\u001b[0;32m    334\u001b[0m \u001b[43m    \u001b[49m\u001b[43mrequests_session_auth\u001b[49m\u001b[38;5;241;43m=\u001b[39;49m\u001b[43mrequests_session_auth\u001b[49m\u001b[43m,\u001b[49m\n\u001b[0;32m    335\u001b[0m \u001b[43m    \u001b[49m\u001b[43mconnections_per_node\u001b[49m\u001b[38;5;241;43m=\u001b[39;49m\u001b[43mconnections_per_node\u001b[49m\u001b[43m,\u001b[49m\n\u001b[0;32m    336\u001b[0m \u001b[43m    \u001b[49m\u001b[43mhttp_compress\u001b[49m\u001b[38;5;241;43m=\u001b[39;49m\u001b[43mhttp_compress\u001b[49m\u001b[43m,\u001b[49m\n\u001b[0;32m    337\u001b[0m \u001b[43m    \u001b[49m\u001b[43mverify_certs\u001b[49m\u001b[38;5;241;43m=\u001b[39;49m\u001b[43mverify_certs\u001b[49m\u001b[43m,\u001b[49m\n\u001b[0;32m    338\u001b[0m \u001b[43m    \u001b[49m\u001b[43mca_certs\u001b[49m\u001b[38;5;241;43m=\u001b[39;49m\u001b[43mca_certs\u001b[49m\u001b[43m,\u001b[49m\n\u001b[0;32m    339\u001b[0m \u001b[43m    \u001b[49m\u001b[43mclient_cert\u001b[49m\u001b[38;5;241;43m=\u001b[39;49m\u001b[43mclient_cert\u001b[49m\u001b[43m,\u001b[49m\n\u001b[0;32m    340\u001b[0m \u001b[43m    \u001b[49m\u001b[43mclient_key\u001b[49m\u001b[38;5;241;43m=\u001b[39;49m\u001b[43mclient_key\u001b[49m\u001b[43m,\u001b[49m\n\u001b[0;32m    341\u001b[0m \u001b[43m    \u001b[49m\u001b[43mssl_assert_hostname\u001b[49m\u001b[38;5;241;43m=\u001b[39;49m\u001b[43mssl_assert_hostname\u001b[49m\u001b[43m,\u001b[49m\n\u001b[0;32m    342\u001b[0m \u001b[43m    \u001b[49m\u001b[43mssl_assert_fingerprint\u001b[49m\u001b[38;5;241;43m=\u001b[39;49m\u001b[43mssl_assert_fingerprint\u001b[49m\u001b[43m,\u001b[49m\n\u001b[0;32m    343\u001b[0m \u001b[43m    \u001b[49m\u001b[43mssl_version\u001b[49m\u001b[38;5;241;43m=\u001b[39;49m\u001b[43mssl_version\u001b[49m\u001b[43m,\u001b[49m\n\u001b[0;32m    344\u001b[0m \u001b[43m    \u001b[49m\u001b[43mssl_context\u001b[49m\u001b[38;5;241;43m=\u001b[39;49m\u001b[43mssl_context\u001b[49m\u001b[43m,\u001b[49m\n\u001b[0;32m    345\u001b[0m \u001b[43m    \u001b[49m\u001b[43mssl_show_warn\u001b[49m\u001b[38;5;241;43m=\u001b[39;49m\u001b[43mssl_show_warn\u001b[49m\u001b[43m,\u001b[49m\n\u001b[0;32m    346\u001b[0m \u001b[43m\u001b[49m\u001b[43m)\u001b[49m\n\u001b[0;32m    347\u001b[0m transport_kwargs: t\u001b[38;5;241m.\u001b[39mDict[\u001b[38;5;28mstr\u001b[39m, t\u001b[38;5;241m.\u001b[39mAny] \u001b[38;5;241m=\u001b[39m {}\n\u001b[0;32m    348\u001b[0m \u001b[38;5;28;01mif\u001b[39;00m node_class \u001b[38;5;129;01mis\u001b[39;00m \u001b[38;5;129;01mnot\u001b[39;00m DEFAULT:\n",
      "File \u001b[1;32m~\\anaconda3\\lib\\site-packages\\elasticsearch\\_sync\\client\\utils.py:105\u001b[0m, in \u001b[0;36mclient_node_configs\u001b[1;34m(hosts, cloud_id, requests_session_auth, **kwargs)\u001b[0m\n\u001b[0;32m    103\u001b[0m \u001b[38;5;28;01melse\u001b[39;00m:\n\u001b[0;32m    104\u001b[0m     \u001b[38;5;28;01massert\u001b[39;00m hosts \u001b[38;5;129;01mis\u001b[39;00m \u001b[38;5;129;01mnot\u001b[39;00m \u001b[38;5;28;01mNone\u001b[39;00m\n\u001b[1;32m--> 105\u001b[0m     node_configs \u001b[38;5;241m=\u001b[39m \u001b[43mhosts_to_node_configs\u001b[49m\u001b[43m(\u001b[49m\u001b[43mhosts\u001b[49m\u001b[43m)\u001b[49m\n\u001b[0;32m    107\u001b[0m \u001b[38;5;66;03m# Remove all values which are 'DEFAULT' to avoid overwriting actual defaults.\u001b[39;00m\n\u001b[0;32m    108\u001b[0m node_options \u001b[38;5;241m=\u001b[39m {k: v \u001b[38;5;28;01mfor\u001b[39;00m k, v \u001b[38;5;129;01min\u001b[39;00m kwargs\u001b[38;5;241m.\u001b[39mitems() \u001b[38;5;28;01mif\u001b[39;00m v \u001b[38;5;129;01mis\u001b[39;00m \u001b[38;5;129;01mnot\u001b[39;00m DEFAULT}\n",
      "File \u001b[1;32m~\\anaconda3\\lib\\site-packages\\elasticsearch\\_sync\\client\\utils.py:154\u001b[0m, in \u001b[0;36mhosts_to_node_configs\u001b[1;34m(hosts)\u001b[0m\n\u001b[0;32m    151\u001b[0m     node_configs\u001b[38;5;241m.\u001b[39mappend(url_to_node_config(host))\n\u001b[0;32m    153\u001b[0m \u001b[38;5;28;01melif\u001b[39;00m \u001b[38;5;28misinstance\u001b[39m(host, Mapping):\n\u001b[1;32m--> 154\u001b[0m     node_configs\u001b[38;5;241m.\u001b[39mappend(\u001b[43mhost_mapping_to_node_config\u001b[49m\u001b[43m(\u001b[49m\u001b[43mhost\u001b[49m\u001b[43m)\u001b[49m)\n\u001b[0;32m    155\u001b[0m \u001b[38;5;28;01melse\u001b[39;00m:\n\u001b[0;32m    156\u001b[0m     \u001b[38;5;28;01mraise\u001b[39;00m \u001b[38;5;167;01mValueError\u001b[39;00m(\n\u001b[0;32m    157\u001b[0m         \u001b[38;5;124m\"\u001b[39m\u001b[38;5;124m'\u001b[39m\u001b[38;5;124mhosts\u001b[39m\u001b[38;5;124m'\u001b[39m\u001b[38;5;124m must be a list of URLs, NodeConfigs, or dictionaries\u001b[39m\u001b[38;5;124m\"\u001b[39m\n\u001b[0;32m    158\u001b[0m     )\n",
      "File \u001b[1;32m~\\anaconda3\\lib\\site-packages\\elasticsearch\\_sync\\client\\utils.py:221\u001b[0m, in \u001b[0;36mhost_mapping_to_node_config\u001b[1;34m(host)\u001b[0m\n\u001b[0;32m    214\u001b[0m     warnings\u001b[38;5;241m.\u001b[39mwarn(\n\u001b[0;32m    215\u001b[0m         \u001b[38;5;124m\"\u001b[39m\u001b[38;5;124mThe \u001b[39m\u001b[38;5;124m'\u001b[39m\u001b[38;5;124murl_prefix\u001b[39m\u001b[38;5;124m'\u001b[39m\u001b[38;5;124m option is deprecated in favor of \u001b[39m\u001b[38;5;124m'\u001b[39m\u001b[38;5;124mpath_prefix\u001b[39m\u001b[38;5;124m'\u001b[39m\u001b[38;5;124m\"\u001b[39m,\n\u001b[0;32m    216\u001b[0m         category\u001b[38;5;241m=\u001b[39m\u001b[38;5;167;01mDeprecationWarning\u001b[39;00m,\n\u001b[0;32m    217\u001b[0m         stacklevel\u001b[38;5;241m=\u001b[39mwarn_stacklevel(),\n\u001b[0;32m    218\u001b[0m     )\n\u001b[0;32m    219\u001b[0m     options[\u001b[38;5;124m\"\u001b[39m\u001b[38;5;124mpath_prefix\u001b[39m\u001b[38;5;124m\"\u001b[39m] \u001b[38;5;241m=\u001b[39m options\u001b[38;5;241m.\u001b[39mpop(\u001b[38;5;124m\"\u001b[39m\u001b[38;5;124murl_prefix\u001b[39m\u001b[38;5;124m\"\u001b[39m)\n\u001b[1;32m--> 221\u001b[0m \u001b[38;5;28;01mreturn\u001b[39;00m NodeConfig(\u001b[38;5;241m*\u001b[39m\u001b[38;5;241m*\u001b[39moptions)\n",
      "\u001b[1;31mTypeError\u001b[0m: __init__() missing 1 required positional argument: 'scheme'"
     ]
    }
   ],
   "source": [
    "from elasticsearch import Elasticsearch\n",
    "es1 = Elasticsearch([{\"host\":\"localhost\",\"port\":9200}])\n",
    "es1.indices.create(index=\"hello\",body=mapping)"
   ]
  },
  {
   "cell_type": "code",
   "execution_count": 26,
   "id": "abc4051d",
   "metadata": {},
   "outputs": [
    {
     "ename": "SyntaxError",
     "evalue": "invalid syntax (2192300152.py, line 1)",
     "output_type": "error",
     "traceback": [
      "\u001b[1;36m  Input \u001b[1;32mIn [26]\u001b[1;36m\u001b[0m\n\u001b[1;33m    query =\u001b[0m\n\u001b[1;37m            ^\u001b[0m\n\u001b[1;31mSyntaxError\u001b[0m\u001b[1;31m:\u001b[0m invalid syntax\n"
     ]
    }
   ],
   "source": [
    "query = \n",
    "{\"settings\": {\n",
    "        \"number_of_shards\": 2,\n",
    "        \"number_of_replicas\": 1,\n",
    "        \"mappings\": {...},\n",
    "        \"index-pattern\" : {\n",
    "            \"title\" : \"myindex\",\n",
    "            \"timeFieldName\" : \"sendTime\",\n",
    "            \"fields\" : \"\"\"[{\"name\":\"_id\",\"type\":\"string\",\"esTypes\":[\"_id\"],\"count\":0, ...]}\"\"\"\n",
    "        }\n",
    "\n",
    "es_client.indices.create(index = \"myindex\" , body = query)"
   ]
  },
  {
   "cell_type": "code",
   "execution_count": 30,
   "id": "b563b408",
   "metadata": {},
   "outputs": [],
   "source": [
    "query={\n",
    "                    \"title\": \"Grey's Anatomy\",\n",
    "                    \"rating\": \"TV-14\",\n",
    "                    \"ratingLevel\": \"Parents strongly cautioned. May be unsuitable for children ages 14 and under.\",\n",
    "                    \"ratingDescription\": 90,\n",
    "                    \"release year\": 2019,\n",
    "                    \"user rating score\": \"98\",\n",
    "                    \"user rating size\": 80,\n",
    "                    \"title\": \"Grey's Anatomy\",\n",
    "                    \"rating\": \"TV-14\",\n",
    "                    \"ratingLevel\": \"May be unsuitable for children ages 14 and under.\",\n",
    "                    \"ratingDescription\": 95,\n",
    "                    \"release year\": 2017,\n",
    "                    \"user rating score\": \"98\",\n",
    "                    \"user rating size\": 81,\n",
    "}\n",
    "headers={'Accept':'application/json','Content-type':'application/json'}\n",
    "r=requests.post('http://localhost:9200/second/_doc',headers=headers,json=query)"
   ]
  },
  {
   "cell_type": "code",
   "execution_count": 31,
   "id": "93f155f5",
   "metadata": {},
   "outputs": [
    {
     "data": {
      "text/plain": [
       "<Response [201]>"
      ]
     },
     "execution_count": 31,
     "metadata": {},
     "output_type": "execute_result"
    }
   ],
   "source": [
    "r"
   ]
  },
  {
   "cell_type": "code",
   "execution_count": 32,
   "id": "333f553f",
   "metadata": {},
   "outputs": [
    {
     "data": {
      "text/plain": [
       "'{\"_index\":\"second\",\"_type\":\"_doc\",\"_id\":\"OzItNYIB5yZnxkng-42z\",\"_version\":1,\"result\":\"created\",\"_shards\":{\"total\":2,\"successful\":1,\"failed\":0},\"_seq_no\":1,\"_primary_term\":1}'"
      ]
     },
     "execution_count": 32,
     "metadata": {},
     "output_type": "execute_result"
    }
   ],
   "source": [
    "r.text"
   ]
  },
  {
   "cell_type": "code",
   "execution_count": 33,
   "id": "a0ede65f",
   "metadata": {},
   "outputs": [
    {
     "name": "stdout",
     "output_type": "stream",
     "text": [
      "['S.No', 'Student Name', 'Roll Number', 'University Name', 'Course', 'Gender', 'For Profile', '']\n",
      "['1', 'Abhishek Pal', '2014524', 'GEU', 'B-Tech', 'Male', 'Software Developer Intern', '']\n",
      "['2', 'Akash Bhatt', '2015048', 'GEU', 'B-Tech', 'Male', 'Software Developer Intern', '']\n",
      "['3', 'Ankit Sharma', '2014569', 'GEU', 'B-Tech', 'Male', 'Software Developer Intern', '']\n",
      "['4', 'Aryan Pathela', '2015058', 'GEU', 'B-Tech', 'Male', 'Software Developer Intern', '']\n",
      "['5', 'Ayush Negi', '2015063', 'GEU', 'B-Tech', 'Male', 'Software Developer Intern', '']\n",
      "['6', 'Daksh Choudhary', '2015498', 'GEU', 'B-Tech', 'Male', 'Software Developer Intern', '']\n",
      "['7', 'Divay', '2015163', 'GEU', 'B-Tech', 'Male', 'Marketing Intern', '']\n",
      "['8', 'Gargi Aggarwal', '2014655', 'GEU', 'B-Tech', 'Female', 'Software Developer Intern', '']\n",
      "['9', 'Keshav Aman', '2015246', 'GEU', 'B-Tech', 'Male', 'Software Developer Intern', '']\n",
      "['10', 'Mayank Gambhir', '2014722', 'GEU', 'B-Tech', 'Male', 'Software Developer Intern', '']\n",
      "['11', 'Praggya Singh', '2015530', 'GEU', 'B-Tech', 'Female', 'Software Developer Intern', '']\n",
      "['12', 'Riya Chaudhary', '2015185', 'GEU', 'B-Tech', 'Female', 'Software Developer Intern', '']\n",
      "['13', 'Sahibpreet Singh Saini', '19011534', 'GEU', 'B-Tech', 'Male', 'Software Developer Intern', '']\n",
      "['14', 'Sameer Srivastava', '2014830', 'GEU', 'B-Tech', 'Male', 'Software Developer Intern', '']\n",
      "['15', 'Satvik Jain', '2014840', 'GEU', 'B-Tech', 'Male', 'Software Developer Intern', '']\n",
      "['16', 'Shivang Gupta', '2014858', 'GEU', 'B-Tech', 'Male', 'Marketing Intern', '']\n",
      "['17', 'Shubham Rawat', '2014874', 'GEU', 'B-Tech', 'Male', 'Software Developer Intern', '']\n",
      "['18', 'Skimmy Gupta', '2014890', 'GEU', 'B-Tech', 'Female', 'Software Developer Intern', '']\n",
      "['19', 'Sujal Agarwal', '2015555', 'GEU', 'B-Tech', 'Male', 'Software Developer Intern', '']\n",
      "['20', 'Tanmay Anand', '2015197', 'GEU', 'B-Tech', 'Male', 'Software Developer Intern', '']\n",
      "['21', 'Tejas Rai', '2014915', 'GEU', 'B-Tech', 'Male', 'Software Developer Intern', '']\n",
      "['22', 'Ujjwal Sharma', '2014922', 'GEU', 'B-Tech', 'Male', 'Software Developer Intern', '']\n",
      "['23', 'Vidisha Srivastava', '2014940', 'GEU', 'B-Tech', 'Female', 'Software Developer Intern', '']\n",
      "['24', 'Sachin Sajwan', '2015269', 'GEU', 'B-Tech', 'Male', 'Software Developer Intern', '']\n",
      "['25', 'Gulshan Kumar', '2015502', 'GEU', 'B-Tech', 'Male', 'Marketing Intern', '']\n",
      "['26', 'Mukul Dhiman', '2014738', 'GEU', 'B-Tech', 'Male', 'Software Developer Intern', '']\n",
      "['27', 'Raja', '2015263', 'GEU', 'B-Tech', 'Male', 'Software Developer Intern', '']\n",
      "['28', 'Sanskar Gupta', '2015549', 'GEU', 'B-Tech', 'Male', 'Software Developer Intern', '']\n",
      "['29', 'Aditya Shah', '1918150', 'GEHU, Dehradun', 'B-Tech', 'Male', 'Software Developer Intern', '']\n",
      "['30', 'Aditya Shukla', '1918151', 'GEHU, Dehradun', 'B-Tech', 'Male', 'Software Developer Intern', '']\n",
      "['31', 'Akshat Mani Tripathi', '1918177', 'GEHU, Dehradun', 'B-Tech', 'Male', 'Software Developer Intern', '']\n",
      "['32', 'Amit Joshi', '1918204', 'GEHU, Dehradun', 'B-Tech', 'Male', 'Software Developer Intern', '']\n",
      "['33', 'Divyam Singh Rauthan', '1918334', 'GEHU, Dehradun', 'B-Tech', 'Male', 'Software Developer Intern', '']\n",
      "['34', 'Divyanshu Kumar', '1918835', 'GEHU, Dehradun', 'B-Tech', 'Male', 'Software Developer Intern', '']\n",
      "['35', 'Govind Singh Bhatia', '1918347', 'GEHU, Dehradun', 'B-Tech', 'Male', 'Software Developer Intern', '']\n",
      "['36', 'Hridayansh Sah', '1918026', 'GEHU, Dehradun', 'B-Tech', 'Male', 'Software Developer Intern', '']\n",
      "['37', 'Kamal Singh Gaira', '2018016', 'GEHU, Dehradun', 'B-Tech', 'Male', 'Software Developer Intern', '']\n",
      "['38', 'Kriti Dhingra', '1918430', 'GEHU, Dehradun', 'B-Tech', 'Female', 'Software Developer Intern', '']\n",
      "['39', 'Monika Pandey', '1918489', 'GEHU, Dehradun', 'B-Tech', 'Female', 'Software Developer Intern', '']\n",
      "['40', 'Neeraj Sharma', '1918503', 'GEHU, Dehradun', 'B-Tech', 'Male', 'Software Developer Intern', '']\n",
      "['41', 'Pranjali', '1918548', 'GEHU, Dehradun', 'B-Tech', 'Female', 'Software Developer Intern', '']\n",
      "['42', 'Priya Kumari', '1918560', 'GEHU, Dehradun', 'B-Tech', 'Female', 'Software Developer Intern', '']\n",
      "['43', 'Rahul Chamoli', '1918577', 'GEHU, Dehradun', 'B-Tech', 'Male', 'Software Developer Intern', '']\n",
      "['44', 'Rishabh Rawat', '1918600', 'GEHU, Dehradun', 'B-Tech', 'Male', 'Software Developer Intern', '']\n",
      "['45', 'Ritik Bhandari', '1918611', 'GEHU, Dehradun', 'B-Tech', 'Male', 'Software Developer Intern', '']\n",
      "['46', 'Ritik Verma', '1918614', 'GEHU, Dehradun', 'B-Tech', 'Male', 'Software Developer Intern', '']\n",
      "['47', 'Saransh Rawat', '1918662', 'GEHU, Dehradun', 'B-Tech', 'Male', 'Software Developer Intern', '']\n",
      "['48', 'Shiwansh Singh Bisht', '1918853', 'GEHU, Dehradun', 'B-Tech', 'Male', 'Software Developer Intern', '']\n",
      "['49', 'Sparsh Tripathi', '1918737', 'GEHU, Dehradun', 'B-Tech', 'Male', 'Software Developer Intern', '']\n",
      "['50', 'Yash Tariyal', '1918821', 'GEHU, Dehradun', 'B-Tech', 'Male', 'Software Developer Intern', '']\n",
      "['51', 'Mohit Bhatt', '1918481', 'GEHU, Dehradun', 'B-Tech', 'Male', 'Software Developer Intern', '']\n",
      "['52', 'Neha Chauhan', '1918505', 'GEHU, Dehradun', 'B-Tech', 'Female', 'Software Developer Intern', '']\n",
      "['53', 'Sandeep Singh Bisht', '1918656', 'GEHU, Dehradun', 'B-Tech', 'Male', 'Software Developer Intern', '']\n",
      "['54', 'Shalwin Sah', '1918682', 'GEHU, Dehradun', 'B-Tech', 'Male', 'Software Developer Intern', '']\n"
     ]
    }
   ],
   "source": [
    "import csv\n",
    "with open('sample_csv.csv') as file_obj:\n",
    "\treader_obj = csv.reader(file_obj)\n",
    "\tfor row in reader_obj:\n",
    "\t\tprint(row)"
   ]
  },
  {
   "cell_type": "code",
   "execution_count": 34,
   "id": "d5a75f0c",
   "metadata": {},
   "outputs": [
    {
     "name": "stderr",
     "output_type": "stream",
     "text": [
      "<>:2: SyntaxWarning: list indices must be integers or slices, not tuple; perhaps you missed a comma?\n",
      "<>:2: SyntaxWarning: list indices must be integers or slices, not tuple; perhaps you missed a comma?\n",
      "C:\\Users\\HP\\AppData\\Local\\Temp\\ipykernel_13652\\376092686.py:2: SyntaxWarning: list indices must be integers or slices, not tuple; perhaps you missed a comma?\n",
      "  ['S.No', 'Student Name', 'Roll Number', 'University Name', 'Course', 'Gender', 'For Profile', '']\n",
      "C:\\Users\\HP\\AppData\\Local\\Temp\\ipykernel_13652\\376092686.py:2: SyntaxWarning: list indices must be integers or slices, not tuple; perhaps you missed a comma?\n",
      "  ['S.No', 'Student Name', 'Roll Number', 'University Name', 'Course', 'Gender', 'For Profile', '']\n",
      "C:\\Users\\HP\\AppData\\Local\\Temp\\ipykernel_13652\\376092686.py:2: SyntaxWarning: list indices must be integers or slices, not tuple; perhaps you missed a comma?\n",
      "  ['S.No', 'Student Name', 'Roll Number', 'University Name', 'Course', 'Gender', 'For Profile', '']\n",
      "C:\\Users\\HP\\AppData\\Local\\Temp\\ipykernel_13652\\376092686.py:2: SyntaxWarning: list indices must be integers or slices, not tuple; perhaps you missed a comma?\n",
      "  ['S.No', 'Student Name', 'Roll Number', 'University Name', 'Course', 'Gender', 'For Profile', '']\n",
      "C:\\Users\\HP\\AppData\\Local\\Temp\\ipykernel_13652\\376092686.py:2: SyntaxWarning: list indices must be integers or slices, not tuple; perhaps you missed a comma?\n",
      "  ['S.No', 'Student Name', 'Roll Number', 'University Name', 'Course', 'Gender', 'For Profile', '']\n",
      "C:\\Users\\HP\\AppData\\Local\\Temp\\ipykernel_13652\\376092686.py:2: SyntaxWarning: list indices must be integers or slices, not tuple; perhaps you missed a comma?\n",
      "  ['S.No', 'Student Name', 'Roll Number', 'University Name', 'Course', 'Gender', 'For Profile', '']\n",
      "C:\\Users\\HP\\AppData\\Local\\Temp\\ipykernel_13652\\376092686.py:2: SyntaxWarning: list indices must be integers or slices, not tuple; perhaps you missed a comma?\n",
      "  ['S.No', 'Student Name', 'Roll Number', 'University Name', 'Course', 'Gender', 'For Profile', '']\n",
      "C:\\Users\\HP\\AppData\\Local\\Temp\\ipykernel_13652\\376092686.py:2: SyntaxWarning: list indices must be integers or slices, not tuple; perhaps you missed a comma?\n",
      "  ['S.No', 'Student Name', 'Roll Number', 'University Name', 'Course', 'Gender', 'For Profile', '']\n",
      "C:\\Users\\HP\\AppData\\Local\\Temp\\ipykernel_13652\\376092686.py:2: SyntaxWarning: list indices must be integers or slices, not tuple; perhaps you missed a comma?\n",
      "  ['S.No', 'Student Name', 'Roll Number', 'University Name', 'Course', 'Gender', 'For Profile', '']\n",
      "C:\\Users\\HP\\AppData\\Local\\Temp\\ipykernel_13652\\376092686.py:2: SyntaxWarning: list indices must be integers or slices, not tuple; perhaps you missed a comma?\n",
      "  ['S.No', 'Student Name', 'Roll Number', 'University Name', 'Course', 'Gender', 'For Profile', '']\n",
      "C:\\Users\\HP\\AppData\\Local\\Temp\\ipykernel_13652\\376092686.py:2: SyntaxWarning: list indices must be integers or slices, not tuple; perhaps you missed a comma?\n",
      "  ['S.No', 'Student Name', 'Roll Number', 'University Name', 'Course', 'Gender', 'For Profile', '']\n",
      "C:\\Users\\HP\\AppData\\Local\\Temp\\ipykernel_13652\\376092686.py:2: SyntaxWarning: list indices must be integers or slices, not tuple; perhaps you missed a comma?\n",
      "  ['S.No', 'Student Name', 'Roll Number', 'University Name', 'Course', 'Gender', 'For Profile', '']\n",
      "C:\\Users\\HP\\AppData\\Local\\Temp\\ipykernel_13652\\376092686.py:2: SyntaxWarning: list indices must be integers or slices, not tuple; perhaps you missed a comma?\n",
      "  ['S.No', 'Student Name', 'Roll Number', 'University Name', 'Course', 'Gender', 'For Profile', '']\n",
      "C:\\Users\\HP\\AppData\\Local\\Temp\\ipykernel_13652\\376092686.py:2: SyntaxWarning: list indices must be integers or slices, not tuple; perhaps you missed a comma?\n",
      "  ['S.No', 'Student Name', 'Roll Number', 'University Name', 'Course', 'Gender', 'For Profile', '']\n",
      "C:\\Users\\HP\\AppData\\Local\\Temp\\ipykernel_13652\\376092686.py:2: SyntaxWarning: list indices must be integers or slices, not tuple; perhaps you missed a comma?\n",
      "  ['S.No', 'Student Name', 'Roll Number', 'University Name', 'Course', 'Gender', 'For Profile', '']\n",
      "C:\\Users\\HP\\AppData\\Local\\Temp\\ipykernel_13652\\376092686.py:2: SyntaxWarning: list indices must be integers or slices, not tuple; perhaps you missed a comma?\n",
      "  ['S.No', 'Student Name', 'Roll Number', 'University Name', 'Course', 'Gender', 'For Profile', '']\n",
      "C:\\Users\\HP\\AppData\\Local\\Temp\\ipykernel_13652\\376092686.py:2: SyntaxWarning: list indices must be integers or slices, not tuple; perhaps you missed a comma?\n",
      "  ['S.No', 'Student Name', 'Roll Number', 'University Name', 'Course', 'Gender', 'For Profile', '']\n",
      "C:\\Users\\HP\\AppData\\Local\\Temp\\ipykernel_13652\\376092686.py:2: SyntaxWarning: list indices must be integers or slices, not tuple; perhaps you missed a comma?\n",
      "  ['S.No', 'Student Name', 'Roll Number', 'University Name', 'Course', 'Gender', 'For Profile', '']\n",
      "C:\\Users\\HP\\AppData\\Local\\Temp\\ipykernel_13652\\376092686.py:2: SyntaxWarning: list indices must be integers or slices, not tuple; perhaps you missed a comma?\n",
      "  ['S.No', 'Student Name', 'Roll Number', 'University Name', 'Course', 'Gender', 'For Profile', '']\n",
      "C:\\Users\\HP\\AppData\\Local\\Temp\\ipykernel_13652\\376092686.py:2: SyntaxWarning: list indices must be integers or slices, not tuple; perhaps you missed a comma?\n",
      "  ['S.No', 'Student Name', 'Roll Number', 'University Name', 'Course', 'Gender', 'For Profile', '']\n",
      "C:\\Users\\HP\\AppData\\Local\\Temp\\ipykernel_13652\\376092686.py:2: SyntaxWarning: list indices must be integers or slices, not tuple; perhaps you missed a comma?\n",
      "  ['S.No', 'Student Name', 'Roll Number', 'University Name', 'Course', 'Gender', 'For Profile', '']\n",
      "C:\\Users\\HP\\AppData\\Local\\Temp\\ipykernel_13652\\376092686.py:2: SyntaxWarning: list indices must be integers or slices, not tuple; perhaps you missed a comma?\n",
      "  ['S.No', 'Student Name', 'Roll Number', 'University Name', 'Course', 'Gender', 'For Profile', '']\n",
      "C:\\Users\\HP\\AppData\\Local\\Temp\\ipykernel_13652\\376092686.py:2: SyntaxWarning: list indices must be integers or slices, not tuple; perhaps you missed a comma?\n",
      "  ['S.No', 'Student Name', 'Roll Number', 'University Name', 'Course', 'Gender', 'For Profile', '']\n",
      "C:\\Users\\HP\\AppData\\Local\\Temp\\ipykernel_13652\\376092686.py:2: SyntaxWarning: list indices must be integers or slices, not tuple; perhaps you missed a comma?\n",
      "  ['S.No', 'Student Name', 'Roll Number', 'University Name', 'Course', 'Gender', 'For Profile', '']\n",
      "C:\\Users\\HP\\AppData\\Local\\Temp\\ipykernel_13652\\376092686.py:2: SyntaxWarning: list indices must be integers or slices, not tuple; perhaps you missed a comma?\n",
      "  ['S.No', 'Student Name', 'Roll Number', 'University Name', 'Course', 'Gender', 'For Profile', '']\n",
      "C:\\Users\\HP\\AppData\\Local\\Temp\\ipykernel_13652\\376092686.py:2: SyntaxWarning: list indices must be integers or slices, not tuple; perhaps you missed a comma?\n",
      "  ['S.No', 'Student Name', 'Roll Number', 'University Name', 'Course', 'Gender', 'For Profile', '']\n",
      "C:\\Users\\HP\\AppData\\Local\\Temp\\ipykernel_13652\\376092686.py:2: SyntaxWarning: list indices must be integers or slices, not tuple; perhaps you missed a comma?\n",
      "  ['S.No', 'Student Name', 'Roll Number', 'University Name', 'Course', 'Gender', 'For Profile', '']\n",
      "C:\\Users\\HP\\AppData\\Local\\Temp\\ipykernel_13652\\376092686.py:2: SyntaxWarning: list indices must be integers or slices, not tuple; perhaps you missed a comma?\n",
      "  ['S.No', 'Student Name', 'Roll Number', 'University Name', 'Course', 'Gender', 'For Profile', '']\n",
      "C:\\Users\\HP\\AppData\\Local\\Temp\\ipykernel_13652\\376092686.py:2: SyntaxWarning: list indices must be integers or slices, not tuple; perhaps you missed a comma?\n",
      "  ['S.No', 'Student Name', 'Roll Number', 'University Name', 'Course', 'Gender', 'For Profile', '']\n",
      "C:\\Users\\HP\\AppData\\Local\\Temp\\ipykernel_13652\\376092686.py:2: SyntaxWarning: list indices must be integers or slices, not tuple; perhaps you missed a comma?\n",
      "  ['S.No', 'Student Name', 'Roll Number', 'University Name', 'Course', 'Gender', 'For Profile', '']\n",
      "C:\\Users\\HP\\AppData\\Local\\Temp\\ipykernel_13652\\376092686.py:2: SyntaxWarning: list indices must be integers or slices, not tuple; perhaps you missed a comma?\n",
      "  ['S.No', 'Student Name', 'Roll Number', 'University Name', 'Course', 'Gender', 'For Profile', '']\n",
      "C:\\Users\\HP\\AppData\\Local\\Temp\\ipykernel_13652\\376092686.py:2: SyntaxWarning: list indices must be integers or slices, not tuple; perhaps you missed a comma?\n",
      "  ['S.No', 'Student Name', 'Roll Number', 'University Name', 'Course', 'Gender', 'For Profile', '']\n"
     ]
    },
    {
     "name": "stderr",
     "output_type": "stream",
     "text": [
      "C:\\Users\\HP\\AppData\\Local\\Temp\\ipykernel_13652\\376092686.py:2: SyntaxWarning: list indices must be integers or slices, not tuple; perhaps you missed a comma?\n",
      "  ['S.No', 'Student Name', 'Roll Number', 'University Name', 'Course', 'Gender', 'For Profile', '']\n",
      "C:\\Users\\HP\\AppData\\Local\\Temp\\ipykernel_13652\\376092686.py:2: SyntaxWarning: list indices must be integers or slices, not tuple; perhaps you missed a comma?\n",
      "  ['S.No', 'Student Name', 'Roll Number', 'University Name', 'Course', 'Gender', 'For Profile', '']\n",
      "C:\\Users\\HP\\AppData\\Local\\Temp\\ipykernel_13652\\376092686.py:2: SyntaxWarning: list indices must be integers or slices, not tuple; perhaps you missed a comma?\n",
      "  ['S.No', 'Student Name', 'Roll Number', 'University Name', 'Course', 'Gender', 'For Profile', '']\n",
      "C:\\Users\\HP\\AppData\\Local\\Temp\\ipykernel_13652\\376092686.py:2: SyntaxWarning: list indices must be integers or slices, not tuple; perhaps you missed a comma?\n",
      "  ['S.No', 'Student Name', 'Roll Number', 'University Name', 'Course', 'Gender', 'For Profile', '']\n",
      "C:\\Users\\HP\\AppData\\Local\\Temp\\ipykernel_13652\\376092686.py:2: SyntaxWarning: list indices must be integers or slices, not tuple; perhaps you missed a comma?\n",
      "  ['S.No', 'Student Name', 'Roll Number', 'University Name', 'Course', 'Gender', 'For Profile', '']\n",
      "C:\\Users\\HP\\AppData\\Local\\Temp\\ipykernel_13652\\376092686.py:2: SyntaxWarning: list indices must be integers or slices, not tuple; perhaps you missed a comma?\n",
      "  ['S.No', 'Student Name', 'Roll Number', 'University Name', 'Course', 'Gender', 'For Profile', '']\n",
      "C:\\Users\\HP\\AppData\\Local\\Temp\\ipykernel_13652\\376092686.py:2: SyntaxWarning: list indices must be integers or slices, not tuple; perhaps you missed a comma?\n",
      "  ['S.No', 'Student Name', 'Roll Number', 'University Name', 'Course', 'Gender', 'For Profile', '']\n",
      "C:\\Users\\HP\\AppData\\Local\\Temp\\ipykernel_13652\\376092686.py:2: SyntaxWarning: list indices must be integers or slices, not tuple; perhaps you missed a comma?\n",
      "  ['S.No', 'Student Name', 'Roll Number', 'University Name', 'Course', 'Gender', 'For Profile', '']\n",
      "C:\\Users\\HP\\AppData\\Local\\Temp\\ipykernel_13652\\376092686.py:2: SyntaxWarning: list indices must be integers or slices, not tuple; perhaps you missed a comma?\n",
      "  ['S.No', 'Student Name', 'Roll Number', 'University Name', 'Course', 'Gender', 'For Profile', '']\n",
      "C:\\Users\\HP\\AppData\\Local\\Temp\\ipykernel_13652\\376092686.py:2: SyntaxWarning: list indices must be integers or slices, not tuple; perhaps you missed a comma?\n",
      "  ['S.No', 'Student Name', 'Roll Number', 'University Name', 'Course', 'Gender', 'For Profile', '']\n",
      "C:\\Users\\HP\\AppData\\Local\\Temp\\ipykernel_13652\\376092686.py:2: SyntaxWarning: list indices must be integers or slices, not tuple; perhaps you missed a comma?\n",
      "  ['S.No', 'Student Name', 'Roll Number', 'University Name', 'Course', 'Gender', 'For Profile', '']\n",
      "C:\\Users\\HP\\AppData\\Local\\Temp\\ipykernel_13652\\376092686.py:2: SyntaxWarning: list indices must be integers or slices, not tuple; perhaps you missed a comma?\n",
      "  ['S.No', 'Student Name', 'Roll Number', 'University Name', 'Course', 'Gender', 'For Profile', '']\n",
      "C:\\Users\\HP\\AppData\\Local\\Temp\\ipykernel_13652\\376092686.py:2: SyntaxWarning: list indices must be integers or slices, not tuple; perhaps you missed a comma?\n",
      "  ['S.No', 'Student Name', 'Roll Number', 'University Name', 'Course', 'Gender', 'For Profile', '']\n",
      "C:\\Users\\HP\\AppData\\Local\\Temp\\ipykernel_13652\\376092686.py:2: SyntaxWarning: list indices must be integers or slices, not tuple; perhaps you missed a comma?\n",
      "  ['S.No', 'Student Name', 'Roll Number', 'University Name', 'Course', 'Gender', 'For Profile', '']\n",
      "C:\\Users\\HP\\AppData\\Local\\Temp\\ipykernel_13652\\376092686.py:2: SyntaxWarning: list indices must be integers or slices, not tuple; perhaps you missed a comma?\n",
      "  ['S.No', 'Student Name', 'Roll Number', 'University Name', 'Course', 'Gender', 'For Profile', '']\n",
      "C:\\Users\\HP\\AppData\\Local\\Temp\\ipykernel_13652\\376092686.py:2: SyntaxWarning: list indices must be integers or slices, not tuple; perhaps you missed a comma?\n",
      "  ['S.No', 'Student Name', 'Roll Number', 'University Name', 'Course', 'Gender', 'For Profile', '']\n",
      "C:\\Users\\HP\\AppData\\Local\\Temp\\ipykernel_13652\\376092686.py:2: SyntaxWarning: list indices must be integers or slices, not tuple; perhaps you missed a comma?\n",
      "  ['S.No', 'Student Name', 'Roll Number', 'University Name', 'Course', 'Gender', 'For Profile', '']\n",
      "C:\\Users\\HP\\AppData\\Local\\Temp\\ipykernel_13652\\376092686.py:2: SyntaxWarning: list indices must be integers or slices, not tuple; perhaps you missed a comma?\n",
      "  ['S.No', 'Student Name', 'Roll Number', 'University Name', 'Course', 'Gender', 'For Profile', '']\n",
      "C:\\Users\\HP\\AppData\\Local\\Temp\\ipykernel_13652\\376092686.py:2: SyntaxWarning: list indices must be integers or slices, not tuple; perhaps you missed a comma?\n",
      "  ['S.No', 'Student Name', 'Roll Number', 'University Name', 'Course', 'Gender', 'For Profile', '']\n",
      "C:\\Users\\HP\\AppData\\Local\\Temp\\ipykernel_13652\\376092686.py:2: SyntaxWarning: list indices must be integers or slices, not tuple; perhaps you missed a comma?\n",
      "  ['S.No', 'Student Name', 'Roll Number', 'University Name', 'Course', 'Gender', 'For Profile', '']\n",
      "C:\\Users\\HP\\AppData\\Local\\Temp\\ipykernel_13652\\376092686.py:2: SyntaxWarning: list indices must be integers or slices, not tuple; perhaps you missed a comma?\n",
      "  ['S.No', 'Student Name', 'Roll Number', 'University Name', 'Course', 'Gender', 'For Profile', '']\n",
      "C:\\Users\\HP\\AppData\\Local\\Temp\\ipykernel_13652\\376092686.py:2: SyntaxWarning: list indices must be integers or slices, not tuple; perhaps you missed a comma?\n",
      "  ['S.No', 'Student Name', 'Roll Number', 'University Name', 'Course', 'Gender', 'For Profile', '']\n",
      "C:\\Users\\HP\\AppData\\Local\\Temp\\ipykernel_13652\\376092686.py:2: SyntaxWarning: list indices must be integers or slices, not tuple; perhaps you missed a comma?\n",
      "  ['S.No', 'Student Name', 'Roll Number', 'University Name', 'Course', 'Gender', 'For Profile', '']\n",
      "C:\\Users\\HP\\AppData\\Local\\Temp\\ipykernel_13652\\376092686.py:2: SyntaxWarning: list indices must be integers or slices, not tuple; perhaps you missed a comma?\n",
      "  ['S.No', 'Student Name', 'Roll Number', 'University Name', 'Course', 'Gender', 'For Profile', '']\n"
     ]
    },
    {
     "ename": "TypeError",
     "evalue": "list indices must be integers or slices, not tuple",
     "output_type": "error",
     "traceback": [
      "\u001b[1;31m---------------------------------------------------------------------------\u001b[0m",
      "\u001b[1;31mTypeError\u001b[0m                                 Traceback (most recent call last)",
      "Input \u001b[1;32mIn [34]\u001b[0m, in \u001b[0;36m<cell line: 2>\u001b[1;34m()\u001b[0m\n\u001b[0;32m      1\u001b[0m query\u001b[38;5;241m=\u001b[39m{\n\u001b[1;32m----> 2\u001b[0m                \u001b[43m[\u001b[49m\u001b[38;5;124;43m'\u001b[39;49m\u001b[38;5;124;43mS.No\u001b[39;49m\u001b[38;5;124;43m'\u001b[39;49m\u001b[43m,\u001b[49m\u001b[43m \u001b[49m\u001b[38;5;124;43m'\u001b[39;49m\u001b[38;5;124;43mStudent Name\u001b[39;49m\u001b[38;5;124;43m'\u001b[39;49m\u001b[43m,\u001b[49m\u001b[43m \u001b[49m\u001b[38;5;124;43m'\u001b[39;49m\u001b[38;5;124;43mRoll Number\u001b[39;49m\u001b[38;5;124;43m'\u001b[39;49m\u001b[43m,\u001b[49m\u001b[43m \u001b[49m\u001b[38;5;124;43m'\u001b[39;49m\u001b[38;5;124;43mUniversity Name\u001b[39;49m\u001b[38;5;124;43m'\u001b[39;49m\u001b[43m,\u001b[49m\u001b[43m \u001b[49m\u001b[38;5;124;43m'\u001b[39;49m\u001b[38;5;124;43mCourse\u001b[39;49m\u001b[38;5;124;43m'\u001b[39;49m\u001b[43m,\u001b[49m\u001b[43m \u001b[49m\u001b[38;5;124;43m'\u001b[39;49m\u001b[38;5;124;43mGender\u001b[39;49m\u001b[38;5;124;43m'\u001b[39;49m\u001b[43m,\u001b[49m\u001b[43m \u001b[49m\u001b[38;5;124;43m'\u001b[39;49m\u001b[38;5;124;43mFor Profile\u001b[39;49m\u001b[38;5;124;43m'\u001b[39;49m\u001b[43m,\u001b[49m\u001b[43m \u001b[49m\u001b[38;5;124;43m'\u001b[39;49m\u001b[38;5;124;43m'\u001b[39;49m\u001b[43m]\u001b[49m\n\u001b[0;32m      3\u001b[0m \u001b[43m[\u001b[49m\u001b[38;5;124;43m'\u001b[39;49m\u001b[38;5;124;43m1\u001b[39;49m\u001b[38;5;124;43m'\u001b[39;49m\u001b[43m,\u001b[49m\u001b[43m \u001b[49m\u001b[38;5;124;43m'\u001b[39;49m\u001b[38;5;124;43mAbhishek Pal\u001b[39;49m\u001b[38;5;124;43m'\u001b[39;49m\u001b[43m,\u001b[49m\u001b[43m \u001b[49m\u001b[38;5;124;43m'\u001b[39;49m\u001b[38;5;124;43m2014524\u001b[39;49m\u001b[38;5;124;43m'\u001b[39;49m\u001b[43m,\u001b[49m\u001b[43m \u001b[49m\u001b[38;5;124;43m'\u001b[39;49m\u001b[38;5;124;43mGEU\u001b[39;49m\u001b[38;5;124;43m'\u001b[39;49m\u001b[43m,\u001b[49m\u001b[43m \u001b[49m\u001b[38;5;124;43m'\u001b[39;49m\u001b[38;5;124;43mB-Tech\u001b[39;49m\u001b[38;5;124;43m'\u001b[39;49m\u001b[43m,\u001b[49m\u001b[43m \u001b[49m\u001b[38;5;124;43m'\u001b[39;49m\u001b[38;5;124;43mMale\u001b[39;49m\u001b[38;5;124;43m'\u001b[39;49m\u001b[43m,\u001b[49m\u001b[43m \u001b[49m\u001b[38;5;124;43m'\u001b[39;49m\u001b[38;5;124;43mSoftware Developer Intern\u001b[39;49m\u001b[38;5;124;43m'\u001b[39;49m\u001b[43m,\u001b[49m\u001b[43m \u001b[49m\u001b[38;5;124;43m'\u001b[39;49m\u001b[38;5;124;43m'\u001b[39;49m\u001b[43m]\u001b[49m\n\u001b[0;32m      4\u001b[0m [\u001b[38;5;124m'\u001b[39m\u001b[38;5;124m2\u001b[39m\u001b[38;5;124m'\u001b[39m, \u001b[38;5;124m'\u001b[39m\u001b[38;5;124mAkash Bhatt\u001b[39m\u001b[38;5;124m'\u001b[39m, \u001b[38;5;124m'\u001b[39m\u001b[38;5;124m2015048\u001b[39m\u001b[38;5;124m'\u001b[39m, \u001b[38;5;124m'\u001b[39m\u001b[38;5;124mGEU\u001b[39m\u001b[38;5;124m'\u001b[39m, \u001b[38;5;124m'\u001b[39m\u001b[38;5;124mB-Tech\u001b[39m\u001b[38;5;124m'\u001b[39m, \u001b[38;5;124m'\u001b[39m\u001b[38;5;124mMale\u001b[39m\u001b[38;5;124m'\u001b[39m, \u001b[38;5;124m'\u001b[39m\u001b[38;5;124mSoftware Developer Intern\u001b[39m\u001b[38;5;124m'\u001b[39m, \u001b[38;5;124m'\u001b[39m\u001b[38;5;124m'\u001b[39m]\n\u001b[0;32m      5\u001b[0m [\u001b[38;5;124m'\u001b[39m\u001b[38;5;124m3\u001b[39m\u001b[38;5;124m'\u001b[39m, \u001b[38;5;124m'\u001b[39m\u001b[38;5;124mAnkit Sharma\u001b[39m\u001b[38;5;124m'\u001b[39m, \u001b[38;5;124m'\u001b[39m\u001b[38;5;124m2014569\u001b[39m\u001b[38;5;124m'\u001b[39m, \u001b[38;5;124m'\u001b[39m\u001b[38;5;124mGEU\u001b[39m\u001b[38;5;124m'\u001b[39m, \u001b[38;5;124m'\u001b[39m\u001b[38;5;124mB-Tech\u001b[39m\u001b[38;5;124m'\u001b[39m, \u001b[38;5;124m'\u001b[39m\u001b[38;5;124mMale\u001b[39m\u001b[38;5;124m'\u001b[39m, \u001b[38;5;124m'\u001b[39m\u001b[38;5;124mSoftware Developer Intern\u001b[39m\u001b[38;5;124m'\u001b[39m, \u001b[38;5;124m'\u001b[39m\u001b[38;5;124m'\u001b[39m]\n\u001b[0;32m      6\u001b[0m [\u001b[38;5;124m'\u001b[39m\u001b[38;5;124m4\u001b[39m\u001b[38;5;124m'\u001b[39m, \u001b[38;5;124m'\u001b[39m\u001b[38;5;124mAryan Pathela\u001b[39m\u001b[38;5;124m'\u001b[39m, \u001b[38;5;124m'\u001b[39m\u001b[38;5;124m2015058\u001b[39m\u001b[38;5;124m'\u001b[39m, \u001b[38;5;124m'\u001b[39m\u001b[38;5;124mGEU\u001b[39m\u001b[38;5;124m'\u001b[39m, \u001b[38;5;124m'\u001b[39m\u001b[38;5;124mB-Tech\u001b[39m\u001b[38;5;124m'\u001b[39m, \u001b[38;5;124m'\u001b[39m\u001b[38;5;124mMale\u001b[39m\u001b[38;5;124m'\u001b[39m, \u001b[38;5;124m'\u001b[39m\u001b[38;5;124mSoftware Developer Intern\u001b[39m\u001b[38;5;124m'\u001b[39m, \u001b[38;5;124m'\u001b[39m\u001b[38;5;124m'\u001b[39m]\n\u001b[0;32m      7\u001b[0m [\u001b[38;5;124m'\u001b[39m\u001b[38;5;124m5\u001b[39m\u001b[38;5;124m'\u001b[39m, \u001b[38;5;124m'\u001b[39m\u001b[38;5;124mAyush Negi\u001b[39m\u001b[38;5;124m'\u001b[39m, \u001b[38;5;124m'\u001b[39m\u001b[38;5;124m2015063\u001b[39m\u001b[38;5;124m'\u001b[39m, \u001b[38;5;124m'\u001b[39m\u001b[38;5;124mGEU\u001b[39m\u001b[38;5;124m'\u001b[39m, \u001b[38;5;124m'\u001b[39m\u001b[38;5;124mB-Tech\u001b[39m\u001b[38;5;124m'\u001b[39m, \u001b[38;5;124m'\u001b[39m\u001b[38;5;124mMale\u001b[39m\u001b[38;5;124m'\u001b[39m, \u001b[38;5;124m'\u001b[39m\u001b[38;5;124mSoftware Developer Intern\u001b[39m\u001b[38;5;124m'\u001b[39m, \u001b[38;5;124m'\u001b[39m\u001b[38;5;124m'\u001b[39m]\n\u001b[0;32m      8\u001b[0m [\u001b[38;5;124m'\u001b[39m\u001b[38;5;124m6\u001b[39m\u001b[38;5;124m'\u001b[39m, \u001b[38;5;124m'\u001b[39m\u001b[38;5;124mDaksh Choudhary\u001b[39m\u001b[38;5;124m'\u001b[39m, \u001b[38;5;124m'\u001b[39m\u001b[38;5;124m2015498\u001b[39m\u001b[38;5;124m'\u001b[39m, \u001b[38;5;124m'\u001b[39m\u001b[38;5;124mGEU\u001b[39m\u001b[38;5;124m'\u001b[39m, \u001b[38;5;124m'\u001b[39m\u001b[38;5;124mB-Tech\u001b[39m\u001b[38;5;124m'\u001b[39m, \u001b[38;5;124m'\u001b[39m\u001b[38;5;124mMale\u001b[39m\u001b[38;5;124m'\u001b[39m, \u001b[38;5;124m'\u001b[39m\u001b[38;5;124mSoftware Developer Intern\u001b[39m\u001b[38;5;124m'\u001b[39m, \u001b[38;5;124m'\u001b[39m\u001b[38;5;124m'\u001b[39m]\n\u001b[0;32m      9\u001b[0m [\u001b[38;5;124m'\u001b[39m\u001b[38;5;124m7\u001b[39m\u001b[38;5;124m'\u001b[39m, \u001b[38;5;124m'\u001b[39m\u001b[38;5;124mDivay\u001b[39m\u001b[38;5;124m'\u001b[39m, \u001b[38;5;124m'\u001b[39m\u001b[38;5;124m2015163\u001b[39m\u001b[38;5;124m'\u001b[39m, \u001b[38;5;124m'\u001b[39m\u001b[38;5;124mGEU\u001b[39m\u001b[38;5;124m'\u001b[39m, \u001b[38;5;124m'\u001b[39m\u001b[38;5;124mB-Tech\u001b[39m\u001b[38;5;124m'\u001b[39m, \u001b[38;5;124m'\u001b[39m\u001b[38;5;124mMale\u001b[39m\u001b[38;5;124m'\u001b[39m, \u001b[38;5;124m'\u001b[39m\u001b[38;5;124mMarketing Intern\u001b[39m\u001b[38;5;124m'\u001b[39m, \u001b[38;5;124m'\u001b[39m\u001b[38;5;124m'\u001b[39m]\n\u001b[0;32m     10\u001b[0m [\u001b[38;5;124m'\u001b[39m\u001b[38;5;124m8\u001b[39m\u001b[38;5;124m'\u001b[39m, \u001b[38;5;124m'\u001b[39m\u001b[38;5;124mGargi Aggarwal\u001b[39m\u001b[38;5;124m'\u001b[39m, \u001b[38;5;124m'\u001b[39m\u001b[38;5;124m2014655\u001b[39m\u001b[38;5;124m'\u001b[39m, \u001b[38;5;124m'\u001b[39m\u001b[38;5;124mGEU\u001b[39m\u001b[38;5;124m'\u001b[39m, \u001b[38;5;124m'\u001b[39m\u001b[38;5;124mB-Tech\u001b[39m\u001b[38;5;124m'\u001b[39m, \u001b[38;5;124m'\u001b[39m\u001b[38;5;124mFemale\u001b[39m\u001b[38;5;124m'\u001b[39m, \u001b[38;5;124m'\u001b[39m\u001b[38;5;124mSoftware Developer Intern\u001b[39m\u001b[38;5;124m'\u001b[39m, \u001b[38;5;124m'\u001b[39m\u001b[38;5;124m'\u001b[39m]\n\u001b[0;32m     11\u001b[0m [\u001b[38;5;124m'\u001b[39m\u001b[38;5;124m9\u001b[39m\u001b[38;5;124m'\u001b[39m, \u001b[38;5;124m'\u001b[39m\u001b[38;5;124mKeshav Aman\u001b[39m\u001b[38;5;124m'\u001b[39m, \u001b[38;5;124m'\u001b[39m\u001b[38;5;124m2015246\u001b[39m\u001b[38;5;124m'\u001b[39m, \u001b[38;5;124m'\u001b[39m\u001b[38;5;124mGEU\u001b[39m\u001b[38;5;124m'\u001b[39m, \u001b[38;5;124m'\u001b[39m\u001b[38;5;124mB-Tech\u001b[39m\u001b[38;5;124m'\u001b[39m, \u001b[38;5;124m'\u001b[39m\u001b[38;5;124mMale\u001b[39m\u001b[38;5;124m'\u001b[39m, \u001b[38;5;124m'\u001b[39m\u001b[38;5;124mSoftware Developer Intern\u001b[39m\u001b[38;5;124m'\u001b[39m, \u001b[38;5;124m'\u001b[39m\u001b[38;5;124m'\u001b[39m]\n\u001b[0;32m     12\u001b[0m [\u001b[38;5;124m'\u001b[39m\u001b[38;5;124m10\u001b[39m\u001b[38;5;124m'\u001b[39m, \u001b[38;5;124m'\u001b[39m\u001b[38;5;124mMayank Gambhir\u001b[39m\u001b[38;5;124m'\u001b[39m, \u001b[38;5;124m'\u001b[39m\u001b[38;5;124m2014722\u001b[39m\u001b[38;5;124m'\u001b[39m, \u001b[38;5;124m'\u001b[39m\u001b[38;5;124mGEU\u001b[39m\u001b[38;5;124m'\u001b[39m, \u001b[38;5;124m'\u001b[39m\u001b[38;5;124mB-Tech\u001b[39m\u001b[38;5;124m'\u001b[39m, \u001b[38;5;124m'\u001b[39m\u001b[38;5;124mMale\u001b[39m\u001b[38;5;124m'\u001b[39m, \u001b[38;5;124m'\u001b[39m\u001b[38;5;124mSoftware Developer Intern\u001b[39m\u001b[38;5;124m'\u001b[39m, \u001b[38;5;124m'\u001b[39m\u001b[38;5;124m'\u001b[39m]\n\u001b[0;32m     13\u001b[0m [\u001b[38;5;124m'\u001b[39m\u001b[38;5;124m11\u001b[39m\u001b[38;5;124m'\u001b[39m, \u001b[38;5;124m'\u001b[39m\u001b[38;5;124mPraggya Singh\u001b[39m\u001b[38;5;124m'\u001b[39m, \u001b[38;5;124m'\u001b[39m\u001b[38;5;124m2015530\u001b[39m\u001b[38;5;124m'\u001b[39m, \u001b[38;5;124m'\u001b[39m\u001b[38;5;124mGEU\u001b[39m\u001b[38;5;124m'\u001b[39m, \u001b[38;5;124m'\u001b[39m\u001b[38;5;124mB-Tech\u001b[39m\u001b[38;5;124m'\u001b[39m, \u001b[38;5;124m'\u001b[39m\u001b[38;5;124mFemale\u001b[39m\u001b[38;5;124m'\u001b[39m, \u001b[38;5;124m'\u001b[39m\u001b[38;5;124mSoftware Developer Intern\u001b[39m\u001b[38;5;124m'\u001b[39m, \u001b[38;5;124m'\u001b[39m\u001b[38;5;124m'\u001b[39m]\n\u001b[0;32m     14\u001b[0m [\u001b[38;5;124m'\u001b[39m\u001b[38;5;124m12\u001b[39m\u001b[38;5;124m'\u001b[39m, \u001b[38;5;124m'\u001b[39m\u001b[38;5;124mRiya Chaudhary\u001b[39m\u001b[38;5;124m'\u001b[39m, \u001b[38;5;124m'\u001b[39m\u001b[38;5;124m2015185\u001b[39m\u001b[38;5;124m'\u001b[39m, \u001b[38;5;124m'\u001b[39m\u001b[38;5;124mGEU\u001b[39m\u001b[38;5;124m'\u001b[39m, \u001b[38;5;124m'\u001b[39m\u001b[38;5;124mB-Tech\u001b[39m\u001b[38;5;124m'\u001b[39m, \u001b[38;5;124m'\u001b[39m\u001b[38;5;124mFemale\u001b[39m\u001b[38;5;124m'\u001b[39m, \u001b[38;5;124m'\u001b[39m\u001b[38;5;124mSoftware Developer Intern\u001b[39m\u001b[38;5;124m'\u001b[39m, \u001b[38;5;124m'\u001b[39m\u001b[38;5;124m'\u001b[39m]\n\u001b[0;32m     15\u001b[0m [\u001b[38;5;124m'\u001b[39m\u001b[38;5;124m13\u001b[39m\u001b[38;5;124m'\u001b[39m, \u001b[38;5;124m'\u001b[39m\u001b[38;5;124mSahibpreet Singh Saini\u001b[39m\u001b[38;5;124m'\u001b[39m, \u001b[38;5;124m'\u001b[39m\u001b[38;5;124m19011534\u001b[39m\u001b[38;5;124m'\u001b[39m, \u001b[38;5;124m'\u001b[39m\u001b[38;5;124mGEU\u001b[39m\u001b[38;5;124m'\u001b[39m, \u001b[38;5;124m'\u001b[39m\u001b[38;5;124mB-Tech\u001b[39m\u001b[38;5;124m'\u001b[39m, \u001b[38;5;124m'\u001b[39m\u001b[38;5;124mMale\u001b[39m\u001b[38;5;124m'\u001b[39m, \u001b[38;5;124m'\u001b[39m\u001b[38;5;124mSoftware Developer Intern\u001b[39m\u001b[38;5;124m'\u001b[39m, \u001b[38;5;124m'\u001b[39m\u001b[38;5;124m'\u001b[39m]\n\u001b[0;32m     16\u001b[0m [\u001b[38;5;124m'\u001b[39m\u001b[38;5;124m14\u001b[39m\u001b[38;5;124m'\u001b[39m, \u001b[38;5;124m'\u001b[39m\u001b[38;5;124mSameer Srivastava\u001b[39m\u001b[38;5;124m'\u001b[39m, \u001b[38;5;124m'\u001b[39m\u001b[38;5;124m2014830\u001b[39m\u001b[38;5;124m'\u001b[39m, \u001b[38;5;124m'\u001b[39m\u001b[38;5;124mGEU\u001b[39m\u001b[38;5;124m'\u001b[39m, \u001b[38;5;124m'\u001b[39m\u001b[38;5;124mB-Tech\u001b[39m\u001b[38;5;124m'\u001b[39m, \u001b[38;5;124m'\u001b[39m\u001b[38;5;124mMale\u001b[39m\u001b[38;5;124m'\u001b[39m, \u001b[38;5;124m'\u001b[39m\u001b[38;5;124mSoftware Developer Intern\u001b[39m\u001b[38;5;124m'\u001b[39m, \u001b[38;5;124m'\u001b[39m\u001b[38;5;124m'\u001b[39m]\n\u001b[0;32m     17\u001b[0m [\u001b[38;5;124m'\u001b[39m\u001b[38;5;124m15\u001b[39m\u001b[38;5;124m'\u001b[39m, \u001b[38;5;124m'\u001b[39m\u001b[38;5;124mSatvik Jain\u001b[39m\u001b[38;5;124m'\u001b[39m, \u001b[38;5;124m'\u001b[39m\u001b[38;5;124m2014840\u001b[39m\u001b[38;5;124m'\u001b[39m, \u001b[38;5;124m'\u001b[39m\u001b[38;5;124mGEU\u001b[39m\u001b[38;5;124m'\u001b[39m, \u001b[38;5;124m'\u001b[39m\u001b[38;5;124mB-Tech\u001b[39m\u001b[38;5;124m'\u001b[39m, \u001b[38;5;124m'\u001b[39m\u001b[38;5;124mMale\u001b[39m\u001b[38;5;124m'\u001b[39m, \u001b[38;5;124m'\u001b[39m\u001b[38;5;124mSoftware Developer Intern\u001b[39m\u001b[38;5;124m'\u001b[39m, \u001b[38;5;124m'\u001b[39m\u001b[38;5;124m'\u001b[39m]\n\u001b[0;32m     18\u001b[0m [\u001b[38;5;124m'\u001b[39m\u001b[38;5;124m16\u001b[39m\u001b[38;5;124m'\u001b[39m, \u001b[38;5;124m'\u001b[39m\u001b[38;5;124mShivang Gupta\u001b[39m\u001b[38;5;124m'\u001b[39m, \u001b[38;5;124m'\u001b[39m\u001b[38;5;124m2014858\u001b[39m\u001b[38;5;124m'\u001b[39m, \u001b[38;5;124m'\u001b[39m\u001b[38;5;124mGEU\u001b[39m\u001b[38;5;124m'\u001b[39m, \u001b[38;5;124m'\u001b[39m\u001b[38;5;124mB-Tech\u001b[39m\u001b[38;5;124m'\u001b[39m, \u001b[38;5;124m'\u001b[39m\u001b[38;5;124mMale\u001b[39m\u001b[38;5;124m'\u001b[39m, \u001b[38;5;124m'\u001b[39m\u001b[38;5;124mMarketing Intern\u001b[39m\u001b[38;5;124m'\u001b[39m, \u001b[38;5;124m'\u001b[39m\u001b[38;5;124m'\u001b[39m]\n\u001b[0;32m     19\u001b[0m [\u001b[38;5;124m'\u001b[39m\u001b[38;5;124m17\u001b[39m\u001b[38;5;124m'\u001b[39m, \u001b[38;5;124m'\u001b[39m\u001b[38;5;124mShubham Rawat\u001b[39m\u001b[38;5;124m'\u001b[39m, \u001b[38;5;124m'\u001b[39m\u001b[38;5;124m2014874\u001b[39m\u001b[38;5;124m'\u001b[39m, \u001b[38;5;124m'\u001b[39m\u001b[38;5;124mGEU\u001b[39m\u001b[38;5;124m'\u001b[39m, \u001b[38;5;124m'\u001b[39m\u001b[38;5;124mB-Tech\u001b[39m\u001b[38;5;124m'\u001b[39m, \u001b[38;5;124m'\u001b[39m\u001b[38;5;124mMale\u001b[39m\u001b[38;5;124m'\u001b[39m, \u001b[38;5;124m'\u001b[39m\u001b[38;5;124mSoftware Developer Intern\u001b[39m\u001b[38;5;124m'\u001b[39m, \u001b[38;5;124m'\u001b[39m\u001b[38;5;124m'\u001b[39m]\n\u001b[0;32m     20\u001b[0m [\u001b[38;5;124m'\u001b[39m\u001b[38;5;124m18\u001b[39m\u001b[38;5;124m'\u001b[39m, \u001b[38;5;124m'\u001b[39m\u001b[38;5;124mSkimmy Gupta\u001b[39m\u001b[38;5;124m'\u001b[39m, \u001b[38;5;124m'\u001b[39m\u001b[38;5;124m2014890\u001b[39m\u001b[38;5;124m'\u001b[39m, \u001b[38;5;124m'\u001b[39m\u001b[38;5;124mGEU\u001b[39m\u001b[38;5;124m'\u001b[39m, \u001b[38;5;124m'\u001b[39m\u001b[38;5;124mB-Tech\u001b[39m\u001b[38;5;124m'\u001b[39m, \u001b[38;5;124m'\u001b[39m\u001b[38;5;124mFemale\u001b[39m\u001b[38;5;124m'\u001b[39m, \u001b[38;5;124m'\u001b[39m\u001b[38;5;124mSoftware Developer Intern\u001b[39m\u001b[38;5;124m'\u001b[39m, \u001b[38;5;124m'\u001b[39m\u001b[38;5;124m'\u001b[39m]\n\u001b[0;32m     21\u001b[0m [\u001b[38;5;124m'\u001b[39m\u001b[38;5;124m19\u001b[39m\u001b[38;5;124m'\u001b[39m, \u001b[38;5;124m'\u001b[39m\u001b[38;5;124mSujal Agarwal\u001b[39m\u001b[38;5;124m'\u001b[39m, \u001b[38;5;124m'\u001b[39m\u001b[38;5;124m2015555\u001b[39m\u001b[38;5;124m'\u001b[39m, \u001b[38;5;124m'\u001b[39m\u001b[38;5;124mGEU\u001b[39m\u001b[38;5;124m'\u001b[39m, \u001b[38;5;124m'\u001b[39m\u001b[38;5;124mB-Tech\u001b[39m\u001b[38;5;124m'\u001b[39m, \u001b[38;5;124m'\u001b[39m\u001b[38;5;124mMale\u001b[39m\u001b[38;5;124m'\u001b[39m, \u001b[38;5;124m'\u001b[39m\u001b[38;5;124mSoftware Developer Intern\u001b[39m\u001b[38;5;124m'\u001b[39m, \u001b[38;5;124m'\u001b[39m\u001b[38;5;124m'\u001b[39m]\n\u001b[0;32m     22\u001b[0m [\u001b[38;5;124m'\u001b[39m\u001b[38;5;124m20\u001b[39m\u001b[38;5;124m'\u001b[39m, \u001b[38;5;124m'\u001b[39m\u001b[38;5;124mTanmay Anand\u001b[39m\u001b[38;5;124m'\u001b[39m, \u001b[38;5;124m'\u001b[39m\u001b[38;5;124m2015197\u001b[39m\u001b[38;5;124m'\u001b[39m, \u001b[38;5;124m'\u001b[39m\u001b[38;5;124mGEU\u001b[39m\u001b[38;5;124m'\u001b[39m, \u001b[38;5;124m'\u001b[39m\u001b[38;5;124mB-Tech\u001b[39m\u001b[38;5;124m'\u001b[39m, \u001b[38;5;124m'\u001b[39m\u001b[38;5;124mMale\u001b[39m\u001b[38;5;124m'\u001b[39m, \u001b[38;5;124m'\u001b[39m\u001b[38;5;124mSoftware Developer Intern\u001b[39m\u001b[38;5;124m'\u001b[39m, \u001b[38;5;124m'\u001b[39m\u001b[38;5;124m'\u001b[39m]\n\u001b[0;32m     23\u001b[0m [\u001b[38;5;124m'\u001b[39m\u001b[38;5;124m21\u001b[39m\u001b[38;5;124m'\u001b[39m, \u001b[38;5;124m'\u001b[39m\u001b[38;5;124mTejas Rai\u001b[39m\u001b[38;5;124m'\u001b[39m, \u001b[38;5;124m'\u001b[39m\u001b[38;5;124m2014915\u001b[39m\u001b[38;5;124m'\u001b[39m, \u001b[38;5;124m'\u001b[39m\u001b[38;5;124mGEU\u001b[39m\u001b[38;5;124m'\u001b[39m, \u001b[38;5;124m'\u001b[39m\u001b[38;5;124mB-Tech\u001b[39m\u001b[38;5;124m'\u001b[39m, \u001b[38;5;124m'\u001b[39m\u001b[38;5;124mMale\u001b[39m\u001b[38;5;124m'\u001b[39m, \u001b[38;5;124m'\u001b[39m\u001b[38;5;124mSoftware Developer Intern\u001b[39m\u001b[38;5;124m'\u001b[39m, \u001b[38;5;124m'\u001b[39m\u001b[38;5;124m'\u001b[39m]\n\u001b[0;32m     24\u001b[0m [\u001b[38;5;124m'\u001b[39m\u001b[38;5;124m22\u001b[39m\u001b[38;5;124m'\u001b[39m, \u001b[38;5;124m'\u001b[39m\u001b[38;5;124mUjjwal Sharma\u001b[39m\u001b[38;5;124m'\u001b[39m, \u001b[38;5;124m'\u001b[39m\u001b[38;5;124m2014922\u001b[39m\u001b[38;5;124m'\u001b[39m, \u001b[38;5;124m'\u001b[39m\u001b[38;5;124mGEU\u001b[39m\u001b[38;5;124m'\u001b[39m, \u001b[38;5;124m'\u001b[39m\u001b[38;5;124mB-Tech\u001b[39m\u001b[38;5;124m'\u001b[39m, \u001b[38;5;124m'\u001b[39m\u001b[38;5;124mMale\u001b[39m\u001b[38;5;124m'\u001b[39m, \u001b[38;5;124m'\u001b[39m\u001b[38;5;124mSoftware Developer Intern\u001b[39m\u001b[38;5;124m'\u001b[39m, \u001b[38;5;124m'\u001b[39m\u001b[38;5;124m'\u001b[39m]\n\u001b[0;32m     25\u001b[0m [\u001b[38;5;124m'\u001b[39m\u001b[38;5;124m23\u001b[39m\u001b[38;5;124m'\u001b[39m, \u001b[38;5;124m'\u001b[39m\u001b[38;5;124mVidisha Srivastava\u001b[39m\u001b[38;5;124m'\u001b[39m, \u001b[38;5;124m'\u001b[39m\u001b[38;5;124m2014940\u001b[39m\u001b[38;5;124m'\u001b[39m, \u001b[38;5;124m'\u001b[39m\u001b[38;5;124mGEU\u001b[39m\u001b[38;5;124m'\u001b[39m, \u001b[38;5;124m'\u001b[39m\u001b[38;5;124mB-Tech\u001b[39m\u001b[38;5;124m'\u001b[39m, \u001b[38;5;124m'\u001b[39m\u001b[38;5;124mFemale\u001b[39m\u001b[38;5;124m'\u001b[39m, \u001b[38;5;124m'\u001b[39m\u001b[38;5;124mSoftware Developer Intern\u001b[39m\u001b[38;5;124m'\u001b[39m, \u001b[38;5;124m'\u001b[39m\u001b[38;5;124m'\u001b[39m]\n\u001b[0;32m     26\u001b[0m [\u001b[38;5;124m'\u001b[39m\u001b[38;5;124m24\u001b[39m\u001b[38;5;124m'\u001b[39m, \u001b[38;5;124m'\u001b[39m\u001b[38;5;124mSachin Sajwan\u001b[39m\u001b[38;5;124m'\u001b[39m, \u001b[38;5;124m'\u001b[39m\u001b[38;5;124m2015269\u001b[39m\u001b[38;5;124m'\u001b[39m, \u001b[38;5;124m'\u001b[39m\u001b[38;5;124mGEU\u001b[39m\u001b[38;5;124m'\u001b[39m, \u001b[38;5;124m'\u001b[39m\u001b[38;5;124mB-Tech\u001b[39m\u001b[38;5;124m'\u001b[39m, \u001b[38;5;124m'\u001b[39m\u001b[38;5;124mMale\u001b[39m\u001b[38;5;124m'\u001b[39m, \u001b[38;5;124m'\u001b[39m\u001b[38;5;124mSoftware Developer Intern\u001b[39m\u001b[38;5;124m'\u001b[39m, \u001b[38;5;124m'\u001b[39m\u001b[38;5;124m'\u001b[39m]\n\u001b[0;32m     27\u001b[0m [\u001b[38;5;124m'\u001b[39m\u001b[38;5;124m25\u001b[39m\u001b[38;5;124m'\u001b[39m, \u001b[38;5;124m'\u001b[39m\u001b[38;5;124mGulshan Kumar\u001b[39m\u001b[38;5;124m'\u001b[39m, \u001b[38;5;124m'\u001b[39m\u001b[38;5;124m2015502\u001b[39m\u001b[38;5;124m'\u001b[39m, \u001b[38;5;124m'\u001b[39m\u001b[38;5;124mGEU\u001b[39m\u001b[38;5;124m'\u001b[39m, \u001b[38;5;124m'\u001b[39m\u001b[38;5;124mB-Tech\u001b[39m\u001b[38;5;124m'\u001b[39m, \u001b[38;5;124m'\u001b[39m\u001b[38;5;124mMale\u001b[39m\u001b[38;5;124m'\u001b[39m, \u001b[38;5;124m'\u001b[39m\u001b[38;5;124mMarketing Intern\u001b[39m\u001b[38;5;124m'\u001b[39m, \u001b[38;5;124m'\u001b[39m\u001b[38;5;124m'\u001b[39m]\n\u001b[0;32m     28\u001b[0m [\u001b[38;5;124m'\u001b[39m\u001b[38;5;124m26\u001b[39m\u001b[38;5;124m'\u001b[39m, \u001b[38;5;124m'\u001b[39m\u001b[38;5;124mMukul Dhiman\u001b[39m\u001b[38;5;124m'\u001b[39m, \u001b[38;5;124m'\u001b[39m\u001b[38;5;124m2014738\u001b[39m\u001b[38;5;124m'\u001b[39m, \u001b[38;5;124m'\u001b[39m\u001b[38;5;124mGEU\u001b[39m\u001b[38;5;124m'\u001b[39m, \u001b[38;5;124m'\u001b[39m\u001b[38;5;124mB-Tech\u001b[39m\u001b[38;5;124m'\u001b[39m, \u001b[38;5;124m'\u001b[39m\u001b[38;5;124mMale\u001b[39m\u001b[38;5;124m'\u001b[39m, \u001b[38;5;124m'\u001b[39m\u001b[38;5;124mSoftware Developer Intern\u001b[39m\u001b[38;5;124m'\u001b[39m, \u001b[38;5;124m'\u001b[39m\u001b[38;5;124m'\u001b[39m]\n\u001b[0;32m     29\u001b[0m [\u001b[38;5;124m'\u001b[39m\u001b[38;5;124m27\u001b[39m\u001b[38;5;124m'\u001b[39m, \u001b[38;5;124m'\u001b[39m\u001b[38;5;124mRaja\u001b[39m\u001b[38;5;124m'\u001b[39m, \u001b[38;5;124m'\u001b[39m\u001b[38;5;124m2015263\u001b[39m\u001b[38;5;124m'\u001b[39m, \u001b[38;5;124m'\u001b[39m\u001b[38;5;124mGEU\u001b[39m\u001b[38;5;124m'\u001b[39m, \u001b[38;5;124m'\u001b[39m\u001b[38;5;124mB-Tech\u001b[39m\u001b[38;5;124m'\u001b[39m, \u001b[38;5;124m'\u001b[39m\u001b[38;5;124mMale\u001b[39m\u001b[38;5;124m'\u001b[39m, \u001b[38;5;124m'\u001b[39m\u001b[38;5;124mSoftware Developer Intern\u001b[39m\u001b[38;5;124m'\u001b[39m, \u001b[38;5;124m'\u001b[39m\u001b[38;5;124m'\u001b[39m]\n\u001b[0;32m     30\u001b[0m [\u001b[38;5;124m'\u001b[39m\u001b[38;5;124m28\u001b[39m\u001b[38;5;124m'\u001b[39m, \u001b[38;5;124m'\u001b[39m\u001b[38;5;124mSanskar Gupta\u001b[39m\u001b[38;5;124m'\u001b[39m, \u001b[38;5;124m'\u001b[39m\u001b[38;5;124m2015549\u001b[39m\u001b[38;5;124m'\u001b[39m, \u001b[38;5;124m'\u001b[39m\u001b[38;5;124mGEU\u001b[39m\u001b[38;5;124m'\u001b[39m, \u001b[38;5;124m'\u001b[39m\u001b[38;5;124mB-Tech\u001b[39m\u001b[38;5;124m'\u001b[39m, \u001b[38;5;124m'\u001b[39m\u001b[38;5;124mMale\u001b[39m\u001b[38;5;124m'\u001b[39m, \u001b[38;5;124m'\u001b[39m\u001b[38;5;124mSoftware Developer Intern\u001b[39m\u001b[38;5;124m'\u001b[39m, \u001b[38;5;124m'\u001b[39m\u001b[38;5;124m'\u001b[39m]\n\u001b[0;32m     31\u001b[0m [\u001b[38;5;124m'\u001b[39m\u001b[38;5;124m29\u001b[39m\u001b[38;5;124m'\u001b[39m, \u001b[38;5;124m'\u001b[39m\u001b[38;5;124mAditya Shah\u001b[39m\u001b[38;5;124m'\u001b[39m, \u001b[38;5;124m'\u001b[39m\u001b[38;5;124m1918150\u001b[39m\u001b[38;5;124m'\u001b[39m, \u001b[38;5;124m'\u001b[39m\u001b[38;5;124mGEHU, Dehradun\u001b[39m\u001b[38;5;124m'\u001b[39m, \u001b[38;5;124m'\u001b[39m\u001b[38;5;124mB-Tech\u001b[39m\u001b[38;5;124m'\u001b[39m, \u001b[38;5;124m'\u001b[39m\u001b[38;5;124mMale\u001b[39m\u001b[38;5;124m'\u001b[39m, \u001b[38;5;124m'\u001b[39m\u001b[38;5;124mSoftware Developer Intern\u001b[39m\u001b[38;5;124m'\u001b[39m, \u001b[38;5;124m'\u001b[39m\u001b[38;5;124m'\u001b[39m]\n\u001b[0;32m     32\u001b[0m [\u001b[38;5;124m'\u001b[39m\u001b[38;5;124m30\u001b[39m\u001b[38;5;124m'\u001b[39m, \u001b[38;5;124m'\u001b[39m\u001b[38;5;124mAditya Shukla\u001b[39m\u001b[38;5;124m'\u001b[39m, \u001b[38;5;124m'\u001b[39m\u001b[38;5;124m1918151\u001b[39m\u001b[38;5;124m'\u001b[39m, \u001b[38;5;124m'\u001b[39m\u001b[38;5;124mGEHU, Dehradun\u001b[39m\u001b[38;5;124m'\u001b[39m, \u001b[38;5;124m'\u001b[39m\u001b[38;5;124mB-Tech\u001b[39m\u001b[38;5;124m'\u001b[39m, \u001b[38;5;124m'\u001b[39m\u001b[38;5;124mMale\u001b[39m\u001b[38;5;124m'\u001b[39m, \u001b[38;5;124m'\u001b[39m\u001b[38;5;124mSoftware Developer Intern\u001b[39m\u001b[38;5;124m'\u001b[39m, \u001b[38;5;124m'\u001b[39m\u001b[38;5;124m'\u001b[39m]\n\u001b[0;32m     33\u001b[0m [\u001b[38;5;124m'\u001b[39m\u001b[38;5;124m31\u001b[39m\u001b[38;5;124m'\u001b[39m, \u001b[38;5;124m'\u001b[39m\u001b[38;5;124mAkshat Mani Tripathi\u001b[39m\u001b[38;5;124m'\u001b[39m, \u001b[38;5;124m'\u001b[39m\u001b[38;5;124m1918177\u001b[39m\u001b[38;5;124m'\u001b[39m, \u001b[38;5;124m'\u001b[39m\u001b[38;5;124mGEHU, Dehradun\u001b[39m\u001b[38;5;124m'\u001b[39m, \u001b[38;5;124m'\u001b[39m\u001b[38;5;124mB-Tech\u001b[39m\u001b[38;5;124m'\u001b[39m, \u001b[38;5;124m'\u001b[39m\u001b[38;5;124mMale\u001b[39m\u001b[38;5;124m'\u001b[39m, \u001b[38;5;124m'\u001b[39m\u001b[38;5;124mSoftware Developer Intern\u001b[39m\u001b[38;5;124m'\u001b[39m, \u001b[38;5;124m'\u001b[39m\u001b[38;5;124m'\u001b[39m]\n\u001b[0;32m     34\u001b[0m [\u001b[38;5;124m'\u001b[39m\u001b[38;5;124m32\u001b[39m\u001b[38;5;124m'\u001b[39m, \u001b[38;5;124m'\u001b[39m\u001b[38;5;124mAmit Joshi\u001b[39m\u001b[38;5;124m'\u001b[39m, \u001b[38;5;124m'\u001b[39m\u001b[38;5;124m1918204\u001b[39m\u001b[38;5;124m'\u001b[39m, \u001b[38;5;124m'\u001b[39m\u001b[38;5;124mGEHU, Dehradun\u001b[39m\u001b[38;5;124m'\u001b[39m, \u001b[38;5;124m'\u001b[39m\u001b[38;5;124mB-Tech\u001b[39m\u001b[38;5;124m'\u001b[39m, \u001b[38;5;124m'\u001b[39m\u001b[38;5;124mMale\u001b[39m\u001b[38;5;124m'\u001b[39m, \u001b[38;5;124m'\u001b[39m\u001b[38;5;124mSoftware Developer Intern\u001b[39m\u001b[38;5;124m'\u001b[39m, \u001b[38;5;124m'\u001b[39m\u001b[38;5;124m'\u001b[39m]\n\u001b[0;32m     35\u001b[0m [\u001b[38;5;124m'\u001b[39m\u001b[38;5;124m33\u001b[39m\u001b[38;5;124m'\u001b[39m, \u001b[38;5;124m'\u001b[39m\u001b[38;5;124mDivyam Singh Rauthan\u001b[39m\u001b[38;5;124m'\u001b[39m, \u001b[38;5;124m'\u001b[39m\u001b[38;5;124m1918334\u001b[39m\u001b[38;5;124m'\u001b[39m, \u001b[38;5;124m'\u001b[39m\u001b[38;5;124mGEHU, Dehradun\u001b[39m\u001b[38;5;124m'\u001b[39m, \u001b[38;5;124m'\u001b[39m\u001b[38;5;124mB-Tech\u001b[39m\u001b[38;5;124m'\u001b[39m, \u001b[38;5;124m'\u001b[39m\u001b[38;5;124mMale\u001b[39m\u001b[38;5;124m'\u001b[39m, \u001b[38;5;124m'\u001b[39m\u001b[38;5;124mSoftware Developer Intern\u001b[39m\u001b[38;5;124m'\u001b[39m, \u001b[38;5;124m'\u001b[39m\u001b[38;5;124m'\u001b[39m]\n\u001b[0;32m     36\u001b[0m [\u001b[38;5;124m'\u001b[39m\u001b[38;5;124m34\u001b[39m\u001b[38;5;124m'\u001b[39m, \u001b[38;5;124m'\u001b[39m\u001b[38;5;124mDivyanshu Kumar\u001b[39m\u001b[38;5;124m'\u001b[39m, \u001b[38;5;124m'\u001b[39m\u001b[38;5;124m1918835\u001b[39m\u001b[38;5;124m'\u001b[39m, \u001b[38;5;124m'\u001b[39m\u001b[38;5;124mGEHU, Dehradun\u001b[39m\u001b[38;5;124m'\u001b[39m, \u001b[38;5;124m'\u001b[39m\u001b[38;5;124mB-Tech\u001b[39m\u001b[38;5;124m'\u001b[39m, \u001b[38;5;124m'\u001b[39m\u001b[38;5;124mMale\u001b[39m\u001b[38;5;124m'\u001b[39m, \u001b[38;5;124m'\u001b[39m\u001b[38;5;124mSoftware Developer Intern\u001b[39m\u001b[38;5;124m'\u001b[39m, \u001b[38;5;124m'\u001b[39m\u001b[38;5;124m'\u001b[39m]\n\u001b[0;32m     37\u001b[0m [\u001b[38;5;124m'\u001b[39m\u001b[38;5;124m35\u001b[39m\u001b[38;5;124m'\u001b[39m, \u001b[38;5;124m'\u001b[39m\u001b[38;5;124mGovind Singh Bhatia\u001b[39m\u001b[38;5;124m'\u001b[39m, \u001b[38;5;124m'\u001b[39m\u001b[38;5;124m1918347\u001b[39m\u001b[38;5;124m'\u001b[39m, \u001b[38;5;124m'\u001b[39m\u001b[38;5;124mGEHU, Dehradun\u001b[39m\u001b[38;5;124m'\u001b[39m, \u001b[38;5;124m'\u001b[39m\u001b[38;5;124mB-Tech\u001b[39m\u001b[38;5;124m'\u001b[39m, \u001b[38;5;124m'\u001b[39m\u001b[38;5;124mMale\u001b[39m\u001b[38;5;124m'\u001b[39m, \u001b[38;5;124m'\u001b[39m\u001b[38;5;124mSoftware Developer Intern\u001b[39m\u001b[38;5;124m'\u001b[39m, \u001b[38;5;124m'\u001b[39m\u001b[38;5;124m'\u001b[39m]\n\u001b[0;32m     38\u001b[0m [\u001b[38;5;124m'\u001b[39m\u001b[38;5;124m36\u001b[39m\u001b[38;5;124m'\u001b[39m, \u001b[38;5;124m'\u001b[39m\u001b[38;5;124mHridayansh Sah\u001b[39m\u001b[38;5;124m'\u001b[39m, \u001b[38;5;124m'\u001b[39m\u001b[38;5;124m1918026\u001b[39m\u001b[38;5;124m'\u001b[39m, \u001b[38;5;124m'\u001b[39m\u001b[38;5;124mGEHU, Dehradun\u001b[39m\u001b[38;5;124m'\u001b[39m, \u001b[38;5;124m'\u001b[39m\u001b[38;5;124mB-Tech\u001b[39m\u001b[38;5;124m'\u001b[39m, \u001b[38;5;124m'\u001b[39m\u001b[38;5;124mMale\u001b[39m\u001b[38;5;124m'\u001b[39m, \u001b[38;5;124m'\u001b[39m\u001b[38;5;124mSoftware Developer Intern\u001b[39m\u001b[38;5;124m'\u001b[39m, \u001b[38;5;124m'\u001b[39m\u001b[38;5;124m'\u001b[39m]\n\u001b[0;32m     39\u001b[0m [\u001b[38;5;124m'\u001b[39m\u001b[38;5;124m37\u001b[39m\u001b[38;5;124m'\u001b[39m, \u001b[38;5;124m'\u001b[39m\u001b[38;5;124mKamal Singh Gaira\u001b[39m\u001b[38;5;124m'\u001b[39m, \u001b[38;5;124m'\u001b[39m\u001b[38;5;124m2018016\u001b[39m\u001b[38;5;124m'\u001b[39m, \u001b[38;5;124m'\u001b[39m\u001b[38;5;124mGEHU, Dehradun\u001b[39m\u001b[38;5;124m'\u001b[39m, \u001b[38;5;124m'\u001b[39m\u001b[38;5;124mB-Tech\u001b[39m\u001b[38;5;124m'\u001b[39m, \u001b[38;5;124m'\u001b[39m\u001b[38;5;124mMale\u001b[39m\u001b[38;5;124m'\u001b[39m, \u001b[38;5;124m'\u001b[39m\u001b[38;5;124mSoftware Developer Intern\u001b[39m\u001b[38;5;124m'\u001b[39m, \u001b[38;5;124m'\u001b[39m\u001b[38;5;124m'\u001b[39m]\n\u001b[0;32m     40\u001b[0m [\u001b[38;5;124m'\u001b[39m\u001b[38;5;124m38\u001b[39m\u001b[38;5;124m'\u001b[39m, \u001b[38;5;124m'\u001b[39m\u001b[38;5;124mKriti Dhingra\u001b[39m\u001b[38;5;124m'\u001b[39m, \u001b[38;5;124m'\u001b[39m\u001b[38;5;124m1918430\u001b[39m\u001b[38;5;124m'\u001b[39m, \u001b[38;5;124m'\u001b[39m\u001b[38;5;124mGEHU, Dehradun\u001b[39m\u001b[38;5;124m'\u001b[39m, \u001b[38;5;124m'\u001b[39m\u001b[38;5;124mB-Tech\u001b[39m\u001b[38;5;124m'\u001b[39m, \u001b[38;5;124m'\u001b[39m\u001b[38;5;124mFemale\u001b[39m\u001b[38;5;124m'\u001b[39m, \u001b[38;5;124m'\u001b[39m\u001b[38;5;124mSoftware Developer Intern\u001b[39m\u001b[38;5;124m'\u001b[39m, \u001b[38;5;124m'\u001b[39m\u001b[38;5;124m'\u001b[39m]\n\u001b[0;32m     41\u001b[0m [\u001b[38;5;124m'\u001b[39m\u001b[38;5;124m39\u001b[39m\u001b[38;5;124m'\u001b[39m, \u001b[38;5;124m'\u001b[39m\u001b[38;5;124mMonika Pandey\u001b[39m\u001b[38;5;124m'\u001b[39m, \u001b[38;5;124m'\u001b[39m\u001b[38;5;124m1918489\u001b[39m\u001b[38;5;124m'\u001b[39m, \u001b[38;5;124m'\u001b[39m\u001b[38;5;124mGEHU, Dehradun\u001b[39m\u001b[38;5;124m'\u001b[39m, \u001b[38;5;124m'\u001b[39m\u001b[38;5;124mB-Tech\u001b[39m\u001b[38;5;124m'\u001b[39m, \u001b[38;5;124m'\u001b[39m\u001b[38;5;124mFemale\u001b[39m\u001b[38;5;124m'\u001b[39m, \u001b[38;5;124m'\u001b[39m\u001b[38;5;124mSoftware Developer Intern\u001b[39m\u001b[38;5;124m'\u001b[39m, \u001b[38;5;124m'\u001b[39m\u001b[38;5;124m'\u001b[39m]\n\u001b[0;32m     42\u001b[0m [\u001b[38;5;124m'\u001b[39m\u001b[38;5;124m40\u001b[39m\u001b[38;5;124m'\u001b[39m, \u001b[38;5;124m'\u001b[39m\u001b[38;5;124mNeeraj Sharma\u001b[39m\u001b[38;5;124m'\u001b[39m, \u001b[38;5;124m'\u001b[39m\u001b[38;5;124m1918503\u001b[39m\u001b[38;5;124m'\u001b[39m, \u001b[38;5;124m'\u001b[39m\u001b[38;5;124mGEHU, Dehradun\u001b[39m\u001b[38;5;124m'\u001b[39m, \u001b[38;5;124m'\u001b[39m\u001b[38;5;124mB-Tech\u001b[39m\u001b[38;5;124m'\u001b[39m, \u001b[38;5;124m'\u001b[39m\u001b[38;5;124mMale\u001b[39m\u001b[38;5;124m'\u001b[39m, \u001b[38;5;124m'\u001b[39m\u001b[38;5;124mSoftware Developer Intern\u001b[39m\u001b[38;5;124m'\u001b[39m, \u001b[38;5;124m'\u001b[39m\u001b[38;5;124m'\u001b[39m]\n\u001b[0;32m     43\u001b[0m [\u001b[38;5;124m'\u001b[39m\u001b[38;5;124m41\u001b[39m\u001b[38;5;124m'\u001b[39m, \u001b[38;5;124m'\u001b[39m\u001b[38;5;124mPranjali\u001b[39m\u001b[38;5;124m'\u001b[39m, \u001b[38;5;124m'\u001b[39m\u001b[38;5;124m1918548\u001b[39m\u001b[38;5;124m'\u001b[39m, \u001b[38;5;124m'\u001b[39m\u001b[38;5;124mGEHU, Dehradun\u001b[39m\u001b[38;5;124m'\u001b[39m, \u001b[38;5;124m'\u001b[39m\u001b[38;5;124mB-Tech\u001b[39m\u001b[38;5;124m'\u001b[39m, \u001b[38;5;124m'\u001b[39m\u001b[38;5;124mFemale\u001b[39m\u001b[38;5;124m'\u001b[39m, \u001b[38;5;124m'\u001b[39m\u001b[38;5;124mSoftware Developer Intern\u001b[39m\u001b[38;5;124m'\u001b[39m, \u001b[38;5;124m'\u001b[39m\u001b[38;5;124m'\u001b[39m]\n\u001b[0;32m     44\u001b[0m [\u001b[38;5;124m'\u001b[39m\u001b[38;5;124m42\u001b[39m\u001b[38;5;124m'\u001b[39m, \u001b[38;5;124m'\u001b[39m\u001b[38;5;124mPriya Kumari\u001b[39m\u001b[38;5;124m'\u001b[39m, \u001b[38;5;124m'\u001b[39m\u001b[38;5;124m1918560\u001b[39m\u001b[38;5;124m'\u001b[39m, \u001b[38;5;124m'\u001b[39m\u001b[38;5;124mGEHU, Dehradun\u001b[39m\u001b[38;5;124m'\u001b[39m, \u001b[38;5;124m'\u001b[39m\u001b[38;5;124mB-Tech\u001b[39m\u001b[38;5;124m'\u001b[39m, \u001b[38;5;124m'\u001b[39m\u001b[38;5;124mFemale\u001b[39m\u001b[38;5;124m'\u001b[39m, \u001b[38;5;124m'\u001b[39m\u001b[38;5;124mSoftware Developer Intern\u001b[39m\u001b[38;5;124m'\u001b[39m, \u001b[38;5;124m'\u001b[39m\u001b[38;5;124m'\u001b[39m]\n\u001b[0;32m     45\u001b[0m [\u001b[38;5;124m'\u001b[39m\u001b[38;5;124m43\u001b[39m\u001b[38;5;124m'\u001b[39m, \u001b[38;5;124m'\u001b[39m\u001b[38;5;124mRahul Chamoli\u001b[39m\u001b[38;5;124m'\u001b[39m, \u001b[38;5;124m'\u001b[39m\u001b[38;5;124m1918577\u001b[39m\u001b[38;5;124m'\u001b[39m, \u001b[38;5;124m'\u001b[39m\u001b[38;5;124mGEHU, Dehradun\u001b[39m\u001b[38;5;124m'\u001b[39m, \u001b[38;5;124m'\u001b[39m\u001b[38;5;124mB-Tech\u001b[39m\u001b[38;5;124m'\u001b[39m, \u001b[38;5;124m'\u001b[39m\u001b[38;5;124mMale\u001b[39m\u001b[38;5;124m'\u001b[39m, \u001b[38;5;124m'\u001b[39m\u001b[38;5;124mSoftware Developer Intern\u001b[39m\u001b[38;5;124m'\u001b[39m, \u001b[38;5;124m'\u001b[39m\u001b[38;5;124m'\u001b[39m]\n\u001b[0;32m     46\u001b[0m [\u001b[38;5;124m'\u001b[39m\u001b[38;5;124m44\u001b[39m\u001b[38;5;124m'\u001b[39m, \u001b[38;5;124m'\u001b[39m\u001b[38;5;124mRishabh Rawat\u001b[39m\u001b[38;5;124m'\u001b[39m, \u001b[38;5;124m'\u001b[39m\u001b[38;5;124m1918600\u001b[39m\u001b[38;5;124m'\u001b[39m, \u001b[38;5;124m'\u001b[39m\u001b[38;5;124mGEHU, Dehradun\u001b[39m\u001b[38;5;124m'\u001b[39m, \u001b[38;5;124m'\u001b[39m\u001b[38;5;124mB-Tech\u001b[39m\u001b[38;5;124m'\u001b[39m, \u001b[38;5;124m'\u001b[39m\u001b[38;5;124mMale\u001b[39m\u001b[38;5;124m'\u001b[39m, \u001b[38;5;124m'\u001b[39m\u001b[38;5;124mSoftware Developer Intern\u001b[39m\u001b[38;5;124m'\u001b[39m, \u001b[38;5;124m'\u001b[39m\u001b[38;5;124m'\u001b[39m]\n\u001b[0;32m     47\u001b[0m [\u001b[38;5;124m'\u001b[39m\u001b[38;5;124m45\u001b[39m\u001b[38;5;124m'\u001b[39m, \u001b[38;5;124m'\u001b[39m\u001b[38;5;124mRitik Bhandari\u001b[39m\u001b[38;5;124m'\u001b[39m, \u001b[38;5;124m'\u001b[39m\u001b[38;5;124m1918611\u001b[39m\u001b[38;5;124m'\u001b[39m, \u001b[38;5;124m'\u001b[39m\u001b[38;5;124mGEHU, Dehradun\u001b[39m\u001b[38;5;124m'\u001b[39m, \u001b[38;5;124m'\u001b[39m\u001b[38;5;124mB-Tech\u001b[39m\u001b[38;5;124m'\u001b[39m, \u001b[38;5;124m'\u001b[39m\u001b[38;5;124mMale\u001b[39m\u001b[38;5;124m'\u001b[39m, \u001b[38;5;124m'\u001b[39m\u001b[38;5;124mSoftware Developer Intern\u001b[39m\u001b[38;5;124m'\u001b[39m, \u001b[38;5;124m'\u001b[39m\u001b[38;5;124m'\u001b[39m]\n\u001b[0;32m     48\u001b[0m [\u001b[38;5;124m'\u001b[39m\u001b[38;5;124m46\u001b[39m\u001b[38;5;124m'\u001b[39m, \u001b[38;5;124m'\u001b[39m\u001b[38;5;124mRitik Verma\u001b[39m\u001b[38;5;124m'\u001b[39m, \u001b[38;5;124m'\u001b[39m\u001b[38;5;124m1918614\u001b[39m\u001b[38;5;124m'\u001b[39m, \u001b[38;5;124m'\u001b[39m\u001b[38;5;124mGEHU, Dehradun\u001b[39m\u001b[38;5;124m'\u001b[39m, \u001b[38;5;124m'\u001b[39m\u001b[38;5;124mB-Tech\u001b[39m\u001b[38;5;124m'\u001b[39m, \u001b[38;5;124m'\u001b[39m\u001b[38;5;124mMale\u001b[39m\u001b[38;5;124m'\u001b[39m, \u001b[38;5;124m'\u001b[39m\u001b[38;5;124mSoftware Developer Intern\u001b[39m\u001b[38;5;124m'\u001b[39m, \u001b[38;5;124m'\u001b[39m\u001b[38;5;124m'\u001b[39m]\n\u001b[0;32m     49\u001b[0m [\u001b[38;5;124m'\u001b[39m\u001b[38;5;124m47\u001b[39m\u001b[38;5;124m'\u001b[39m, \u001b[38;5;124m'\u001b[39m\u001b[38;5;124mSaransh Rawat\u001b[39m\u001b[38;5;124m'\u001b[39m, \u001b[38;5;124m'\u001b[39m\u001b[38;5;124m1918662\u001b[39m\u001b[38;5;124m'\u001b[39m, \u001b[38;5;124m'\u001b[39m\u001b[38;5;124mGEHU, Dehradun\u001b[39m\u001b[38;5;124m'\u001b[39m, \u001b[38;5;124m'\u001b[39m\u001b[38;5;124mB-Tech\u001b[39m\u001b[38;5;124m'\u001b[39m, \u001b[38;5;124m'\u001b[39m\u001b[38;5;124mMale\u001b[39m\u001b[38;5;124m'\u001b[39m, \u001b[38;5;124m'\u001b[39m\u001b[38;5;124mSoftware Developer Intern\u001b[39m\u001b[38;5;124m'\u001b[39m, \u001b[38;5;124m'\u001b[39m\u001b[38;5;124m'\u001b[39m]\n\u001b[0;32m     50\u001b[0m [\u001b[38;5;124m'\u001b[39m\u001b[38;5;124m48\u001b[39m\u001b[38;5;124m'\u001b[39m, \u001b[38;5;124m'\u001b[39m\u001b[38;5;124mShiwansh Singh Bisht\u001b[39m\u001b[38;5;124m'\u001b[39m, \u001b[38;5;124m'\u001b[39m\u001b[38;5;124m1918853\u001b[39m\u001b[38;5;124m'\u001b[39m, \u001b[38;5;124m'\u001b[39m\u001b[38;5;124mGEHU, Dehradun\u001b[39m\u001b[38;5;124m'\u001b[39m, \u001b[38;5;124m'\u001b[39m\u001b[38;5;124mB-Tech\u001b[39m\u001b[38;5;124m'\u001b[39m, \u001b[38;5;124m'\u001b[39m\u001b[38;5;124mMale\u001b[39m\u001b[38;5;124m'\u001b[39m, \u001b[38;5;124m'\u001b[39m\u001b[38;5;124mSoftware Developer Intern\u001b[39m\u001b[38;5;124m'\u001b[39m, \u001b[38;5;124m'\u001b[39m\u001b[38;5;124m'\u001b[39m]\n\u001b[0;32m     51\u001b[0m [\u001b[38;5;124m'\u001b[39m\u001b[38;5;124m49\u001b[39m\u001b[38;5;124m'\u001b[39m, \u001b[38;5;124m'\u001b[39m\u001b[38;5;124mSparsh Tripathi\u001b[39m\u001b[38;5;124m'\u001b[39m, \u001b[38;5;124m'\u001b[39m\u001b[38;5;124m1918737\u001b[39m\u001b[38;5;124m'\u001b[39m, \u001b[38;5;124m'\u001b[39m\u001b[38;5;124mGEHU, Dehradun\u001b[39m\u001b[38;5;124m'\u001b[39m, \u001b[38;5;124m'\u001b[39m\u001b[38;5;124mB-Tech\u001b[39m\u001b[38;5;124m'\u001b[39m, \u001b[38;5;124m'\u001b[39m\u001b[38;5;124mMale\u001b[39m\u001b[38;5;124m'\u001b[39m, \u001b[38;5;124m'\u001b[39m\u001b[38;5;124mSoftware Developer Intern\u001b[39m\u001b[38;5;124m'\u001b[39m, \u001b[38;5;124m'\u001b[39m\u001b[38;5;124m'\u001b[39m]\n\u001b[0;32m     52\u001b[0m [\u001b[38;5;124m'\u001b[39m\u001b[38;5;124m50\u001b[39m\u001b[38;5;124m'\u001b[39m, \u001b[38;5;124m'\u001b[39m\u001b[38;5;124mYash Tariyal\u001b[39m\u001b[38;5;124m'\u001b[39m, \u001b[38;5;124m'\u001b[39m\u001b[38;5;124m1918821\u001b[39m\u001b[38;5;124m'\u001b[39m, \u001b[38;5;124m'\u001b[39m\u001b[38;5;124mGEHU, Dehradun\u001b[39m\u001b[38;5;124m'\u001b[39m, \u001b[38;5;124m'\u001b[39m\u001b[38;5;124mB-Tech\u001b[39m\u001b[38;5;124m'\u001b[39m, \u001b[38;5;124m'\u001b[39m\u001b[38;5;124mMale\u001b[39m\u001b[38;5;124m'\u001b[39m, \u001b[38;5;124m'\u001b[39m\u001b[38;5;124mSoftware Developer Intern\u001b[39m\u001b[38;5;124m'\u001b[39m, \u001b[38;5;124m'\u001b[39m\u001b[38;5;124m'\u001b[39m]\n\u001b[0;32m     53\u001b[0m [\u001b[38;5;124m'\u001b[39m\u001b[38;5;124m51\u001b[39m\u001b[38;5;124m'\u001b[39m, \u001b[38;5;124m'\u001b[39m\u001b[38;5;124mMohit Bhatt\u001b[39m\u001b[38;5;124m'\u001b[39m, \u001b[38;5;124m'\u001b[39m\u001b[38;5;124m1918481\u001b[39m\u001b[38;5;124m'\u001b[39m, \u001b[38;5;124m'\u001b[39m\u001b[38;5;124mGEHU, Dehradun\u001b[39m\u001b[38;5;124m'\u001b[39m, \u001b[38;5;124m'\u001b[39m\u001b[38;5;124mB-Tech\u001b[39m\u001b[38;5;124m'\u001b[39m, \u001b[38;5;124m'\u001b[39m\u001b[38;5;124mMale\u001b[39m\u001b[38;5;124m'\u001b[39m, \u001b[38;5;124m'\u001b[39m\u001b[38;5;124mSoftware Developer Intern\u001b[39m\u001b[38;5;124m'\u001b[39m, \u001b[38;5;124m'\u001b[39m\u001b[38;5;124m'\u001b[39m]\n\u001b[0;32m     54\u001b[0m [\u001b[38;5;124m'\u001b[39m\u001b[38;5;124m52\u001b[39m\u001b[38;5;124m'\u001b[39m, \u001b[38;5;124m'\u001b[39m\u001b[38;5;124mNeha Chauhan\u001b[39m\u001b[38;5;124m'\u001b[39m, \u001b[38;5;124m'\u001b[39m\u001b[38;5;124m1918505\u001b[39m\u001b[38;5;124m'\u001b[39m, \u001b[38;5;124m'\u001b[39m\u001b[38;5;124mGEHU, Dehradun\u001b[39m\u001b[38;5;124m'\u001b[39m, \u001b[38;5;124m'\u001b[39m\u001b[38;5;124mB-Tech\u001b[39m\u001b[38;5;124m'\u001b[39m, \u001b[38;5;124m'\u001b[39m\u001b[38;5;124mFemale\u001b[39m\u001b[38;5;124m'\u001b[39m, \u001b[38;5;124m'\u001b[39m\u001b[38;5;124mSoftware Developer Intern\u001b[39m\u001b[38;5;124m'\u001b[39m, \u001b[38;5;124m'\u001b[39m\u001b[38;5;124m'\u001b[39m]\n\u001b[0;32m     55\u001b[0m [\u001b[38;5;124m'\u001b[39m\u001b[38;5;124m53\u001b[39m\u001b[38;5;124m'\u001b[39m, \u001b[38;5;124m'\u001b[39m\u001b[38;5;124mSandeep Singh Bisht\u001b[39m\u001b[38;5;124m'\u001b[39m, \u001b[38;5;124m'\u001b[39m\u001b[38;5;124m1918656\u001b[39m\u001b[38;5;124m'\u001b[39m, \u001b[38;5;124m'\u001b[39m\u001b[38;5;124mGEHU, Dehradun\u001b[39m\u001b[38;5;124m'\u001b[39m, \u001b[38;5;124m'\u001b[39m\u001b[38;5;124mB-Tech\u001b[39m\u001b[38;5;124m'\u001b[39m, \u001b[38;5;124m'\u001b[39m\u001b[38;5;124mMale\u001b[39m\u001b[38;5;124m'\u001b[39m, \u001b[38;5;124m'\u001b[39m\u001b[38;5;124mSoftware Developer Intern\u001b[39m\u001b[38;5;124m'\u001b[39m, \u001b[38;5;124m'\u001b[39m\u001b[38;5;124m'\u001b[39m]\n\u001b[0;32m     56\u001b[0m [\u001b[38;5;124m'\u001b[39m\u001b[38;5;124m54\u001b[39m\u001b[38;5;124m'\u001b[39m, \u001b[38;5;124m'\u001b[39m\u001b[38;5;124mShalwin Sah\u001b[39m\u001b[38;5;124m'\u001b[39m, \u001b[38;5;124m'\u001b[39m\u001b[38;5;124m1918682\u001b[39m\u001b[38;5;124m'\u001b[39m, \u001b[38;5;124m'\u001b[39m\u001b[38;5;124mGEHU, Dehradun\u001b[39m\u001b[38;5;124m'\u001b[39m, \u001b[38;5;124m'\u001b[39m\u001b[38;5;124mB-Tech\u001b[39m\u001b[38;5;124m'\u001b[39m, \u001b[38;5;124m'\u001b[39m\u001b[38;5;124mMale\u001b[39m\u001b[38;5;124m'\u001b[39m, \u001b[38;5;124m'\u001b[39m\u001b[38;5;124mSoftware Developer Intern\u001b[39m\u001b[38;5;124m'\u001b[39m, \u001b[38;5;124m'\u001b[39m\u001b[38;5;124m'\u001b[39m]     \n\u001b[0;32m     57\u001b[0m }\n\u001b[0;32m     58\u001b[0m headers\u001b[38;5;241m=\u001b[39m{\u001b[38;5;124m'\u001b[39m\u001b[38;5;124mAccept\u001b[39m\u001b[38;5;124m'\u001b[39m:\u001b[38;5;124m'\u001b[39m\u001b[38;5;124mapplication/json\u001b[39m\u001b[38;5;124m'\u001b[39m,\u001b[38;5;124m'\u001b[39m\u001b[38;5;124mContent-type\u001b[39m\u001b[38;5;124m'\u001b[39m:\u001b[38;5;124m'\u001b[39m\u001b[38;5;124mapplication/json\u001b[39m\u001b[38;5;124m'\u001b[39m}\n\u001b[0;32m     59\u001b[0m r\u001b[38;5;241m=\u001b[39mrequests\u001b[38;5;241m.\u001b[39mpost(\u001b[38;5;124m'\u001b[39m\u001b[38;5;124mhttp://localhost:9200/third/_doc\u001b[39m\u001b[38;5;124m'\u001b[39m,headers\u001b[38;5;241m=\u001b[39mheaders,json\u001b[38;5;241m=\u001b[39mquery)\n",
      "\u001b[1;31mTypeError\u001b[0m: list indices must be integers or slices, not tuple"
     ]
    }
   ],
   "source": [
    "query={\n",
    "               ['S.No', 'Student Name', 'Roll Number', 'University Name', 'Course', 'Gender', 'For Profile', '']\n",
    "['1', 'Abhishek Pal', '2014524', 'GEU', 'B-Tech', 'Male', 'Software Developer Intern', '']\n",
    "['2', 'Akash Bhatt', '2015048', 'GEU', 'B-Tech', 'Male', 'Software Developer Intern', '']\n",
    "['3', 'Ankit Sharma', '2014569', 'GEU', 'B-Tech', 'Male', 'Software Developer Intern', '']\n",
    "['4', 'Aryan Pathela', '2015058', 'GEU', 'B-Tech', 'Male', 'Software Developer Intern', '']\n",
    "['5', 'Ayush Negi', '2015063', 'GEU', 'B-Tech', 'Male', 'Software Developer Intern', '']\n",
    "['6', 'Daksh Choudhary', '2015498', 'GEU', 'B-Tech', 'Male', 'Software Developer Intern', '']\n",
    "['7', 'Divay', '2015163', 'GEU', 'B-Tech', 'Male', 'Marketing Intern', '']\n",
    "['8', 'Gargi Aggarwal', '2014655', 'GEU', 'B-Tech', 'Female', 'Software Developer Intern', '']\n",
    "['9', 'Keshav Aman', '2015246', 'GEU', 'B-Tech', 'Male', 'Software Developer Intern', '']\n",
    "['10', 'Mayank Gambhir', '2014722', 'GEU', 'B-Tech', 'Male', 'Software Developer Intern', '']\n",
    "['11', 'Praggya Singh', '2015530', 'GEU', 'B-Tech', 'Female', 'Software Developer Intern', '']\n",
    "['12', 'Riya Chaudhary', '2015185', 'GEU', 'B-Tech', 'Female', 'Software Developer Intern', '']\n",
    "['13', 'Sahibpreet Singh Saini', '19011534', 'GEU', 'B-Tech', 'Male', 'Software Developer Intern', '']\n",
    "['14', 'Sameer Srivastava', '2014830', 'GEU', 'B-Tech', 'Male', 'Software Developer Intern', '']\n",
    "['15', 'Satvik Jain', '2014840', 'GEU', 'B-Tech', 'Male', 'Software Developer Intern', '']\n",
    "['16', 'Shivang Gupta', '2014858', 'GEU', 'B-Tech', 'Male', 'Marketing Intern', '']\n",
    "['17', 'Shubham Rawat', '2014874', 'GEU', 'B-Tech', 'Male', 'Software Developer Intern', '']\n",
    "['18', 'Skimmy Gupta', '2014890', 'GEU', 'B-Tech', 'Female', 'Software Developer Intern', '']\n",
    "['19', 'Sujal Agarwal', '2015555', 'GEU', 'B-Tech', 'Male', 'Software Developer Intern', '']\n",
    "['20', 'Tanmay Anand', '2015197', 'GEU', 'B-Tech', 'Male', 'Software Developer Intern', '']\n",
    "['21', 'Tejas Rai', '2014915', 'GEU', 'B-Tech', 'Male', 'Software Developer Intern', '']\n",
    "['22', 'Ujjwal Sharma', '2014922', 'GEU', 'B-Tech', 'Male', 'Software Developer Intern', '']\n",
    "['23', 'Vidisha Srivastava', '2014940', 'GEU', 'B-Tech', 'Female', 'Software Developer Intern', '']\n",
    "['24', 'Sachin Sajwan', '2015269', 'GEU', 'B-Tech', 'Male', 'Software Developer Intern', '']\n",
    "['25', 'Gulshan Kumar', '2015502', 'GEU', 'B-Tech', 'Male', 'Marketing Intern', '']\n",
    "['26', 'Mukul Dhiman', '2014738', 'GEU', 'B-Tech', 'Male', 'Software Developer Intern', '']\n",
    "['27', 'Raja', '2015263', 'GEU', 'B-Tech', 'Male', 'Software Developer Intern', '']\n",
    "['28', 'Sanskar Gupta', '2015549', 'GEU', 'B-Tech', 'Male', 'Software Developer Intern', '']\n",
    "['29', 'Aditya Shah', '1918150', 'GEHU, Dehradun', 'B-Tech', 'Male', 'Software Developer Intern', '']\n",
    "['30', 'Aditya Shukla', '1918151', 'GEHU, Dehradun', 'B-Tech', 'Male', 'Software Developer Intern', '']\n",
    "['31', 'Akshat Mani Tripathi', '1918177', 'GEHU, Dehradun', 'B-Tech', 'Male', 'Software Developer Intern', '']\n",
    "['32', 'Amit Joshi', '1918204', 'GEHU, Dehradun', 'B-Tech', 'Male', 'Software Developer Intern', '']\n",
    "['33', 'Divyam Singh Rauthan', '1918334', 'GEHU, Dehradun', 'B-Tech', 'Male', 'Software Developer Intern', '']\n",
    "['34', 'Divyanshu Kumar', '1918835', 'GEHU, Dehradun', 'B-Tech', 'Male', 'Software Developer Intern', '']\n",
    "['35', 'Govind Singh Bhatia', '1918347', 'GEHU, Dehradun', 'B-Tech', 'Male', 'Software Developer Intern', '']\n",
    "['36', 'Hridayansh Sah', '1918026', 'GEHU, Dehradun', 'B-Tech', 'Male', 'Software Developer Intern', '']\n",
    "['37', 'Kamal Singh Gaira', '2018016', 'GEHU, Dehradun', 'B-Tech', 'Male', 'Software Developer Intern', '']\n",
    "['38', 'Kriti Dhingra', '1918430', 'GEHU, Dehradun', 'B-Tech', 'Female', 'Software Developer Intern', '']\n",
    "['39', 'Monika Pandey', '1918489', 'GEHU, Dehradun', 'B-Tech', 'Female', 'Software Developer Intern', '']\n",
    "['40', 'Neeraj Sharma', '1918503', 'GEHU, Dehradun', 'B-Tech', 'Male', 'Software Developer Intern', '']\n",
    "['41', 'Pranjali', '1918548', 'GEHU, Dehradun', 'B-Tech', 'Female', 'Software Developer Intern', '']\n",
    "['42', 'Priya Kumari', '1918560', 'GEHU, Dehradun', 'B-Tech', 'Female', 'Software Developer Intern', '']\n",
    "['43', 'Rahul Chamoli', '1918577', 'GEHU, Dehradun', 'B-Tech', 'Male', 'Software Developer Intern', '']\n",
    "['44', 'Rishabh Rawat', '1918600', 'GEHU, Dehradun', 'B-Tech', 'Male', 'Software Developer Intern', '']\n",
    "['45', 'Ritik Bhandari', '1918611', 'GEHU, Dehradun', 'B-Tech', 'Male', 'Software Developer Intern', '']\n",
    "['46', 'Ritik Verma', '1918614', 'GEHU, Dehradun', 'B-Tech', 'Male', 'Software Developer Intern', '']\n",
    "['47', 'Saransh Rawat', '1918662', 'GEHU, Dehradun', 'B-Tech', 'Male', 'Software Developer Intern', '']\n",
    "['48', 'Shiwansh Singh Bisht', '1918853', 'GEHU, Dehradun', 'B-Tech', 'Male', 'Software Developer Intern', '']\n",
    "['49', 'Sparsh Tripathi', '1918737', 'GEHU, Dehradun', 'B-Tech', 'Male', 'Software Developer Intern', '']\n",
    "['50', 'Yash Tariyal', '1918821', 'GEHU, Dehradun', 'B-Tech', 'Male', 'Software Developer Intern', '']\n",
    "['51', 'Mohit Bhatt', '1918481', 'GEHU, Dehradun', 'B-Tech', 'Male', 'Software Developer Intern', '']\n",
    "['52', 'Neha Chauhan', '1918505', 'GEHU, Dehradun', 'B-Tech', 'Female', 'Software Developer Intern', '']\n",
    "['53', 'Sandeep Singh Bisht', '1918656', 'GEHU, Dehradun', 'B-Tech', 'Male', 'Software Developer Intern', '']\n",
    "['54', 'Shalwin Sah', '1918682', 'GEHU, Dehradun', 'B-Tech', 'Male', 'Software Developer Intern', '']     \n",
    "}\n",
    "headers={'Accept':'application/json','Content-type':'application/json'}\n",
    "r=requests.post('http://localhost:9200/third/_doc',headers=headers,json=query)"
   ]
  },
  {
   "cell_type": "code",
   "execution_count": 36,
   "id": "173088b6",
   "metadata": {},
   "outputs": [],
   "source": [
    "import csv\n",
    "import json\n",
    "def make_json(csvFilePath, jsonFilePath):\n",
    "     \n",
    "    # create a dictionary\n",
    "    data = {}\n",
    "    with open(csvFilePath, encoding='utf-8') as csvf:\n",
    "        csvReader = csv.DictReader(csvf)\n",
    "        for rows in csvReader:\n",
    "            key = rows['S.No']\n",
    "            data[key] = rows\n",
    "    with open(jsonFilePath, 'w', encoding='utf-8') as jsonf:\n",
    "        jsonf.write(json.dumps(data, indent=4))\n",
    "csvFilePath = r'sample_csv.csv'\n",
    "jsonFilePath = r'sample.json'\n",
    " \n",
    "# Call the make_json function\n",
    "make_json(csvFilePath, jsonFilePath)"
   ]
  },
  {
   "cell_type": "code",
   "execution_count": 37,
   "id": "fe5b79dd",
   "metadata": {},
   "outputs": [
    {
     "name": "stdout",
     "output_type": "stream",
     "text": [
      "{\n",
      "    \"1\": {\n",
      "        \"S.No\": \"1\",\n",
      "        \"Student Name\": \"Abhishek Pal\",\n",
      "        \"Roll Number\": \"2014524\",\n",
      "        \"University Name\": \"GEU\",\n",
      "        \"Course\": \"B-Tech\",\n",
      "        \"Gender\": \"Male\",\n",
      "        \"For Profile\": \"Software Developer Intern\",\n",
      "        \"\": \"\"\n",
      "    },\n",
      "    \"2\": {\n",
      "        \"S.No\": \"2\",\n",
      "        \"Student Name\": \"Akash Bhatt\",\n",
      "        \"Roll Number\": \"2015048\",\n",
      "        \"University Name\": \"GEU\",\n",
      "        \"Course\": \"B-Tech\",\n",
      "        \"Gender\": \"Male\",\n",
      "        \"For Profile\": \"Software Developer Intern\",\n",
      "        \"\": \"\"\n",
      "    },\n",
      "    \"3\": {\n",
      "        \"S.No\": \"3\",\n",
      "        \"Student Name\": \"Ankit Sharma\",\n",
      "        \"Roll Number\": \"2014569\",\n",
      "        \"University Name\": \"GEU\",\n",
      "        \"Course\": \"B-Tech\",\n",
      "        \"Gender\": \"Male\",\n",
      "        \"For Profile\": \"Software Developer Intern\",\n",
      "        \"\": \"\"\n",
      "    },\n",
      "    \"4\": {\n",
      "        \"S.No\": \"4\",\n",
      "        \"Student Name\": \"Aryan Pathela\",\n",
      "        \"Roll Number\": \"2015058\",\n",
      "        \"University Name\": \"GEU\",\n",
      "        \"Course\": \"B-Tech\",\n",
      "        \"Gender\": \"Male\",\n",
      "        \"For Profile\": \"Software Developer Intern\",\n",
      "        \"\": \"\"\n",
      "    },\n",
      "    \"5\": {\n",
      "        \"S.No\": \"5\",\n",
      "        \"Student Name\": \"Ayush Negi\",\n",
      "        \"Roll Number\": \"2015063\",\n",
      "        \"University Name\": \"GEU\",\n",
      "        \"Course\": \"B-Tech\",\n",
      "        \"Gender\": \"Male\",\n",
      "        \"For Profile\": \"Software Developer Intern\",\n",
      "        \"\": \"\"\n",
      "    },\n",
      "    \"6\": {\n",
      "        \"S.No\": \"6\",\n",
      "        \"Student Name\": \"Daksh Choudhary\",\n",
      "        \"Roll Number\": \"2015498\",\n",
      "        \"University Name\": \"GEU\",\n",
      "        \"Course\": \"B-Tech\",\n",
      "        \"Gender\": \"Male\",\n",
      "        \"For Profile\": \"Software Developer Intern\",\n",
      "        \"\": \"\"\n",
      "    },\n",
      "    \"7\": {\n",
      "        \"S.No\": \"7\",\n",
      "        \"Student Name\": \"Divay\",\n",
      "        \"Roll Number\": \"2015163\",\n",
      "        \"University Name\": \"GEU\",\n",
      "        \"Course\": \"B-Tech\",\n",
      "        \"Gender\": \"Male\",\n",
      "        \"For Profile\": \"Marketing Intern\",\n",
      "        \"\": \"\"\n",
      "    },\n",
      "    \"8\": {\n",
      "        \"S.No\": \"8\",\n",
      "        \"Student Name\": \"Gargi Aggarwal\",\n",
      "        \"Roll Number\": \"2014655\",\n",
      "        \"University Name\": \"GEU\",\n",
      "        \"Course\": \"B-Tech\",\n",
      "        \"Gender\": \"Female\",\n",
      "        \"For Profile\": \"Software Developer Intern\",\n",
      "        \"\": \"\"\n",
      "    },\n",
      "    \"9\": {\n",
      "        \"S.No\": \"9\",\n",
      "        \"Student Name\": \"Keshav Aman\",\n",
      "        \"Roll Number\": \"2015246\",\n",
      "        \"University Name\": \"GEU\",\n",
      "        \"Course\": \"B-Tech\",\n",
      "        \"Gender\": \"Male\",\n",
      "        \"For Profile\": \"Software Developer Intern\",\n",
      "        \"\": \"\"\n",
      "    },\n",
      "    \"10\": {\n",
      "        \"S.No\": \"10\",\n",
      "        \"Student Name\": \"Mayank Gambhir\",\n",
      "        \"Roll Number\": \"2014722\",\n",
      "        \"University Name\": \"GEU\",\n",
      "        \"Course\": \"B-Tech\",\n",
      "        \"Gender\": \"Male\",\n",
      "        \"For Profile\": \"Software Developer Intern\",\n",
      "        \"\": \"\"\n",
      "    },\n",
      "    \"11\": {\n",
      "        \"S.No\": \"11\",\n",
      "        \"Student Name\": \"Praggya Singh\",\n",
      "        \"Roll Number\": \"2015530\",\n",
      "        \"University Name\": \"GEU\",\n",
      "        \"Course\": \"B-Tech\",\n",
      "        \"Gender\": \"Female\",\n",
      "        \"For Profile\": \"Software Developer Intern\",\n",
      "        \"\": \"\"\n",
      "    },\n",
      "    \"12\": {\n",
      "        \"S.No\": \"12\",\n",
      "        \"Student Name\": \"Riya Chaudhary\",\n",
      "        \"Roll Number\": \"2015185\",\n",
      "        \"University Name\": \"GEU\",\n",
      "        \"Course\": \"B-Tech\",\n",
      "        \"Gender\": \"Female\",\n",
      "        \"For Profile\": \"Software Developer Intern\",\n",
      "        \"\": \"\"\n",
      "    },\n",
      "    \"13\": {\n",
      "        \"S.No\": \"13\",\n",
      "        \"Student Name\": \"Sahibpreet Singh Saini\",\n",
      "        \"Roll Number\": \"19011534\",\n",
      "        \"University Name\": \"GEU\",\n",
      "        \"Course\": \"B-Tech\",\n",
      "        \"Gender\": \"Male\",\n",
      "        \"For Profile\": \"Software Developer Intern\",\n",
      "        \"\": \"\"\n",
      "    },\n",
      "    \"14\": {\n",
      "        \"S.No\": \"14\",\n",
      "        \"Student Name\": \"Sameer Srivastava\",\n",
      "        \"Roll Number\": \"2014830\",\n",
      "        \"University Name\": \"GEU\",\n",
      "        \"Course\": \"B-Tech\",\n",
      "        \"Gender\": \"Male\",\n",
      "        \"For Profile\": \"Software Developer Intern\",\n",
      "        \"\": \"\"\n",
      "    },\n",
      "    \"15\": {\n",
      "        \"S.No\": \"15\",\n",
      "        \"Student Name\": \"Satvik Jain\",\n",
      "        \"Roll Number\": \"2014840\",\n",
      "        \"University Name\": \"GEU\",\n",
      "        \"Course\": \"B-Tech\",\n",
      "        \"Gender\": \"Male\",\n",
      "        \"For Profile\": \"Software Developer Intern\",\n",
      "        \"\": \"\"\n",
      "    },\n",
      "    \"16\": {\n",
      "        \"S.No\": \"16\",\n",
      "        \"Student Name\": \"Shivang Gupta\",\n",
      "        \"Roll Number\": \"2014858\",\n",
      "        \"University Name\": \"GEU\",\n",
      "        \"Course\": \"B-Tech\",\n",
      "        \"Gender\": \"Male\",\n",
      "        \"For Profile\": \"Marketing Intern\",\n",
      "        \"\": \"\"\n",
      "    },\n",
      "    \"17\": {\n",
      "        \"S.No\": \"17\",\n",
      "        \"Student Name\": \"Shubham Rawat\",\n",
      "        \"Roll Number\": \"2014874\",\n",
      "        \"University Name\": \"GEU\",\n",
      "        \"Course\": \"B-Tech\",\n",
      "        \"Gender\": \"Male\",\n",
      "        \"For Profile\": \"Software Developer Intern\",\n",
      "        \"\": \"\"\n",
      "    },\n",
      "    \"18\": {\n",
      "        \"S.No\": \"18\",\n",
      "        \"Student Name\": \"Skimmy Gupta\",\n",
      "        \"Roll Number\": \"2014890\",\n",
      "        \"University Name\": \"GEU\",\n",
      "        \"Course\": \"B-Tech\",\n",
      "        \"Gender\": \"Female\",\n",
      "        \"For Profile\": \"Software Developer Intern\",\n",
      "        \"\": \"\"\n",
      "    },\n",
      "    \"19\": {\n",
      "        \"S.No\": \"19\",\n",
      "        \"Student Name\": \"Sujal Agarwal\",\n",
      "        \"Roll Number\": \"2015555\",\n",
      "        \"University Name\": \"GEU\",\n",
      "        \"Course\": \"B-Tech\",\n",
      "        \"Gender\": \"Male\",\n",
      "        \"For Profile\": \"Software Developer Intern\",\n",
      "        \"\": \"\"\n",
      "    },\n",
      "    \"20\": {\n",
      "        \"S.No\": \"20\",\n",
      "        \"Student Name\": \"Tanmay Anand\",\n",
      "        \"Roll Number\": \"2015197\",\n",
      "        \"University Name\": \"GEU\",\n",
      "        \"Course\": \"B-Tech\",\n",
      "        \"Gender\": \"Male\",\n",
      "        \"For Profile\": \"Software Developer Intern\",\n",
      "        \"\": \"\"\n",
      "    },\n",
      "    \"21\": {\n",
      "        \"S.No\": \"21\",\n",
      "        \"Student Name\": \"Tejas Rai\",\n",
      "        \"Roll Number\": \"2014915\",\n",
      "        \"University Name\": \"GEU\",\n",
      "        \"Course\": \"B-Tech\",\n",
      "        \"Gender\": \"Male\",\n",
      "        \"For Profile\": \"Software Developer Intern\",\n",
      "        \"\": \"\"\n",
      "    },\n",
      "    \"22\": {\n",
      "        \"S.No\": \"22\",\n",
      "        \"Student Name\": \"Ujjwal Sharma\",\n",
      "        \"Roll Number\": \"2014922\",\n",
      "        \"University Name\": \"GEU\",\n",
      "        \"Course\": \"B-Tech\",\n",
      "        \"Gender\": \"Male\",\n",
      "        \"For Profile\": \"Software Developer Intern\",\n",
      "        \"\": \"\"\n",
      "    },\n",
      "    \"23\": {\n",
      "        \"S.No\": \"23\",\n",
      "        \"Student Name\": \"Vidisha Srivastava\",\n",
      "        \"Roll Number\": \"2014940\",\n",
      "        \"University Name\": \"GEU\",\n",
      "        \"Course\": \"B-Tech\",\n",
      "        \"Gender\": \"Female\",\n",
      "        \"For Profile\": \"Software Developer Intern\",\n",
      "        \"\": \"\"\n",
      "    },\n",
      "    \"24\": {\n",
      "        \"S.No\": \"24\",\n",
      "        \"Student Name\": \"Sachin Sajwan\",\n",
      "        \"Roll Number\": \"2015269\",\n",
      "        \"University Name\": \"GEU\",\n",
      "        \"Course\": \"B-Tech\",\n",
      "        \"Gender\": \"Male\",\n",
      "        \"For Profile\": \"Software Developer Intern\",\n",
      "        \"\": \"\"\n",
      "    },\n",
      "    \"25\": {\n",
      "        \"S.No\": \"25\",\n",
      "        \"Student Name\": \"Gulshan Kumar\",\n",
      "        \"Roll Number\": \"2015502\",\n",
      "        \"University Name\": \"GEU\",\n",
      "        \"Course\": \"B-Tech\",\n",
      "        \"Gender\": \"Male\",\n",
      "        \"For Profile\": \"Marketing Intern\",\n",
      "        \"\": \"\"\n",
      "    },\n",
      "    \"26\": {\n",
      "        \"S.No\": \"26\",\n",
      "        \"Student Name\": \"Mukul Dhiman\",\n",
      "        \"Roll Number\": \"2014738\",\n",
      "        \"University Name\": \"GEU\",\n",
      "        \"Course\": \"B-Tech\",\n",
      "        \"Gender\": \"Male\",\n",
      "        \"For Profile\": \"Software Developer Intern\",\n",
      "        \"\": \"\"\n",
      "    },\n",
      "    \"27\": {\n",
      "        \"S.No\": \"27\",\n",
      "        \"Student Name\": \"Raja\",\n",
      "        \"Roll Number\": \"2015263\",\n",
      "        \"University Name\": \"GEU\",\n",
      "        \"Course\": \"B-Tech\",\n",
      "        \"Gender\": \"Male\",\n",
      "        \"For Profile\": \"Software Developer Intern\",\n",
      "        \"\": \"\"\n",
      "    },\n",
      "    \"28\": {\n",
      "        \"S.No\": \"28\",\n",
      "        \"Student Name\": \"Sanskar Gupta\",\n",
      "        \"Roll Number\": \"2015549\",\n",
      "        \"University Name\": \"GEU\",\n",
      "        \"Course\": \"B-Tech\",\n",
      "        \"Gender\": \"Male\",\n",
      "        \"For Profile\": \"Software Developer Intern\",\n",
      "        \"\": \"\"\n",
      "    },\n",
      "    \"29\": {\n",
      "        \"S.No\": \"29\",\n",
      "        \"Student Name\": \"Aditya Shah\",\n",
      "        \"Roll Number\": \"1918150\",\n",
      "        \"University Name\": \"GEHU, Dehradun\",\n",
      "        \"Course\": \"B-Tech\",\n",
      "        \"Gender\": \"Male\",\n",
      "        \"For Profile\": \"Software Developer Intern\",\n",
      "        \"\": \"\"\n",
      "    },\n",
      "    \"30\": {\n",
      "        \"S.No\": \"30\",\n",
      "        \"Student Name\": \"Aditya Shukla\",\n",
      "        \"Roll Number\": \"1918151\",\n",
      "        \"University Name\": \"GEHU, Dehradun\",\n",
      "        \"Course\": \"B-Tech\",\n",
      "        \"Gender\": \"Male\",\n",
      "        \"For Profile\": \"Software Developer Intern\",\n",
      "        \"\": \"\"\n",
      "    },\n",
      "    \"31\": {\n",
      "        \"S.No\": \"31\",\n",
      "        \"Student Name\": \"Akshat Mani Tripathi\",\n",
      "        \"Roll Number\": \"1918177\",\n",
      "        \"University Name\": \"GEHU, Dehradun\",\n",
      "        \"Course\": \"B-Tech\",\n",
      "        \"Gender\": \"Male\",\n",
      "        \"For Profile\": \"Software Developer Intern\",\n",
      "        \"\": \"\"\n",
      "    },\n",
      "    \"32\": {\n",
      "        \"S.No\": \"32\",\n",
      "        \"Student Name\": \"Amit Joshi\",\n",
      "        \"Roll Number\": \"1918204\",\n",
      "        \"University Name\": \"GEHU, Dehradun\",\n",
      "        \"Course\": \"B-Tech\",\n",
      "        \"Gender\": \"Male\",\n",
      "        \"For Profile\": \"Software Developer Intern\",\n",
      "        \"\": \"\"\n",
      "    },\n",
      "    \"33\": {\n",
      "        \"S.No\": \"33\",\n",
      "        \"Student Name\": \"Divyam Singh Rauthan\",\n",
      "        \"Roll Number\": \"1918334\",\n",
      "        \"University Name\": \"GEHU, Dehradun\",\n",
      "        \"Course\": \"B-Tech\",\n",
      "        \"Gender\": \"Male\",\n",
      "        \"For Profile\": \"Software Developer Intern\",\n",
      "        \"\": \"\"\n",
      "    },\n",
      "    \"34\": {\n",
      "        \"S.No\": \"34\",\n",
      "        \"Student Name\": \"Divyanshu Kumar\",\n",
      "        \"Roll Number\": \"1918835\",\n",
      "        \"University Name\": \"GEHU, Dehradun\",\n",
      "        \"Course\": \"B-Tech\",\n",
      "        \"Gender\": \"Male\",\n",
      "        \"For Profile\": \"Software Developer Intern\",\n",
      "        \"\": \"\"\n",
      "    },\n",
      "    \"35\": {\n",
      "        \"S.No\": \"35\",\n",
      "        \"Student Name\": \"Govind Singh Bhatia\",\n",
      "        \"Roll Number\": \"1918347\",\n",
      "        \"University Name\": \"GEHU, Dehradun\",\n",
      "        \"Course\": \"B-Tech\",\n",
      "        \"Gender\": \"Male\",\n",
      "        \"For Profile\": \"Software Developer Intern\",\n",
      "        \"\": \"\"\n",
      "    },\n",
      "    \"36\": {\n",
      "        \"S.No\": \"36\",\n",
      "        \"Student Name\": \"Hridayansh Sah\",\n",
      "        \"Roll Number\": \"1918026\",\n",
      "        \"University Name\": \"GEHU, Dehradun\",\n",
      "        \"Course\": \"B-Tech\",\n",
      "        \"Gender\": \"Male\",\n",
      "        \"For Profile\": \"Software Developer Intern\",\n",
      "        \"\": \"\"\n",
      "    },\n",
      "    \"37\": {\n",
      "        \"S.No\": \"37\",\n",
      "        \"Student Name\": \"Kamal Singh Gaira\",\n",
      "        \"Roll Number\": \"2018016\",\n",
      "        \"University Name\": \"GEHU, Dehradun\",\n",
      "        \"Course\": \"B-Tech\",\n",
      "        \"Gender\": \"Male\",\n",
      "        \"For Profile\": \"Software Developer Intern\",\n",
      "        \"\": \"\"\n",
      "    },\n",
      "    \"38\": {\n",
      "        \"S.No\": \"38\",\n",
      "        \"Student Name\": \"Kriti Dhingra\",\n",
      "        \"Roll Number\": \"1918430\",\n",
      "        \"University Name\": \"GEHU, Dehradun\",\n",
      "        \"Course\": \"B-Tech\",\n",
      "        \"Gender\": \"Female\",\n",
      "        \"For Profile\": \"Software Developer Intern\",\n",
      "        \"\": \"\"\n",
      "    },\n",
      "    \"39\": {\n",
      "        \"S.No\": \"39\",\n",
      "        \"Student Name\": \"Monika Pandey\",\n",
      "        \"Roll Number\": \"1918489\",\n",
      "        \"University Name\": \"GEHU, Dehradun\",\n",
      "        \"Course\": \"B-Tech\",\n",
      "        \"Gender\": \"Female\",\n",
      "        \"For Profile\": \"Software Developer Intern\",\n",
      "        \"\": \"\"\n",
      "    },\n",
      "    \"40\": {\n",
      "        \"S.No\": \"40\",\n",
      "        \"Student Name\": \"Neeraj Sharma\",\n",
      "        \"Roll Number\": \"1918503\",\n",
      "        \"University Name\": \"GEHU, Dehradun\",\n",
      "        \"Course\": \"B-Tech\",\n",
      "        \"Gender\": \"Male\",\n",
      "        \"For Profile\": \"Software Developer Intern\",\n",
      "        \"\": \"\"\n",
      "    },\n",
      "    \"41\": {\n",
      "        \"S.No\": \"41\",\n",
      "        \"Student Name\": \"Pranjali\",\n",
      "        \"Roll Number\": \"1918548\",\n",
      "        \"University Name\": \"GEHU, Dehradun\",\n",
      "        \"Course\": \"B-Tech\",\n",
      "        \"Gender\": \"Female\",\n",
      "        \"For Profile\": \"Software Developer Intern\",\n",
      "        \"\": \"\"\n",
      "    },\n",
      "    \"42\": {\n",
      "        \"S.No\": \"42\",\n",
      "        \"Student Name\": \"Priya Kumari\",\n",
      "        \"Roll Number\": \"1918560\",\n",
      "        \"University Name\": \"GEHU, Dehradun\",\n",
      "        \"Course\": \"B-Tech\",\n",
      "        \"Gender\": \"Female\",\n",
      "        \"For Profile\": \"Software Developer Intern\",\n",
      "        \"\": \"\"\n",
      "    },\n",
      "    \"43\": {\n",
      "        \"S.No\": \"43\",\n",
      "        \"Student Name\": \"Rahul Chamoli\",\n",
      "        \"Roll Number\": \"1918577\",\n",
      "        \"University Name\": \"GEHU, Dehradun\",\n",
      "        \"Course\": \"B-Tech\",\n",
      "        \"Gender\": \"Male\",\n",
      "        \"For Profile\": \"Software Developer Intern\",\n",
      "        \"\": \"\"\n",
      "    },\n",
      "    \"44\": {\n",
      "        \"S.No\": \"44\",\n",
      "        \"Student Name\": \"Rishabh Rawat\",\n",
      "        \"Roll Number\": \"1918600\",\n",
      "        \"University Name\": \"GEHU, Dehradun\",\n",
      "        \"Course\": \"B-Tech\",\n",
      "        \"Gender\": \"Male\",\n",
      "        \"For Profile\": \"Software Developer Intern\",\n",
      "        \"\": \"\"\n",
      "    },\n",
      "    \"45\": {\n",
      "        \"S.No\": \"45\",\n",
      "        \"Student Name\": \"Ritik Bhandari\",\n",
      "        \"Roll Number\": \"1918611\",\n",
      "        \"University Name\": \"GEHU, Dehradun\",\n",
      "        \"Course\": \"B-Tech\",\n",
      "        \"Gender\": \"Male\",\n",
      "        \"For Profile\": \"Software Developer Intern\",\n",
      "        \"\": \"\"\n",
      "    },\n",
      "    \"46\": {\n",
      "        \"S.No\": \"46\",\n",
      "        \"Student Name\": \"Ritik Verma\",\n",
      "        \"Roll Number\": \"1918614\",\n",
      "        \"University Name\": \"GEHU, Dehradun\",\n",
      "        \"Course\": \"B-Tech\",\n",
      "        \"Gender\": \"Male\",\n",
      "        \"For Profile\": \"Software Developer Intern\",\n",
      "        \"\": \"\"\n",
      "    },\n",
      "    \"47\": {\n",
      "        \"S.No\": \"47\",\n",
      "        \"Student Name\": \"Saransh Rawat\",\n",
      "        \"Roll Number\": \"1918662\",\n",
      "        \"University Name\": \"GEHU, Dehradun\",\n",
      "        \"Course\": \"B-Tech\",\n",
      "        \"Gender\": \"Male\",\n",
      "        \"For Profile\": \"Software Developer Intern\",\n",
      "        \"\": \"\"\n",
      "    },\n",
      "    \"48\": {\n",
      "        \"S.No\": \"48\",\n",
      "        \"Student Name\": \"Shiwansh Singh Bisht\",\n",
      "        \"Roll Number\": \"1918853\",\n",
      "        \"University Name\": \"GEHU, Dehradun\",\n",
      "        \"Course\": \"B-Tech\",\n",
      "        \"Gender\": \"Male\",\n",
      "        \"For Profile\": \"Software Developer Intern\",\n",
      "        \"\": \"\"\n",
      "    },\n",
      "    \"49\": {\n",
      "        \"S.No\": \"49\",\n",
      "        \"Student Name\": \"Sparsh Tripathi\",\n",
      "        \"Roll Number\": \"1918737\",\n",
      "        \"University Name\": \"GEHU, Dehradun\",\n",
      "        \"Course\": \"B-Tech\",\n",
      "        \"Gender\": \"Male\",\n",
      "        \"For Profile\": \"Software Developer Intern\",\n",
      "        \"\": \"\"\n",
      "    },\n",
      "    \"50\": {\n",
      "        \"S.No\": \"50\",\n",
      "        \"Student Name\": \"Yash Tariyal\",\n",
      "        \"Roll Number\": \"1918821\",\n",
      "        \"University Name\": \"GEHU, Dehradun\",\n",
      "        \"Course\": \"B-Tech\",\n",
      "        \"Gender\": \"Male\",\n",
      "        \"For Profile\": \"Software Developer Intern\",\n",
      "        \"\": \"\"\n",
      "    },\n",
      "    \"51\": {\n",
      "        \"S.No\": \"51\",\n",
      "        \"Student Name\": \"Mohit Bhatt\",\n",
      "        \"Roll Number\": \"1918481\",\n",
      "        \"University Name\": \"GEHU, Dehradun\",\n",
      "        \"Course\": \"B-Tech\",\n",
      "        \"Gender\": \"Male\",\n",
      "        \"For Profile\": \"Software Developer Intern\",\n",
      "        \"\": \"\"\n",
      "    },\n",
      "    \"52\": {\n",
      "        \"S.No\": \"52\",\n",
      "        \"Student Name\": \"Neha Chauhan\",\n",
      "        \"Roll Number\": \"1918505\",\n",
      "        \"University Name\": \"GEHU, Dehradun\",\n",
      "        \"Course\": \"B-Tech\",\n",
      "        \"Gender\": \"Female\",\n",
      "        \"For Profile\": \"Software Developer Intern\",\n",
      "        \"\": \"\"\n",
      "    },\n",
      "    \"53\": {\n",
      "        \"S.No\": \"53\",\n",
      "        \"Student Name\": \"Sandeep Singh Bisht\",\n",
      "        \"Roll Number\": \"1918656\",\n",
      "        \"University Name\": \"GEHU, Dehradun\",\n",
      "        \"Course\": \"B-Tech\",\n",
      "        \"Gender\": \"Male\",\n",
      "        \"For Profile\": \"Software Developer Intern\",\n",
      "        \"\": \"\"\n",
      "    },\n",
      "    \"54\": {\n",
      "        \"S.No\": \"54\",\n",
      "        \"Student Name\": \"Shalwin Sah\",\n",
      "        \"Roll Number\": \"1918682\",\n",
      "        \"University Name\": \"GEHU, Dehradun\",\n",
      "        \"Course\": \"B-Tech\",\n",
      "        \"Gender\": \"Male\",\n",
      "        \"For Profile\": \"Software Developer Intern\",\n",
      "        \"\": \"\"\n",
      "    }\n",
      "}\n"
     ]
    }
   ],
   "source": [
    "import json\n",
    " \n",
    "# Read JSON data from file and pretty print it\n",
    "with open(\"sample.json\", \"r\") as read_file:\n",
    "    # Convert JSON file to Python Types\n",
    "    obj = json.load(read_file)\n",
    " \n",
    "    # Pretty print JSON data\n",
    "    pretty_json = json.dumps(obj, indent=4)\n",
    "    print(pretty_json)"
   ]
  },
  {
   "cell_type": "code",
   "execution_count": 40,
   "id": "819408be",
   "metadata": {},
   "outputs": [],
   "source": [
    "query={\n",
    "        \"S.No\": \"1\",\n",
    "        \"Student Name\": \"Abhishek Pal\",\n",
    "        \"Roll Number\": \"2014524\",\n",
    "        \"University Name\": \"GEU\",\n",
    "        \"Course\": \"B-Tech\",\n",
    "        \"Gender\": \"Male\",\n",
    "        \"For Profile\": \"Software Developer Intern\"\n",
    "}\n",
    "headers={'Accept':'application/json','Content-type':'application/json'}\n",
    "r=requests.post('http://localhost:9200/third/_doc',headers=headers,json=query)"
   ]
  },
  {
   "cell_type": "code",
   "execution_count": 41,
   "id": "3cb4b94e",
   "metadata": {},
   "outputs": [
    {
     "data": {
      "text/plain": [
       "'{\"_index\":\"third\",\"_type\":\"_doc\",\"_id\":\"PDKYNYIB5yZnxkngSo27\",\"_version\":1,\"result\":\"created\",\"_shards\":{\"total\":2,\"successful\":1,\"failed\":0},\"_seq_no\":0,\"_primary_term\":1}'"
      ]
     },
     "execution_count": 41,
     "metadata": {},
     "output_type": "execute_result"
    }
   ],
   "source": [
    "r.text"
   ]
  },
  {
   "cell_type": "code",
   "execution_count": 42,
   "id": "76a37a04",
   "metadata": {},
   "outputs": [],
   "source": [
    "query={\n",
    "        \"S.No\": \"2\",\n",
    "        \"Student Name\": \"Akash Bhatt\",\n",
    "        \"Roll Number\": \"2015048\",\n",
    "        \"University Name\": \"GEU\",\n",
    "        \"Course\": \"B-Tech\",\n",
    "        \"Gender\": \"Male\",\n",
    "        \"For Profile\": \"Software Developer Intern\",\n",
    "        \"S.No\": \"3\",\n",
    "        \"Student Name\": \"Ankit Sharma\",\n",
    "        \"Roll Number\": \"2014569\",\n",
    "        \"University Name\": \"GEU\",\n",
    "        \"Course\": \"B-Tech\",\n",
    "        \"Gender\": \"Male\",\n",
    "        \"For Profile\": \"Software Developer Intern\",\n",
    "        \"S.No\": \"4\",\n",
    "        \"Student Name\": \"Aryan Pathela\",\n",
    "        \"Roll Number\": \"2015058\",\n",
    "        \"University Name\": \"GEU\",\n",
    "        \"Course\": \"B-Tech\",\n",
    "        \"Gender\": \"Male\",\n",
    "        \"For Profile\": \"Software Developer Intern\"\n",
    "}\n",
    "headers={'Accept':'application/json','Content-type':'application/json'}\n",
    "r=requests.post('http://localhost:9200/third/_doc',headers=headers,json=query)"
   ]
  },
  {
   "cell_type": "code",
   "execution_count": 43,
   "id": "c0d42761",
   "metadata": {},
   "outputs": [
    {
     "data": {
      "text/plain": [
       "<Response [201]>"
      ]
     },
     "execution_count": 43,
     "metadata": {},
     "output_type": "execute_result"
    }
   ],
   "source": [
    "r"
   ]
  },
  {
   "cell_type": "code",
   "execution_count": 44,
   "id": "5b69e946",
   "metadata": {},
   "outputs": [
    {
     "data": {
      "text/plain": [
       "'{\"_index\":\"third\",\"_type\":\"_doc\",\"_id\":\"PTKiNYIB5yZnxkngOY2m\",\"_version\":1,\"result\":\"created\",\"_shards\":{\"total\":2,\"successful\":1,\"failed\":0},\"_seq_no\":1,\"_primary_term\":1}'"
      ]
     },
     "execution_count": 44,
     "metadata": {},
     "output_type": "execute_result"
    }
   ],
   "source": [
    "r.text"
   ]
  },
  {
   "cell_type": "code",
   "execution_count": 65,
   "id": "70e5da5a",
   "metadata": {},
   "outputs": [],
   "source": [
    "query={\n",
    "    \"1\": {\n",
    "        \"S.No\": \"1\",\n",
    "        \"Student Name\": \"Abhishek Pal\",\n",
    "        \"Roll Number\": \"2014524\",\n",
    "        \"University Name\": \"GEU\",\n",
    "        \"Course\": \"B-Tech\",\n",
    "        \"Gender\": \"Male\",\n",
    "        \"For Profile\": \"Software Developer Intern\"\n",
    "    },\n",
    "    \"2\": {\n",
    "        \"S.No\": \"2\",\n",
    "        \"Student Name\": \"Akash Bhatt\",\n",
    "        \"Roll Number\": \"2015048\",\n",
    "        \"University Name\": \"GEU\",\n",
    "        \"Course\": \"B-Tech\",\n",
    "        \"Gender\": \"Male\",\n",
    "        \"For Profile\": \"Software Developer Intern\"\n",
    "    },\n",
    "    \"3\": {\n",
    "        \"S.No\": \"3\",\n",
    "        \"Student Name\": \"Ankit Sharma\",\n",
    "        \"Roll Number\": \"2014569\",\n",
    "        \"University Name\": \"GEU\",\n",
    "        \"Course\": \"B-Tech\",\n",
    "        \"Gender\": \"Male\",\n",
    "        \"For Profile\": \"Software Developer Intern\"\n",
    "    }\n",
    "}\n",
    "headers={'Accept':'application/json','Content-type':'application/json'}\n",
    "r=requests.post('http://localhost:9200/third/_doc',headers=headers,json=query)"
   ]
  },
  {
   "cell_type": "code",
   "execution_count": 66,
   "id": "0367d216",
   "metadata": {},
   "outputs": [
    {
     "data": {
      "text/plain": [
       "<Response [201]>"
      ]
     },
     "execution_count": 66,
     "metadata": {},
     "output_type": "execute_result"
    }
   ],
   "source": [
    "r"
   ]
  },
  {
   "cell_type": "code",
   "execution_count": 67,
   "id": "342e2367",
   "metadata": {},
   "outputs": [
    {
     "data": {
      "text/plain": [
       "'{\"_index\":\"third\",\"_type\":\"_doc\",\"_id\":\"RzLeNYIB5yZnxkngGI3t\",\"_version\":1,\"result\":\"created\",\"_shards\":{\"total\":2,\"successful\":1,\"failed\":0},\"_seq_no\":4,\"_primary_term\":1}'"
      ]
     },
     "execution_count": 67,
     "metadata": {},
     "output_type": "execute_result"
    }
   ],
   "source": [
    "r.text\n"
   ]
  },
  {
   "cell_type": "code",
   "execution_count": 68,
   "id": "361e35da",
   "metadata": {},
   "outputs": [
    {
     "ename": "TypeError",
     "evalue": "unhashable type: 'dict'",
     "output_type": "error",
     "traceback": [
      "\u001b[1;31m---------------------------------------------------------------------------\u001b[0m",
      "\u001b[1;31mTypeError\u001b[0m                                 Traceback (most recent call last)",
      "Input \u001b[1;32mIn [68]\u001b[0m, in \u001b[0;36m<cell line: 3>\u001b[1;34m()\u001b[0m\n\u001b[1;32m----> 1\u001b[0m query\u001b[38;5;241m=\u001b[39m{\n\u001b[0;32m      2\u001b[0m         {\n\u001b[0;32m      3\u001b[0m         \u001b[38;5;124m\"\u001b[39m\u001b[38;5;124mS.No\u001b[39m\u001b[38;5;124m\"\u001b[39m: \u001b[38;5;124m\"\u001b[39m\u001b[38;5;124m1\u001b[39m\u001b[38;5;124m\"\u001b[39m,\n\u001b[0;32m      4\u001b[0m         \u001b[38;5;124m\"\u001b[39m\u001b[38;5;124mStudent Name\u001b[39m\u001b[38;5;124m\"\u001b[39m: \u001b[38;5;124m\"\u001b[39m\u001b[38;5;124mAbhishek Pal\u001b[39m\u001b[38;5;124m\"\u001b[39m,\n\u001b[0;32m      5\u001b[0m         \u001b[38;5;124m\"\u001b[39m\u001b[38;5;124mRoll Number\u001b[39m\u001b[38;5;124m\"\u001b[39m: \u001b[38;5;124m\"\u001b[39m\u001b[38;5;124m2014524\u001b[39m\u001b[38;5;124m\"\u001b[39m,\n\u001b[0;32m      6\u001b[0m         \u001b[38;5;124m\"\u001b[39m\u001b[38;5;124mUniversity Name\u001b[39m\u001b[38;5;124m\"\u001b[39m: \u001b[38;5;124m\"\u001b[39m\u001b[38;5;124mGEU\u001b[39m\u001b[38;5;124m\"\u001b[39m,\n\u001b[0;32m      7\u001b[0m         \u001b[38;5;124m\"\u001b[39m\u001b[38;5;124mCourse\u001b[39m\u001b[38;5;124m\"\u001b[39m: \u001b[38;5;124m\"\u001b[39m\u001b[38;5;124mB-Tech\u001b[39m\u001b[38;5;124m\"\u001b[39m,\n\u001b[0;32m      8\u001b[0m         \u001b[38;5;124m\"\u001b[39m\u001b[38;5;124mGender\u001b[39m\u001b[38;5;124m\"\u001b[39m: \u001b[38;5;124m\"\u001b[39m\u001b[38;5;124mMale\u001b[39m\u001b[38;5;124m\"\u001b[39m,\n\u001b[0;32m      9\u001b[0m         \u001b[38;5;124m\"\u001b[39m\u001b[38;5;124mFor Profile\u001b[39m\u001b[38;5;124m\"\u001b[39m: \u001b[38;5;124m\"\u001b[39m\u001b[38;5;124mSoftware Developer Intern\u001b[39m\u001b[38;5;124m\"\u001b[39m\n\u001b[0;32m     10\u001b[0m     },\n\u001b[0;32m     11\u001b[0m         {\n\u001b[0;32m     12\u001b[0m         \u001b[38;5;124m\"\u001b[39m\u001b[38;5;124mS.No\u001b[39m\u001b[38;5;124m\"\u001b[39m: \u001b[38;5;124m\"\u001b[39m\u001b[38;5;124m2\u001b[39m\u001b[38;5;124m\"\u001b[39m,\n\u001b[0;32m     13\u001b[0m         \u001b[38;5;124m\"\u001b[39m\u001b[38;5;124mStudent Name\u001b[39m\u001b[38;5;124m\"\u001b[39m: \u001b[38;5;124m\"\u001b[39m\u001b[38;5;124mAkash Bhatt\u001b[39m\u001b[38;5;124m\"\u001b[39m,\n\u001b[0;32m     14\u001b[0m         \u001b[38;5;124m\"\u001b[39m\u001b[38;5;124mRoll Number\u001b[39m\u001b[38;5;124m\"\u001b[39m: \u001b[38;5;124m\"\u001b[39m\u001b[38;5;124m2015048\u001b[39m\u001b[38;5;124m\"\u001b[39m,\n\u001b[0;32m     15\u001b[0m         \u001b[38;5;124m\"\u001b[39m\u001b[38;5;124mUniversity Name\u001b[39m\u001b[38;5;124m\"\u001b[39m: \u001b[38;5;124m\"\u001b[39m\u001b[38;5;124mGEU\u001b[39m\u001b[38;5;124m\"\u001b[39m,\n\u001b[0;32m     16\u001b[0m         \u001b[38;5;124m\"\u001b[39m\u001b[38;5;124mCourse\u001b[39m\u001b[38;5;124m\"\u001b[39m: \u001b[38;5;124m\"\u001b[39m\u001b[38;5;124mB-Tech\u001b[39m\u001b[38;5;124m\"\u001b[39m,\n\u001b[0;32m     17\u001b[0m         \u001b[38;5;124m\"\u001b[39m\u001b[38;5;124mGender\u001b[39m\u001b[38;5;124m\"\u001b[39m: \u001b[38;5;124m\"\u001b[39m\u001b[38;5;124mMale\u001b[39m\u001b[38;5;124m\"\u001b[39m,\n\u001b[0;32m     18\u001b[0m         \u001b[38;5;124m\"\u001b[39m\u001b[38;5;124mFor Profile\u001b[39m\u001b[38;5;124m\"\u001b[39m: \u001b[38;5;124m\"\u001b[39m\u001b[38;5;124mSoftware Developer Intern\u001b[39m\u001b[38;5;124m\"\u001b[39m\n\u001b[0;32m     19\u001b[0m     },\n\u001b[0;32m     20\u001b[0m         {\n\u001b[0;32m     21\u001b[0m         \u001b[38;5;124m\"\u001b[39m\u001b[38;5;124mS.No\u001b[39m\u001b[38;5;124m\"\u001b[39m: \u001b[38;5;124m\"\u001b[39m\u001b[38;5;124m3\u001b[39m\u001b[38;5;124m\"\u001b[39m,\n\u001b[0;32m     22\u001b[0m         \u001b[38;5;124m\"\u001b[39m\u001b[38;5;124mStudent Name\u001b[39m\u001b[38;5;124m\"\u001b[39m: \u001b[38;5;124m\"\u001b[39m\u001b[38;5;124mAnkit Sharma\u001b[39m\u001b[38;5;124m\"\u001b[39m,\n\u001b[0;32m     23\u001b[0m         \u001b[38;5;124m\"\u001b[39m\u001b[38;5;124mRoll Number\u001b[39m\u001b[38;5;124m\"\u001b[39m: \u001b[38;5;124m\"\u001b[39m\u001b[38;5;124m2014569\u001b[39m\u001b[38;5;124m\"\u001b[39m,\n\u001b[0;32m     24\u001b[0m         \u001b[38;5;124m\"\u001b[39m\u001b[38;5;124mUniversity Name\u001b[39m\u001b[38;5;124m\"\u001b[39m: \u001b[38;5;124m\"\u001b[39m\u001b[38;5;124mGEU\u001b[39m\u001b[38;5;124m\"\u001b[39m,\n\u001b[0;32m     25\u001b[0m         \u001b[38;5;124m\"\u001b[39m\u001b[38;5;124mCourse\u001b[39m\u001b[38;5;124m\"\u001b[39m: \u001b[38;5;124m\"\u001b[39m\u001b[38;5;124mB-Tech\u001b[39m\u001b[38;5;124m\"\u001b[39m,\n\u001b[0;32m     26\u001b[0m         \u001b[38;5;124m\"\u001b[39m\u001b[38;5;124mGender\u001b[39m\u001b[38;5;124m\"\u001b[39m: \u001b[38;5;124m\"\u001b[39m\u001b[38;5;124mMale\u001b[39m\u001b[38;5;124m\"\u001b[39m,\n\u001b[0;32m     27\u001b[0m         \u001b[38;5;124m\"\u001b[39m\u001b[38;5;124mFor Profile\u001b[39m\u001b[38;5;124m\"\u001b[39m: \u001b[38;5;124m\"\u001b[39m\u001b[38;5;124mSoftware Developer Intern\u001b[39m\u001b[38;5;124m\"\u001b[39m\n\u001b[0;32m     28\u001b[0m     }\n\u001b[0;32m     29\u001b[0m }\n\u001b[0;32m     30\u001b[0m headers\u001b[38;5;241m=\u001b[39m{\u001b[38;5;124m'\u001b[39m\u001b[38;5;124mAccept\u001b[39m\u001b[38;5;124m'\u001b[39m:\u001b[38;5;124m'\u001b[39m\u001b[38;5;124mapplication/json\u001b[39m\u001b[38;5;124m'\u001b[39m,\u001b[38;5;124m'\u001b[39m\u001b[38;5;124mContent-type\u001b[39m\u001b[38;5;124m'\u001b[39m:\u001b[38;5;124m'\u001b[39m\u001b[38;5;124mapplication/json\u001b[39m\u001b[38;5;124m'\u001b[39m}\n\u001b[0;32m     31\u001b[0m r\u001b[38;5;241m=\u001b[39mrequests\u001b[38;5;241m.\u001b[39mpost(\u001b[38;5;124m'\u001b[39m\u001b[38;5;124mhttp://localhost:9200/third/_doc\u001b[39m\u001b[38;5;124m'\u001b[39m,headers\u001b[38;5;241m=\u001b[39mheaders,json\u001b[38;5;241m=\u001b[39mquery)\n",
      "\u001b[1;31mTypeError\u001b[0m: unhashable type: 'dict'"
     ]
    }
   ],
   "source": [
    "query={\n",
    "    \"1\": {\n",
    "        \"S.No\": \"1\",\n",
    "        \"Student Name\": \"Abhishek Pal\",\n",
    "        \"Roll Number\": \"2014524\",\n",
    "        \"University Name\": \"GEU\",\n",
    "        \"Course\": \"B-Tech\",\n",
    "        \"Gender\": \"Male\",\n",
    "        \"For Profile\": \"Software Developer Intern\"\n",
    "    },\n",
    "    \"2\": {\n",
    "        \"S.No\": \"2\",\n",
    "        \"Student Name\": \"Akash Bhatt\",\n",
    "        \"Roll Number\": \"2015048\",\n",
    "        \"University Name\": \"GEU\",\n",
    "        \"Course\": \"B-Tech\",\n",
    "        \"Gender\": \"Male\",\n",
    "        \"For Profile\": \"Software Developer Intern\"\n",
    "    },\n",
    "    \"3\": {\n",
    "        \"S.No\": \"3\",\n",
    "        \"Student Name\": \"Ankit Sharma\",\n",
    "        \"Roll Number\": \"2014569\",\n",
    "        \"University Name\": \"GEU\",\n",
    "        \"Course\": \"B-Tech\",\n",
    "        \"Gender\": \"Male\",\n",
    "        \"For Profile\": \"Software Developer Intern\"\n",
    "    }\n",
    "}\n",
    "headers={'Accept':'application/json','Content-type':'application/json'}\n",
    "r=requests.post('http://localhost:9200/third/_doc',headers=headers,json=query)"
   ]
  },
  {
   "cell_type": "code",
   "execution_count": 3,
   "id": "a0a83749",
   "metadata": {},
   "outputs": [],
   "source": [
    "query={\n",
    "        \"S.No\": \"10\",\n",
    "        \"Student Name\": \"Abhishek Pal\",\n",
    "        \"Roll Number\": \"2014524\",\n",
    "        \"University Name\": \"GEHU\",\n",
    "        \"Course\": \"B-Tech\",\n",
    "        \"Gender\": \"Male\",\n",
    "        \"For Profile\": \"Software Developer Intern\"\n",
    "}\n",
    "headers={'Accept':'application/json','Content-type':'application/json'}\n",
    "r=requests.post('http://localhost:9200/third/_doc',headers=headers,json=query)"
   ]
  },
  {
   "cell_type": "code",
   "execution_count": 4,
   "id": "7802fc5e",
   "metadata": {},
   "outputs": [
    {
     "data": {
      "text/plain": [
       "'{\"_index\":\"third\",\"_type\":\"_doc\",\"_id\":\"0y4VOoIBRyg3Cj3A-Z-6\",\"_version\":1,\"result\":\"created\",\"_shards\":{\"total\":2,\"successful\":1,\"failed\":0},\"_seq_no\":5,\"_primary_term\":2}'"
      ]
     },
     "execution_count": 4,
     "metadata": {},
     "output_type": "execute_result"
    }
   ],
   "source": [
    "r.text"
   ]
  },
  {
   "cell_type": "code",
   "execution_count": null,
   "id": "cb0c1065",
   "metadata": {},
   "outputs": [],
   "source": []
  }
 ],
 "metadata": {
  "kernelspec": {
   "display_name": "Python 3 (ipykernel)",
   "language": "python",
   "name": "python3"
  },
  "language_info": {
   "codemirror_mode": {
    "name": "ipython",
    "version": 3
   },
   "file_extension": ".py",
   "mimetype": "text/x-python",
   "name": "python",
   "nbconvert_exporter": "python",
   "pygments_lexer": "ipython3",
   "version": "3.9.12"
  }
 },
 "nbformat": 4,
 "nbformat_minor": 5
}
